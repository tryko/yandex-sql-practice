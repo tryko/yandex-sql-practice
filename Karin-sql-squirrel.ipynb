{
  "nbformat": 4,
  "nbformat_minor": 0,
  "metadata": {
    "kernelspec": {
      "display_name": "Python 3",
      "language": "python",
      "name": "python3"
    },
    "language_info": {
      "codemirror_mode": {
        "name": "ipython",
        "version": 3
      },
      "file_extension": ".py",
      "mimetype": "text/x-python",
      "name": "python",
      "nbconvert_exporter": "python",
      "pygments_lexer": "ipython3",
      "version": "3.7.6"
    },
    "colab": {
      "name": "SQL additional week - Squirrel.ipynb",
      "provenance": []
    }
  },
  "cells": [
    {
      "cell_type": "markdown",
      "metadata": {
        "id": "xfAX4jjRq7vS"
      },
      "source": [
        "### Used Libraries<a class=\"anchor\" id=\"chapter1\"></a>"
      ]
    },
    {
      "cell_type": "code",
      "metadata": {
        "id": "REMjvCRDq7vU"
      },
      "source": [
        "import pandas as pd\n",
        "from sqlalchemy import create_engine\n",
        "import psycopg2"
      ],
      "execution_count": 16,
      "outputs": []
    },
    {
      "cell_type": "markdown",
      "metadata": {
        "id": "yTT3CJ4Aq7vV"
      },
      "source": [
        "### Access to the DB <a class=\"anchor\" id=\"chapter2\"></a>"
      ]
    },
    {
      "cell_type": "code",
      "metadata": {
        "id": "wzcv-9zVq7vV"
      },
      "source": [
        "db_config = {'user': 'practicum_student',         # username\n",
        "             'pwd': 's65BlTKV3faNIGhmvJVzOqhs', # password\n",
        "             'host': 'rc1b-wcoijxj3yxfsf3fs.mdb.yandexcloud.net',\n",
        "             'port': 6432,              # connection port\n",
        "             'db': 'data-analyst-eth-payouts-db'}          # the name of the database\n",
        "\n",
        "connection_string = 'postgresql://{}:{}@{}:{}/{}'.format(db_config['user'],\n",
        "                                                                     db_config['pwd'],\n",
        "                                                                       db_config['host'],\n",
        "                                                                       db_config['port'],\n",
        "                                                                       db_config['db'])\n",
        "\n",
        "engine = create_engine(connection_string, connect_args={'sslmode':'require'})\n"
      ],
      "execution_count": 17,
      "outputs": []
    },
    {
      "cell_type": "code",
      "metadata": {
        "colab": {
          "base_uri": "https://localhost:8080/"
        },
        "id": "G7MGm_UftsY-",
        "outputId": "3dcb4d0e-a072-448d-e5ab-78971b7e13e7"
      },
      "source": [
        "engine.table_names()"
      ],
      "execution_count": 18,
      "outputs": [
        {
          "output_type": "stream",
          "text": [
            "/usr/local/lib/python3.7/dist-packages/ipykernel_launcher.py:1: SADeprecationWarning: The Engine.table_names() method is deprecated and will be removed in a future release.  Please refer to Inspector.get_table_names(). (deprecated since: 1.4)\n",
            "  \"\"\"Entry point for launching an IPython kernel.\n"
          ],
          "name": "stderr"
        },
        {
          "output_type": "execute_result",
          "data": {
            "text/plain": [
              "['payout', 'plan']"
            ]
          },
          "metadata": {
            "tags": []
          },
          "execution_count": 18
        }
      ]
    },
    {
      "cell_type": "markdown",
      "metadata": {
        "id": "HbAzx2eRq7vW"
      },
      "source": [
        "#  Table Queries <a class=\"anchor\" id=\"chapter3\"></a>"
      ]
    },
    {
      "cell_type": "markdown",
      "metadata": {
        "id": "NVP9uOPgq7vW"
      },
      "source": [
        "function that takes a query and return dataframe for general use"
      ]
    },
    {
      "cell_type": "code",
      "metadata": {
        "id": "DlS_eNRfq7vW"
      },
      "source": [
        "def queryResult(q):\n",
        "    return pd.io.sql.read_sql(q, con = engine)"
      ],
      "execution_count": 19,
      "outputs": []
    },
    {
      "cell_type": "markdown",
      "metadata": {
        "id": "y1lkaP5kEmzi"
      },
      "source": [
        "# **1. How many users got paid?**\n"
      ]
    },
    {
      "cell_type": "code",
      "metadata": {
        "colab": {
          "base_uri": "https://localhost:8080/",
          "height": 80
        },
        "id": "UfoCZjgwuJpw",
        "outputId": "6bcbd35a-327c-46ca-85e6-cc7daeb84b2b"
      },
      "source": [
        "query = '''\n",
        "        SELECT \n",
        "          COUNT(DISTINCT payout.user_id) as users_paid\n",
        "        FROM\n",
        "          payout\n",
        "        '''\n",
        "queryResult(query)"
      ],
      "execution_count": 20,
      "outputs": [
        {
          "output_type": "execute_result",
          "data": {
            "text/html": [
              "<div>\n",
              "<style scoped>\n",
              "    .dataframe tbody tr th:only-of-type {\n",
              "        vertical-align: middle;\n",
              "    }\n",
              "\n",
              "    .dataframe tbody tr th {\n",
              "        vertical-align: top;\n",
              "    }\n",
              "\n",
              "    .dataframe thead th {\n",
              "        text-align: right;\n",
              "    }\n",
              "</style>\n",
              "<table border=\"1\" class=\"dataframe\">\n",
              "  <thead>\n",
              "    <tr style=\"text-align: right;\">\n",
              "      <th></th>\n",
              "      <th>users_paid</th>\n",
              "    </tr>\n",
              "  </thead>\n",
              "  <tbody>\n",
              "    <tr>\n",
              "      <th>0</th>\n",
              "      <td>433</td>\n",
              "    </tr>\n",
              "  </tbody>\n",
              "</table>\n",
              "</div>"
            ],
            "text/plain": [
              "   users_paid\n",
              "0         433"
            ]
          },
          "metadata": {
            "tags": []
          },
          "execution_count": 20
        }
      ]
    },
    {
      "cell_type": "markdown",
      "metadata": {
        "id": "WH-SNzRiFFhg"
      },
      "source": [
        "# **2. Show the 5 users with the highest payouts**\n",
        "\n"
      ]
    },
    {
      "cell_type": "code",
      "metadata": {
        "colab": {
          "base_uri": "https://localhost:8080/",
          "height": 204
        },
        "id": "I281EGSVFFE6",
        "outputId": "ff72f024-7901-4d0b-b89c-89766eb2e5d7"
      },
      "source": [
        "query = '''\n",
        "        SELECT \n",
        "          DISTINCT payout.user_id,\n",
        "          SUM(payout.payout) as payout_sum\n",
        "        FROM\n",
        "          payout\n",
        "        GROUP BY\n",
        "          payout.user_id\n",
        "        ORDER BY\n",
        "          payout_sum DESC\n",
        "        LIMIT 5;\n",
        "        '''\n",
        "queryResult(query)"
      ],
      "execution_count": 21,
      "outputs": [
        {
          "output_type": "execute_result",
          "data": {
            "text/html": [
              "<div>\n",
              "<style scoped>\n",
              "    .dataframe tbody tr th:only-of-type {\n",
              "        vertical-align: middle;\n",
              "    }\n",
              "\n",
              "    .dataframe tbody tr th {\n",
              "        vertical-align: top;\n",
              "    }\n",
              "\n",
              "    .dataframe thead th {\n",
              "        text-align: right;\n",
              "    }\n",
              "</style>\n",
              "<table border=\"1\" class=\"dataframe\">\n",
              "  <thead>\n",
              "    <tr style=\"text-align: right;\">\n",
              "      <th></th>\n",
              "      <th>user_id</th>\n",
              "      <th>payout_sum</th>\n",
              "    </tr>\n",
              "  </thead>\n",
              "  <tbody>\n",
              "    <tr>\n",
              "      <th>0</th>\n",
              "      <td>1537</td>\n",
              "      <td>10.74169</td>\n",
              "    </tr>\n",
              "    <tr>\n",
              "      <th>1</th>\n",
              "      <td>3051</td>\n",
              "      <td>9.73121</td>\n",
              "    </tr>\n",
              "    <tr>\n",
              "      <th>2</th>\n",
              "      <td>1512</td>\n",
              "      <td>8.80816</td>\n",
              "    </tr>\n",
              "    <tr>\n",
              "      <th>3</th>\n",
              "      <td>1127</td>\n",
              "      <td>8.78861</td>\n",
              "    </tr>\n",
              "    <tr>\n",
              "      <th>4</th>\n",
              "      <td>4848</td>\n",
              "      <td>8.42445</td>\n",
              "    </tr>\n",
              "  </tbody>\n",
              "</table>\n",
              "</div>"
            ],
            "text/plain": [
              "   user_id  payout_sum\n",
              "0     1537    10.74169\n",
              "1     3051     9.73121\n",
              "2     1512     8.80816\n",
              "3     1127     8.78861\n",
              "4     4848     8.42445"
            ]
          },
          "metadata": {
            "tags": []
          },
          "execution_count": 21
        }
      ]
    },
    {
      "cell_type": "markdown",
      "metadata": {
        "id": "rG0nH_j8GlaO"
      },
      "source": [
        "# **3. Show the 5 users with the lowest payouts**"
      ]
    },
    {
      "cell_type": "code",
      "metadata": {
        "colab": {
          "base_uri": "https://localhost:8080/",
          "height": 204
        },
        "id": "tTbWIrPYGlFZ",
        "outputId": "c36dfe71-59de-45fa-bb6e-8218bfe7a104"
      },
      "source": [
        "query = '''\n",
        "        SELECT \n",
        "          DISTINCT payout.user_id,\n",
        "          SUM(payout.payout) as payout_sum\n",
        "        FROM\n",
        "          payout\n",
        "        GROUP BY\n",
        "          payout.user_id\n",
        "        ORDER BY\n",
        "          payout_sum\n",
        "        LIMIT 5;\n",
        "        '''\n",
        "queryResult(query)"
      ],
      "execution_count": 22,
      "outputs": [
        {
          "output_type": "execute_result",
          "data": {
            "text/html": [
              "<div>\n",
              "<style scoped>\n",
              "    .dataframe tbody tr th:only-of-type {\n",
              "        vertical-align: middle;\n",
              "    }\n",
              "\n",
              "    .dataframe tbody tr th {\n",
              "        vertical-align: top;\n",
              "    }\n",
              "\n",
              "    .dataframe thead th {\n",
              "        text-align: right;\n",
              "    }\n",
              "</style>\n",
              "<table border=\"1\" class=\"dataframe\">\n",
              "  <thead>\n",
              "    <tr style=\"text-align: right;\">\n",
              "      <th></th>\n",
              "      <th>user_id</th>\n",
              "      <th>payout_sum</th>\n",
              "    </tr>\n",
              "  </thead>\n",
              "  <tbody>\n",
              "    <tr>\n",
              "      <th>0</th>\n",
              "      <td>2003</td>\n",
              "      <td>0.00775</td>\n",
              "    </tr>\n",
              "    <tr>\n",
              "      <th>1</th>\n",
              "      <td>3410</td>\n",
              "      <td>0.00818</td>\n",
              "    </tr>\n",
              "    <tr>\n",
              "      <th>2</th>\n",
              "      <td>2813</td>\n",
              "      <td>0.02914</td>\n",
              "    </tr>\n",
              "    <tr>\n",
              "      <th>3</th>\n",
              "      <td>2462</td>\n",
              "      <td>0.03381</td>\n",
              "    </tr>\n",
              "    <tr>\n",
              "      <th>4</th>\n",
              "      <td>4467</td>\n",
              "      <td>0.05056</td>\n",
              "    </tr>\n",
              "  </tbody>\n",
              "</table>\n",
              "</div>"
            ],
            "text/plain": [
              "   user_id  payout_sum\n",
              "0     2003     0.00775\n",
              "1     3410     0.00818\n",
              "2     2813     0.02914\n",
              "3     2462     0.03381\n",
              "4     4467     0.05056"
            ]
          },
          "metadata": {
            "tags": []
          },
          "execution_count": 22
        }
      ]
    },
    {
      "cell_type": "markdown",
      "metadata": {
        "id": "dXYFFQS-H9qv"
      },
      "source": [
        "# **4. How much ether was paid out in November 2020?**"
      ]
    },
    {
      "cell_type": "code",
      "metadata": {
        "colab": {
          "base_uri": "https://localhost:8080/",
          "height": 80
        },
        "id": "Tos7hrT_IDaW",
        "outputId": "e59f6a99-281e-4dd6-88ca-f7423c9ecb81"
      },
      "source": [
        "query = '''\n",
        "        SELECT \n",
        "          SUM(payout.payout) as payout_sum\n",
        "        FROM\n",
        "          payout\n",
        "        WHERE\n",
        "          payout.date :: date between '2020-11-1' and '2020-11-30'\n",
        "        '''\n",
        "queryResult(query)"
      ],
      "execution_count": 23,
      "outputs": [
        {
          "output_type": "execute_result",
          "data": {
            "text/html": [
              "<div>\n",
              "<style scoped>\n",
              "    .dataframe tbody tr th:only-of-type {\n",
              "        vertical-align: middle;\n",
              "    }\n",
              "\n",
              "    .dataframe tbody tr th {\n",
              "        vertical-align: top;\n",
              "    }\n",
              "\n",
              "    .dataframe thead th {\n",
              "        text-align: right;\n",
              "    }\n",
              "</style>\n",
              "<table border=\"1\" class=\"dataframe\">\n",
              "  <thead>\n",
              "    <tr style=\"text-align: right;\">\n",
              "      <th></th>\n",
              "      <th>payout_sum</th>\n",
              "    </tr>\n",
              "  </thead>\n",
              "  <tbody>\n",
              "    <tr>\n",
              "      <th>0</th>\n",
              "      <td>166.0118</td>\n",
              "    </tr>\n",
              "  </tbody>\n",
              "</table>\n",
              "</div>"
            ],
            "text/plain": [
              "   payout_sum\n",
              "0    166.0118"
            ]
          },
          "metadata": {
            "tags": []
          },
          "execution_count": 23
        }
      ]
    },
    {
      "cell_type": "markdown",
      "metadata": {
        "id": "5dLWS5gLID10"
      },
      "source": [
        "# **5. Which plan is the most popular?**"
      ]
    },
    {
      "cell_type": "code",
      "metadata": {
        "colab": {
          "base_uri": "https://localhost:8080/",
          "height": 111
        },
        "id": "QnjmVylPIETo",
        "outputId": "eb6c71a0-a79d-4592-95aa-1571f138c584"
      },
      "source": [
        "query = '''\n",
        "        SELECT\n",
        "          plan.\"Plan\",\n",
        "          COUNT(plan.\"Plan\")\n",
        "        FROM\n",
        "          plan\n",
        "        GROUP BY\n",
        "          plan.\"Plan\"\n",
        "        ORDER BY\n",
        "          COUNT(plan.\"Plan\") DESC\n",
        "        '''\n",
        "queryResult(query)"
      ],
      "execution_count": 24,
      "outputs": [
        {
          "output_type": "execute_result",
          "data": {
            "text/html": [
              "<div>\n",
              "<style scoped>\n",
              "    .dataframe tbody tr th:only-of-type {\n",
              "        vertical-align: middle;\n",
              "    }\n",
              "\n",
              "    .dataframe tbody tr th {\n",
              "        vertical-align: top;\n",
              "    }\n",
              "\n",
              "    .dataframe thead th {\n",
              "        text-align: right;\n",
              "    }\n",
              "</style>\n",
              "<table border=\"1\" class=\"dataframe\">\n",
              "  <thead>\n",
              "    <tr style=\"text-align: right;\">\n",
              "      <th></th>\n",
              "      <th>Plan</th>\n",
              "      <th>count</th>\n",
              "    </tr>\n",
              "  </thead>\n",
              "  <tbody>\n",
              "    <tr>\n",
              "      <th>0</th>\n",
              "      <td>Free</td>\n",
              "      <td>220</td>\n",
              "    </tr>\n",
              "    <tr>\n",
              "      <th>1</th>\n",
              "      <td>Premium</td>\n",
              "      <td>213</td>\n",
              "    </tr>\n",
              "  </tbody>\n",
              "</table>\n",
              "</div>"
            ],
            "text/plain": [
              "      Plan  count\n",
              "0     Free    220\n",
              "1  Premium    213"
            ]
          },
          "metadata": {
            "tags": []
          },
          "execution_count": 24
        }
      ]
    },
    {
      "cell_type": "markdown",
      "metadata": {
        "id": "C7VguVUHIJSs"
      },
      "source": [
        "# **6. Which plan is the most popular amongst Linux users?**"
      ]
    },
    {
      "cell_type": "code",
      "metadata": {
        "colab": {
          "base_uri": "https://localhost:8080/",
          "height": 111
        },
        "id": "c6_q97HmIMh2",
        "outputId": "8c2418ba-cda3-411b-974c-1f22a6345d70"
      },
      "source": [
        "query = '''\n",
        "        SELECT\n",
        "          plan.\"Plan\",\n",
        "          COUNT(plan.\"Plan\") \n",
        "        FROM\n",
        "          plan\n",
        "        WHERE plan.\"OS\" LIKE '%Linux%'\n",
        "        GROUP BY\n",
        "          plan.\"Plan\"\n",
        "        ORDER BY\n",
        "          COUNT(plan.\"Plan\") DESC\n",
        "        '''\n",
        "queryResult(query)"
      ],
      "execution_count": 25,
      "outputs": [
        {
          "output_type": "execute_result",
          "data": {
            "text/html": [
              "<div>\n",
              "<style scoped>\n",
              "    .dataframe tbody tr th:only-of-type {\n",
              "        vertical-align: middle;\n",
              "    }\n",
              "\n",
              "    .dataframe tbody tr th {\n",
              "        vertical-align: top;\n",
              "    }\n",
              "\n",
              "    .dataframe thead th {\n",
              "        text-align: right;\n",
              "    }\n",
              "</style>\n",
              "<table border=\"1\" class=\"dataframe\">\n",
              "  <thead>\n",
              "    <tr style=\"text-align: right;\">\n",
              "      <th></th>\n",
              "      <th>Plan</th>\n",
              "      <th>count</th>\n",
              "    </tr>\n",
              "  </thead>\n",
              "  <tbody>\n",
              "    <tr>\n",
              "      <th>0</th>\n",
              "      <td>Premium</td>\n",
              "      <td>76</td>\n",
              "    </tr>\n",
              "    <tr>\n",
              "      <th>1</th>\n",
              "      <td>Free</td>\n",
              "      <td>68</td>\n",
              "    </tr>\n",
              "  </tbody>\n",
              "</table>\n",
              "</div>"
            ],
            "text/plain": [
              "      Plan  count\n",
              "0  Premium     76\n",
              "1     Free     68"
            ]
          },
          "metadata": {
            "tags": []
          },
          "execution_count": 25
        }
      ]
    },
    {
      "cell_type": "markdown",
      "metadata": {
        "id": "zBwbWV2WIM42"
      },
      "source": [
        "# **7. What is the percentage of payout between the different plans?**"
      ]
    },
    {
      "cell_type": "code",
      "metadata": {
        "colab": {
          "base_uri": "https://localhost:8080/",
          "height": 111
        },
        "id": "1BJLiKupINi8",
        "outputId": "310f8322-c97d-476d-d071-9acf92fe018b"
      },
      "source": [
        "query = '''\n",
        "      SELECT\n",
        "        DISTINCT plan.\"Plan\",\n",
        "        SUM(payout.payout) OVER (PARTITION BY plan.\"Plan\") / (SELECT \n",
        "          SUM(payout.payout) / 100 as payout_sum\n",
        "        FROM\n",
        "          payout) as ratio\n",
        "\n",
        "      FROM\n",
        "        payout LEFT JOIN plan ON payout.user_id = plan.user_id\n",
        "      GROUP BY\n",
        "        plan.\"Plan\",\n",
        "        payout.payout\n",
        "        '''\n",
        "         \n",
        "queryResult(query)"
      ],
      "execution_count": 26,
      "outputs": [
        {
          "output_type": "execute_result",
          "data": {
            "text/html": [
              "<div>\n",
              "<style scoped>\n",
              "    .dataframe tbody tr th:only-of-type {\n",
              "        vertical-align: middle;\n",
              "    }\n",
              "\n",
              "    .dataframe tbody tr th {\n",
              "        vertical-align: top;\n",
              "    }\n",
              "\n",
              "    .dataframe thead th {\n",
              "        text-align: right;\n",
              "    }\n",
              "</style>\n",
              "<table border=\"1\" class=\"dataframe\">\n",
              "  <thead>\n",
              "    <tr style=\"text-align: right;\">\n",
              "      <th></th>\n",
              "      <th>Plan</th>\n",
              "      <th>ratio</th>\n",
              "    </tr>\n",
              "  </thead>\n",
              "  <tbody>\n",
              "    <tr>\n",
              "      <th>0</th>\n",
              "      <td>Free</td>\n",
              "      <td>53.738342</td>\n",
              "    </tr>\n",
              "    <tr>\n",
              "      <th>1</th>\n",
              "      <td>Premium</td>\n",
              "      <td>46.028049</td>\n",
              "    </tr>\n",
              "  </tbody>\n",
              "</table>\n",
              "</div>"
            ],
            "text/plain": [
              "      Plan      ratio\n",
              "0     Free  53.738342\n",
              "1  Premium  46.028049"
            ]
          },
          "metadata": {
            "tags": []
          },
          "execution_count": 26
        }
      ]
    },
    {
      "cell_type": "markdown",
      "metadata": {
        "id": "ow-u0j5eIN0P"
      },
      "source": [
        "# **8. Users of which operating system earned more in payouts?**"
      ]
    },
    {
      "cell_type": "code",
      "metadata": {
        "colab": {
          "base_uri": "https://localhost:8080/",
          "height": 142
        },
        "id": "PPHiWeesIOMq",
        "outputId": "79f51328-3781-4131-b139-4ba76f30149a"
      },
      "source": [
        "query = '''\n",
        "      SELECT\n",
        "        DISTINCT plan.\"OS\",\n",
        "        SUM(payout.payout) as payout_os\n",
        "\n",
        "      FROM\n",
        "        payout LEFT JOIN plan ON payout.user_id = plan.user_id\n",
        "      GROUP BY\n",
        "        plan.\"OS\"\n",
        "      ORDER BY\n",
        "        payout_os DESC\n",
        "        '''\n",
        "        \n",
        "queryResult(query)"
      ],
      "execution_count": 31,
      "outputs": [
        {
          "output_type": "execute_result",
          "data": {
            "text/html": [
              "<div>\n",
              "<style scoped>\n",
              "    .dataframe tbody tr th:only-of-type {\n",
              "        vertical-align: middle;\n",
              "    }\n",
              "\n",
              "    .dataframe tbody tr th {\n",
              "        vertical-align: top;\n",
              "    }\n",
              "\n",
              "    .dataframe thead th {\n",
              "        text-align: right;\n",
              "    }\n",
              "</style>\n",
              "<table border=\"1\" class=\"dataframe\">\n",
              "  <thead>\n",
              "    <tr style=\"text-align: right;\">\n",
              "      <th></th>\n",
              "      <th>OS</th>\n",
              "      <th>payout_os</th>\n",
              "    </tr>\n",
              "  </thead>\n",
              "  <tbody>\n",
              "    <tr>\n",
              "      <th>0</th>\n",
              "      <td>Linux</td>\n",
              "      <td>322.00353</td>\n",
              "    </tr>\n",
              "    <tr>\n",
              "      <th>1</th>\n",
              "      <td>Windows</td>\n",
              "      <td>316.03701</td>\n",
              "    </tr>\n",
              "    <tr>\n",
              "      <th>2</th>\n",
              "      <td>MAC</td>\n",
              "      <td>267.41123</td>\n",
              "    </tr>\n",
              "  </tbody>\n",
              "</table>\n",
              "</div>"
            ],
            "text/plain": [
              "        OS  payout_os\n",
              "0    Linux  322.00353\n",
              "1  Windows  316.03701\n",
              "2      MAC  267.41123"
            ]
          },
          "metadata": {
            "tags": []
          },
          "execution_count": 31
        }
      ]
    },
    {
      "cell_type": "markdown",
      "metadata": {
        "id": "xHFsA1WAITfe"
      },
      "source": [
        "# **9. What is the average payout amount per user for each of the OS in July 2020?**"
      ]
    },
    {
      "cell_type": "code",
      "metadata": {
        "id": "xYcaJvG9IUNc",
        "colab": {
          "base_uri": "https://localhost:8080/",
          "height": 142
        },
        "outputId": "467f2323-1648-4c9b-f7ab-0be4dc3a220f"
      },
      "source": [
        "query = '''\n",
        "      SELECT\n",
        "        DISTINCT plan.\"OS\",\n",
        "        AVG(payout.payout) avg_payout_os\n",
        "\n",
        "      FROM\n",
        "        payout LEFT JOIN plan ON payout.user_id = plan.user_id\n",
        "      WHERE\n",
        "       payout.date :: date between '2020-07-1' and '2020-07-31'\n",
        "      GROUP BY\n",
        "        plan.\"OS\"\n",
        "      ORDER BY\n",
        "        plan.\"OS\"\n",
        "      \n",
        "        '''\n",
        "        \n",
        "queryResult(query)"
      ],
      "execution_count": 36,
      "outputs": [
        {
          "output_type": "execute_result",
          "data": {
            "text/html": [
              "<div>\n",
              "<style scoped>\n",
              "    .dataframe tbody tr th:only-of-type {\n",
              "        vertical-align: middle;\n",
              "    }\n",
              "\n",
              "    .dataframe tbody tr th {\n",
              "        vertical-align: top;\n",
              "    }\n",
              "\n",
              "    .dataframe thead th {\n",
              "        text-align: right;\n",
              "    }\n",
              "</style>\n",
              "<table border=\"1\" class=\"dataframe\">\n",
              "  <thead>\n",
              "    <tr style=\"text-align: right;\">\n",
              "      <th></th>\n",
              "      <th>OS</th>\n",
              "      <th>avg_payout_os</th>\n",
              "    </tr>\n",
              "  </thead>\n",
              "  <tbody>\n",
              "    <tr>\n",
              "      <th>0</th>\n",
              "      <td>Linux</td>\n",
              "      <td>1.931114</td>\n",
              "    </tr>\n",
              "    <tr>\n",
              "      <th>1</th>\n",
              "      <td>MAC</td>\n",
              "      <td>1.640537</td>\n",
              "    </tr>\n",
              "    <tr>\n",
              "      <th>2</th>\n",
              "      <td>Windows</td>\n",
              "      <td>1.590600</td>\n",
              "    </tr>\n",
              "  </tbody>\n",
              "</table>\n",
              "</div>"
            ],
            "text/plain": [
              "        OS  avg_payout_os\n",
              "0    Linux       1.931114\n",
              "1      MAC       1.640537\n",
              "2  Windows       1.590600"
            ]
          },
          "metadata": {
            "tags": []
          },
          "execution_count": 36
        }
      ]
    },
    {
      "cell_type": "markdown",
      "metadata": {
        "id": "CPtDqP5kIUdr"
      },
      "source": [
        "# **10. What is the daily share of ether earned by users from Linux that are in the free plan in this data?**"
      ]
    },
    {
      "cell_type": "code",
      "metadata": {
        "colab": {
          "base_uri": "https://localhost:8080/",
          "height": 419
        },
        "id": "i0WCxVaWIai6",
        "outputId": "1c815215-d807-4e4a-871a-fc5437371da7"
      },
      "source": [
        "query = '''\n",
        "      SELECT\n",
        "        DISTINCT payout.date :: date,\n",
        "        payout.user_id,\n",
        "        payout.payout * 100 / SUM(payout.payout) OVER (PARTITION BY payout.date :: date) as ratio\n",
        "       \n",
        "      FROM\n",
        "        payout LEFT JOIN plan ON payout.user_id = plan.user_id\n",
        "      WHERE\n",
        "        plan.\"OS\" LIKE '%Linux%' and  plan.\"Plan\" LIKE '%Free%'\n",
        "      ORDER BY\n",
        "        payout.date :: date\n",
        "        '''\n",
        "queryResult(query)"
      ],
      "execution_count": 38,
      "outputs": [
        {
          "output_type": "execute_result",
          "data": {
            "text/html": [
              "<div>\n",
              "<style scoped>\n",
              "    .dataframe tbody tr th:only-of-type {\n",
              "        vertical-align: middle;\n",
              "    }\n",
              "\n",
              "    .dataframe tbody tr th {\n",
              "        vertical-align: top;\n",
              "    }\n",
              "\n",
              "    .dataframe thead th {\n",
              "        text-align: right;\n",
              "    }\n",
              "</style>\n",
              "<table border=\"1\" class=\"dataframe\">\n",
              "  <thead>\n",
              "    <tr style=\"text-align: right;\">\n",
              "      <th></th>\n",
              "      <th>date</th>\n",
              "      <th>user_id</th>\n",
              "      <th>ratio</th>\n",
              "    </tr>\n",
              "  </thead>\n",
              "  <tbody>\n",
              "    <tr>\n",
              "      <th>0</th>\n",
              "      <td>2020-07-07</td>\n",
              "      <td>3415</td>\n",
              "      <td>100.000000</td>\n",
              "    </tr>\n",
              "    <tr>\n",
              "      <th>1</th>\n",
              "      <td>2020-07-08</td>\n",
              "      <td>3146</td>\n",
              "      <td>100.000000</td>\n",
              "    </tr>\n",
              "    <tr>\n",
              "      <th>2</th>\n",
              "      <td>2020-07-11</td>\n",
              "      <td>2154</td>\n",
              "      <td>100.000000</td>\n",
              "    </tr>\n",
              "    <tr>\n",
              "      <th>3</th>\n",
              "      <td>2020-07-13</td>\n",
              "      <td>4235</td>\n",
              "      <td>100.000000</td>\n",
              "    </tr>\n",
              "    <tr>\n",
              "      <th>4</th>\n",
              "      <td>2020-07-14</td>\n",
              "      <td>3542</td>\n",
              "      <td>100.000000</td>\n",
              "    </tr>\n",
              "    <tr>\n",
              "      <th>...</th>\n",
              "      <td>...</td>\n",
              "      <td>...</td>\n",
              "      <td>...</td>\n",
              "    </tr>\n",
              "    <tr>\n",
              "      <th>94</th>\n",
              "      <td>2021-01-02</td>\n",
              "      <td>2935</td>\n",
              "      <td>100.000000</td>\n",
              "    </tr>\n",
              "    <tr>\n",
              "      <th>95</th>\n",
              "      <td>2021-01-03</td>\n",
              "      <td>1330</td>\n",
              "      <td>100.000000</td>\n",
              "    </tr>\n",
              "    <tr>\n",
              "      <th>96</th>\n",
              "      <td>2021-01-04</td>\n",
              "      <td>2128</td>\n",
              "      <td>100.000000</td>\n",
              "    </tr>\n",
              "    <tr>\n",
              "      <th>97</th>\n",
              "      <td>2021-01-05</td>\n",
              "      <td>4131</td>\n",
              "      <td>63.505578</td>\n",
              "    </tr>\n",
              "    <tr>\n",
              "      <th>98</th>\n",
              "      <td>2021-01-05</td>\n",
              "      <td>4608</td>\n",
              "      <td>36.494422</td>\n",
              "    </tr>\n",
              "  </tbody>\n",
              "</table>\n",
              "<p>99 rows × 3 columns</p>\n",
              "</div>"
            ],
            "text/plain": [
              "          date  user_id       ratio\n",
              "0   2020-07-07     3415  100.000000\n",
              "1   2020-07-08     3146  100.000000\n",
              "2   2020-07-11     2154  100.000000\n",
              "3   2020-07-13     4235  100.000000\n",
              "4   2020-07-14     3542  100.000000\n",
              "..         ...      ...         ...\n",
              "94  2021-01-02     2935  100.000000\n",
              "95  2021-01-03     1330  100.000000\n",
              "96  2021-01-04     2128  100.000000\n",
              "97  2021-01-05     4131   63.505578\n",
              "98  2021-01-05     4608   36.494422\n",
              "\n",
              "[99 rows x 3 columns]"
            ]
          },
          "metadata": {
            "tags": []
          },
          "execution_count": 38
        }
      ]
    }
  ]
}