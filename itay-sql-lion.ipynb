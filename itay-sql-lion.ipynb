{
 "cells": [
  {
   "cell_type": "markdown",
   "metadata": {},
   "source": [
    "### Used Libraries<a class=\"anchor\" id=\"chapter1\"></a>"
   ]
  },
  {
   "cell_type": "code",
   "execution_count": 4,
   "metadata": {},
   "outputs": [
    {
     "output_type": "stream",
     "name": "stdout",
     "text": [
      "Requirement already satisfied: psycopg2 in c:\\users\\itay8\\anaconda3\\lib\\site-packages (2.9.1)\nNote: you may need to restart the kernel to use updated packages.\n"
     ]
    }
   ],
   "source": [
    "pip install psycopg2 -U"
   ]
  },
  {
   "cell_type": "code",
   "execution_count": 14,
   "metadata": {},
   "outputs": [],
   "source": [
    "import pandas as pd\n",
    "from sqlalchemy import create_engine\n",
    "from sqlalchemy.engine import reflection\n",
    "import psycopg2"
   ]
  },
  {
   "cell_type": "markdown",
   "metadata": {},
   "source": [
    "### Access to the DB <a class=\"anchor\" id=\"chapter2\"></a>"
   ]
  },
  {
   "cell_type": "code",
   "execution_count": 15,
   "metadata": {},
   "outputs": [
    {
     "output_type": "stream",
     "name": "stderr",
     "text": [
      "<ipython-input-15-2f8e9787a86a>:14: SADeprecationWarning: The from_engine() method on Inspector is deprecated and will be removed in a future release.  Please use the sqlalchemy.inspect() function on an Engine or Connection in order to acquire an Inspector. (deprecated since: 1.4)\n  inspector = reflection.Inspector.from_engine(engine)\n"
     ]
    }
   ],
   "source": [
    "db_config = {'user': 'practicum_student',         # username\n",
    "             'pwd': 's65BlTKV3faNIGhmvJVzOqhs', # password\n",
    "             'host': 'rc1b-wcoijxj3yxfsf3fs.mdb.yandexcloud.net',\n",
    "             'port': 6432,              # connection port\n",
    "             'db': 'data-analyst-eth-payouts-db'}          # the name of the database\n",
    "\n",
    "connection_string = 'postgresql://{}:{}@{}:{}/{}'.format(db_config['user'],\n",
    "                                                                     db_config['pwd'],\n",
    "                                                                       db_config['host'],\n",
    "                                                                       db_config['port'],\n",
    "                                                                       db_config['db'])\n",
    "\n",
    "engine = create_engine(connection_string, connect_args={'sslmode':'require'})\n",
    "inspector = reflection.Inspector.from_engine(engine)\n"
   ]
  },
  {
   "cell_type": "markdown",
   "metadata": {},
   "source": [
    "#  Table Queries <a class=\"anchor\" id=\"chapter3\"></a>"
   ]
  },
  {
   "cell_type": "markdown",
   "metadata": {},
   "source": [
    "function that takes a query and return dataframe for general use"
   ]
  },
  {
   "cell_type": "code",
   "execution_count": 8,
   "metadata": {},
   "outputs": [],
   "source": [
    "def queryResult(q):\n",
    "    return pd.io.sql.read_sql(q, con = engine)\n",
    "    "
   ]
  },
  {
   "cell_type": "code",
   "execution_count": 16,
   "metadata": {},
   "outputs": [
    {
     "output_type": "execute_result",
     "data": {
      "text/plain": [
       "['payout', 'plan']"
      ]
     },
     "metadata": {},
     "execution_count": 16
    }
   ],
   "source": [
    "inspector.get_table_names()"
   ]
  },
  {
   "source": [
    "1. How many users got paid?\n",
    "\n",
    "user_id\n",
    "payout\n"
   ],
   "cell_type": "markdown",
   "metadata": {}
  },
  {
   "cell_type": "code",
   "execution_count": 31,
   "metadata": {},
   "outputs": [
    {
     "output_type": "stream",
     "name": "stdout",
     "text": [
      "   count\n0    433\n"
     ]
    }
   ],
   "source": [
    "query = '''\n",
    "SELECT  count(DISTINCT user_id)\n",
    "FROM payout\n",
    "WHERE\n",
    "    payout > 0\n",
    "'''\n",
    "print(queryResult(query))\n"
   ]
  },
  {
   "source": [
    "2. Show the 5 users with the highest payouts\n"
   ],
   "cell_type": "markdown",
   "metadata": {}
  },
  {
   "cell_type": "code",
   "execution_count": 46,
   "metadata": {},
   "outputs": [
    {
     "output_type": "stream",
     "name": "stdout",
     "text": [
      "     user_id                                 eth_address       date   payout\n0       1005  0x4f9117b14426ac44ead4eaef0223830cb16bdb07 2020-07-27  1.68113\n1       1005  0xccbe3f17a61f0e8ef05b04dc0c3f510522df6cc8 2020-09-04  2.27831\n2       1020  0x2e22950c26899fd0dc0c593b147f6beb7f1c0c37 2020-11-11  0.25199\n3       1020  0x2081974d67307ec737dd13c60b524ca4d644ec1d 2020-09-30  2.21076\n4       1021  0x370ff36440a36825279db341c6b85bc0371e7c3f 2020-12-10  1.47999\n..       ...                                         ...        ...      ...\n563     4848  0x72c65e71cc7a2dc71096b64f7a42f8b3192539ab 2020-10-15  2.02452\n564     4848  0xd8444ab60e7078d163ecc3ff65fbe01e8770e72d 2020-07-15  3.11877\n565     4862  0xbdacd0eca1bfa3b2aabe9687bd3b65969227af34 2020-07-22  1.83956\n566     4862  0x446447a208c6e2809f605906a4683e61335e8024 2020-08-13  1.44528\n567     4862  0x72b246f6576a320cbcfd9ffe0a6f37f23219ba2b 2020-10-11  1.03908\n\n[568 rows x 4 columns]\n"
     ]
    }
   ],
   "source": [
    "query = '''\n",
    "SELECT  *\n",
    "FROM payout\n",
    "\n",
    "\n",
    "'''\n",
    "print(queryResult(query))"
   ]
  },
  {
   "cell_type": "code",
   "execution_count": 47,
   "metadata": {},
   "outputs": [
    {
     "output_type": "stream",
     "name": "stdout",
     "text": [
      "   user_id       sum\n0     1537  10.74169\n1     3051   9.73121\n2     1512   8.80816\n3     1127   8.78861\n4     4848   8.42445\n"
     ]
    }
   ],
   "source": [
    "query = '''\n",
    "SELECT  DISTINCT (user_id),\n",
    "    SUM(payout)\n",
    "FROM payout\n",
    "GROUP BY\n",
    "    user_id\n",
    "ORDER BY\n",
    "    SUM(payout) DESC\n",
    "LIMIT 5\n",
    "\n",
    "'''\n",
    "print(queryResult(query))"
   ]
  },
  {
   "source": [
    "3. Show the 5 users with the lowest payouts\n"
   ],
   "cell_type": "markdown",
   "metadata": {}
  },
  {
   "cell_type": "code",
   "execution_count": 48,
   "metadata": {},
   "outputs": [
    {
     "output_type": "stream",
     "name": "stdout",
     "text": [
      "   user_id      sum\n0     2003  0.00775\n1     3410  0.00818\n2     2813  0.02914\n3     2462  0.03381\n4     4467  0.05056\n"
     ]
    }
   ],
   "source": [
    "query = '''\n",
    "SELECT  DISTINCT (user_id),\n",
    "    SUM(payout)\n",
    "FROM payout\n",
    "GROUP BY\n",
    "    user_id\n",
    "ORDER BY\n",
    "    SUM(payout) ASC\n",
    "LIMIT 5\n",
    "\n",
    "'''\n",
    "print(queryResult(query))"
   ]
  },
  {
   "source": [
    "\n",
    "4. How much ether was paid out in November 2020?\n"
   ],
   "cell_type": "markdown",
   "metadata": {}
  },
  {
   "source": [
    "\n",
    "5. Which plan is the most popular?\n"
   ],
   "cell_type": "markdown",
   "metadata": {}
  },
  {
   "source": [
    "\n",
    "6. Which plan is the most popular amongst Linux users?\n"
   ],
   "cell_type": "markdown",
   "metadata": {}
  },
  {
   "source": [
    "\n",
    "7. What is the percentage of payout between the different plans?\n"
   ],
   "cell_type": "markdown",
   "metadata": {}
  },
  {
   "source": [
    "\n",
    "8. Users of which operating system earned more in payouts?\n"
   ],
   "cell_type": "markdown",
   "metadata": {}
  },
  {
   "source": [
    "\n",
    "9. What is the average payout amount per user for each of the OS in July 2020?"
   ],
   "cell_type": "markdown",
   "metadata": {}
  },
  {
   "source": [
    "\n",
    "10. What is the daily share of ether earned by users from Linux that are in the free plan in this data?"
   ],
   "cell_type": "markdown",
   "metadata": {}
  }
 ],
 "metadata": {
  "kernelspec": {
   "name": "python3",
   "display_name": "Python 3.8.8 64-bit ('base': conda)"
  },
  "language_info": {
   "codemirror_mode": {
    "name": "ipython",
    "version": 3
   },
   "file_extension": ".py",
   "mimetype": "text/x-python",
   "name": "python",
   "nbconvert_exporter": "python",
   "pygments_lexer": "ipython3",
   "version": "3.8.8"
  },
  "interpreter": {
   "hash": "b1f289718d186d539b5ac9a53f79041c68ee8d2b6e439df5b3b4d5fd44538197"
  }
 },
 "nbformat": 4,
 "nbformat_minor": 4
}