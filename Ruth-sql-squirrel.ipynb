{
 "cells": [
  {
   "cell_type": "markdown",
   "id": "d9164657",
   "metadata": {},
   "source": [
    "#### Importing libraries"
   ]
  },
  {
   "cell_type": "code",
   "execution_count": 1,
   "id": "a8088ec2",
   "metadata": {},
   "outputs": [
    {
     "name": "stdout",
     "output_type": "stream",
     "text": [
      "Requirement already satisfied: psycopg2 in c:\\users\\97252\\anaconda3\\lib\\site-packages (2.9.1)\n"
     ]
    }
   ],
   "source": [
    "!pip install psycopg2 "
   ]
  },
  {
   "cell_type": "code",
   "execution_count": 2,
   "id": "472bcef6",
   "metadata": {},
   "outputs": [],
   "source": [
    "import pandas as pd\n",
    "from sqlalchemy import create_engine\n",
    "import psycopg2"
   ]
  },
  {
   "cell_type": "markdown",
   "id": "3dfcd7f9",
   "metadata": {},
   "source": [
    "#### Access to the DB"
   ]
  },
  {
   "cell_type": "code",
   "execution_count": 3,
   "id": "7c191fa0",
   "metadata": {},
   "outputs": [],
   "source": [
    "db_config = {'user': 'practicum_student',         # username\n",
    "             'pwd': 's65BlTKV3faNIGhmvJVzOqhs', # password\n",
    "             'host': 'rc1b-wcoijxj3yxfsf3fs.mdb.yandexcloud.net',\n",
    "             'port': 6432,              # connection port\n",
    "             'db': 'data-analyst-eth-payouts-db'}          # the name of the database\n",
    "\n",
    "connection_string = 'postgresql://{}:{}@{}:{}/{}'.format(db_config['user'],\n",
    "                                                                     db_config['pwd'],\n",
    "                                                                       db_config['host'],\n",
    "                                                                       db_config['port'],\n",
    "                                                                       db_config['db'])\n",
    "\n",
    "engine = create_engine(connection_string, connect_args={'sslmode':'require'})"
   ]
  },
  {
   "cell_type": "markdown",
   "id": "019d715a",
   "metadata": {},
   "source": [
    "### Tables "
   ]
  },
  {
   "cell_type": "markdown",
   "id": "392c59f8",
   "metadata": {},
   "source": [
    "We want to see how our tables looks. Let's make a function that takes a query and return a dataframe."
   ]
  },
  {
   "cell_type": "code",
   "execution_count": 4,
   "id": "234f2526",
   "metadata": {},
   "outputs": [],
   "source": [
    "def printTable(q):\n",
    "    return pd.io.sql.read_sql(q, con = engine)"
   ]
  },
  {
   "cell_type": "markdown",
   "id": "4d8d47f6",
   "metadata": {},
   "source": [
    "**payout table**"
   ]
  },
  {
   "cell_type": "code",
   "execution_count": 5,
   "id": "a880fec3",
   "metadata": {},
   "outputs": [
    {
     "data": {
      "text/html": [
       "<div>\n",
       "<style scoped>\n",
       "    .dataframe tbody tr th:only-of-type {\n",
       "        vertical-align: middle;\n",
       "    }\n",
       "\n",
       "    .dataframe tbody tr th {\n",
       "        vertical-align: top;\n",
       "    }\n",
       "\n",
       "    .dataframe thead th {\n",
       "        text-align: right;\n",
       "    }\n",
       "</style>\n",
       "<table border=\"1\" class=\"dataframe\">\n",
       "  <thead>\n",
       "    <tr style=\"text-align: right;\">\n",
       "      <th></th>\n",
       "      <th>user_id</th>\n",
       "      <th>eth_address</th>\n",
       "      <th>date</th>\n",
       "      <th>payout</th>\n",
       "    </tr>\n",
       "  </thead>\n",
       "  <tbody>\n",
       "    <tr>\n",
       "      <th>0</th>\n",
       "      <td>1005</td>\n",
       "      <td>0x4f9117b14426ac44ead4eaef0223830cb16bdb07</td>\n",
       "      <td>2020-07-27</td>\n",
       "      <td>1.68113</td>\n",
       "    </tr>\n",
       "    <tr>\n",
       "      <th>1</th>\n",
       "      <td>1005</td>\n",
       "      <td>0xccbe3f17a61f0e8ef05b04dc0c3f510522df6cc8</td>\n",
       "      <td>2020-09-04</td>\n",
       "      <td>2.27831</td>\n",
       "    </tr>\n",
       "    <tr>\n",
       "      <th>2</th>\n",
       "      <td>1020</td>\n",
       "      <td>0x2e22950c26899fd0dc0c593b147f6beb7f1c0c37</td>\n",
       "      <td>2020-11-11</td>\n",
       "      <td>0.25199</td>\n",
       "    </tr>\n",
       "    <tr>\n",
       "      <th>3</th>\n",
       "      <td>1020</td>\n",
       "      <td>0x2081974d67307ec737dd13c60b524ca4d644ec1d</td>\n",
       "      <td>2020-09-30</td>\n",
       "      <td>2.21076</td>\n",
       "    </tr>\n",
       "    <tr>\n",
       "      <th>4</th>\n",
       "      <td>1021</td>\n",
       "      <td>0x370ff36440a36825279db341c6b85bc0371e7c3f</td>\n",
       "      <td>2020-12-10</td>\n",
       "      <td>1.47999</td>\n",
       "    </tr>\n",
       "    <tr>\n",
       "      <th>...</th>\n",
       "      <td>...</td>\n",
       "      <td>...</td>\n",
       "      <td>...</td>\n",
       "      <td>...</td>\n",
       "    </tr>\n",
       "    <tr>\n",
       "      <th>563</th>\n",
       "      <td>4848</td>\n",
       "      <td>0x72c65e71cc7a2dc71096b64f7a42f8b3192539ab</td>\n",
       "      <td>2020-10-15</td>\n",
       "      <td>2.02452</td>\n",
       "    </tr>\n",
       "    <tr>\n",
       "      <th>564</th>\n",
       "      <td>4848</td>\n",
       "      <td>0xd8444ab60e7078d163ecc3ff65fbe01e8770e72d</td>\n",
       "      <td>2020-07-15</td>\n",
       "      <td>3.11877</td>\n",
       "    </tr>\n",
       "    <tr>\n",
       "      <th>565</th>\n",
       "      <td>4862</td>\n",
       "      <td>0xbdacd0eca1bfa3b2aabe9687bd3b65969227af34</td>\n",
       "      <td>2020-07-22</td>\n",
       "      <td>1.83956</td>\n",
       "    </tr>\n",
       "    <tr>\n",
       "      <th>566</th>\n",
       "      <td>4862</td>\n",
       "      <td>0x446447a208c6e2809f605906a4683e61335e8024</td>\n",
       "      <td>2020-08-13</td>\n",
       "      <td>1.44528</td>\n",
       "    </tr>\n",
       "    <tr>\n",
       "      <th>567</th>\n",
       "      <td>4862</td>\n",
       "      <td>0x72b246f6576a320cbcfd9ffe0a6f37f23219ba2b</td>\n",
       "      <td>2020-10-11</td>\n",
       "      <td>1.03908</td>\n",
       "    </tr>\n",
       "  </tbody>\n",
       "</table>\n",
       "<p>568 rows × 4 columns</p>\n",
       "</div>"
      ],
      "text/plain": [
       "     user_id                                 eth_address       date   payout\n",
       "0       1005  0x4f9117b14426ac44ead4eaef0223830cb16bdb07 2020-07-27  1.68113\n",
       "1       1005  0xccbe3f17a61f0e8ef05b04dc0c3f510522df6cc8 2020-09-04  2.27831\n",
       "2       1020  0x2e22950c26899fd0dc0c593b147f6beb7f1c0c37 2020-11-11  0.25199\n",
       "3       1020  0x2081974d67307ec737dd13c60b524ca4d644ec1d 2020-09-30  2.21076\n",
       "4       1021  0x370ff36440a36825279db341c6b85bc0371e7c3f 2020-12-10  1.47999\n",
       "..       ...                                         ...        ...      ...\n",
       "563     4848  0x72c65e71cc7a2dc71096b64f7a42f8b3192539ab 2020-10-15  2.02452\n",
       "564     4848  0xd8444ab60e7078d163ecc3ff65fbe01e8770e72d 2020-07-15  3.11877\n",
       "565     4862  0xbdacd0eca1bfa3b2aabe9687bd3b65969227af34 2020-07-22  1.83956\n",
       "566     4862  0x446447a208c6e2809f605906a4683e61335e8024 2020-08-13  1.44528\n",
       "567     4862  0x72b246f6576a320cbcfd9ffe0a6f37f23219ba2b 2020-10-11  1.03908\n",
       "\n",
       "[568 rows x 4 columns]"
      ]
     },
     "execution_count": 5,
     "metadata": {},
     "output_type": "execute_result"
    }
   ],
   "source": [
    "q = '''\n",
    "    SELECT\n",
    "        *\n",
    "    FROM\n",
    "        payout\n",
    "'''\n",
    "data_payout = printTable(q)\n",
    "data_payout"
   ]
  },
  {
   "cell_type": "markdown",
   "id": "01066eca",
   "metadata": {},
   "source": [
    "#### plan table"
   ]
  },
  {
   "cell_type": "code",
   "execution_count": 6,
   "id": "24b2f3ef",
   "metadata": {},
   "outputs": [
    {
     "data": {
      "text/html": [
       "<div>\n",
       "<style scoped>\n",
       "    .dataframe tbody tr th:only-of-type {\n",
       "        vertical-align: middle;\n",
       "    }\n",
       "\n",
       "    .dataframe tbody tr th {\n",
       "        vertical-align: top;\n",
       "    }\n",
       "\n",
       "    .dataframe thead th {\n",
       "        text-align: right;\n",
       "    }\n",
       "</style>\n",
       "<table border=\"1\" class=\"dataframe\">\n",
       "  <thead>\n",
       "    <tr style=\"text-align: right;\">\n",
       "      <th></th>\n",
       "      <th>user_id</th>\n",
       "      <th>OS</th>\n",
       "      <th>Plan</th>\n",
       "    </tr>\n",
       "  </thead>\n",
       "  <tbody>\n",
       "    <tr>\n",
       "      <th>0</th>\n",
       "      <td>1005</td>\n",
       "      <td>Windows</td>\n",
       "      <td>Free</td>\n",
       "    </tr>\n",
       "    <tr>\n",
       "      <th>1</th>\n",
       "      <td>1020</td>\n",
       "      <td>MAC</td>\n",
       "      <td>Free</td>\n",
       "    </tr>\n",
       "    <tr>\n",
       "      <th>2</th>\n",
       "      <td>1021</td>\n",
       "      <td>Linux</td>\n",
       "      <td>Premium</td>\n",
       "    </tr>\n",
       "    <tr>\n",
       "      <th>3</th>\n",
       "      <td>1041</td>\n",
       "      <td>Linux</td>\n",
       "      <td>Free</td>\n",
       "    </tr>\n",
       "    <tr>\n",
       "      <th>4</th>\n",
       "      <td>1048</td>\n",
       "      <td>Windows</td>\n",
       "      <td>Free</td>\n",
       "    </tr>\n",
       "    <tr>\n",
       "      <th>...</th>\n",
       "      <td>...</td>\n",
       "      <td>...</td>\n",
       "      <td>...</td>\n",
       "    </tr>\n",
       "    <tr>\n",
       "      <th>428</th>\n",
       "      <td>4762</td>\n",
       "      <td>MAC</td>\n",
       "      <td>Premium</td>\n",
       "    </tr>\n",
       "    <tr>\n",
       "      <th>429</th>\n",
       "      <td>4765</td>\n",
       "      <td>Windows</td>\n",
       "      <td>Free</td>\n",
       "    </tr>\n",
       "    <tr>\n",
       "      <th>430</th>\n",
       "      <td>4798</td>\n",
       "      <td>MAC</td>\n",
       "      <td>Premium</td>\n",
       "    </tr>\n",
       "    <tr>\n",
       "      <th>431</th>\n",
       "      <td>4848</td>\n",
       "      <td>Linux</td>\n",
       "      <td>Premium</td>\n",
       "    </tr>\n",
       "    <tr>\n",
       "      <th>432</th>\n",
       "      <td>4862</td>\n",
       "      <td>MAC</td>\n",
       "      <td>Free</td>\n",
       "    </tr>\n",
       "  </tbody>\n",
       "</table>\n",
       "<p>433 rows × 3 columns</p>\n",
       "</div>"
      ],
      "text/plain": [
       "     user_id       OS     Plan\n",
       "0       1005  Windows     Free\n",
       "1       1020      MAC     Free\n",
       "2       1021    Linux  Premium\n",
       "3       1041    Linux     Free\n",
       "4       1048  Windows     Free\n",
       "..       ...      ...      ...\n",
       "428     4762      MAC  Premium\n",
       "429     4765  Windows     Free\n",
       "430     4798      MAC  Premium\n",
       "431     4848    Linux  Premium\n",
       "432     4862      MAC     Free\n",
       "\n",
       "[433 rows x 3 columns]"
      ]
     },
     "execution_count": 6,
     "metadata": {},
     "output_type": "execute_result"
    }
   ],
   "source": [
    "q = '''\n",
    "    SELECT\n",
    "        *\n",
    "    FROM\n",
    "        plan\n",
    "'''\n",
    "data_plan = printTable(q)\n",
    "data_plan"
   ]
  },
  {
   "cell_type": "markdown",
   "id": "ab4016f4",
   "metadata": {},
   "source": [
    "### Our queries for today are: ###"
   ]
  },
  {
   "cell_type": "markdown",
   "id": "e8a1b504",
   "metadata": {},
   "source": [
    "#### 1. How many users got paid? #### "
   ]
  },
  {
   "cell_type": "markdown",
   "id": "c52b7b3e",
   "metadata": {},
   "source": [
    "* Python"
   ]
  },
  {
   "cell_type": "code",
   "execution_count": 7,
   "id": "311e37eb",
   "metadata": {
    "scrolled": true
   },
   "outputs": [
    {
     "data": {
      "text/plain": [
       "433"
      ]
     },
     "execution_count": 7,
     "metadata": {},
     "output_type": "execute_result"
    }
   ],
   "source": [
    "#Using count() to count the differents user_id in data_payout table\n",
    "data_payout.user_id.value_counts().count()"
   ]
  },
  {
   "cell_type": "markdown",
   "id": "7fede891",
   "metadata": {},
   "source": [
    "* SQL"
   ]
  },
  {
   "cell_type": "code",
   "execution_count": 8,
   "id": "96d196ff",
   "metadata": {},
   "outputs": [
    {
     "data": {
      "text/html": [
       "<div>\n",
       "<style scoped>\n",
       "    .dataframe tbody tr th:only-of-type {\n",
       "        vertical-align: middle;\n",
       "    }\n",
       "\n",
       "    .dataframe tbody tr th {\n",
       "        vertical-align: top;\n",
       "    }\n",
       "\n",
       "    .dataframe thead th {\n",
       "        text-align: right;\n",
       "    }\n",
       "</style>\n",
       "<table border=\"1\" class=\"dataframe\">\n",
       "  <thead>\n",
       "    <tr style=\"text-align: right;\">\n",
       "      <th></th>\n",
       "      <th>cnt</th>\n",
       "    </tr>\n",
       "  </thead>\n",
       "  <tbody>\n",
       "    <tr>\n",
       "      <th>0</th>\n",
       "      <td>433</td>\n",
       "    </tr>\n",
       "  </tbody>\n",
       "</table>\n",
       "</div>"
      ],
      "text/plain": [
       "   cnt\n",
       "0  433"
      ]
     },
     "execution_count": 8,
     "metadata": {},
     "output_type": "execute_result"
    }
   ],
   "source": [
    "q = '''\n",
    "    SELECT\n",
    "         COUNT(DISTINCT user_id)  as cnt\n",
    "    FROM\n",
    "        payout\n",
    "'''\n",
    "r1 = printTable(q)\n",
    "r1"
   ]
  },
  {
   "cell_type": "markdown",
   "id": "f9610e31",
   "metadata": {},
   "source": [
    "#### 2. Show the 5 users with the highest payouts ####"
   ]
  },
  {
   "cell_type": "markdown",
   "id": "c9503333",
   "metadata": {},
   "source": [
    "* Python"
   ]
  },
  {
   "cell_type": "code",
   "execution_count": 9,
   "id": "8fe8f75a",
   "metadata": {},
   "outputs": [
    {
     "data": {
      "text/plain": [
       "user_id\n",
       "1537    10.74169\n",
       "3051     9.73121\n",
       "1512     8.80816\n",
       "1127     8.78861\n",
       "4848     8.42445\n",
       "Name: payout, dtype: float64"
      ]
     },
     "execution_count": 9,
     "metadata": {},
     "output_type": "execute_result"
    }
   ],
   "source": [
    "#Group the data by user_id \n",
    "top5_payout = data_payout.groupby('user_id')['payout'].agg(lambda s: s.sum()).sort_values(ascending=False)\n",
    "\n",
    "top5_payout.head(5)"
   ]
  },
  {
   "cell_type": "markdown",
   "id": "19c8cbc2",
   "metadata": {},
   "source": [
    "* SQL"
   ]
  },
  {
   "cell_type": "code",
   "execution_count": 10,
   "id": "faa54af3",
   "metadata": {},
   "outputs": [
    {
     "data": {
      "text/html": [
       "<div>\n",
       "<style scoped>\n",
       "    .dataframe tbody tr th:only-of-type {\n",
       "        vertical-align: middle;\n",
       "    }\n",
       "\n",
       "    .dataframe tbody tr th {\n",
       "        vertical-align: top;\n",
       "    }\n",
       "\n",
       "    .dataframe thead th {\n",
       "        text-align: right;\n",
       "    }\n",
       "</style>\n",
       "<table border=\"1\" class=\"dataframe\">\n",
       "  <thead>\n",
       "    <tr style=\"text-align: right;\">\n",
       "      <th></th>\n",
       "      <th>user_id</th>\n",
       "      <th>sum</th>\n",
       "    </tr>\n",
       "  </thead>\n",
       "  <tbody>\n",
       "    <tr>\n",
       "      <th>0</th>\n",
       "      <td>1537</td>\n",
       "      <td>10.74169</td>\n",
       "    </tr>\n",
       "    <tr>\n",
       "      <th>1</th>\n",
       "      <td>3051</td>\n",
       "      <td>9.73121</td>\n",
       "    </tr>\n",
       "    <tr>\n",
       "      <th>2</th>\n",
       "      <td>1512</td>\n",
       "      <td>8.80816</td>\n",
       "    </tr>\n",
       "    <tr>\n",
       "      <th>3</th>\n",
       "      <td>1127</td>\n",
       "      <td>8.78861</td>\n",
       "    </tr>\n",
       "    <tr>\n",
       "      <th>4</th>\n",
       "      <td>4848</td>\n",
       "      <td>8.42445</td>\n",
       "    </tr>\n",
       "  </tbody>\n",
       "</table>\n",
       "</div>"
      ],
      "text/plain": [
       "   user_id       sum\n",
       "0     1537  10.74169\n",
       "1     3051   9.73121\n",
       "2     1512   8.80816\n",
       "3     1127   8.78861\n",
       "4     4848   8.42445"
      ]
     },
     "execution_count": 10,
     "metadata": {},
     "output_type": "execute_result"
    }
   ],
   "source": [
    "q = '''\n",
    "    SELECT\n",
    "        user_id as user_id,\n",
    "        SUM(payout) AS sum\n",
    "    FROM\n",
    "        payout\n",
    "    GROUP BY\n",
    "        user_id\n",
    "    ORDER BY\n",
    "        sum DESC\n",
    "    LIMIT 5;\n",
    "'''\n",
    "r2 = printTable(q)\n",
    "r2"
   ]
  },
  {
   "cell_type": "markdown",
   "id": "75e8f87f",
   "metadata": {},
   "source": [
    "#### 3. Show the 5 users with the lowest payouts ####"
   ]
  },
  {
   "cell_type": "markdown",
   "id": "ad8a9a6e",
   "metadata": {},
   "source": [
    "* Python"
   ]
  },
  {
   "cell_type": "code",
   "execution_count": 11,
   "id": "fa847738",
   "metadata": {},
   "outputs": [
    {
     "data": {
      "text/plain": [
       "user_id\n",
       "2003    0.00775\n",
       "3410    0.00818\n",
       "2813    0.02914\n",
       "2462    0.03381\n",
       "4467    0.05056\n",
       "Name: payout, dtype: float64"
      ]
     },
     "execution_count": 11,
     "metadata": {},
     "output_type": "execute_result"
    }
   ],
   "source": [
    "#Group the data by user_id \n",
    "top5_less_payout = data_payout.groupby('user_id')['payout'].agg(lambda s: s.sum()).sort_values()\n",
    "\n",
    "top5_less_payout.head(5)"
   ]
  },
  {
   "cell_type": "markdown",
   "id": "388dcbea",
   "metadata": {},
   "source": [
    "* SQL"
   ]
  },
  {
   "cell_type": "code",
   "execution_count": 12,
   "id": "7f0417d4",
   "metadata": {},
   "outputs": [
    {
     "data": {
      "text/html": [
       "<div>\n",
       "<style scoped>\n",
       "    .dataframe tbody tr th:only-of-type {\n",
       "        vertical-align: middle;\n",
       "    }\n",
       "\n",
       "    .dataframe tbody tr th {\n",
       "        vertical-align: top;\n",
       "    }\n",
       "\n",
       "    .dataframe thead th {\n",
       "        text-align: right;\n",
       "    }\n",
       "</style>\n",
       "<table border=\"1\" class=\"dataframe\">\n",
       "  <thead>\n",
       "    <tr style=\"text-align: right;\">\n",
       "      <th></th>\n",
       "      <th>user_id</th>\n",
       "      <th>sum</th>\n",
       "    </tr>\n",
       "  </thead>\n",
       "  <tbody>\n",
       "    <tr>\n",
       "      <th>0</th>\n",
       "      <td>2003</td>\n",
       "      <td>0.00775</td>\n",
       "    </tr>\n",
       "    <tr>\n",
       "      <th>1</th>\n",
       "      <td>3410</td>\n",
       "      <td>0.00818</td>\n",
       "    </tr>\n",
       "    <tr>\n",
       "      <th>2</th>\n",
       "      <td>2813</td>\n",
       "      <td>0.02914</td>\n",
       "    </tr>\n",
       "    <tr>\n",
       "      <th>3</th>\n",
       "      <td>2462</td>\n",
       "      <td>0.03381</td>\n",
       "    </tr>\n",
       "    <tr>\n",
       "      <th>4</th>\n",
       "      <td>4467</td>\n",
       "      <td>0.05056</td>\n",
       "    </tr>\n",
       "  </tbody>\n",
       "</table>\n",
       "</div>"
      ],
      "text/plain": [
       "   user_id      sum\n",
       "0     2003  0.00775\n",
       "1     3410  0.00818\n",
       "2     2813  0.02914\n",
       "3     2462  0.03381\n",
       "4     4467  0.05056"
      ]
     },
     "execution_count": 12,
     "metadata": {},
     "output_type": "execute_result"
    }
   ],
   "source": [
    "q = '''\n",
    "    SELECT\n",
    "        user_id as user_id,\n",
    "        SUM(payout) AS sum\n",
    "    FROM\n",
    "        payout\n",
    "    GROUP BY\n",
    "        user_id\n",
    "    ORDER BY\n",
    "        sum \n",
    "    LIMIT 5;\n",
    "'''\n",
    "r3 = printTable(q)\n",
    "r3"
   ]
  },
  {
   "cell_type": "markdown",
   "id": "1e292cd9",
   "metadata": {},
   "source": [
    "#### 4. How much ether was paid out in November 2020?"
   ]
  },
  {
   "cell_type": "markdown",
   "id": "0a3f44f8",
   "metadata": {},
   "source": [
    "* Python"
   ]
  },
  {
   "cell_type": "code",
   "execution_count": 13,
   "id": "8ef24e11",
   "metadata": {},
   "outputs": [
    {
     "data": {
      "text/plain": [
       "166.01180000000002"
      ]
     },
     "execution_count": 13,
     "metadata": {},
     "output_type": "execute_result"
    }
   ],
   "source": [
    "# locate rows from month 11 and sum()\n",
    "data_payout.loc[data_payout['date'].dt.month == 11,'payout'].sum()"
   ]
  },
  {
   "cell_type": "markdown",
   "id": "0d061939",
   "metadata": {},
   "source": [
    "* SQL"
   ]
  },
  {
   "cell_type": "code",
   "execution_count": 14,
   "id": "04917bdd",
   "metadata": {},
   "outputs": [
    {
     "data": {
      "text/html": [
       "<div>\n",
       "<style scoped>\n",
       "    .dataframe tbody tr th:only-of-type {\n",
       "        vertical-align: middle;\n",
       "    }\n",
       "\n",
       "    .dataframe tbody tr th {\n",
       "        vertical-align: top;\n",
       "    }\n",
       "\n",
       "    .dataframe thead th {\n",
       "        text-align: right;\n",
       "    }\n",
       "</style>\n",
       "<table border=\"1\" class=\"dataframe\">\n",
       "  <thead>\n",
       "    <tr style=\"text-align: right;\">\n",
       "      <th></th>\n",
       "      <th>sum</th>\n",
       "    </tr>\n",
       "  </thead>\n",
       "  <tbody>\n",
       "    <tr>\n",
       "      <th>0</th>\n",
       "      <td>166.0118</td>\n",
       "    </tr>\n",
       "  </tbody>\n",
       "</table>\n",
       "</div>"
      ],
      "text/plain": [
       "        sum\n",
       "0  166.0118"
      ]
     },
     "execution_count": 14,
     "metadata": {},
     "output_type": "execute_result"
    }
   ],
   "source": [
    "q = '''\n",
    "    SELECT\n",
    "        SUM(payout) AS sum\n",
    "    FROM\n",
    "        payout\n",
    "    WHERE\n",
    "        date BETWEEN '2020-11-01' AND '2020-11-30'\n",
    "'''\n",
    "r4 = printTable(q)\n",
    "r4"
   ]
  },
  {
   "cell_type": "markdown",
   "id": "9a832224",
   "metadata": {},
   "source": [
    "#### 5. Which plan is the most popular?"
   ]
  },
  {
   "cell_type": "markdown",
   "id": "d21ee7b0",
   "metadata": {},
   "source": [
    "* Python"
   ]
  },
  {
   "cell_type": "code",
   "execution_count": 15,
   "id": "67a8d068",
   "metadata": {},
   "outputs": [
    {
     "data": {
      "text/plain": [
       "Free       220\n",
       "Premium    213\n",
       "Name: Plan, dtype: int64"
      ]
     },
     "execution_count": 15,
     "metadata": {},
     "output_type": "execute_result"
    }
   ],
   "source": [
    "# count how many users have each plan\n",
    "data_plan.Plan.value_counts()"
   ]
  },
  {
   "cell_type": "markdown",
   "id": "c39c9d11",
   "metadata": {},
   "source": [
    "Free plan is the most popular."
   ]
  },
  {
   "cell_type": "markdown",
   "id": "230632e0",
   "metadata": {},
   "source": [
    "* SQL"
   ]
  },
  {
   "cell_type": "code",
   "execution_count": 16,
   "id": "9442ae89",
   "metadata": {
    "scrolled": true
   },
   "outputs": [
    {
     "data": {
      "text/html": [
       "<div>\n",
       "<style scoped>\n",
       "    .dataframe tbody tr th:only-of-type {\n",
       "        vertical-align: middle;\n",
       "    }\n",
       "\n",
       "    .dataframe tbody tr th {\n",
       "        vertical-align: top;\n",
       "    }\n",
       "\n",
       "    .dataframe thead th {\n",
       "        text-align: right;\n",
       "    }\n",
       "</style>\n",
       "<table border=\"1\" class=\"dataframe\">\n",
       "  <thead>\n",
       "    <tr style=\"text-align: right;\">\n",
       "      <th></th>\n",
       "      <th>plan</th>\n",
       "      <th>cnt</th>\n",
       "    </tr>\n",
       "  </thead>\n",
       "  <tbody>\n",
       "    <tr>\n",
       "      <th>0</th>\n",
       "      <td>Free</td>\n",
       "      <td>220</td>\n",
       "    </tr>\n",
       "    <tr>\n",
       "      <th>1</th>\n",
       "      <td>Premium</td>\n",
       "      <td>213</td>\n",
       "    </tr>\n",
       "  </tbody>\n",
       "</table>\n",
       "</div>"
      ],
      "text/plain": [
       "      plan  cnt\n",
       "0     Free  220\n",
       "1  Premium  213"
      ]
     },
     "execution_count": 16,
     "metadata": {},
     "output_type": "execute_result"
    }
   ],
   "source": [
    "q = '''\n",
    "    SELECT\n",
    "        \"Plan\" AS plan,\n",
    "        COUNT(\"Plan\") AS cnt\n",
    "    FROM\n",
    "        plan\n",
    "    GROUP BY\n",
    "        plan\n",
    "    ORDER BY\n",
    "        cnt DESC\n",
    "'''\n",
    "r5 = printTable(q)\n",
    "r5"
   ]
  },
  {
   "cell_type": "markdown",
   "id": "717d645d",
   "metadata": {},
   "source": [
    "Free plan is the most popular."
   ]
  },
  {
   "cell_type": "markdown",
   "id": "783a607b",
   "metadata": {},
   "source": [
    "#### 6. Which plan is the most popular amongst Linux users?"
   ]
  },
  {
   "cell_type": "markdown",
   "id": "19a8eb78",
   "metadata": {},
   "source": [
    "* Python"
   ]
  },
  {
   "cell_type": "code",
   "execution_count": 17,
   "id": "3975f1c2",
   "metadata": {},
   "outputs": [
    {
     "data": {
      "text/plain": [
       "Premium    76\n",
       "Free       68\n",
       "Name: Plan, dtype: int64"
      ]
     },
     "execution_count": 17,
     "metadata": {},
     "output_type": "execute_result"
    }
   ],
   "source": [
    "# select Linux users and count how many users have each plan \n",
    "data_plan.query('OS == \"Linux\"').Plan.value_counts()"
   ]
  },
  {
   "cell_type": "markdown",
   "id": "5d79e9a4",
   "metadata": {},
   "source": [
    "The Premium plan is the most popular amongst Linux users"
   ]
  },
  {
   "cell_type": "markdown",
   "id": "b14a56fd",
   "metadata": {},
   "source": [
    "* SQL"
   ]
  },
  {
   "cell_type": "code",
   "execution_count": 27,
   "id": "9f782836",
   "metadata": {},
   "outputs": [
    {
     "data": {
      "text/html": [
       "<div>\n",
       "<style scoped>\n",
       "    .dataframe tbody tr th:only-of-type {\n",
       "        vertical-align: middle;\n",
       "    }\n",
       "\n",
       "    .dataframe tbody tr th {\n",
       "        vertical-align: top;\n",
       "    }\n",
       "\n",
       "    .dataframe thead th {\n",
       "        text-align: right;\n",
       "    }\n",
       "</style>\n",
       "<table border=\"1\" class=\"dataframe\">\n",
       "  <thead>\n",
       "    <tr style=\"text-align: right;\">\n",
       "      <th></th>\n",
       "      <th>plan</th>\n",
       "      <th>cnt</th>\n",
       "    </tr>\n",
       "  </thead>\n",
       "  <tbody>\n",
       "    <tr>\n",
       "      <th>0</th>\n",
       "      <td>Premium</td>\n",
       "      <td>76</td>\n",
       "    </tr>\n",
       "    <tr>\n",
       "      <th>1</th>\n",
       "      <td>Free</td>\n",
       "      <td>68</td>\n",
       "    </tr>\n",
       "  </tbody>\n",
       "</table>\n",
       "</div>"
      ],
      "text/plain": [
       "      plan  cnt\n",
       "0  Premium   76\n",
       "1     Free   68"
      ]
     },
     "execution_count": 27,
     "metadata": {},
     "output_type": "execute_result"
    }
   ],
   "source": [
    "q = '''\n",
    "    SELECT\n",
    "        \"Plan\" AS plan,\n",
    "        COUNT(\"Plan\") AS cnt\n",
    "    FROM\n",
    "        plan\n",
    "    WHERE\n",
    "        \"OS\" = 'Linux'\n",
    "    GROUP BY\n",
    "        plan\n",
    "    ORDER BY\n",
    "        cnt DESC\n",
    "'''\n",
    "r6 = printTable(q)\n",
    "r6"
   ]
  },
  {
   "cell_type": "markdown",
   "id": "64b2476f",
   "metadata": {},
   "source": [
    "The Premium plan is the most popular amongst Linux users"
   ]
  },
  {
   "cell_type": "markdown",
   "id": "d053390e",
   "metadata": {},
   "source": [
    "#### 7. What is the percentage of payout between the different plans?"
   ]
  },
  {
   "cell_type": "markdown",
   "id": "9c854bb8",
   "metadata": {},
   "source": [
    "* Python"
   ]
  },
  {
   "cell_type": "code",
   "execution_count": 20,
   "id": "23a0a647",
   "metadata": {},
   "outputs": [
    {
     "data": {
      "text/html": [
       "<div>\n",
       "<style scoped>\n",
       "    .dataframe tbody tr th:only-of-type {\n",
       "        vertical-align: middle;\n",
       "    }\n",
       "\n",
       "    .dataframe tbody tr th {\n",
       "        vertical-align: top;\n",
       "    }\n",
       "\n",
       "    .dataframe thead th {\n",
       "        text-align: right;\n",
       "    }\n",
       "</style>\n",
       "<table border=\"1\" class=\"dataframe\">\n",
       "  <thead>\n",
       "    <tr style=\"text-align: right;\">\n",
       "      <th></th>\n",
       "      <th>user_id</th>\n",
       "      <th>eth_address</th>\n",
       "      <th>date</th>\n",
       "      <th>payout</th>\n",
       "      <th>OS</th>\n",
       "      <th>Plan</th>\n",
       "    </tr>\n",
       "  </thead>\n",
       "  <tbody>\n",
       "    <tr>\n",
       "      <th>0</th>\n",
       "      <td>1005</td>\n",
       "      <td>0x4f9117b14426ac44ead4eaef0223830cb16bdb07</td>\n",
       "      <td>2020-07-27</td>\n",
       "      <td>1.68113</td>\n",
       "      <td>Windows</td>\n",
       "      <td>Free</td>\n",
       "    </tr>\n",
       "    <tr>\n",
       "      <th>1</th>\n",
       "      <td>1005</td>\n",
       "      <td>0xccbe3f17a61f0e8ef05b04dc0c3f510522df6cc8</td>\n",
       "      <td>2020-09-04</td>\n",
       "      <td>2.27831</td>\n",
       "      <td>Windows</td>\n",
       "      <td>Free</td>\n",
       "    </tr>\n",
       "    <tr>\n",
       "      <th>2</th>\n",
       "      <td>1020</td>\n",
       "      <td>0x2e22950c26899fd0dc0c593b147f6beb7f1c0c37</td>\n",
       "      <td>2020-11-11</td>\n",
       "      <td>0.25199</td>\n",
       "      <td>MAC</td>\n",
       "      <td>Free</td>\n",
       "    </tr>\n",
       "    <tr>\n",
       "      <th>3</th>\n",
       "      <td>1020</td>\n",
       "      <td>0x2081974d67307ec737dd13c60b524ca4d644ec1d</td>\n",
       "      <td>2020-09-30</td>\n",
       "      <td>2.21076</td>\n",
       "      <td>MAC</td>\n",
       "      <td>Free</td>\n",
       "    </tr>\n",
       "    <tr>\n",
       "      <th>4</th>\n",
       "      <td>1021</td>\n",
       "      <td>0x370ff36440a36825279db341c6b85bc0371e7c3f</td>\n",
       "      <td>2020-12-10</td>\n",
       "      <td>1.47999</td>\n",
       "      <td>Linux</td>\n",
       "      <td>Premium</td>\n",
       "    </tr>\n",
       "  </tbody>\n",
       "</table>\n",
       "</div>"
      ],
      "text/plain": [
       "   user_id                                 eth_address       date   payout  \\\n",
       "0     1005  0x4f9117b14426ac44ead4eaef0223830cb16bdb07 2020-07-27  1.68113   \n",
       "1     1005  0xccbe3f17a61f0e8ef05b04dc0c3f510522df6cc8 2020-09-04  2.27831   \n",
       "2     1020  0x2e22950c26899fd0dc0c593b147f6beb7f1c0c37 2020-11-11  0.25199   \n",
       "3     1020  0x2081974d67307ec737dd13c60b524ca4d644ec1d 2020-09-30  2.21076   \n",
       "4     1021  0x370ff36440a36825279db341c6b85bc0371e7c3f 2020-12-10  1.47999   \n",
       "\n",
       "        OS     Plan  \n",
       "0  Windows     Free  \n",
       "1  Windows     Free  \n",
       "2      MAC     Free  \n",
       "3      MAC     Free  \n",
       "4    Linux  Premium  "
      ]
     },
     "execution_count": 20,
     "metadata": {},
     "output_type": "execute_result"
    }
   ],
   "source": [
    "# merging the tables with the merge() method\n",
    "data_union = data_payout.merge(data_plan, on=['user_id'])\n",
    "data_union.head()"
   ]
  },
  {
   "cell_type": "code",
   "execution_count": 21,
   "id": "d0684001",
   "metadata": {
    "scrolled": false
   },
   "outputs": [
    {
     "data": {
      "text/html": [
       "<div>\n",
       "<style scoped>\n",
       "    .dataframe tbody tr th:only-of-type {\n",
       "        vertical-align: middle;\n",
       "    }\n",
       "\n",
       "    .dataframe tbody tr th {\n",
       "        vertical-align: top;\n",
       "    }\n",
       "\n",
       "    .dataframe thead th {\n",
       "        text-align: right;\n",
       "    }\n",
       "</style>\n",
       "<table border=\"1\" class=\"dataframe\">\n",
       "  <thead>\n",
       "    <tr style=\"text-align: right;\">\n",
       "      <th></th>\n",
       "      <th>Plan</th>\n",
       "      <th>payout</th>\n",
       "    </tr>\n",
       "  </thead>\n",
       "  <tbody>\n",
       "    <tr>\n",
       "      <th>0</th>\n",
       "      <td>Free</td>\n",
       "      <td>488.68999</td>\n",
       "    </tr>\n",
       "    <tr>\n",
       "      <th>1</th>\n",
       "      <td>Premium</td>\n",
       "      <td>416.76178</td>\n",
       "    </tr>\n",
       "  </tbody>\n",
       "</table>\n",
       "</div>"
      ],
      "text/plain": [
       "      Plan     payout\n",
       "0     Free  488.68999\n",
       "1  Premium  416.76178"
      ]
     },
     "execution_count": 21,
     "metadata": {},
     "output_type": "execute_result"
    }
   ],
   "source": [
    "# create totals for plans\n",
    "total_payout = data_union.pivot_table(index='Plan', values='payout',aggfunc='sum')\n",
    "#Resent index\n",
    "total_payout = total_payout.reset_index(level=0)\n",
    "total_payout"
   ]
  },
  {
   "cell_type": "markdown",
   "id": "3cdb4c94",
   "metadata": {},
   "source": [
    "Let's check if we have missing values after all this merging, if we have we will need to take care of them."
   ]
  },
  {
   "cell_type": "code",
   "execution_count": 22,
   "id": "a40618b9",
   "metadata": {},
   "outputs": [
    {
     "data": {
      "text/plain": [
       "Plan      0\n",
       "payout    0\n",
       "dtype: int64"
      ]
     },
     "execution_count": 22,
     "metadata": {},
     "output_type": "execute_result"
    }
   ],
   "source": [
    "total_payout.isnull().sum()"
   ]
  },
  {
   "cell_type": "markdown",
   "id": "efa41491",
   "metadata": {},
   "source": [
    "No missing values, we can continue with our calculations."
   ]
  },
  {
   "cell_type": "code",
   "execution_count": 25,
   "id": "2f847964",
   "metadata": {},
   "outputs": [
    {
     "data": {
      "text/html": [
       "<div>\n",
       "<style scoped>\n",
       "    .dataframe tbody tr th:only-of-type {\n",
       "        vertical-align: middle;\n",
       "    }\n",
       "\n",
       "    .dataframe tbody tr th {\n",
       "        vertical-align: top;\n",
       "    }\n",
       "\n",
       "    .dataframe thead th {\n",
       "        text-align: right;\n",
       "    }\n",
       "</style>\n",
       "<table border=\"1\" class=\"dataframe\">\n",
       "  <thead>\n",
       "    <tr style=\"text-align: right;\">\n",
       "      <th></th>\n",
       "      <th>Plan</th>\n",
       "      <th>payout</th>\n",
       "      <th>percent</th>\n",
       "    </tr>\n",
       "  </thead>\n",
       "  <tbody>\n",
       "    <tr>\n",
       "      <th>0</th>\n",
       "      <td>Free</td>\n",
       "      <td>488.68999</td>\n",
       "      <td>17.990650</td>\n",
       "    </tr>\n",
       "    <tr>\n",
       "      <th>1</th>\n",
       "      <td>Premium</td>\n",
       "      <td>416.76178</td>\n",
       "      <td>15.342683</td>\n",
       "    </tr>\n",
       "    <tr>\n",
       "      <th>total</th>\n",
       "      <td></td>\n",
       "      <td>2716.35531</td>\n",
       "      <td>100.000000</td>\n",
       "    </tr>\n",
       "  </tbody>\n",
       "</table>\n",
       "</div>"
      ],
      "text/plain": [
       "          Plan      payout     percent\n",
       "0         Free   488.68999   17.990650\n",
       "1      Premium   416.76178   15.342683\n",
       "total           2716.35531  100.000000"
      ]
     },
     "execution_count": 25,
     "metadata": {},
     "output_type": "execute_result"
    }
   ],
   "source": [
    "#adding a new row for the total payout of the two plans toguether\n",
    "total_payout.loc['total'] = total_payout[['payout']].sum()\n",
    "#removing missing values - we dont want Nan in the plan column with the total row\n",
    "total_payout.loc['total'] = total_payout.loc['total'].fillna('') \n",
    "#adding a new row for precents and calculating the percents\n",
    "total_payout['percent'] = total_payout.payout / total_payout.loc['total','payout'] * 100\n",
    "total_payout.head()"
   ]
  },
  {
   "cell_type": "markdown",
   "id": "03c4f7b7",
   "metadata": {},
   "source": [
    "* SQL"
   ]
  },
  {
   "cell_type": "code",
   "execution_count": 29,
   "id": "de51a08f",
   "metadata": {},
   "outputs": [
    {
     "data": {
      "text/html": [
       "<div>\n",
       "<style scoped>\n",
       "    .dataframe tbody tr th:only-of-type {\n",
       "        vertical-align: middle;\n",
       "    }\n",
       "\n",
       "    .dataframe tbody tr th {\n",
       "        vertical-align: top;\n",
       "    }\n",
       "\n",
       "    .dataframe thead th {\n",
       "        text-align: right;\n",
       "    }\n",
       "</style>\n",
       "<table border=\"1\" class=\"dataframe\">\n",
       "  <thead>\n",
       "    <tr style=\"text-align: right;\">\n",
       "      <th></th>\n",
       "      <th>plan</th>\n",
       "      <th>precent_pay</th>\n",
       "    </tr>\n",
       "  </thead>\n",
       "  <tbody>\n",
       "    <tr>\n",
       "      <th>0</th>\n",
       "      <td>Free</td>\n",
       "      <td>53.971951</td>\n",
       "    </tr>\n",
       "    <tr>\n",
       "      <th>1</th>\n",
       "      <td>Premium</td>\n",
       "      <td>46.028049</td>\n",
       "    </tr>\n",
       "  </tbody>\n",
       "</table>\n",
       "</div>"
      ],
      "text/plain": [
       "      plan  precent_pay\n",
       "0     Free    53.971951\n",
       "1  Premium    46.028049"
      ]
     },
     "execution_count": 29,
     "metadata": {},
     "output_type": "execute_result"
    }
   ],
   "source": [
    "q = '''\n",
    "    SELECT\n",
    "        plan.\"Plan\" AS plan,\n",
    "        SUM(payout.payout) / SUM(SUM(payout.payout)) OVER () * 100 AS precent_pay\n",
    "    FROM\n",
    "        payout\n",
    "        LEFT JOIN plan ON plan.user_id = payout.user_id\n",
    "    GROUP BY\n",
    "        plan.\"Plan\"\n",
    "        \n",
    "'''\n",
    "r7 = printTable(q)\n",
    "r7"
   ]
  },
  {
   "cell_type": "markdown",
   "id": "42fbd703",
   "metadata": {},
   "source": [
    "#### 8. Users of which operating system earned more in payouts?"
   ]
  },
  {
   "cell_type": "markdown",
   "id": "7c8c91a7",
   "metadata": {},
   "source": [
    "* Python"
   ]
  },
  {
   "cell_type": "markdown",
   "id": "6201b61e",
   "metadata": {},
   "source": [
    "Using the data_union table : the merge of the two originals tables"
   ]
  },
  {
   "cell_type": "code",
   "execution_count": 33,
   "id": "a40187e6",
   "metadata": {},
   "outputs": [
    {
     "data": {
      "text/html": [
       "<div>\n",
       "<style scoped>\n",
       "    .dataframe tbody tr th:only-of-type {\n",
       "        vertical-align: middle;\n",
       "    }\n",
       "\n",
       "    .dataframe tbody tr th {\n",
       "        vertical-align: top;\n",
       "    }\n",
       "\n",
       "    .dataframe thead th {\n",
       "        text-align: right;\n",
       "    }\n",
       "</style>\n",
       "<table border=\"1\" class=\"dataframe\">\n",
       "  <thead>\n",
       "    <tr style=\"text-align: right;\">\n",
       "      <th></th>\n",
       "      <th>OS</th>\n",
       "      <th>payout</th>\n",
       "    </tr>\n",
       "  </thead>\n",
       "  <tbody>\n",
       "    <tr>\n",
       "      <th>0</th>\n",
       "      <td>Linux</td>\n",
       "      <td>322.00353</td>\n",
       "    </tr>\n",
       "    <tr>\n",
       "      <th>1</th>\n",
       "      <td>MAC</td>\n",
       "      <td>267.41123</td>\n",
       "    </tr>\n",
       "    <tr>\n",
       "      <th>2</th>\n",
       "      <td>Windows</td>\n",
       "      <td>316.03701</td>\n",
       "    </tr>\n",
       "  </tbody>\n",
       "</table>\n",
       "</div>"
      ],
      "text/plain": [
       "        OS     payout\n",
       "0    Linux  322.00353\n",
       "1      MAC  267.41123\n",
       "2  Windows  316.03701"
      ]
     },
     "execution_count": 33,
     "metadata": {},
     "output_type": "execute_result"
    }
   ],
   "source": [
    "#Creating total payout by operating system\n",
    "total_os = data_union.pivot_table(index='OS', values='payout',aggfunc='sum')\n",
    "#Resent index\n",
    "total_os = total_os.reset_index(level=0)\n",
    "total_os"
   ]
  },
  {
   "cell_type": "markdown",
   "id": "7a8631cb",
   "metadata": {},
   "source": [
    "The users of the Linux operating system earned more in payouts."
   ]
  },
  {
   "cell_type": "markdown",
   "id": "c25fd461",
   "metadata": {},
   "source": [
    "* SQL"
   ]
  },
  {
   "cell_type": "code",
   "execution_count": 48,
   "id": "b4e99c93",
   "metadata": {},
   "outputs": [
    {
     "data": {
      "text/html": [
       "<div>\n",
       "<style scoped>\n",
       "    .dataframe tbody tr th:only-of-type {\n",
       "        vertical-align: middle;\n",
       "    }\n",
       "\n",
       "    .dataframe tbody tr th {\n",
       "        vertical-align: top;\n",
       "    }\n",
       "\n",
       "    .dataframe thead th {\n",
       "        text-align: right;\n",
       "    }\n",
       "</style>\n",
       "<table border=\"1\" class=\"dataframe\">\n",
       "  <thead>\n",
       "    <tr style=\"text-align: right;\">\n",
       "      <th></th>\n",
       "      <th>os</th>\n",
       "      <th>total</th>\n",
       "    </tr>\n",
       "  </thead>\n",
       "  <tbody>\n",
       "    <tr>\n",
       "      <th>0</th>\n",
       "      <td>Linux</td>\n",
       "      <td>322.00353</td>\n",
       "    </tr>\n",
       "    <tr>\n",
       "      <th>1</th>\n",
       "      <td>Windows</td>\n",
       "      <td>316.03701</td>\n",
       "    </tr>\n",
       "    <tr>\n",
       "      <th>2</th>\n",
       "      <td>MAC</td>\n",
       "      <td>267.41123</td>\n",
       "    </tr>\n",
       "  </tbody>\n",
       "</table>\n",
       "</div>"
      ],
      "text/plain": [
       "        os      total\n",
       "0    Linux  322.00353\n",
       "1  Windows  316.03701\n",
       "2      MAC  267.41123"
      ]
     },
     "execution_count": 48,
     "metadata": {},
     "output_type": "execute_result"
    }
   ],
   "source": [
    "q = '''\n",
    "    SELECT\n",
    "        plan.\"OS\" AS OS,\n",
    "        SUM(payout.payout) as total\n",
    "    FROM\n",
    "        payout\n",
    "        LEFT JOIN plan ON plan.user_id = payout.user_id\n",
    "    GROUP BY\n",
    "        plan.\"OS\"\n",
    "    ORDER BY\n",
    "        total DESC;\n",
    "        \n",
    "'''\n",
    "r8 = printTable(q)\n",
    "r8"
   ]
  },
  {
   "cell_type": "markdown",
   "id": "9eb62310",
   "metadata": {},
   "source": [
    "The users of the Linux operating system earned more in payouts."
   ]
  },
  {
   "cell_type": "markdown",
   "id": "9ef7c2c7",
   "metadata": {},
   "source": [
    "#### 9. What is the average payout amount per user for each of the OS in July 2020?"
   ]
  },
  {
   "cell_type": "markdown",
   "id": "d413bfa7",
   "metadata": {},
   "source": [
    "* Python"
   ]
  },
  {
   "cell_type": "markdown",
   "id": "1fee7e41",
   "metadata": {},
   "source": [
    "Using the data_union table : the merge of the two originals tables"
   ]
  },
  {
   "cell_type": "code",
   "execution_count": 42,
   "id": "0602035e",
   "metadata": {},
   "outputs": [
    {
     "data": {
      "text/html": [
       "<div>\n",
       "<style scoped>\n",
       "    .dataframe tbody tr th:only-of-type {\n",
       "        vertical-align: middle;\n",
       "    }\n",
       "\n",
       "    .dataframe tbody tr th {\n",
       "        vertical-align: top;\n",
       "    }\n",
       "\n",
       "    .dataframe thead th {\n",
       "        text-align: right;\n",
       "    }\n",
       "</style>\n",
       "<table border=\"1\" class=\"dataframe\">\n",
       "  <thead>\n",
       "    <tr style=\"text-align: right;\">\n",
       "      <th></th>\n",
       "      <th>user_id</th>\n",
       "      <th>eth_address</th>\n",
       "      <th>date</th>\n",
       "      <th>payout</th>\n",
       "      <th>OS</th>\n",
       "      <th>Plan</th>\n",
       "    </tr>\n",
       "  </thead>\n",
       "  <tbody>\n",
       "    <tr>\n",
       "      <th>0</th>\n",
       "      <td>1005</td>\n",
       "      <td>0x4f9117b14426ac44ead4eaef0223830cb16bdb07</td>\n",
       "      <td>2020-07-27</td>\n",
       "      <td>1.68113</td>\n",
       "      <td>Windows</td>\n",
       "      <td>Free</td>\n",
       "    </tr>\n",
       "    <tr>\n",
       "      <th>5</th>\n",
       "      <td>1021</td>\n",
       "      <td>0x4371ac68001b311c44f8839e7fc73588f2a5191d</td>\n",
       "      <td>2020-07-19</td>\n",
       "      <td>2.94432</td>\n",
       "      <td>Linux</td>\n",
       "      <td>Premium</td>\n",
       "    </tr>\n",
       "    <tr>\n",
       "      <th>15</th>\n",
       "      <td>1089</td>\n",
       "      <td>0xd78cc55ad71a8bf693c2c9642562266529f9f3cd</td>\n",
       "      <td>2020-07-25</td>\n",
       "      <td>1.14186</td>\n",
       "      <td>Windows</td>\n",
       "      <td>Free</td>\n",
       "    </tr>\n",
       "    <tr>\n",
       "      <th>26</th>\n",
       "      <td>1172</td>\n",
       "      <td>0xa30353f9358934fc39f77655c53478faa0bcfbd6</td>\n",
       "      <td>2020-07-22</td>\n",
       "      <td>1.29065</td>\n",
       "      <td>Linux</td>\n",
       "      <td>Premium</td>\n",
       "    </tr>\n",
       "    <tr>\n",
       "      <th>27</th>\n",
       "      <td>1175</td>\n",
       "      <td>0x0d9f143c6dd42b000bd34dfa9eccc0d35a0512d2</td>\n",
       "      <td>2020-07-20</td>\n",
       "      <td>0.26432</td>\n",
       "      <td>Linux</td>\n",
       "      <td>Free</td>\n",
       "    </tr>\n",
       "  </tbody>\n",
       "</table>\n",
       "</div>"
      ],
      "text/plain": [
       "    user_id                                 eth_address       date   payout  \\\n",
       "0      1005  0x4f9117b14426ac44ead4eaef0223830cb16bdb07 2020-07-27  1.68113   \n",
       "5      1021  0x4371ac68001b311c44f8839e7fc73588f2a5191d 2020-07-19  2.94432   \n",
       "15     1089  0xd78cc55ad71a8bf693c2c9642562266529f9f3cd 2020-07-25  1.14186   \n",
       "26     1172  0xa30353f9358934fc39f77655c53478faa0bcfbd6 2020-07-22  1.29065   \n",
       "27     1175  0x0d9f143c6dd42b000bd34dfa9eccc0d35a0512d2 2020-07-20  0.26432   \n",
       "\n",
       "         OS     Plan  \n",
       "0   Windows     Free  \n",
       "5     Linux  Premium  \n",
       "15  Windows     Free  \n",
       "26    Linux  Premium  \n",
       "27    Linux     Free  "
      ]
     },
     "execution_count": 42,
     "metadata": {},
     "output_type": "execute_result"
    }
   ],
   "source": [
    "#Making a new table : all the rows with month 11 in the date column \n",
    "month_filter = data_union.loc[(data_union['date'].dt.month == 7)]\n",
    "month_filter.head()"
   ]
  },
  {
   "cell_type": "code",
   "execution_count": 47,
   "id": "7cace82c",
   "metadata": {},
   "outputs": [
    {
     "data": {
      "text/html": [
       "<div>\n",
       "<style scoped>\n",
       "    .dataframe tbody tr th:only-of-type {\n",
       "        vertical-align: middle;\n",
       "    }\n",
       "\n",
       "    .dataframe tbody tr th {\n",
       "        vertical-align: top;\n",
       "    }\n",
       "\n",
       "    .dataframe thead th {\n",
       "        text-align: right;\n",
       "    }\n",
       "</style>\n",
       "<table border=\"1\" class=\"dataframe\">\n",
       "  <thead>\n",
       "    <tr style=\"text-align: right;\">\n",
       "      <th></th>\n",
       "      <th>OS</th>\n",
       "      <th>payout</th>\n",
       "    </tr>\n",
       "  </thead>\n",
       "  <tbody>\n",
       "    <tr>\n",
       "      <th>0</th>\n",
       "      <td>Linux</td>\n",
       "      <td>1.931114</td>\n",
       "    </tr>\n",
       "    <tr>\n",
       "      <th>1</th>\n",
       "      <td>MAC</td>\n",
       "      <td>1.640537</td>\n",
       "    </tr>\n",
       "    <tr>\n",
       "      <th>2</th>\n",
       "      <td>Windows</td>\n",
       "      <td>1.590600</td>\n",
       "    </tr>\n",
       "  </tbody>\n",
       "</table>\n",
       "</div>"
      ],
      "text/plain": [
       "        OS    payout\n",
       "0    Linux  1.931114\n",
       "1      MAC  1.640537\n",
       "2  Windows  1.590600"
      ]
     },
     "execution_count": 47,
     "metadata": {},
     "output_type": "execute_result"
    }
   ],
   "source": [
    "#Making a pivot table, grouping the OS and calculating the payout average for each\n",
    "res_9 = month_filter.pivot_table(index=['OS'],values='payout', aggfunc='mean')\n",
    "#Resent index\n",
    "res_9 = res_9.reset_index(level=0)\n",
    "res_9.head()"
   ]
  },
  {
   "cell_type": "markdown",
   "id": "dec596bd",
   "metadata": {},
   "source": [
    "* SQL"
   ]
  },
  {
   "cell_type": "code",
   "execution_count": 50,
   "id": "8b0adfbd",
   "metadata": {},
   "outputs": [
    {
     "data": {
      "text/html": [
       "<div>\n",
       "<style scoped>\n",
       "    .dataframe tbody tr th:only-of-type {\n",
       "        vertical-align: middle;\n",
       "    }\n",
       "\n",
       "    .dataframe tbody tr th {\n",
       "        vertical-align: top;\n",
       "    }\n",
       "\n",
       "    .dataframe thead th {\n",
       "        text-align: right;\n",
       "    }\n",
       "</style>\n",
       "<table border=\"1\" class=\"dataframe\">\n",
       "  <thead>\n",
       "    <tr style=\"text-align: right;\">\n",
       "      <th></th>\n",
       "      <th>os</th>\n",
       "      <th>average</th>\n",
       "    </tr>\n",
       "  </thead>\n",
       "  <tbody>\n",
       "    <tr>\n",
       "      <th>0</th>\n",
       "      <td>Linux</td>\n",
       "      <td>1.931114</td>\n",
       "    </tr>\n",
       "    <tr>\n",
       "      <th>1</th>\n",
       "      <td>MAC</td>\n",
       "      <td>1.640537</td>\n",
       "    </tr>\n",
       "    <tr>\n",
       "      <th>2</th>\n",
       "      <td>Windows</td>\n",
       "      <td>1.590600</td>\n",
       "    </tr>\n",
       "  </tbody>\n",
       "</table>\n",
       "</div>"
      ],
      "text/plain": [
       "        os   average\n",
       "0    Linux  1.931114\n",
       "1      MAC  1.640537\n",
       "2  Windows  1.590600"
      ]
     },
     "execution_count": 50,
     "metadata": {},
     "output_type": "execute_result"
    }
   ],
   "source": [
    "q = '''\n",
    "    SELECT\n",
    "        plan.\"OS\" AS OS,\n",
    "        AVG(payout.payout) as average\n",
    "    FROM\n",
    "        payout\n",
    "        LEFT JOIN plan ON plan.user_id = payout.user_id\n",
    "    WHERE\n",
    "        date BETWEEN '2020-07-01' AND '2020-07-31'   \n",
    "    GROUP BY\n",
    "        plan.\"OS\"\n",
    "    ORDER BY\n",
    "        average DESC;\n",
    "        \n",
    "'''\n",
    "r9 = printTable(q)\n",
    "r9"
   ]
  },
  {
   "cell_type": "markdown",
   "id": "19faeded",
   "metadata": {},
   "source": [
    "#### 10. What is the daily share of ether earned by users from Linux that are in the free plan in this data?"
   ]
  },
  {
   "cell_type": "markdown",
   "id": "44cf738f",
   "metadata": {},
   "source": [
    "* Python"
   ]
  },
  {
   "cell_type": "markdown",
   "id": "239eb7c6",
   "metadata": {},
   "source": [
    "Using the data_union table : the merge of the two originals tables"
   ]
  },
  {
   "cell_type": "code",
   "execution_count": 57,
   "id": "d3836973",
   "metadata": {},
   "outputs": [
    {
     "data": {
      "text/html": [
       "<div>\n",
       "<style scoped>\n",
       "    .dataframe tbody tr th:only-of-type {\n",
       "        vertical-align: middle;\n",
       "    }\n",
       "\n",
       "    .dataframe tbody tr th {\n",
       "        vertical-align: top;\n",
       "    }\n",
       "\n",
       "    .dataframe thead th {\n",
       "        text-align: right;\n",
       "    }\n",
       "</style>\n",
       "<table border=\"1\" class=\"dataframe\">\n",
       "  <thead>\n",
       "    <tr style=\"text-align: right;\">\n",
       "      <th></th>\n",
       "      <th>user_id</th>\n",
       "      <th>eth_address</th>\n",
       "      <th>date</th>\n",
       "      <th>payout</th>\n",
       "      <th>OS</th>\n",
       "      <th>Plan</th>\n",
       "    </tr>\n",
       "  </thead>\n",
       "  <tbody>\n",
       "    <tr>\n",
       "      <th>6</th>\n",
       "      <td>1041</td>\n",
       "      <td>0xb66c964af2c2f242d1cdc3a45cb6382270e37689</td>\n",
       "      <td>2020-11-13</td>\n",
       "      <td>2.52993</td>\n",
       "      <td>Linux</td>\n",
       "      <td>Free</td>\n",
       "    </tr>\n",
       "    <tr>\n",
       "      <th>7</th>\n",
       "      <td>1041</td>\n",
       "      <td>0x410afec0e85f58b040c93bc0cb7c18e3222003e3</td>\n",
       "      <td>2020-08-06</td>\n",
       "      <td>0.93378</td>\n",
       "      <td>Linux</td>\n",
       "      <td>Free</td>\n",
       "    </tr>\n",
       "    <tr>\n",
       "      <th>11</th>\n",
       "      <td>1068</td>\n",
       "      <td>0x9b607aea15cf1614b31f65294aa561eab0cfd4e7</td>\n",
       "      <td>2020-08-01</td>\n",
       "      <td>2.50380</td>\n",
       "      <td>Linux</td>\n",
       "      <td>Free</td>\n",
       "    </tr>\n",
       "    <tr>\n",
       "      <th>12</th>\n",
       "      <td>1068</td>\n",
       "      <td>0x6d02bcb01c3f968a7c8b63a16d90f15a01265311</td>\n",
       "      <td>2020-10-07</td>\n",
       "      <td>1.50503</td>\n",
       "      <td>Linux</td>\n",
       "      <td>Free</td>\n",
       "    </tr>\n",
       "    <tr>\n",
       "      <th>13</th>\n",
       "      <td>1088</td>\n",
       "      <td>0x50fcc1329c331d41f63a074f90b33cb14726f7bf</td>\n",
       "      <td>2020-10-07</td>\n",
       "      <td>2.75562</td>\n",
       "      <td>Linux</td>\n",
       "      <td>Free</td>\n",
       "    </tr>\n",
       "  </tbody>\n",
       "</table>\n",
       "</div>"
      ],
      "text/plain": [
       "    user_id                                 eth_address       date   payout  \\\n",
       "6      1041  0xb66c964af2c2f242d1cdc3a45cb6382270e37689 2020-11-13  2.52993   \n",
       "7      1041  0x410afec0e85f58b040c93bc0cb7c18e3222003e3 2020-08-06  0.93378   \n",
       "11     1068  0x9b607aea15cf1614b31f65294aa561eab0cfd4e7 2020-08-01  2.50380   \n",
       "12     1068  0x6d02bcb01c3f968a7c8b63a16d90f15a01265311 2020-10-07  1.50503   \n",
       "13     1088  0x50fcc1329c331d41f63a074f90b33cb14726f7bf 2020-10-07  2.75562   \n",
       "\n",
       "       OS  Plan  \n",
       "6   Linux  Free  \n",
       "7   Linux  Free  \n",
       "11  Linux  Free  \n",
       "12  Linux  Free  \n",
       "13  Linux  Free  "
      ]
     },
     "execution_count": 57,
     "metadata": {},
     "output_type": "execute_result"
    }
   ],
   "source": [
    "#Making a new table :  Linux users and free plan users \n",
    "filter_table_r10 = data_union.query('OS == \"Linux\" and Plan == \"Free\"')\n",
    "filter_table_r10.head()"
   ]
  },
  {
   "cell_type": "code",
   "execution_count": 101,
   "id": "4ba03b82",
   "metadata": {
    "scrolled": true
   },
   "outputs": [
    {
     "data": {
      "text/html": [
       "<div>\n",
       "<style scoped>\n",
       "    .dataframe tbody tr th:only-of-type {\n",
       "        vertical-align: middle;\n",
       "    }\n",
       "\n",
       "    .dataframe tbody tr th {\n",
       "        vertical-align: top;\n",
       "    }\n",
       "\n",
       "    .dataframe thead th {\n",
       "        text-align: right;\n",
       "    }\n",
       "</style>\n",
       "<table border=\"1\" class=\"dataframe\">\n",
       "  <thead>\n",
       "    <tr style=\"text-align: right;\">\n",
       "      <th></th>\n",
       "      <th>date</th>\n",
       "      <th>payout</th>\n",
       "    </tr>\n",
       "  </thead>\n",
       "  <tbody>\n",
       "    <tr>\n",
       "      <th>0</th>\n",
       "      <td>2020-12-28</td>\n",
       "      <td>3.153180</td>\n",
       "    </tr>\n",
       "    <tr>\n",
       "      <th>1</th>\n",
       "      <td>2020-07-13</td>\n",
       "      <td>3.137630</td>\n",
       "    </tr>\n",
       "    <tr>\n",
       "      <th>2</th>\n",
       "      <td>2020-07-27</td>\n",
       "      <td>2.986270</td>\n",
       "    </tr>\n",
       "    <tr>\n",
       "      <th>3</th>\n",
       "      <td>2020-09-12</td>\n",
       "      <td>2.949820</td>\n",
       "    </tr>\n",
       "    <tr>\n",
       "      <th>4</th>\n",
       "      <td>2020-09-04</td>\n",
       "      <td>2.850285</td>\n",
       "    </tr>\n",
       "    <tr>\n",
       "      <th>...</th>\n",
       "      <td>...</td>\n",
       "      <td>...</td>\n",
       "    </tr>\n",
       "    <tr>\n",
       "      <th>73</th>\n",
       "      <td>2021-01-02</td>\n",
       "      <td>0.301630</td>\n",
       "    </tr>\n",
       "    <tr>\n",
       "      <th>74</th>\n",
       "      <td>2020-10-23</td>\n",
       "      <td>0.295190</td>\n",
       "    </tr>\n",
       "    <tr>\n",
       "      <th>75</th>\n",
       "      <td>2020-11-24</td>\n",
       "      <td>0.229610</td>\n",
       "    </tr>\n",
       "    <tr>\n",
       "      <th>76</th>\n",
       "      <td>2020-10-14</td>\n",
       "      <td>0.138000</td>\n",
       "    </tr>\n",
       "    <tr>\n",
       "      <th>77</th>\n",
       "      <td>2020-12-30</td>\n",
       "      <td>0.104300</td>\n",
       "    </tr>\n",
       "  </tbody>\n",
       "</table>\n",
       "<p>78 rows × 2 columns</p>\n",
       "</div>"
      ],
      "text/plain": [
       "         date    payout\n",
       "0  2020-12-28  3.153180\n",
       "1  2020-07-13  3.137630\n",
       "2  2020-07-27  2.986270\n",
       "3  2020-09-12  2.949820\n",
       "4  2020-09-04  2.850285\n",
       "..        ...       ...\n",
       "73 2021-01-02  0.301630\n",
       "74 2020-10-23  0.295190\n",
       "75 2020-11-24  0.229610\n",
       "76 2020-10-14  0.138000\n",
       "77 2020-12-30  0.104300\n",
       "\n",
       "[78 rows x 2 columns]"
      ]
     },
     "execution_count": 101,
     "metadata": {},
     "output_type": "execute_result"
    }
   ],
   "source": [
    "#Making a pivot table, grouping by date and calculating the payout average for each date \n",
    "res_10 = filter_table_r10.pivot_table(index=['date'],values='payout', aggfunc='mean')\n",
    "#Resent index \n",
    "res_10 = res_10.reset_index(level=0)\n",
    "res_10 = res_10.sort_values(by = 'payout', ascending = False).reset_index()\n",
    "#Drop index columns\n",
    "res_10.drop(columns=['index'] , inplace=True)\n",
    "res_10"
   ]
  },
  {
   "cell_type": "markdown",
   "id": "aec3e3df",
   "metadata": {},
   "source": [
    "**Average of daily share of ether earned by users from Linux that are in the free plan**"
   ]
  },
  {
   "cell_type": "code",
   "execution_count": 81,
   "id": "1d92c76b",
   "metadata": {},
   "outputs": [
    {
     "name": "stdout",
     "output_type": "stream",
     "text": [
      "1.601676837606837\n"
     ]
    }
   ],
   "source": [
    "print(res_10.payout.mean())"
   ]
  },
  {
   "cell_type": "markdown",
   "id": "5f01b171",
   "metadata": {},
   "source": [
    "* SQL"
   ]
  },
  {
   "cell_type": "code",
   "execution_count": 84,
   "id": "5806c8e1",
   "metadata": {},
   "outputs": [
    {
     "data": {
      "text/html": [
       "<div>\n",
       "<style scoped>\n",
       "    .dataframe tbody tr th:only-of-type {\n",
       "        vertical-align: middle;\n",
       "    }\n",
       "\n",
       "    .dataframe tbody tr th {\n",
       "        vertical-align: top;\n",
       "    }\n",
       "\n",
       "    .dataframe thead th {\n",
       "        text-align: right;\n",
       "    }\n",
       "</style>\n",
       "<table border=\"1\" class=\"dataframe\">\n",
       "  <thead>\n",
       "    <tr style=\"text-align: right;\">\n",
       "      <th></th>\n",
       "      <th>date</th>\n",
       "      <th>average</th>\n",
       "    </tr>\n",
       "  </thead>\n",
       "  <tbody>\n",
       "    <tr>\n",
       "      <th>0</th>\n",
       "      <td>2020-12-28</td>\n",
       "      <td>3.153180</td>\n",
       "    </tr>\n",
       "    <tr>\n",
       "      <th>1</th>\n",
       "      <td>2020-07-13</td>\n",
       "      <td>3.137630</td>\n",
       "    </tr>\n",
       "    <tr>\n",
       "      <th>2</th>\n",
       "      <td>2020-07-27</td>\n",
       "      <td>2.986270</td>\n",
       "    </tr>\n",
       "    <tr>\n",
       "      <th>3</th>\n",
       "      <td>2020-09-12</td>\n",
       "      <td>2.949820</td>\n",
       "    </tr>\n",
       "    <tr>\n",
       "      <th>4</th>\n",
       "      <td>2020-09-04</td>\n",
       "      <td>2.850285</td>\n",
       "    </tr>\n",
       "    <tr>\n",
       "      <th>...</th>\n",
       "      <td>...</td>\n",
       "      <td>...</td>\n",
       "    </tr>\n",
       "    <tr>\n",
       "      <th>73</th>\n",
       "      <td>2021-01-02</td>\n",
       "      <td>0.301630</td>\n",
       "    </tr>\n",
       "    <tr>\n",
       "      <th>74</th>\n",
       "      <td>2020-10-23</td>\n",
       "      <td>0.295190</td>\n",
       "    </tr>\n",
       "    <tr>\n",
       "      <th>75</th>\n",
       "      <td>2020-11-24</td>\n",
       "      <td>0.229610</td>\n",
       "    </tr>\n",
       "    <tr>\n",
       "      <th>76</th>\n",
       "      <td>2020-10-14</td>\n",
       "      <td>0.138000</td>\n",
       "    </tr>\n",
       "    <tr>\n",
       "      <th>77</th>\n",
       "      <td>2020-12-30</td>\n",
       "      <td>0.104300</td>\n",
       "    </tr>\n",
       "  </tbody>\n",
       "</table>\n",
       "<p>78 rows × 2 columns</p>\n",
       "</div>"
      ],
      "text/plain": [
       "         date   average\n",
       "0  2020-12-28  3.153180\n",
       "1  2020-07-13  3.137630\n",
       "2  2020-07-27  2.986270\n",
       "3  2020-09-12  2.949820\n",
       "4  2020-09-04  2.850285\n",
       "..        ...       ...\n",
       "73 2021-01-02  0.301630\n",
       "74 2020-10-23  0.295190\n",
       "75 2020-11-24  0.229610\n",
       "76 2020-10-14  0.138000\n",
       "77 2020-12-30  0.104300\n",
       "\n",
       "[78 rows x 2 columns]"
      ]
     },
     "execution_count": 84,
     "metadata": {},
     "output_type": "execute_result"
    }
   ],
   "source": [
    "q = '''\n",
    "    SELECT\n",
    "        payout.\"date\" AS date,\n",
    "        AVG(payout.payout) as average\n",
    "    FROM\n",
    "        payout\n",
    "        LEFT JOIN plan ON plan.user_id = payout.user_id\n",
    "    WHERE\n",
    "        (\"OS\" = 'Linux') AND (\"Plan\" = 'Free')\n",
    "    GROUP BY\n",
    "        payout.\"date\"\n",
    "    ORDER BY\n",
    "        average DESC;\n",
    "        \n",
    "'''\n",
    "r10 = printTable(q)\n",
    "r10"
   ]
  },
  {
   "cell_type": "markdown",
   "id": "cc21148f",
   "metadata": {},
   "source": [
    "**Average of daily share of ether earned by users from Linux that are in the free plan**"
   ]
  },
  {
   "cell_type": "markdown",
   "id": "6564d404",
   "metadata": {},
   "source": [
    "Now we call the table that we did before like a sub table"
   ]
  },
  {
   "cell_type": "code",
   "execution_count": 107,
   "id": "bf9fbb86",
   "metadata": {},
   "outputs": [
    {
     "data": {
      "text/html": [
       "<div>\n",
       "<style scoped>\n",
       "    .dataframe tbody tr th:only-of-type {\n",
       "        vertical-align: middle;\n",
       "    }\n",
       "\n",
       "    .dataframe tbody tr th {\n",
       "        vertical-align: top;\n",
       "    }\n",
       "\n",
       "    .dataframe thead th {\n",
       "        text-align: right;\n",
       "    }\n",
       "</style>\n",
       "<table border=\"1\" class=\"dataframe\">\n",
       "  <thead>\n",
       "    <tr style=\"text-align: right;\">\n",
       "      <th></th>\n",
       "      <th>average</th>\n",
       "    </tr>\n",
       "  </thead>\n",
       "  <tbody>\n",
       "    <tr>\n",
       "      <th>0</th>\n",
       "      <td>1.601677</td>\n",
       "    </tr>\n",
       "  </tbody>\n",
       "</table>\n",
       "</div>"
      ],
      "text/plain": [
       "    average\n",
       "0  1.601677"
      ]
     },
     "execution_count": 107,
     "metadata": {},
     "output_type": "execute_result"
    }
   ],
   "source": [
    "q = '''\n",
    "    SELECT \n",
    "     AVG(sub.average) as average\n",
    "From (   \n",
    "SELECT\n",
    "        payout.\"date\" AS date,\n",
    "        AVG(payout.payout) as average\n",
    "    FROM\n",
    "        payout\n",
    "        LEFT JOIN plan ON plan.user_id = payout.user_id\n",
    "    WHERE\n",
    "        (\"OS\" = 'Linux') AND (\"Plan\" = 'Free')\n",
    "    GROUP BY\n",
    "        payout.\"date\"\n",
    "    ORDER BY\n",
    "        average DESC\n",
    ") as sub;\n",
    "        \n",
    "'''\n",
    "r10_mean = printTable(q)\n",
    "r10_mean       "
   ]
  }
 ],
 "metadata": {
  "kernelspec": {
   "display_name": "Python 3",
   "language": "python",
   "name": "python3"
  },
  "language_info": {
   "codemirror_mode": {
    "name": "ipython",
    "version": 3
   },
   "file_extension": ".py",
   "mimetype": "text/x-python",
   "name": "python",
   "nbconvert_exporter": "python",
   "pygments_lexer": "ipython3",
   "version": "3.8.8"
  },
  "toc": {
   "base_numbering": 1,
   "nav_menu": {},
   "number_sections": true,
   "sideBar": true,
   "skip_h1_title": false,
   "title_cell": "Table of Contents",
   "title_sidebar": "Contents",
   "toc_cell": false,
   "toc_position": {},
   "toc_section_display": true,
   "toc_window_display": false
  }
 },
 "nbformat": 4,
 "nbformat_minor": 5
}
