{
 "cells": [
  {
   "cell_type": "markdown",
   "metadata": {},
   "source": [
    "### Used Libraries<a class=\"anchor\" id=\"chapter1\"></a>"
   ]
  },
  {
   "cell_type": "code",
   "execution_count": 1,
   "metadata": {},
   "outputs": [],
   "source": [
    "import pandas as pd\n",
    "from sqlalchemy import create_engine\n",
    "import psycopg2"
   ]
  },
  {
   "cell_type": "markdown",
   "metadata": {},
   "source": [
    "### Access to the DB <a class=\"anchor\" id=\"chapter2\"></a>"
   ]
  },
  {
   "cell_type": "code",
   "execution_count": 2,
   "metadata": {},
   "outputs": [],
   "source": [
    "db_config = {'user': 'practicum_student',                         # username\n",
    "             'pwd': 's65BlTKV3faNIGhmvJVzOqhs',                   # password\n",
    "             'host': 'rc1b-wcoijxj3yxfsf3fs.mdb.yandexcloud.net',\n",
    "             'port': 6432,                                        # connection port\n",
    "             'db': 'data-analyst-sales-data-db'}          # the name of the database\n",
    "\n",
    "connection_string = 'postgresql://{}:{}@{}:{}/{}'.format(db_config['user'],\n",
    "                                                                     db_config['pwd'],\n",
    "                                                                       db_config['host'],\n",
    "                                                                       db_config['port'],\n",
    "                                                                       db_config['db'])\n",
    "\n",
    "engine = create_engine(connection_string, connect_args={'sslmode':'require'})\n"
   ]
  },
  {
   "cell_type": "markdown",
   "metadata": {},
   "source": [
    "## The Database\n",
    "\n",
    "### rep_sales table:\n",
    "**OrderDate:** date when the order was placed\n",
    "\n",
    "**Region:** geographical area in which the sale was made.\n",
    "\n",
    "**Rep:** sales representative's name\n",
    "\n",
    "**Item:** name of the item sold\n",
    "\n",
    "**Units:** number of units sold\n",
    "\n",
    "**UnitCost:** cost of one unit\n",
    "\n",
    "**Total:** total cost of the order - Units x UnitCost\n",
    "\n",
    "\n",
    "### Item table:\n",
    "**Item:** name of the item\n",
    "\n",
    "**MinPrice:** minimum price that the item can be sold."
   ]
  },
  {
   "cell_type": "markdown",
   "metadata": {},
   "source": [
    "#  Table Queries <a class=\"anchor\" id=\"chapter3\"></a>"
   ]
  },
  {
   "cell_type": "markdown",
   "metadata": {},
   "source": [
    "function that takes a query and return dataframe for general use"
   ]
  },
  {
   "cell_type": "code",
   "execution_count": 3,
   "metadata": {},
   "outputs": [],
   "source": [
    "def queryResult(q):\n",
    "    return pd.io.sql.read_sql(q, con = engine)"
   ]
  },
  {
   "cell_type": "markdown",
   "metadata": {},
   "source": [
    "### 1. What is the total income in the data?"
   ]
  },
  {
   "cell_type": "code",
   "execution_count": 15,
   "metadata": {},
   "outputs": [
    {
     "name": "stdout",
     "output_type": "stream",
     "text": [
      "\n",
      "The total income of the data:\n"
     ]
    },
    {
     "data": {
      "text/html": [
       "<div>\n",
       "<style scoped>\n",
       "    .dataframe tbody tr th:only-of-type {\n",
       "        vertical-align: middle;\n",
       "    }\n",
       "\n",
       "    .dataframe tbody tr th {\n",
       "        vertical-align: top;\n",
       "    }\n",
       "\n",
       "    .dataframe thead th {\n",
       "        text-align: right;\n",
       "    }\n",
       "</style>\n",
       "<table border=\"1\" class=\"dataframe\">\n",
       "  <thead>\n",
       "    <tr style=\"text-align: right;\">\n",
       "      <th></th>\n",
       "      <th>total_income</th>\n",
       "    </tr>\n",
       "  </thead>\n",
       "  <tbody>\n",
       "    <tr>\n",
       "      <th>0</th>\n",
       "      <td>28867.97</td>\n",
       "    </tr>\n",
       "  </tbody>\n",
       "</table>\n",
       "</div>"
      ],
      "text/plain": [
       "   total_income\n",
       "0      28867.97"
      ]
     },
     "execution_count": 15,
     "metadata": {},
     "output_type": "execute_result"
    }
   ],
   "source": [
    "query = '''\n",
    "        SELECT\n",
    "            SUM(rep_sales.\"Total\") AS total_income\n",
    "            \n",
    "        FROM\n",
    "            rep_sales\n",
    "              \n",
    "        '''\n",
    "print()\n",
    "print('The total income of the data:')\n",
    "queryResult(query)"
   ]
  },
  {
   "cell_type": "markdown",
   "metadata": {},
   "source": [
    "**28867.97** is the total income."
   ]
  },
  {
   "cell_type": "markdown",
   "metadata": {},
   "source": [
    "----"
   ]
  },
  {
   "cell_type": "markdown",
   "metadata": {},
   "source": [
    "### 2. Which sales rep brought the most income?"
   ]
  },
  {
   "cell_type": "code",
   "execution_count": 16,
   "metadata": {},
   "outputs": [
    {
     "name": "stdout",
     "output_type": "stream",
     "text": [
      "\n",
      "The total income per rep:\n"
     ]
    },
    {
     "data": {
      "text/html": [
       "<div>\n",
       "<style scoped>\n",
       "    .dataframe tbody tr th:only-of-type {\n",
       "        vertical-align: middle;\n",
       "    }\n",
       "\n",
       "    .dataframe tbody tr th {\n",
       "        vertical-align: top;\n",
       "    }\n",
       "\n",
       "    .dataframe thead th {\n",
       "        text-align: right;\n",
       "    }\n",
       "</style>\n",
       "<table border=\"1\" class=\"dataframe\">\n",
       "  <thead>\n",
       "    <tr style=\"text-align: right;\">\n",
       "      <th></th>\n",
       "      <th>Rep</th>\n",
       "      <th>rep_total</th>\n",
       "    </tr>\n",
       "  </thead>\n",
       "  <tbody>\n",
       "    <tr>\n",
       "      <th>0</th>\n",
       "      <td>Kivell</td>\n",
       "      <td>3554.23</td>\n",
       "    </tr>\n",
       "    <tr>\n",
       "      <th>1</th>\n",
       "      <td>Thompson</td>\n",
       "      <td>3060.23</td>\n",
       "    </tr>\n",
       "    <tr>\n",
       "      <th>2</th>\n",
       "      <td>Jardine</td>\n",
       "      <td>3006.80</td>\n",
       "    </tr>\n",
       "  </tbody>\n",
       "</table>\n",
       "</div>"
      ],
      "text/plain": [
       "        Rep  rep_total\n",
       "0    Kivell    3554.23\n",
       "1  Thompson    3060.23\n",
       "2   Jardine    3006.80"
      ]
     },
     "execution_count": 16,
     "metadata": {},
     "output_type": "execute_result"
    }
   ],
   "source": [
    "query = '''\n",
    "        SELECT\n",
    "            DISTINCT rep_sales.\"Rep\",\n",
    "            SUM(rep_sales.\"Total\") AS rep_total\n",
    "            \n",
    "        FROM\n",
    "            rep_sales\n",
    "            \n",
    "        GROUP BY\n",
    "            rep_sales.\"Rep\"\n",
    "            \n",
    "        ORDER BY\n",
    "            rep_total DESC\n",
    "            \n",
    "        LIMIT 3;\n",
    "        '''\n",
    "print()\n",
    "print('The total income per rep:')\n",
    "queryResult(query)"
   ]
  },
  {
   "cell_type": "markdown",
   "metadata": {},
   "source": [
    "**Kivell** brought the most income from the data."
   ]
  },
  {
   "cell_type": "markdown",
   "metadata": {},
   "source": [
    "----"
   ]
  },
  {
   "cell_type": "markdown",
   "metadata": {},
   "source": [
    "### 3. Which item brought the most income?"
   ]
  },
  {
   "cell_type": "code",
   "execution_count": 19,
   "metadata": {},
   "outputs": [
    {
     "name": "stdout",
     "output_type": "stream",
     "text": [
      "\n",
      "The total income per item:\n"
     ]
    },
    {
     "data": {
      "text/html": [
       "<div>\n",
       "<style scoped>\n",
       "    .dataframe tbody tr th:only-of-type {\n",
       "        vertical-align: middle;\n",
       "    }\n",
       "\n",
       "    .dataframe tbody tr th {\n",
       "        vertical-align: top;\n",
       "    }\n",
       "\n",
       "    .dataframe thead th {\n",
       "        text-align: right;\n",
       "    }\n",
       "</style>\n",
       "<table border=\"1\" class=\"dataframe\">\n",
       "  <thead>\n",
       "    <tr style=\"text-align: right;\">\n",
       "      <th></th>\n",
       "      <th>Item</th>\n",
       "      <th>item_total</th>\n",
       "    </tr>\n",
       "  </thead>\n",
       "  <tbody>\n",
       "    <tr>\n",
       "      <th>0</th>\n",
       "      <td>Binder</td>\n",
       "      <td>8229.12</td>\n",
       "    </tr>\n",
       "    <tr>\n",
       "      <th>1</th>\n",
       "      <td>Marker Set</td>\n",
       "      <td>6618.71</td>\n",
       "    </tr>\n",
       "    <tr>\n",
       "      <th>2</th>\n",
       "      <td>Pen Set</td>\n",
       "      <td>4683.66</td>\n",
       "    </tr>\n",
       "  </tbody>\n",
       "</table>\n",
       "</div>"
      ],
      "text/plain": [
       "         Item  item_total\n",
       "0      Binder     8229.12\n",
       "1  Marker Set     6618.71\n",
       "2     Pen Set     4683.66"
      ]
     },
     "execution_count": 19,
     "metadata": {},
     "output_type": "execute_result"
    }
   ],
   "source": [
    "query = '''\n",
    "        SELECT\n",
    "            DISTINCT rep_sales.\"Item\",\n",
    "            SUM(rep_sales.\"Total\") AS item_total\n",
    "            \n",
    "        FROM\n",
    "            rep_sales\n",
    "            \n",
    "        GROUP BY\n",
    "            rep_sales.\"Item\"\n",
    "            \n",
    "        ORDER BY\n",
    "            item_total DESC\n",
    "            \n",
    "        LIMIT 3;\n",
    "        '''\n",
    "print()\n",
    "print('The total income per item:')\n",
    "queryResult(query)"
   ]
  },
  {
   "cell_type": "markdown",
   "metadata": {},
   "source": [
    "**Binder** is the item that brought the highest income."
   ]
  },
  {
   "cell_type": "markdown",
   "metadata": {},
   "source": [
    "----"
   ]
  },
  {
   "cell_type": "markdown",
   "metadata": {},
   "source": [
    "### 4. Which region sold the most desks?"
   ]
  },
  {
   "cell_type": "code",
   "execution_count": 22,
   "metadata": {},
   "outputs": [
    {
     "name": "stdout",
     "output_type": "stream",
     "text": [
      "\n",
      "The total desks sold per region:\n"
     ]
    },
    {
     "data": {
      "text/html": [
       "<div>\n",
       "<style scoped>\n",
       "    .dataframe tbody tr th:only-of-type {\n",
       "        vertical-align: middle;\n",
       "    }\n",
       "\n",
       "    .dataframe tbody tr th {\n",
       "        vertical-align: top;\n",
       "    }\n",
       "\n",
       "    .dataframe thead th {\n",
       "        text-align: right;\n",
       "    }\n",
       "</style>\n",
       "<table border=\"1\" class=\"dataframe\">\n",
       "  <thead>\n",
       "    <tr style=\"text-align: right;\">\n",
       "      <th></th>\n",
       "      <th>Region</th>\n",
       "      <th>Item</th>\n",
       "      <th>total_desks</th>\n",
       "    </tr>\n",
       "  </thead>\n",
       "  <tbody>\n",
       "    <tr>\n",
       "      <th>0</th>\n",
       "      <td>West</td>\n",
       "      <td>Desk</td>\n",
       "      <td>9</td>\n",
       "    </tr>\n",
       "    <tr>\n",
       "      <th>1</th>\n",
       "      <td>Central</td>\n",
       "      <td>Desk</td>\n",
       "      <td>7</td>\n",
       "    </tr>\n",
       "    <tr>\n",
       "      <th>2</th>\n",
       "      <td>East</td>\n",
       "      <td>Desk</td>\n",
       "      <td>7</td>\n",
       "    </tr>\n",
       "  </tbody>\n",
       "</table>\n",
       "</div>"
      ],
      "text/plain": [
       "    Region  Item  total_desks\n",
       "0     West  Desk            9\n",
       "1  Central  Desk            7\n",
       "2     East  Desk            7"
      ]
     },
     "execution_count": 22,
     "metadata": {},
     "output_type": "execute_result"
    }
   ],
   "source": [
    "query = '''\n",
    "        SELECT\n",
    "            DISTINCT rep_sales.\"Region\",\n",
    "            rep_sales.\"Item\",\n",
    "            SUM(rep_sales.\"Units\") AS total_desks\n",
    "            \n",
    "        FROM\n",
    "            rep_sales\n",
    "        \n",
    "        WHERE\n",
    "            rep_sales.\"Item\" = 'Desk'\n",
    "            \n",
    "        GROUP BY\n",
    "            rep_sales.\"Region\",\n",
    "            rep_sales.\"Item\"\n",
    "\n",
    "        ORDER BY\n",
    "            total_desks DESC;\n",
    "        '''\n",
    "print()\n",
    "print('The total desks sold per region:')\n",
    "queryResult(query)"
   ]
  },
  {
   "cell_type": "markdown",
   "metadata": {},
   "source": [
    "**West Region** sold the most desks."
   ]
  },
  {
   "cell_type": "markdown",
   "metadata": {},
   "source": [
    "----"
   ]
  },
  {
   "cell_type": "markdown",
   "metadata": {},
   "source": [
    "### 5. Which sales rep sold the highest average price a piece for the item pen?"
   ]
  },
  {
   "cell_type": "code",
   "execution_count": 8,
   "metadata": {},
   "outputs": [
    {
     "name": "stdout",
     "output_type": "stream",
     "text": [
      "\n",
      "The average price per pan unit each rep sells:\n"
     ]
    },
    {
     "data": {
      "text/html": [
       "<div>\n",
       "<style scoped>\n",
       "    .dataframe tbody tr th:only-of-type {\n",
       "        vertical-align: middle;\n",
       "    }\n",
       "\n",
       "    .dataframe tbody tr th {\n",
       "        vertical-align: top;\n",
       "    }\n",
       "\n",
       "    .dataframe thead th {\n",
       "        text-align: right;\n",
       "    }\n",
       "</style>\n",
       "<table border=\"1\" class=\"dataframe\">\n",
       "  <thead>\n",
       "    <tr style=\"text-align: right;\">\n",
       "      <th></th>\n",
       "      <th>rep</th>\n",
       "      <th>item</th>\n",
       "      <th>avg_unit_cost</th>\n",
       "    </tr>\n",
       "  </thead>\n",
       "  <tbody>\n",
       "    <tr>\n",
       "      <th>0</th>\n",
       "      <td>Parent</td>\n",
       "      <td>Pen</td>\n",
       "      <td>19.99</td>\n",
       "    </tr>\n",
       "    <tr>\n",
       "      <th>1</th>\n",
       "      <td>Gill</td>\n",
       "      <td>Pen</td>\n",
       "      <td>10.74</td>\n",
       "    </tr>\n",
       "    <tr>\n",
       "      <th>2</th>\n",
       "      <td>Jones</td>\n",
       "      <td>Pen</td>\n",
       "      <td>8.99</td>\n",
       "    </tr>\n",
       "    <tr>\n",
       "      <th>3</th>\n",
       "      <td>Howard</td>\n",
       "      <td>Pen</td>\n",
       "      <td>4.99</td>\n",
       "    </tr>\n",
       "    <tr>\n",
       "      <th>4</th>\n",
       "      <td>Joe</td>\n",
       "      <td>Pen</td>\n",
       "      <td>2.19</td>\n",
       "    </tr>\n",
       "    <tr>\n",
       "      <th>5</th>\n",
       "      <td>Sorvino</td>\n",
       "      <td>Pen</td>\n",
       "      <td>1.99</td>\n",
       "    </tr>\n",
       "    <tr>\n",
       "      <th>6</th>\n",
       "      <td>Jardine</td>\n",
       "      <td>Pen</td>\n",
       "      <td>1.79</td>\n",
       "    </tr>\n",
       "    <tr>\n",
       "      <th>7</th>\n",
       "      <td>Thompson</td>\n",
       "      <td>Pen</td>\n",
       "      <td>1.59</td>\n",
       "    </tr>\n",
       "    <tr>\n",
       "      <th>8</th>\n",
       "      <td>Andrews</td>\n",
       "      <td>Pen</td>\n",
       "      <td>1.50</td>\n",
       "    </tr>\n",
       "  </tbody>\n",
       "</table>\n",
       "</div>"
      ],
      "text/plain": [
       "        rep item  avg_unit_cost\n",
       "0    Parent  Pen          19.99\n",
       "1      Gill  Pen          10.74\n",
       "2     Jones  Pen           8.99\n",
       "3    Howard  Pen           4.99\n",
       "4       Joe  Pen           2.19\n",
       "5   Sorvino  Pen           1.99\n",
       "6   Jardine  Pen           1.79\n",
       "7  Thompson  Pen           1.59\n",
       "8   Andrews  Pen           1.50"
      ]
     },
     "execution_count": 8,
     "metadata": {},
     "output_type": "execute_result"
    }
   ],
   "source": [
    "query = '''\n",
    "            SELECT\n",
    "                rep_sales.\"Rep\" AS rep,\n",
    "                rep_sales.\"Item\" AS item,\n",
    "                AVG(rep_sales.\"Unit_Cost\") AS avg_unit_cost\n",
    "                \n",
    "            FROM\n",
    "                rep_sales\n",
    "                LEFT JOIN item ON item.\"Item\" = rep_sales.\"Item\"\n",
    "            \n",
    "            WHERE\n",
    "                rep_sales.\"Item\" = 'Pen'\n",
    "                \n",
    "            GROUP BY\n",
    "                rep_sales.\"Rep\",\n",
    "                rep_sales.\"Item\"\n",
    "            \n",
    "            ORDER BY\n",
    "               avg_unit_cost DESC; \n",
    "        '''\n",
    "print()\n",
    "print('The average price per pan unit each rep sells:')\n",
    "queryResult(query)"
   ]
  },
  {
   "cell_type": "markdown",
   "metadata": {},
   "source": [
    "**Parent** has the highest average price per unit."
   ]
  },
  {
   "cell_type": "markdown",
   "metadata": {},
   "source": [
    "----"
   ]
  },
  {
   "cell_type": "markdown",
   "metadata": {},
   "source": [
    "### 6. Which sales rep sold the most units between April – September of 2020?"
   ]
  },
  {
   "cell_type": "code",
   "execution_count": 25,
   "metadata": {},
   "outputs": [
    {
     "name": "stdout",
     "output_type": "stream",
     "text": [
      "\n",
      "The total number of units each rep sold between April and September:\n"
     ]
    },
    {
     "data": {
      "text/html": [
       "<div>\n",
       "<style scoped>\n",
       "    .dataframe tbody tr th:only-of-type {\n",
       "        vertical-align: middle;\n",
       "    }\n",
       "\n",
       "    .dataframe tbody tr th {\n",
       "        vertical-align: top;\n",
       "    }\n",
       "\n",
       "    .dataframe thead th {\n",
       "        text-align: right;\n",
       "    }\n",
       "</style>\n",
       "<table border=\"1\" class=\"dataframe\">\n",
       "  <thead>\n",
       "    <tr style=\"text-align: right;\">\n",
       "      <th></th>\n",
       "      <th>rep</th>\n",
       "      <th>total_units</th>\n",
       "    </tr>\n",
       "  </thead>\n",
       "  <tbody>\n",
       "    <tr>\n",
       "      <th>0</th>\n",
       "      <td>Andrews</td>\n",
       "      <td>309</td>\n",
       "    </tr>\n",
       "    <tr>\n",
       "      <th>1</th>\n",
       "      <td>Gill</td>\n",
       "      <td>256</td>\n",
       "    </tr>\n",
       "    <tr>\n",
       "      <th>2</th>\n",
       "      <td>Thompson</td>\n",
       "      <td>245</td>\n",
       "    </tr>\n",
       "    <tr>\n",
       "      <th>3</th>\n",
       "      <td>Howard</td>\n",
       "      <td>99</td>\n",
       "    </tr>\n",
       "    <tr>\n",
       "      <th>4</th>\n",
       "      <td>Kivell</td>\n",
       "      <td>94</td>\n",
       "    </tr>\n",
       "    <tr>\n",
       "      <th>5</th>\n",
       "      <td>Jones</td>\n",
       "      <td>86</td>\n",
       "    </tr>\n",
       "    <tr>\n",
       "      <th>6</th>\n",
       "      <td>Sorvino</td>\n",
       "      <td>79</td>\n",
       "    </tr>\n",
       "    <tr>\n",
       "      <th>7</th>\n",
       "      <td>Morgan</td>\n",
       "      <td>55</td>\n",
       "    </tr>\n",
       "    <tr>\n",
       "      <th>8</th>\n",
       "      <td>Joe</td>\n",
       "      <td>38</td>\n",
       "    </tr>\n",
       "  </tbody>\n",
       "</table>\n",
       "</div>"
      ],
      "text/plain": [
       "        rep  total_units\n",
       "0   Andrews          309\n",
       "1      Gill          256\n",
       "2  Thompson          245\n",
       "3    Howard           99\n",
       "4    Kivell           94\n",
       "5     Jones           86\n",
       "6   Sorvino           79\n",
       "7    Morgan           55\n",
       "8       Joe           38"
      ]
     },
     "execution_count": 25,
     "metadata": {},
     "output_type": "execute_result"
    }
   ],
   "source": [
    "query = '''\n",
    "        SELECT\n",
    "            rep_sales.\"Rep\" AS rep,\n",
    "            SUM(rep_sales.\"Units\") AS total_units\n",
    "        FROM\n",
    "            rep_sales\n",
    "        \n",
    "        WHERE\n",
    "            CAST(rep_sales.\"OrderDate\" AS date) BETWEEN '2020-04-01' AND '2020-10-01'\n",
    "        \n",
    "        GROUP BY\n",
    "            rep_sales.\"Rep\"\n",
    "            \n",
    "        ORDER BY\n",
    "            total_units DESC;\n",
    "        '''\n",
    "print()\n",
    "print('The total number of units each rep sold between April and September:')\n",
    "queryResult(query)"
   ]
  },
  {
   "cell_type": "markdown",
   "metadata": {},
   "source": [
    "**Andrews** sold the most units between April and September."
   ]
  },
  {
   "cell_type": "markdown",
   "metadata": {},
   "source": [
    "----"
   ]
  },
  {
   "cell_type": "markdown",
   "metadata": {},
   "source": [
    "### 7. Which sales rep had the highest price difference from the minimum price on the item pen set?"
   ]
  },
  {
   "cell_type": "code",
   "execution_count": 26,
   "metadata": {},
   "outputs": [
    {
     "name": "stdout",
     "output_type": "stream",
     "text": [
      "\n",
      "The difference in price per unit compared to min price per rep:\n"
     ]
    },
    {
     "data": {
      "text/html": [
       "<div>\n",
       "<style scoped>\n",
       "    .dataframe tbody tr th:only-of-type {\n",
       "        vertical-align: middle;\n",
       "    }\n",
       "\n",
       "    .dataframe tbody tr th {\n",
       "        vertical-align: top;\n",
       "    }\n",
       "\n",
       "    .dataframe thead th {\n",
       "        text-align: right;\n",
       "    }\n",
       "</style>\n",
       "<table border=\"1\" class=\"dataframe\">\n",
       "  <thead>\n",
       "    <tr style=\"text-align: right;\">\n",
       "      <th></th>\n",
       "      <th>rep</th>\n",
       "      <th>item</th>\n",
       "      <th>unit_cost</th>\n",
       "      <th>min_price</th>\n",
       "      <th>diff_cost</th>\n",
       "    </tr>\n",
       "  </thead>\n",
       "  <tbody>\n",
       "    <tr>\n",
       "      <th>0</th>\n",
       "      <td>Kivell</td>\n",
       "      <td>Pen Set</td>\n",
       "      <td>17.00</td>\n",
       "      <td>4.99</td>\n",
       "      <td>12.01</td>\n",
       "    </tr>\n",
       "    <tr>\n",
       "      <th>1</th>\n",
       "      <td>Kivell</td>\n",
       "      <td>Pen Set</td>\n",
       "      <td>17.00</td>\n",
       "      <td>4.99</td>\n",
       "      <td>12.01</td>\n",
       "    </tr>\n",
       "    <tr>\n",
       "      <th>2</th>\n",
       "      <td>Jones</td>\n",
       "      <td>Pen Set</td>\n",
       "      <td>15.99</td>\n",
       "      <td>4.99</td>\n",
       "      <td>11.00</td>\n",
       "    </tr>\n",
       "    <tr>\n",
       "      <th>3</th>\n",
       "      <td>Jones</td>\n",
       "      <td>Pen Set</td>\n",
       "      <td>15.99</td>\n",
       "      <td>4.99</td>\n",
       "      <td>11.00</td>\n",
       "    </tr>\n",
       "    <tr>\n",
       "      <th>4</th>\n",
       "      <td>Parent</td>\n",
       "      <td>Pen Set</td>\n",
       "      <td>12.99</td>\n",
       "      <td>4.99</td>\n",
       "      <td>8.00</td>\n",
       "    </tr>\n",
       "    <tr>\n",
       "      <th>5</th>\n",
       "      <td>Parent</td>\n",
       "      <td>Pen Set</td>\n",
       "      <td>12.99</td>\n",
       "      <td>4.99</td>\n",
       "      <td>8.00</td>\n",
       "    </tr>\n",
       "    <tr>\n",
       "      <th>6</th>\n",
       "      <td>Morgan</td>\n",
       "      <td>Pen Set</td>\n",
       "      <td>12.49</td>\n",
       "      <td>4.99</td>\n",
       "      <td>7.50</td>\n",
       "    </tr>\n",
       "    <tr>\n",
       "      <th>7</th>\n",
       "      <td>Morgan</td>\n",
       "      <td>Pen Set</td>\n",
       "      <td>12.49</td>\n",
       "      <td>4.99</td>\n",
       "      <td>7.50</td>\n",
       "    </tr>\n",
       "    <tr>\n",
       "      <th>8</th>\n",
       "      <td>Thompson</td>\n",
       "      <td>Pen Set</td>\n",
       "      <td>8.99</td>\n",
       "      <td>4.99</td>\n",
       "      <td>4.00</td>\n",
       "    </tr>\n",
       "    <tr>\n",
       "      <th>9</th>\n",
       "      <td>Thompson</td>\n",
       "      <td>Pen Set</td>\n",
       "      <td>8.99</td>\n",
       "      <td>4.99</td>\n",
       "      <td>4.00</td>\n",
       "    </tr>\n",
       "    <tr>\n",
       "      <th>10</th>\n",
       "      <td>Morgan</td>\n",
       "      <td>Pen Set</td>\n",
       "      <td>7.25</td>\n",
       "      <td>4.99</td>\n",
       "      <td>2.26</td>\n",
       "    </tr>\n",
       "    <tr>\n",
       "      <th>11</th>\n",
       "      <td>Morgan</td>\n",
       "      <td>Pen Set</td>\n",
       "      <td>7.25</td>\n",
       "      <td>4.99</td>\n",
       "      <td>2.26</td>\n",
       "    </tr>\n",
       "    <tr>\n",
       "      <th>12</th>\n",
       "      <td>Jones</td>\n",
       "      <td>Pen Set</td>\n",
       "      <td>4.99</td>\n",
       "      <td>4.99</td>\n",
       "      <td>0.00</td>\n",
       "    </tr>\n",
       "    <tr>\n",
       "      <th>13</th>\n",
       "      <td>Jardine</td>\n",
       "      <td>Pen Set</td>\n",
       "      <td>4.99</td>\n",
       "      <td>4.99</td>\n",
       "      <td>0.00</td>\n",
       "    </tr>\n",
       "    <tr>\n",
       "      <th>14</th>\n",
       "      <td>Jardine</td>\n",
       "      <td>Pen Set</td>\n",
       "      <td>4.99</td>\n",
       "      <td>4.99</td>\n",
       "      <td>0.00</td>\n",
       "    </tr>\n",
       "    <tr>\n",
       "      <th>15</th>\n",
       "      <td>Kivell</td>\n",
       "      <td>Pen Set</td>\n",
       "      <td>4.99</td>\n",
       "      <td>4.99</td>\n",
       "      <td>0.00</td>\n",
       "    </tr>\n",
       "    <tr>\n",
       "      <th>16</th>\n",
       "      <td>Kivell</td>\n",
       "      <td>Pen Set</td>\n",
       "      <td>4.99</td>\n",
       "      <td>4.99</td>\n",
       "      <td>0.00</td>\n",
       "    </tr>\n",
       "    <tr>\n",
       "      <th>17</th>\n",
       "      <td>Jones</td>\n",
       "      <td>Pen Set</td>\n",
       "      <td>4.99</td>\n",
       "      <td>4.99</td>\n",
       "      <td>0.00</td>\n",
       "    </tr>\n",
       "  </tbody>\n",
       "</table>\n",
       "</div>"
      ],
      "text/plain": [
       "         rep     item  unit_cost  min_price  diff_cost\n",
       "0     Kivell  Pen Set      17.00       4.99      12.01\n",
       "1     Kivell  Pen Set      17.00       4.99      12.01\n",
       "2      Jones  Pen Set      15.99       4.99      11.00\n",
       "3      Jones  Pen Set      15.99       4.99      11.00\n",
       "4     Parent  Pen Set      12.99       4.99       8.00\n",
       "5     Parent  Pen Set      12.99       4.99       8.00\n",
       "6     Morgan  Pen Set      12.49       4.99       7.50\n",
       "7     Morgan  Pen Set      12.49       4.99       7.50\n",
       "8   Thompson  Pen Set       8.99       4.99       4.00\n",
       "9   Thompson  Pen Set       8.99       4.99       4.00\n",
       "10    Morgan  Pen Set       7.25       4.99       2.26\n",
       "11    Morgan  Pen Set       7.25       4.99       2.26\n",
       "12     Jones  Pen Set       4.99       4.99       0.00\n",
       "13   Jardine  Pen Set       4.99       4.99       0.00\n",
       "14   Jardine  Pen Set       4.99       4.99       0.00\n",
       "15    Kivell  Pen Set       4.99       4.99       0.00\n",
       "16    Kivell  Pen Set       4.99       4.99       0.00\n",
       "17     Jones  Pen Set       4.99       4.99       0.00"
      ]
     },
     "execution_count": 26,
     "metadata": {},
     "output_type": "execute_result"
    }
   ],
   "source": [
    "query = '''\n",
    "        SELECT\n",
    "            rep_sales.\"Rep\" AS rep,\n",
    "            rep_sales.\"Item\" AS item,\n",
    "            rep_sales.\"Unit_Cost\" AS unit_cost,\n",
    "            item.\"MinPrice\" AS min_price,\n",
    "            (rep_sales.\"Unit_Cost\" - item.\"MinPrice\") AS diff_cost\n",
    "            \n",
    "        FROM\n",
    "            rep_sales\n",
    "            LEFT JOIN item ON item.\"Item\" = rep_sales.\"Item\"\n",
    "            \n",
    "        WHERE\n",
    "            rep_sales.\"Item\" = 'Pen Set'\n",
    "            \n",
    "        ORDER BY\n",
    "            diff_cost DESC;\n",
    "        '''\n",
    "print()\n",
    "print('The difference in price per unit compared to min price per rep:')\n",
    "queryResult(query)"
   ]
  },
  {
   "cell_type": "markdown",
   "metadata": {},
   "source": [
    "**Kivell** has the highest difference in price."
   ]
  },
  {
   "cell_type": "markdown",
   "metadata": {},
   "source": [
    "----"
   ]
  },
  {
   "cell_type": "markdown",
   "metadata": {},
   "source": [
    "### 8. Was there a sales rep that sold an item below the minimum price? If so, which item was it and what was the percent difference from the minimum price?"
   ]
  },
  {
   "cell_type": "code",
   "execution_count": 29,
   "metadata": {},
   "outputs": [
    {
     "name": "stdout",
     "output_type": "stream",
     "text": [
      "\n",
      "The reps with negative difference in price for pens:\n"
     ]
    },
    {
     "data": {
      "text/html": [
       "<div>\n",
       "<style scoped>\n",
       "    .dataframe tbody tr th:only-of-type {\n",
       "        vertical-align: middle;\n",
       "    }\n",
       "\n",
       "    .dataframe tbody tr th {\n",
       "        vertical-align: top;\n",
       "    }\n",
       "\n",
       "    .dataframe thead th {\n",
       "        text-align: right;\n",
       "    }\n",
       "</style>\n",
       "<table border=\"1\" class=\"dataframe\">\n",
       "  <thead>\n",
       "    <tr style=\"text-align: right;\">\n",
       "      <th></th>\n",
       "      <th>rep</th>\n",
       "      <th>item</th>\n",
       "      <th>unit_cost</th>\n",
       "      <th>min_price</th>\n",
       "      <th>price_diff</th>\n",
       "      <th>prcnt_price_diff</th>\n",
       "    </tr>\n",
       "  </thead>\n",
       "  <tbody>\n",
       "    <tr>\n",
       "      <th>0</th>\n",
       "      <td>Gill</td>\n",
       "      <td>Pen</td>\n",
       "      <td>1.49</td>\n",
       "      <td>1.75</td>\n",
       "      <td>-0.26</td>\n",
       "      <td>14.857143</td>\n",
       "    </tr>\n",
       "    <tr>\n",
       "      <th>1</th>\n",
       "      <td>Andrews</td>\n",
       "      <td>Pen</td>\n",
       "      <td>1.50</td>\n",
       "      <td>1.75</td>\n",
       "      <td>-0.25</td>\n",
       "      <td>14.285714</td>\n",
       "    </tr>\n",
       "    <tr>\n",
       "      <th>2</th>\n",
       "      <td>Thompson</td>\n",
       "      <td>Pen</td>\n",
       "      <td>1.59</td>\n",
       "      <td>1.75</td>\n",
       "      <td>-0.16</td>\n",
       "      <td>9.142857</td>\n",
       "    </tr>\n",
       "  </tbody>\n",
       "</table>\n",
       "</div>"
      ],
      "text/plain": [
       "        rep item  unit_cost  min_price  price_diff  prcnt_price_diff\n",
       "0      Gill  Pen       1.49       1.75       -0.26         14.857143\n",
       "1   Andrews  Pen       1.50       1.75       -0.25         14.285714\n",
       "2  Thompson  Pen       1.59       1.75       -0.16          9.142857"
      ]
     },
     "execution_count": 29,
     "metadata": {},
     "output_type": "execute_result"
    }
   ],
   "source": [
    "query = '''\n",
    "        SELECT\n",
    "            rep_sales.\"Rep\" AS rep,\n",
    "            rep_sales.\"Item\" AS item,\n",
    "            rep_sales.\"Unit_Cost\" AS unit_cost,\n",
    "            item.\"MinPrice\" AS min_price,\n",
    "            (rep_sales.\"Unit_Cost\" - item.\"MinPrice\") AS price_diff,\n",
    "            \n",
    "            (\"MinPrice\" - \"Unit_Cost\")*100 / \"MinPrice\" AS prcnt_price_diff\n",
    "            \n",
    "        FROM\n",
    "            rep_sales\n",
    "            LEFT JOIN item ON item.\"Item\" = rep_sales.\"Item\"\n",
    "        \n",
    "        WHERE\n",
    "            (rep_sales.\"Unit_Cost\" - item.\"MinPrice\") < 0\n",
    "        \n",
    "        GROUP BY\n",
    "            rep_sales.\"Rep\",\n",
    "            rep_sales.\"Item\",\n",
    "            rep_sales.\"Unit_Cost\",\n",
    "            item.\"MinPrice\"\n",
    "            \n",
    "        ORDER BY\n",
    "            price_diff;\n",
    "        '''\n",
    "print()\n",
    "print('The reps with negative difference in price for pens:')\n",
    "queryResult(query)"
   ]
  },
  {
   "cell_type": "markdown",
   "metadata": {},
   "source": [
    "**Gill** has the biggeset negative difference in sales."
   ]
  },
  {
   "cell_type": "markdown",
   "metadata": {},
   "source": [
    "----"
   ]
  },
  {
   "cell_type": "markdown",
   "metadata": {},
   "source": [
    "### 9. Which region had the highest share of  price difference?"
   ]
  },
  {
   "cell_type": "code",
   "execution_count": 12,
   "metadata": {},
   "outputs": [
    {
     "name": "stdout",
     "output_type": "stream",
     "text": [
      "\n",
      "The share of price difference per region:\n"
     ]
    },
    {
     "data": {
      "text/html": [
       "<div>\n",
       "<style scoped>\n",
       "    .dataframe tbody tr th:only-of-type {\n",
       "        vertical-align: middle;\n",
       "    }\n",
       "\n",
       "    .dataframe tbody tr th {\n",
       "        vertical-align: top;\n",
       "    }\n",
       "\n",
       "    .dataframe thead th {\n",
       "        text-align: right;\n",
       "    }\n",
       "</style>\n",
       "<table border=\"1\" class=\"dataframe\">\n",
       "  <thead>\n",
       "    <tr style=\"text-align: right;\">\n",
       "      <th></th>\n",
       "      <th>Region</th>\n",
       "      <th>share_of_price_diff_prcnt</th>\n",
       "    </tr>\n",
       "  </thead>\n",
       "  <tbody>\n",
       "    <tr>\n",
       "      <th>0</th>\n",
       "      <td>West</td>\n",
       "      <td>40.762948</td>\n",
       "    </tr>\n",
       "    <tr>\n",
       "      <th>1</th>\n",
       "      <td>East</td>\n",
       "      <td>39.357517</td>\n",
       "    </tr>\n",
       "    <tr>\n",
       "      <th>2</th>\n",
       "      <td>Central</td>\n",
       "      <td>19.879535</td>\n",
       "    </tr>\n",
       "  </tbody>\n",
       "</table>\n",
       "</div>"
      ],
      "text/plain": [
       "    Region  share_of_price_diff_prcnt\n",
       "0     West                  40.762948\n",
       "1     East                  39.357517\n",
       "2  Central                  19.879535"
      ]
     },
     "execution_count": 12,
     "metadata": {},
     "output_type": "execute_result"
    }
   ],
   "source": [
    "query = '''\n",
    "        SELECT\n",
    "            DISTINCT \"Region\",\n",
    "            \n",
    "            SUM(\"Unit_Cost\" - \"MinPrice\") OVER\n",
    "            (PARTITION BY \"Region\") * 100 / SUM(\"Unit_Cost\" - \"MinPrice\") OVER()\n",
    "            AS share_of_price_diff_prcnt\n",
    "            \n",
    "        FROM \n",
    "            rep_sales\n",
    "            LEFT JOIN item ON item.\"Item\" = rep_sales.\"Item\"\n",
    "            \n",
    "        ORDER BY \n",
    "            share_of_price_diff_prcnt DESC;\n",
    "\n",
    "        '''\n",
    "print()\n",
    "print('The share of price difference per region:')\n",
    "queryResult(query)"
   ]
  },
  {
   "cell_type": "markdown",
   "metadata": {},
   "source": [
    "**West** has the biggest share in price fidderence"
   ]
  },
  {
   "cell_type": "markdown",
   "metadata": {},
   "source": [
    "----"
   ]
  },
  {
   "cell_type": "markdown",
   "metadata": {},
   "source": [
    "### 10. For each sale above the minimum price the rep gets 10% commission of the total price as a bonus. Which 3 sales reps have earned the most commission (show their commission as well)?"
   ]
  },
  {
   "cell_type": "code",
   "execution_count": 30,
   "metadata": {},
   "outputs": [
    {
     "name": "stdout",
     "output_type": "stream",
     "text": [
      "\n",
      "The top 3 reps with the highest commission:\n"
     ]
    },
    {
     "data": {
      "text/html": [
       "<div>\n",
       "<style scoped>\n",
       "    .dataframe tbody tr th:only-of-type {\n",
       "        vertical-align: middle;\n",
       "    }\n",
       "\n",
       "    .dataframe tbody tr th {\n",
       "        vertical-align: top;\n",
       "    }\n",
       "\n",
       "    .dataframe thead th {\n",
       "        text-align: right;\n",
       "    }\n",
       "</style>\n",
       "<table border=\"1\" class=\"dataframe\">\n",
       "  <thead>\n",
       "    <tr style=\"text-align: right;\">\n",
       "      <th></th>\n",
       "      <th>rep</th>\n",
       "      <th>commission</th>\n",
       "    </tr>\n",
       "  </thead>\n",
       "  <tbody>\n",
       "    <tr>\n",
       "      <th>0</th>\n",
       "      <td>Jardine</td>\n",
       "      <td>275.730</td>\n",
       "    </tr>\n",
       "    <tr>\n",
       "      <th>1</th>\n",
       "      <td>Thompson</td>\n",
       "      <td>272.633</td>\n",
       "    </tr>\n",
       "    <tr>\n",
       "      <th>2</th>\n",
       "      <td>Morgan</td>\n",
       "      <td>266.998</td>\n",
       "    </tr>\n",
       "  </tbody>\n",
       "</table>\n",
       "</div>"
      ],
      "text/plain": [
       "        rep  commission\n",
       "0   Jardine     275.730\n",
       "1  Thompson     272.633\n",
       "2    Morgan     266.998"
      ]
     },
     "execution_count": 30,
     "metadata": {},
     "output_type": "execute_result"
    }
   ],
   "source": [
    "query = '''\n",
    "        SELECT\n",
    "            rep_sales.\"Rep\" AS rep,\n",
    "            SUM((rep_sales.\"Total\") * 0.1) AS commission\n",
    "            \n",
    "        FROM\n",
    "            rep_sales\n",
    "            LEFT JOIN (SELECT DISTINCT * FROM item) AS item ON item.\"Item\" = rep_sales.\"Item\"\n",
    "            \n",
    "        WHERE\n",
    "            rep_sales.\"Unit_Cost\" > item.\"MinPrice\"\n",
    "            \n",
    "        GROUP BY\n",
    "            rep_sales.\"Rep\"\n",
    "        ORDER BY\n",
    "            commission DESC\n",
    "            \n",
    "        LIMIT 3;\n",
    "        '''\n",
    "print()\n",
    "print('The top 3 reps with the highest commission:')\n",
    "queryResult(query)"
   ]
  }
 ],
 "metadata": {
  "kernelspec": {
   "display_name": "Python 3",
   "language": "python",
   "name": "python3"
  },
  "language_info": {
   "codemirror_mode": {
    "name": "ipython",
    "version": 3
   },
   "file_extension": ".py",
   "mimetype": "text/x-python",
   "name": "python",
   "nbconvert_exporter": "python",
   "pygments_lexer": "ipython3",
   "version": "3.8.8"
  }
 },
 "nbformat": 4,
 "nbformat_minor": 4
}
