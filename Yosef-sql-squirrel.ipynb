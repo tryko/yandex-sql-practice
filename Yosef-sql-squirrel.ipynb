{
 "cells": [
  {
   "cell_type": "markdown",
   "metadata": {},
   "source": [
    "### Used Libraries<a class=\"anchor\" id=\"chapter1\"></a>"
   ]
  },
  {
   "cell_type": "code",
   "execution_count": 1,
   "metadata": {},
   "outputs": [],
   "source": [
    "import pandas as pd\n",
    "from sqlalchemy import create_engine\n",
    "import psycopg2"
   ]
  },
  {
   "cell_type": "markdown",
   "metadata": {},
   "source": [
    "### Access to the DB <a class=\"anchor\" id=\"chapter2\"></a>"
   ]
  },
  {
   "cell_type": "code",
   "execution_count": 2,
   "metadata": {},
   "outputs": [],
   "source": [
    "db_config = {'user': 'practicum_student',         # username\n",
    "             'pwd': 's65BlTKV3faNIGhmvJVzOqhs', # password\n",
    "             'host': 'rc1b-wcoijxj3yxfsf3fs.mdb.yandexcloud.net',\n",
    "             'port': 6432,              # connection port\n",
    "             'db': \"data-analyst-eth-payouts-db\"}          # the name of the database\n",
    "\n",
    "connection_string = 'postgresql://{}:{}@{}:{}/{}'.format(db_config['user'],\n",
    "                                                                     db_config['pwd'],\n",
    "                                                                       db_config['host'],\n",
    "                                                                       db_config['port'],\n",
    "                                                                       db_config['db'])\n",
    "\n",
    "engine = create_engine(connection_string, connect_args={'sslmode':'require'})\n"
   ]
  },
  {
   "cell_type": "markdown",
   "metadata": {},
   "source": [
    "#  Table Queries <a class=\"anchor\" id=\"chapter3\"></a>"
   ]
  },
  {
   "cell_type": "markdown",
   "metadata": {},
   "source": [
    "function that takes a query and return dataframe for general use"
   ]
  },
  {
   "cell_type": "code",
   "execution_count": 3,
   "metadata": {},
   "outputs": [],
   "source": [
    "def queryResult(q):\n",
    "    return pd.io.sql.read_sql(q, con = engine)"
   ]
  },
  {
   "cell_type": "code",
   "execution_count": 4,
   "metadata": {},
   "outputs": [
    {
     "name": "stderr",
     "output_type": "stream",
     "text": [
      "/tmp/ipykernel_7890/1391095270.py:5: SADeprecationWarning: The Engine.table_names() method is deprecated and will be removed in a future release.  Please refer to Inspector.get_table_names(). (deprecated since: 1.4)\n",
      "  engine.table_names()\n"
     ]
    },
    {
     "data": {
      "text/plain": [
       "['payout', 'plan']"
      ]
     },
     "execution_count": 4,
     "metadata": {},
     "output_type": "execute_result"
    }
   ],
   "source": [
    "# from sqlalchemy import inspect\n",
    "# inspector = inspect(engine)\n",
    "\n",
    "# inspector.get_table_names()\n",
    "engine.table_names()"
   ]
  },
  {
   "cell_type": "markdown",
   "metadata": {},
   "source": [
    "## payout table:\n",
    "\n",
    "**user_id:** user's id\n",
    "\n",
    "**eth_address:** the eth address that the user used to get the payout in Ethernium. (users can have multiple addresses)\n",
    "\n",
    "**date:** date of payout to user\n",
    "\n",
    "**payout:** amount that was paid to user\n",
    "\n",
    "## plan table:\n",
    "\n",
    "**user_id:** user's id\n",
    "\n",
    "**\"OS\":** Operating system of user\n",
    "\n",
    "**\"Plan\":** user's plan on the site"
   ]
  },
  {
   "cell_type": "code",
   "execution_count": 5,
   "metadata": {},
   "outputs": [
    {
     "data": {
      "text/html": [
       "<div>\n",
       "<style scoped>\n",
       "    .dataframe tbody tr th:only-of-type {\n",
       "        vertical-align: middle;\n",
       "    }\n",
       "\n",
       "    .dataframe tbody tr th {\n",
       "        vertical-align: top;\n",
       "    }\n",
       "\n",
       "    .dataframe thead th {\n",
       "        text-align: right;\n",
       "    }\n",
       "</style>\n",
       "<table border=\"1\" class=\"dataframe\">\n",
       "  <thead>\n",
       "    <tr style=\"text-align: right;\">\n",
       "      <th></th>\n",
       "      <th>user_id</th>\n",
       "      <th>eth_address</th>\n",
       "      <th>date</th>\n",
       "      <th>payout</th>\n",
       "    </tr>\n",
       "  </thead>\n",
       "  <tbody>\n",
       "    <tr>\n",
       "      <th>0</th>\n",
       "      <td>1005</td>\n",
       "      <td>0x4f9117b14426ac44ead4eaef0223830cb16bdb07</td>\n",
       "      <td>2020-07-27</td>\n",
       "      <td>1.68113</td>\n",
       "    </tr>\n",
       "    <tr>\n",
       "      <th>1</th>\n",
       "      <td>1005</td>\n",
       "      <td>0xccbe3f17a61f0e8ef05b04dc0c3f510522df6cc8</td>\n",
       "      <td>2020-09-04</td>\n",
       "      <td>2.27831</td>\n",
       "    </tr>\n",
       "    <tr>\n",
       "      <th>2</th>\n",
       "      <td>1020</td>\n",
       "      <td>0x2e22950c26899fd0dc0c593b147f6beb7f1c0c37</td>\n",
       "      <td>2020-11-11</td>\n",
       "      <td>0.25199</td>\n",
       "    </tr>\n",
       "    <tr>\n",
       "      <th>3</th>\n",
       "      <td>1020</td>\n",
       "      <td>0x2081974d67307ec737dd13c60b524ca4d644ec1d</td>\n",
       "      <td>2020-09-30</td>\n",
       "      <td>2.21076</td>\n",
       "    </tr>\n",
       "    <tr>\n",
       "      <th>4</th>\n",
       "      <td>1021</td>\n",
       "      <td>0x370ff36440a36825279db341c6b85bc0371e7c3f</td>\n",
       "      <td>2020-12-10</td>\n",
       "      <td>1.47999</td>\n",
       "    </tr>\n",
       "    <tr>\n",
       "      <th>...</th>\n",
       "      <td>...</td>\n",
       "      <td>...</td>\n",
       "      <td>...</td>\n",
       "      <td>...</td>\n",
       "    </tr>\n",
       "    <tr>\n",
       "      <th>563</th>\n",
       "      <td>4848</td>\n",
       "      <td>0x72c65e71cc7a2dc71096b64f7a42f8b3192539ab</td>\n",
       "      <td>2020-10-15</td>\n",
       "      <td>2.02452</td>\n",
       "    </tr>\n",
       "    <tr>\n",
       "      <th>564</th>\n",
       "      <td>4848</td>\n",
       "      <td>0xd8444ab60e7078d163ecc3ff65fbe01e8770e72d</td>\n",
       "      <td>2020-07-15</td>\n",
       "      <td>3.11877</td>\n",
       "    </tr>\n",
       "    <tr>\n",
       "      <th>565</th>\n",
       "      <td>4862</td>\n",
       "      <td>0xbdacd0eca1bfa3b2aabe9687bd3b65969227af34</td>\n",
       "      <td>2020-07-22</td>\n",
       "      <td>1.83956</td>\n",
       "    </tr>\n",
       "    <tr>\n",
       "      <th>566</th>\n",
       "      <td>4862</td>\n",
       "      <td>0x446447a208c6e2809f605906a4683e61335e8024</td>\n",
       "      <td>2020-08-13</td>\n",
       "      <td>1.44528</td>\n",
       "    </tr>\n",
       "    <tr>\n",
       "      <th>567</th>\n",
       "      <td>4862</td>\n",
       "      <td>0x72b246f6576a320cbcfd9ffe0a6f37f23219ba2b</td>\n",
       "      <td>2020-10-11</td>\n",
       "      <td>1.03908</td>\n",
       "    </tr>\n",
       "  </tbody>\n",
       "</table>\n",
       "<p>568 rows × 4 columns</p>\n",
       "</div>"
      ],
      "text/plain": [
       "     user_id                                 eth_address       date   payout\n",
       "0       1005  0x4f9117b14426ac44ead4eaef0223830cb16bdb07 2020-07-27  1.68113\n",
       "1       1005  0xccbe3f17a61f0e8ef05b04dc0c3f510522df6cc8 2020-09-04  2.27831\n",
       "2       1020  0x2e22950c26899fd0dc0c593b147f6beb7f1c0c37 2020-11-11  0.25199\n",
       "3       1020  0x2081974d67307ec737dd13c60b524ca4d644ec1d 2020-09-30  2.21076\n",
       "4       1021  0x370ff36440a36825279db341c6b85bc0371e7c3f 2020-12-10  1.47999\n",
       "..       ...                                         ...        ...      ...\n",
       "563     4848  0x72c65e71cc7a2dc71096b64f7a42f8b3192539ab 2020-10-15  2.02452\n",
       "564     4848  0xd8444ab60e7078d163ecc3ff65fbe01e8770e72d 2020-07-15  3.11877\n",
       "565     4862  0xbdacd0eca1bfa3b2aabe9687bd3b65969227af34 2020-07-22  1.83956\n",
       "566     4862  0x446447a208c6e2809f605906a4683e61335e8024 2020-08-13  1.44528\n",
       "567     4862  0x72b246f6576a320cbcfd9ffe0a6f37f23219ba2b 2020-10-11  1.03908\n",
       "\n",
       "[568 rows x 4 columns]"
      ]
     },
     "execution_count": 5,
     "metadata": {},
     "output_type": "execute_result"
    }
   ],
   "source": [
    "q = '''SELECT *\n",
    "FROM   payout  '''\n",
    "df_payout = queryResult(q)\n",
    "df_payout"
   ]
  },
  {
   "cell_type": "code",
   "execution_count": 6,
   "metadata": {},
   "outputs": [
    {
     "data": {
      "text/html": [
       "<div>\n",
       "<style scoped>\n",
       "    .dataframe tbody tr th:only-of-type {\n",
       "        vertical-align: middle;\n",
       "    }\n",
       "\n",
       "    .dataframe tbody tr th {\n",
       "        vertical-align: top;\n",
       "    }\n",
       "\n",
       "    .dataframe thead th {\n",
       "        text-align: right;\n",
       "    }\n",
       "</style>\n",
       "<table border=\"1\" class=\"dataframe\">\n",
       "  <thead>\n",
       "    <tr style=\"text-align: right;\">\n",
       "      <th></th>\n",
       "      <th>user_id</th>\n",
       "      <th>OS</th>\n",
       "      <th>Plan</th>\n",
       "    </tr>\n",
       "  </thead>\n",
       "  <tbody>\n",
       "    <tr>\n",
       "      <th>0</th>\n",
       "      <td>1005</td>\n",
       "      <td>Windows</td>\n",
       "      <td>Free</td>\n",
       "    </tr>\n",
       "    <tr>\n",
       "      <th>1</th>\n",
       "      <td>1020</td>\n",
       "      <td>MAC</td>\n",
       "      <td>Free</td>\n",
       "    </tr>\n",
       "    <tr>\n",
       "      <th>2</th>\n",
       "      <td>1021</td>\n",
       "      <td>Linux</td>\n",
       "      <td>Premium</td>\n",
       "    </tr>\n",
       "    <tr>\n",
       "      <th>3</th>\n",
       "      <td>1041</td>\n",
       "      <td>Linux</td>\n",
       "      <td>Free</td>\n",
       "    </tr>\n",
       "    <tr>\n",
       "      <th>4</th>\n",
       "      <td>1048</td>\n",
       "      <td>Windows</td>\n",
       "      <td>Free</td>\n",
       "    </tr>\n",
       "    <tr>\n",
       "      <th>...</th>\n",
       "      <td>...</td>\n",
       "      <td>...</td>\n",
       "      <td>...</td>\n",
       "    </tr>\n",
       "    <tr>\n",
       "      <th>428</th>\n",
       "      <td>4762</td>\n",
       "      <td>MAC</td>\n",
       "      <td>Premium</td>\n",
       "    </tr>\n",
       "    <tr>\n",
       "      <th>429</th>\n",
       "      <td>4765</td>\n",
       "      <td>Windows</td>\n",
       "      <td>Free</td>\n",
       "    </tr>\n",
       "    <tr>\n",
       "      <th>430</th>\n",
       "      <td>4798</td>\n",
       "      <td>MAC</td>\n",
       "      <td>Premium</td>\n",
       "    </tr>\n",
       "    <tr>\n",
       "      <th>431</th>\n",
       "      <td>4848</td>\n",
       "      <td>Linux</td>\n",
       "      <td>Premium</td>\n",
       "    </tr>\n",
       "    <tr>\n",
       "      <th>432</th>\n",
       "      <td>4862</td>\n",
       "      <td>MAC</td>\n",
       "      <td>Free</td>\n",
       "    </tr>\n",
       "  </tbody>\n",
       "</table>\n",
       "<p>433 rows × 3 columns</p>\n",
       "</div>"
      ],
      "text/plain": [
       "     user_id       OS     Plan\n",
       "0       1005  Windows     Free\n",
       "1       1020      MAC     Free\n",
       "2       1021    Linux  Premium\n",
       "3       1041    Linux     Free\n",
       "4       1048  Windows     Free\n",
       "..       ...      ...      ...\n",
       "428     4762      MAC  Premium\n",
       "429     4765  Windows     Free\n",
       "430     4798      MAC  Premium\n",
       "431     4848    Linux  Premium\n",
       "432     4862      MAC     Free\n",
       "\n",
       "[433 rows x 3 columns]"
      ]
     },
     "execution_count": 6,
     "metadata": {},
     "output_type": "execute_result"
    }
   ],
   "source": [
    "q = '''SELECT *\n",
    "FROM   plan '''\n",
    "df_plan = queryResult(q)\n",
    "df_plan"
   ]
  },
  {
   "cell_type": "markdown",
   "metadata": {},
   "source": [
    "1. How many users got paid?"
   ]
  },
  {
   "cell_type": "code",
   "execution_count": 7,
   "metadata": {},
   "outputs": [
    {
     "data": {
      "text/html": [
       "<div>\n",
       "<style scoped>\n",
       "    .dataframe tbody tr th:only-of-type {\n",
       "        vertical-align: middle;\n",
       "    }\n",
       "\n",
       "    .dataframe tbody tr th {\n",
       "        vertical-align: top;\n",
       "    }\n",
       "\n",
       "    .dataframe thead th {\n",
       "        text-align: right;\n",
       "    }\n",
       "</style>\n",
       "<table border=\"1\" class=\"dataframe\">\n",
       "  <thead>\n",
       "    <tr style=\"text-align: right;\">\n",
       "      <th></th>\n",
       "      <th>paid_users</th>\n",
       "    </tr>\n",
       "  </thead>\n",
       "  <tbody>\n",
       "    <tr>\n",
       "      <th>0</th>\n",
       "      <td>433</td>\n",
       "    </tr>\n",
       "  </tbody>\n",
       "</table>\n",
       "</div>"
      ],
      "text/plain": [
       "   paid_users\n",
       "0         433"
      ]
     },
     "execution_count": 7,
     "metadata": {},
     "output_type": "execute_result"
    }
   ],
   "source": [
    "q = \"select count(distinct user_id) as paid_users from payout\"\n",
    "queryResult(q)"
   ]
  },
  {
   "cell_type": "markdown",
   "metadata": {},
   "source": [
    "<div class=\"alert alert-success\" role=\"alert\">\n",
    "Great!</div>"
   ]
  },
  {
   "cell_type": "markdown",
   "metadata": {},
   "source": [
    " 2. Show the 5 users with the highest payouts"
   ]
  },
  {
   "cell_type": "code",
   "execution_count": 8,
   "metadata": {},
   "outputs": [
    {
     "data": {
      "text/html": [
       "<div>\n",
       "<style scoped>\n",
       "    .dataframe tbody tr th:only-of-type {\n",
       "        vertical-align: middle;\n",
       "    }\n",
       "\n",
       "    .dataframe tbody tr th {\n",
       "        vertical-align: top;\n",
       "    }\n",
       "\n",
       "    .dataframe thead th {\n",
       "        text-align: right;\n",
       "    }\n",
       "</style>\n",
       "<table border=\"1\" class=\"dataframe\">\n",
       "  <thead>\n",
       "    <tr style=\"text-align: right;\">\n",
       "      <th></th>\n",
       "      <th>user_id</th>\n",
       "      <th>total_payout</th>\n",
       "    </tr>\n",
       "  </thead>\n",
       "  <tbody>\n",
       "    <tr>\n",
       "      <th>0</th>\n",
       "      <td>1537</td>\n",
       "      <td>10.74169</td>\n",
       "    </tr>\n",
       "    <tr>\n",
       "      <th>1</th>\n",
       "      <td>3051</td>\n",
       "      <td>9.73121</td>\n",
       "    </tr>\n",
       "    <tr>\n",
       "      <th>2</th>\n",
       "      <td>1512</td>\n",
       "      <td>8.80816</td>\n",
       "    </tr>\n",
       "    <tr>\n",
       "      <th>3</th>\n",
       "      <td>1127</td>\n",
       "      <td>8.78861</td>\n",
       "    </tr>\n",
       "    <tr>\n",
       "      <th>4</th>\n",
       "      <td>4848</td>\n",
       "      <td>8.42445</td>\n",
       "    </tr>\n",
       "  </tbody>\n",
       "</table>\n",
       "</div>"
      ],
      "text/plain": [
       "   user_id  total_payout\n",
       "0     1537      10.74169\n",
       "1     3051       9.73121\n",
       "2     1512       8.80816\n",
       "3     1127       8.78861\n",
       "4     4848       8.42445"
      ]
     },
     "execution_count": 8,
     "metadata": {},
     "output_type": "execute_result"
    }
   ],
   "source": [
    "q='''SELECT user_id,\n",
    "       Sum(payout) AS total_payout\n",
    "FROM   payout\n",
    "GROUP  BY user_id\n",
    "ORDER  BY Sum(payout) DESC\n",
    "LIMIT  5  '''\n",
    "queryResult(q)"
   ]
  },
  {
   "cell_type": "markdown",
   "metadata": {},
   "source": [
    "<div class=\"alert alert-success\" role=\"alert\">\n",
    "Great!</div>"
   ]
  },
  {
   "cell_type": "markdown",
   "metadata": {},
   "source": [
    "3. Show the 5 users with the lowest payouts"
   ]
  },
  {
   "cell_type": "code",
   "execution_count": 9,
   "metadata": {},
   "outputs": [
    {
     "data": {
      "text/html": [
       "<div>\n",
       "<style scoped>\n",
       "    .dataframe tbody tr th:only-of-type {\n",
       "        vertical-align: middle;\n",
       "    }\n",
       "\n",
       "    .dataframe tbody tr th {\n",
       "        vertical-align: top;\n",
       "    }\n",
       "\n",
       "    .dataframe thead th {\n",
       "        text-align: right;\n",
       "    }\n",
       "</style>\n",
       "<table border=\"1\" class=\"dataframe\">\n",
       "  <thead>\n",
       "    <tr style=\"text-align: right;\">\n",
       "      <th></th>\n",
       "      <th>user_id</th>\n",
       "      <th>total_payout</th>\n",
       "    </tr>\n",
       "  </thead>\n",
       "  <tbody>\n",
       "    <tr>\n",
       "      <th>0</th>\n",
       "      <td>2003</td>\n",
       "      <td>0.00775</td>\n",
       "    </tr>\n",
       "    <tr>\n",
       "      <th>1</th>\n",
       "      <td>3410</td>\n",
       "      <td>0.00818</td>\n",
       "    </tr>\n",
       "    <tr>\n",
       "      <th>2</th>\n",
       "      <td>2813</td>\n",
       "      <td>0.02914</td>\n",
       "    </tr>\n",
       "    <tr>\n",
       "      <th>3</th>\n",
       "      <td>2462</td>\n",
       "      <td>0.03381</td>\n",
       "    </tr>\n",
       "    <tr>\n",
       "      <th>4</th>\n",
       "      <td>4467</td>\n",
       "      <td>0.05056</td>\n",
       "    </tr>\n",
       "  </tbody>\n",
       "</table>\n",
       "</div>"
      ],
      "text/plain": [
       "   user_id  total_payout\n",
       "0     2003       0.00775\n",
       "1     3410       0.00818\n",
       "2     2813       0.02914\n",
       "3     2462       0.03381\n",
       "4     4467       0.05056"
      ]
     },
     "execution_count": 9,
     "metadata": {},
     "output_type": "execute_result"
    }
   ],
   "source": [
    "q='''SELECT user_id,\n",
    "       Sum(payout) AS total_payout\n",
    "FROM   payout\n",
    "GROUP  BY user_id\n",
    "ORDER  BY Sum(payout)\n",
    "LIMIT  5  '''\n",
    "queryResult(q)"
   ]
  },
  {
   "cell_type": "markdown",
   "metadata": {},
   "source": [
    "<div class=\"alert alert-success\" role=\"alert\">\n",
    "Great!</div>"
   ]
  },
  {
   "cell_type": "markdown",
   "metadata": {},
   "source": [
    "4. How much ether was paid out in November 2020?"
   ]
  },
  {
   "cell_type": "code",
   "execution_count": 10,
   "metadata": {},
   "outputs": [
    {
     "data": {
      "text/html": [
       "<div>\n",
       "<style scoped>\n",
       "    .dataframe tbody tr th:only-of-type {\n",
       "        vertical-align: middle;\n",
       "    }\n",
       "\n",
       "    .dataframe tbody tr th {\n",
       "        vertical-align: top;\n",
       "    }\n",
       "\n",
       "    .dataframe thead th {\n",
       "        text-align: right;\n",
       "    }\n",
       "</style>\n",
       "<table border=\"1\" class=\"dataframe\">\n",
       "  <thead>\n",
       "    <tr style=\"text-align: right;\">\n",
       "      <th></th>\n",
       "      <th>total_nov_2020</th>\n",
       "    </tr>\n",
       "  </thead>\n",
       "  <tbody>\n",
       "    <tr>\n",
       "      <th>0</th>\n",
       "      <td>166.0118</td>\n",
       "    </tr>\n",
       "  </tbody>\n",
       "</table>\n",
       "</div>"
      ],
      "text/plain": [
       "   total_nov_2020\n",
       "0        166.0118"
      ]
     },
     "execution_count": 10,
     "metadata": {},
     "output_type": "execute_result"
    }
   ],
   "source": [
    "# one option:\n",
    "# q='''SELECT Extract(month FROM date) AS month,\n",
    "#        Extract(year FROM date)  AS year,\n",
    "#        Sum(payout)\n",
    "# FROM   payout\n",
    "# GROUP  BY Extract(month FROM date),\n",
    "#           Extract(year FROM date)\n",
    "# HAVING Extract(month FROM date) = 11\n",
    "#        AND Extract(year FROM date) = 2020  '''\n",
    "\n",
    "# second:\n",
    "q='''\n",
    "SELECT Sum(payout) AS total_nov_2020\n",
    "FROM   (SELECT *\n",
    "        FROM   payout\n",
    "        WHERE  Extract(month FROM date) = 11\n",
    "               AND Extract(year FROM date) = 2020) AS x  \n",
    "     \n",
    "'''\n",
    "queryResult(q)"
   ]
  },
  {
   "cell_type": "markdown",
   "metadata": {},
   "source": [
    "<div class=\"alert alert-success\" role=\"alert\">\n",
    "Great!</div>"
   ]
  },
  {
   "cell_type": "markdown",
   "metadata": {},
   "source": [
    "5. Which plan is the most popular?"
   ]
  },
  {
   "cell_type": "code",
   "execution_count": 11,
   "metadata": {},
   "outputs": [
    {
     "data": {
      "text/html": [
       "<div>\n",
       "<style scoped>\n",
       "    .dataframe tbody tr th:only-of-type {\n",
       "        vertical-align: middle;\n",
       "    }\n",
       "\n",
       "    .dataframe tbody tr th {\n",
       "        vertical-align: top;\n",
       "    }\n",
       "\n",
       "    .dataframe thead th {\n",
       "        text-align: right;\n",
       "    }\n",
       "</style>\n",
       "<table border=\"1\" class=\"dataframe\">\n",
       "  <thead>\n",
       "    <tr style=\"text-align: right;\">\n",
       "      <th></th>\n",
       "      <th>users_number</th>\n",
       "      <th>Plan</th>\n",
       "    </tr>\n",
       "  </thead>\n",
       "  <tbody>\n",
       "    <tr>\n",
       "      <th>0</th>\n",
       "      <td>220</td>\n",
       "      <td>Free</td>\n",
       "    </tr>\n",
       "    <tr>\n",
       "      <th>1</th>\n",
       "      <td>213</td>\n",
       "      <td>Premium</td>\n",
       "    </tr>\n",
       "  </tbody>\n",
       "</table>\n",
       "</div>"
      ],
      "text/plain": [
       "   users_number     Plan\n",
       "0           220     Free\n",
       "1           213  Premium"
      ]
     },
     "execution_count": 11,
     "metadata": {},
     "output_type": "execute_result"
    }
   ],
   "source": [
    "q = '''\n",
    "SELECT Count(user_id) AS users_number,\n",
    "       plan.\"Plan\"\n",
    "FROM   PLAN\n",
    "GROUP  BY plan.\"Plan\"  \n",
    "'''\n",
    "queryResult(q)"
   ]
  },
  {
   "cell_type": "markdown",
   "metadata": {},
   "source": [
    "<div class=\"alert alert-success\" role=\"alert\">\n",
    "Great!</div>"
   ]
  },
  {
   "cell_type": "markdown",
   "metadata": {},
   "source": [
    "Which plan is the most popular amongst Linux users?"
   ]
  },
  {
   "cell_type": "code",
   "execution_count": 12,
   "metadata": {},
   "outputs": [
    {
     "data": {
      "text/html": [
       "<div>\n",
       "<style scoped>\n",
       "    .dataframe tbody tr th:only-of-type {\n",
       "        vertical-align: middle;\n",
       "    }\n",
       "\n",
       "    .dataframe tbody tr th {\n",
       "        vertical-align: top;\n",
       "    }\n",
       "\n",
       "    .dataframe thead th {\n",
       "        text-align: right;\n",
       "    }\n",
       "</style>\n",
       "<table border=\"1\" class=\"dataframe\">\n",
       "  <thead>\n",
       "    <tr style=\"text-align: right;\">\n",
       "      <th></th>\n",
       "      <th>users_number</th>\n",
       "      <th>Plan</th>\n",
       "    </tr>\n",
       "  </thead>\n",
       "  <tbody>\n",
       "    <tr>\n",
       "      <th>0</th>\n",
       "      <td>68</td>\n",
       "      <td>Free</td>\n",
       "    </tr>\n",
       "    <tr>\n",
       "      <th>1</th>\n",
       "      <td>76</td>\n",
       "      <td>Premium</td>\n",
       "    </tr>\n",
       "  </tbody>\n",
       "</table>\n",
       "</div>"
      ],
      "text/plain": [
       "   users_number     Plan\n",
       "0            68     Free\n",
       "1            76  Premium"
      ]
     },
     "execution_count": 12,
     "metadata": {},
     "output_type": "execute_result"
    }
   ],
   "source": [
    "q='''SELECT Count(user_id) AS users_number,\n",
    "       plan.\"Plan\"\n",
    "FROM   PLAN\n",
    "WHERE  plan.\"OS\" = 'Linux'\n",
    "GROUP  BY plan.\"Plan\"  \n",
    "'''\n",
    "queryResult(q)"
   ]
  },
  {
   "cell_type": "markdown",
   "metadata": {},
   "source": [
    "<div class=\"alert alert-success\" role=\"alert\">\n",
    "Great!</div>"
   ]
  },
  {
   "cell_type": "markdown",
   "metadata": {},
   "source": [
    "7. What is the percentage of payout between the different plans?"
   ]
  },
  {
   "cell_type": "code",
   "execution_count": 14,
   "metadata": {},
   "outputs": [
    {
     "data": {
      "text/html": [
       "<div>\n",
       "<style scoped>\n",
       "    .dataframe tbody tr th:only-of-type {\n",
       "        vertical-align: middle;\n",
       "    }\n",
       "\n",
       "    .dataframe tbody tr th {\n",
       "        vertical-align: top;\n",
       "    }\n",
       "\n",
       "    .dataframe thead th {\n",
       "        text-align: right;\n",
       "    }\n",
       "</style>\n",
       "<table border=\"1\" class=\"dataframe\">\n",
       "  <thead>\n",
       "    <tr style=\"text-align: right;\">\n",
       "      <th></th>\n",
       "      <th>Plan</th>\n",
       "      <th>payout_plan</th>\n",
       "      <th>total_payout</th>\n",
       "      <th>percentage</th>\n",
       "    </tr>\n",
       "  </thead>\n",
       "  <tbody>\n",
       "    <tr>\n",
       "      <th>0</th>\n",
       "      <td>Premium</td>\n",
       "      <td>416.76178</td>\n",
       "      <td>905.45177</td>\n",
       "      <td>46.03</td>\n",
       "    </tr>\n",
       "    <tr>\n",
       "      <th>1</th>\n",
       "      <td>Free</td>\n",
       "      <td>488.68999</td>\n",
       "      <td>905.45177</td>\n",
       "      <td>53.97</td>\n",
       "    </tr>\n",
       "  </tbody>\n",
       "</table>\n",
       "</div>"
      ],
      "text/plain": [
       "      Plan  payout_plan  total_payout  percentage\n",
       "0  Premium    416.76178     905.45177       46.03\n",
       "1     Free    488.68999     905.45177       53.97"
      ]
     },
     "execution_count": 14,
     "metadata": {},
     "output_type": "execute_result"
    }
   ],
   "source": [
    "q='''\n",
    "SELECT DISTINCT \"Plan\",\n",
    "                Sum(payout) OVER(partition BY \"Plan\") AS payout_plan,\n",
    "                Sum(payout) OVER() AS total_payout,\n",
    "                Round(Sum(payout) OVER(partition BY \"Plan\") / Sum(payout) OVER() * 100, 2) AS percentage\n",
    "FROM payout\n",
    "       INNER JOIN plan\n",
    "               ON payout.user_id = plan.user_id  \n",
    "'''\n",
    "queryResult(q)"
   ]
  },
  {
   "cell_type": "markdown",
   "metadata": {},
   "source": [
    "<div class=\"alert alert-success\" role=\"alert\">\n",
    "Great! - but without a round will be better solution in general for percentage as we want more accuarcy</div>"
   ]
  },
  {
   "cell_type": "markdown",
   "metadata": {},
   "source": [
    "* corrected"
   ]
  },
  {
   "cell_type": "markdown",
   "metadata": {},
   "source": [
    "8. Users of which operating system earned more in payouts?"
   ]
  },
  {
   "cell_type": "code",
   "execution_count": 15,
   "metadata": {},
   "outputs": [
    {
     "data": {
      "text/html": [
       "<div>\n",
       "<style scoped>\n",
       "    .dataframe tbody tr th:only-of-type {\n",
       "        vertical-align: middle;\n",
       "    }\n",
       "\n",
       "    .dataframe tbody tr th {\n",
       "        vertical-align: top;\n",
       "    }\n",
       "\n",
       "    .dataframe thead th {\n",
       "        text-align: right;\n",
       "    }\n",
       "</style>\n",
       "<table border=\"1\" class=\"dataframe\">\n",
       "  <thead>\n",
       "    <tr style=\"text-align: right;\">\n",
       "      <th></th>\n",
       "      <th>total_payout</th>\n",
       "      <th>OS</th>\n",
       "    </tr>\n",
       "  </thead>\n",
       "  <tbody>\n",
       "    <tr>\n",
       "      <th>0</th>\n",
       "      <td>322.00353</td>\n",
       "      <td>Linux</td>\n",
       "    </tr>\n",
       "    <tr>\n",
       "      <th>1</th>\n",
       "      <td>316.03701</td>\n",
       "      <td>Windows</td>\n",
       "    </tr>\n",
       "    <tr>\n",
       "      <th>2</th>\n",
       "      <td>267.41123</td>\n",
       "      <td>MAC</td>\n",
       "    </tr>\n",
       "  </tbody>\n",
       "</table>\n",
       "</div>"
      ],
      "text/plain": [
       "   total_payout       OS\n",
       "0     322.00353    Linux\n",
       "1     316.03701  Windows\n",
       "2     267.41123      MAC"
      ]
     },
     "execution_count": 15,
     "metadata": {},
     "output_type": "execute_result"
    }
   ],
   "source": [
    "q='''\n",
    "SELECT Sum(payout) AS total_payout,\n",
    "       \"OS\"\n",
    "FROM   payout\n",
    "       INNER JOIN PLAN\n",
    "               ON payout.user_id = PLAN.user_id\n",
    "GROUP  BY \"OS\"\n",
    "ORDER  BY Sum(payout) DESC  \n",
    "'''\n",
    "queryResult(q)"
   ]
  },
  {
   "cell_type": "markdown",
   "metadata": {},
   "source": [
    "<div class=\"alert alert-success\" role=\"alert\">\n",
    "Great! - might be good to show the rest here to know by how much</div>"
   ]
  },
  {
   "cell_type": "markdown",
   "metadata": {},
   "source": [
    "* corrected"
   ]
  },
  {
   "cell_type": "markdown",
   "metadata": {},
   "source": [
    "9. What is the average payout amount per user for each of the OS in July 2020?"
   ]
  },
  {
   "cell_type": "code",
   "execution_count": 16,
   "metadata": {},
   "outputs": [
    {
     "data": {
      "text/html": [
       "<div>\n",
       "<style scoped>\n",
       "    .dataframe tbody tr th:only-of-type {\n",
       "        vertical-align: middle;\n",
       "    }\n",
       "\n",
       "    .dataframe tbody tr th {\n",
       "        vertical-align: top;\n",
       "    }\n",
       "\n",
       "    .dataframe thead th {\n",
       "        text-align: right;\n",
       "    }\n",
       "</style>\n",
       "<table border=\"1\" class=\"dataframe\">\n",
       "  <thead>\n",
       "    <tr style=\"text-align: right;\">\n",
       "      <th></th>\n",
       "      <th>avg_payout</th>\n",
       "      <th>OS</th>\n",
       "    </tr>\n",
       "  </thead>\n",
       "  <tbody>\n",
       "    <tr>\n",
       "      <th>0</th>\n",
       "      <td>1.931114</td>\n",
       "      <td>Linux</td>\n",
       "    </tr>\n",
       "    <tr>\n",
       "      <th>1</th>\n",
       "      <td>1.640537</td>\n",
       "      <td>MAC</td>\n",
       "    </tr>\n",
       "    <tr>\n",
       "      <th>2</th>\n",
       "      <td>1.590600</td>\n",
       "      <td>Windows</td>\n",
       "    </tr>\n",
       "  </tbody>\n",
       "</table>\n",
       "</div>"
      ],
      "text/plain": [
       "   avg_payout       OS\n",
       "0    1.931114    Linux\n",
       "1    1.640537      MAC\n",
       "2    1.590600  Windows"
      ]
     },
     "execution_count": 16,
     "metadata": {},
     "output_type": "execute_result"
    }
   ],
   "source": [
    "q='''\n",
    "SELECT AVG(payout) AS avg_payout,\n",
    "       \"OS\"\n",
    "FROM   payout\n",
    "       INNER JOIN plan\n",
    "               ON payout.user_id = plan.user_id\n",
    "WHERE extract(month from date)=7 and extract(year from date)=2020\n",
    "GROUP  BY \"OS\"\n",
    "'''\n",
    "queryResult(q)"
   ]
  },
  {
   "cell_type": "markdown",
   "metadata": {},
   "source": [
    "<div class=\"alert alert-success\" role=\"alert\">\n",
    "Great!</div>"
   ]
  },
  {
   "cell_type": "markdown",
   "metadata": {},
   "source": [
    "10. What is the daily share of ether earned by users from Linux that are in the free plan in this data?"
   ]
  },
  {
   "cell_type": "code",
   "execution_count": 17,
   "metadata": {},
   "outputs": [
    {
     "data": {
      "text/html": [
       "<div>\n",
       "<style scoped>\n",
       "    .dataframe tbody tr th:only-of-type {\n",
       "        vertical-align: middle;\n",
       "    }\n",
       "\n",
       "    .dataframe tbody tr th {\n",
       "        vertical-align: top;\n",
       "    }\n",
       "\n",
       "    .dataframe thead th {\n",
       "        text-align: right;\n",
       "    }\n",
       "</style>\n",
       "<table border=\"1\" class=\"dataframe\">\n",
       "  <thead>\n",
       "    <tr style=\"text-align: right;\">\n",
       "      <th></th>\n",
       "      <th>user_id</th>\n",
       "      <th>date</th>\n",
       "      <th>user_sum</th>\n",
       "      <th>total_date</th>\n",
       "      <th>daily_share</th>\n",
       "    </tr>\n",
       "  </thead>\n",
       "  <tbody>\n",
       "    <tr>\n",
       "      <th>0</th>\n",
       "      <td>3415</td>\n",
       "      <td>2020-07-07</td>\n",
       "      <td>2.50566</td>\n",
       "      <td>6.94641</td>\n",
       "      <td>0.36</td>\n",
       "    </tr>\n",
       "    <tr>\n",
       "      <th>1</th>\n",
       "      <td>3146</td>\n",
       "      <td>2020-07-08</td>\n",
       "      <td>1.39229</td>\n",
       "      <td>4.45935</td>\n",
       "      <td>0.31</td>\n",
       "    </tr>\n",
       "    <tr>\n",
       "      <th>2</th>\n",
       "      <td>2154</td>\n",
       "      <td>2020-07-11</td>\n",
       "      <td>1.72359</td>\n",
       "      <td>4.72946</td>\n",
       "      <td>0.36</td>\n",
       "    </tr>\n",
       "    <tr>\n",
       "      <th>3</th>\n",
       "      <td>4235</td>\n",
       "      <td>2020-07-13</td>\n",
       "      <td>3.13763</td>\n",
       "      <td>7.24881</td>\n",
       "      <td>0.43</td>\n",
       "    </tr>\n",
       "    <tr>\n",
       "      <th>4</th>\n",
       "      <td>3542</td>\n",
       "      <td>2020-07-14</td>\n",
       "      <td>0.67543</td>\n",
       "      <td>5.77610</td>\n",
       "      <td>0.12</td>\n",
       "    </tr>\n",
       "    <tr>\n",
       "      <th>...</th>\n",
       "      <td>...</td>\n",
       "      <td>...</td>\n",
       "      <td>...</td>\n",
       "      <td>...</td>\n",
       "      <td>...</td>\n",
       "    </tr>\n",
       "    <tr>\n",
       "      <th>94</th>\n",
       "      <td>2935</td>\n",
       "      <td>2021-01-02</td>\n",
       "      <td>0.30163</td>\n",
       "      <td>3.23708</td>\n",
       "      <td>0.09</td>\n",
       "    </tr>\n",
       "    <tr>\n",
       "      <th>95</th>\n",
       "      <td>1330</td>\n",
       "      <td>2021-01-03</td>\n",
       "      <td>1.51269</td>\n",
       "      <td>5.85108</td>\n",
       "      <td>0.26</td>\n",
       "    </tr>\n",
       "    <tr>\n",
       "      <th>96</th>\n",
       "      <td>2128</td>\n",
       "      <td>2021-01-04</td>\n",
       "      <td>0.68610</td>\n",
       "      <td>7.50206</td>\n",
       "      <td>0.09</td>\n",
       "    </tr>\n",
       "    <tr>\n",
       "      <th>97</th>\n",
       "      <td>4131</td>\n",
       "      <td>2021-01-05</td>\n",
       "      <td>2.36296</td>\n",
       "      <td>9.85304</td>\n",
       "      <td>0.24</td>\n",
       "    </tr>\n",
       "    <tr>\n",
       "      <th>98</th>\n",
       "      <td>4608</td>\n",
       "      <td>2021-01-05</td>\n",
       "      <td>1.35791</td>\n",
       "      <td>9.85304</td>\n",
       "      <td>0.14</td>\n",
       "    </tr>\n",
       "  </tbody>\n",
       "</table>\n",
       "<p>99 rows × 5 columns</p>\n",
       "</div>"
      ],
      "text/plain": [
       "    user_id       date  user_sum  total_date  daily_share\n",
       "0      3415 2020-07-07   2.50566     6.94641         0.36\n",
       "1      3146 2020-07-08   1.39229     4.45935         0.31\n",
       "2      2154 2020-07-11   1.72359     4.72946         0.36\n",
       "3      4235 2020-07-13   3.13763     7.24881         0.43\n",
       "4      3542 2020-07-14   0.67543     5.77610         0.12\n",
       "..      ...        ...       ...         ...          ...\n",
       "94     2935 2021-01-02   0.30163     3.23708         0.09\n",
       "95     1330 2021-01-03   1.51269     5.85108         0.26\n",
       "96     2128 2021-01-04   0.68610     7.50206         0.09\n",
       "97     4131 2021-01-05   2.36296     9.85304         0.24\n",
       "98     4608 2021-01-05   1.35791     9.85304         0.14\n",
       "\n",
       "[99 rows x 5 columns]"
      ]
     },
     "execution_count": 17,
     "metadata": {},
     "output_type": "execute_result"
    }
   ],
   "source": [
    "q='''\n",
    "select distinct x.user_id,x.date, x.user_sum,y.total_date,\n",
    "round(x.user_sum/y.total_date,2) as daily_share \n",
    "from\n",
    "(select payout.user_id,date,\n",
    "sum(payout) over (partition by payout.user_id,date) as user_sum\n",
    "from payout \n",
    "inner join plan\n",
    "on plan.user_id= payout.user_id\n",
    "where \"Plan\"='Free' and \"OS\"='Linux') as x\n",
    "inner join \n",
    "(select date,\n",
    "sum(payout) over(partition by date) as total_date\n",
    "from payout \n",
    "inner join plan\n",
    "on plan.user_id= payout.user_id\n",
    ") as y \n",
    "on x.date=y.date\n",
    "order by x.date\n",
    "\n",
    "'''\n",
    "\n",
    "queryResult(q)"
   ]
  },
  {
   "cell_type": "markdown",
   "metadata": {},
   "source": [
    "<div class=\"alert alert-success\" role=\"alert\">\n",
    "Great!  \n",
    "</div>"
   ]
  }
 ],
 "metadata": {
  "kernelspec": {
   "display_name": "Python 3",
   "language": "python",
   "name": "python3"
  },
  "language_info": {
   "codemirror_mode": {
    "name": "ipython",
    "version": 3
   },
   "file_extension": ".py",
   "mimetype": "text/x-python",
   "name": "python",
   "nbconvert_exporter": "python",
   "pygments_lexer": "ipython3",
   "version": "3.8.10"
  }
 },
 "nbformat": 4,
 "nbformat_minor": 4
}
