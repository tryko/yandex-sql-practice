{
 "cells": [
  {
   "cell_type": "markdown",
   "source": [
    "Itay Koren PANDA TASK"
   ],
   "metadata": {}
  },
  {
   "cell_type": "code",
   "execution_count": 2,
   "source": [
    "pip install psycopg2 -U"
   ],
   "outputs": [
    {
     "output_type": "stream",
     "name": "stdout",
     "text": [
      "Requirement already satisfied: psycopg2 in c:\\users\\itay8\\anaconda3\\lib\\site-packages (2.9.1)\n",
      "Note: you may need to restart the kernel to use updated packages.\n"
     ]
    }
   ],
   "metadata": {}
  },
  {
   "cell_type": "code",
   "execution_count": 3,
   "source": [
    "import pandas as pd\n",
    "from sqlalchemy import create_engine\n",
    "import psycopg2"
   ],
   "outputs": [],
   "metadata": {}
  },
  {
   "cell_type": "markdown",
   "source": [
    "### Access to the DB <a class=\"anchor\" id=\"chapter2\"></a>"
   ],
   "metadata": {}
  },
  {
   "cell_type": "code",
   "execution_count": 4,
   "source": [
    "db_config = {'user': 'practicum_student',         # username\n",
    "             'pwd': 's65BlTKV3faNIGhmvJVzOqhs', # password\n",
    "             'host': 'rc1b-wcoijxj3yxfsf3fs.mdb.yandexcloud.net',\n",
    "             'port': 6432,              # connection port\n",
    "             'db': 'data-analyst-fc-barcelona-20-21-db'}          # the name of the database\n",
    "\n",
    "connection_string = 'postgresql://{}:{}@{}:{}/{}'.format(db_config['user'],\n",
    "                                                                     db_config['pwd'],\n",
    "                                                                       db_config['host'],\n",
    "                                                                       db_config['port'],\n",
    "                                                                       db_config['db'])\n",
    "\n",
    "engine = create_engine(connection_string, connect_args={'sslmode':'require'})\n"
   ],
   "outputs": [],
   "metadata": {}
  },
  {
   "cell_type": "markdown",
   "source": [
    "#  Table Queries <a class=\"anchor\" id=\"chapter3\"></a>"
   ],
   "metadata": {}
  },
  {
   "cell_type": "markdown",
   "source": [
    "function that takes a query and return dataframe for general use"
   ],
   "metadata": {}
  },
  {
   "cell_type": "code",
   "execution_count": 5,
   "source": [
    "def queryResult(q):\n",
    "    return pd.io.sql.read_sql(q, con = engine)"
   ],
   "outputs": [],
   "metadata": {}
  },
  {
   "cell_type": "markdown",
   "source": [
    "\n",
    "squad table:\n",
    "\n",
    "        player_id: player's id\n",
    "\n",
    "        first_name: player's first name\n",
    "\n",
    "        last_name: player's last name\n",
    "\n",
    "        position: position in the field - gk,df,mf,fw\n",
    "\n",
    "games_played table:\n",
    "\n",
    "        player_id: player's id\n",
    "\n",
    "        league: league appearances\n",
    "\n",
    "        champions: champions appearances\n",
    "\n",
    "        cup: cup appearances\n",
    "\n",
    "        supercup: supercup appearances\n",
    "\n",
    "league_stats table:\n",
    "\n",
    "        player_id: player's id\n",
    "\n",
    "        league_goals: goals in league\n",
    "\n",
    "        league_assits: assits in league\n",
    "\n",
    "        league_yellow: yellow cards in league\n",
    "\n",
    "        league_red: red cards in league\n",
    "\n",
    "        league_minutes: minutes played in league\n",
    "\n",
    "champions_stats table:\n",
    "\n",
    "        player_id: player's id\n",
    "\n",
    "        champions_goals: goals in champions\n",
    "\n",
    "        champions_assits: assits in champions\n",
    "\n",
    "        champions_yellow: yellow cards in champions\n",
    "\n",
    "        champions_red: red cards in champions\n",
    "\n",
    "        champions_minutes: minutes played in champions\n",
    "\n",
    "supercup_stats table:\n",
    "\n",
    "        player_id: player's id\n",
    "\n",
    "        supercup_goals: goals in supercup\n",
    "\n",
    "        supercup_assits: assits in supercup\n",
    "\n",
    "        supercup_yellow: yellow cards in supercup\n",
    "\n",
    "        supercup_red: red cards in supercup\n",
    "\n",
    "        supercup_minutes: minutes played in supercup\n"
   ],
   "metadata": {}
  },
  {
   "cell_type": "markdown",
   "source": [
    "1. What is the position played by the majority of the squad?\n"
   ],
   "metadata": {}
  },
  {
   "cell_type": "code",
   "execution_count": 6,
   "source": [
    "# squad table:\n",
    "\n",
    "# player_id: player's id\n",
    "\n",
    "# first_name: player's first name\n",
    "\n",
    "# last_name: player's last name\n",
    "\n",
    "# position: position in the field - gk,df,mf,fw\n",
    "\n",
    "query = '''\n",
    "    SELECT  \n",
    "        position,\n",
    "        COUNT(position) as pos_count\n",
    "    FROM\n",
    "        squad\n",
    "    GROUP BY\n",
    "        position\n",
    "    ORDER BY\n",
    "        pos_count DESC\n",
    "    LIMIT 1;\n",
    "'''\n",
    "queryResult(query)"
   ],
   "outputs": [
    {
     "output_type": "execute_result",
     "data": {
      "text/plain": [
       "  position  pos_count\n",
       "0       df          9"
      ],
      "text/html": [
       "<div>\n",
       "<style scoped>\n",
       "    .dataframe tbody tr th:only-of-type {\n",
       "        vertical-align: middle;\n",
       "    }\n",
       "\n",
       "    .dataframe tbody tr th {\n",
       "        vertical-align: top;\n",
       "    }\n",
       "\n",
       "    .dataframe thead th {\n",
       "        text-align: right;\n",
       "    }\n",
       "</style>\n",
       "<table border=\"1\" class=\"dataframe\">\n",
       "  <thead>\n",
       "    <tr style=\"text-align: right;\">\n",
       "      <th></th>\n",
       "      <th>position</th>\n",
       "      <th>pos_count</th>\n",
       "    </tr>\n",
       "  </thead>\n",
       "  <tbody>\n",
       "    <tr>\n",
       "      <th>0</th>\n",
       "      <td>df</td>\n",
       "      <td>9</td>\n",
       "    </tr>\n",
       "  </tbody>\n",
       "</table>\n",
       "</div>"
      ]
     },
     "metadata": {},
     "execution_count": 6
    }
   ],
   "metadata": {}
  },
  {
   "cell_type": "markdown",
   "source": [
    "\n",
    "2. Which players played the most games during the entire season?\n"
   ],
   "metadata": {}
  },
  {
   "cell_type": "code",
   "execution_count": 7,
   "source": [
    "# games_played table:\n",
    "\n",
    "#     player_id: player's id\n",
    "\n",
    "#     league: league appearances\n",
    "\n",
    "#     champions: champions appearances\n",
    "\n",
    "#     cup: cup appearances\n",
    "\n",
    "#     supercup: supercup appearances\n",
    "\n",
    "query = '''\n",
    "    SELECT\n",
    "        DISTINCT player_id,\n",
    "        ((SUM(league)  OVER(PARTITION BY player_id))  + (SUM(champions)  OVER(PARTITION BY player_id))\n",
    "        + (SUM(supercup)  OVER(PARTITION BY player_id)) + (SUM(cup)  OVER(PARTITION BY player_id))\n",
    "        )  as total_appr\n",
    "    FROM\n",
    "        games_played\n",
    "    ORDER BY\n",
    "        total_appr DESC\n",
    "    LIMIT 1\n",
    "    ;\n",
    "'''\n",
    "queryResult(query)"
   ],
   "outputs": [
    {
     "output_type": "execute_result",
     "data": {
      "text/plain": [
       "   player_id  total_appr\n",
       "0         19          52"
      ],
      "text/html": [
       "<div>\n",
       "<style scoped>\n",
       "    .dataframe tbody tr th:only-of-type {\n",
       "        vertical-align: middle;\n",
       "    }\n",
       "\n",
       "    .dataframe tbody tr th {\n",
       "        vertical-align: top;\n",
       "    }\n",
       "\n",
       "    .dataframe thead th {\n",
       "        text-align: right;\n",
       "    }\n",
       "</style>\n",
       "<table border=\"1\" class=\"dataframe\">\n",
       "  <thead>\n",
       "    <tr style=\"text-align: right;\">\n",
       "      <th></th>\n",
       "      <th>player_id</th>\n",
       "      <th>total_appr</th>\n",
       "    </tr>\n",
       "  </thead>\n",
       "  <tbody>\n",
       "    <tr>\n",
       "      <th>0</th>\n",
       "      <td>19</td>\n",
       "      <td>52</td>\n",
       "    </tr>\n",
       "  </tbody>\n",
       "</table>\n",
       "</div>"
      ]
     },
     "metadata": {},
     "execution_count": 7
    }
   ],
   "metadata": {}
  },
  {
   "cell_type": "markdown",
   "source": [
    "\n",
    "3. Out of the players who played less than 1000 minutes in the league who scored the most goals?\n"
   ],
   "metadata": {}
  },
  {
   "cell_type": "code",
   "execution_count": 8,
   "source": [
    "# league_stats table:\r\n",
    "\r\n",
    "#     player_id: player's id\r\n",
    "\r\n",
    "#     league_goals: goals in league\r\n",
    "\r\n",
    "#     league_assits: assits in league\r\n",
    "\r\n",
    "#     league_yellow: yellow cards in league\r\n",
    "\r\n",
    "#     league_red: red cards in league\r\n",
    "\r\n",
    "#     league_minutes: minutes played in league\r\n",
    "\r\n",
    "query = '''\r\n",
    "    SELECT  \r\n",
    "        player_id,\r\n",
    "        league_goals\r\n",
    "    FROM\r\n",
    "        league_stats\r\n",
    "    WHERE\r\n",
    "        league_goals = (SELECT MAX(league_goals) FROM league_stats WHERE league_minutes < 1000)\r\n",
    "'''\r\n",
    "queryResult(query)"
   ],
   "outputs": [
    {
     "output_type": "execute_result",
     "data": {
      "text/plain": [
       "   player_id  league_goals\n",
       "0         22             4"
      ],
      "text/html": [
       "<div>\n",
       "<style scoped>\n",
       "    .dataframe tbody tr th:only-of-type {\n",
       "        vertical-align: middle;\n",
       "    }\n",
       "\n",
       "    .dataframe tbody tr th {\n",
       "        vertical-align: top;\n",
       "    }\n",
       "\n",
       "    .dataframe thead th {\n",
       "        text-align: right;\n",
       "    }\n",
       "</style>\n",
       "<table border=\"1\" class=\"dataframe\">\n",
       "  <thead>\n",
       "    <tr style=\"text-align: right;\">\n",
       "      <th></th>\n",
       "      <th>player_id</th>\n",
       "      <th>league_goals</th>\n",
       "    </tr>\n",
       "  </thead>\n",
       "  <tbody>\n",
       "    <tr>\n",
       "      <th>0</th>\n",
       "      <td>22</td>\n",
       "      <td>4</td>\n",
       "    </tr>\n",
       "  </tbody>\n",
       "</table>\n",
       "</div>"
      ]
     },
     "metadata": {},
     "execution_count": 8
    }
   ],
   "metadata": {}
  },
  {
   "cell_type": "markdown",
   "source": [
    "\r\n",
    "4. Which players played the most minutes in the league? Show top 5.\r\n"
   ],
   "metadata": {}
  },
  {
   "cell_type": "code",
   "execution_count": 9,
   "source": [
    "# league_stats table:\r\n",
    "\r\n",
    "#     player_id: player's id\r\n",
    "\r\n",
    "#     league_goals: goals in league\r\n",
    "\r\n",
    "#     league_assits: assits in league\r\n",
    "\r\n",
    "#     league_yellow: yellow cards in league\r\n",
    "\r\n",
    "#     league_red: red cards in league\r\n",
    "\r\n",
    "#     league_minutes: minutes played in league\r\n",
    "\r\n",
    "query = '''\r\n",
    "    SELECT  \r\n",
    "    player_id,\r\n",
    "    league_minutes\r\n",
    "    FROM\r\n",
    "        league_stats\r\n",
    "    ORDER BY \r\n",
    "        league_minutes DESC\r\n",
    "    LIMIT 5\r\n",
    "'''\r\n",
    "queryResult(query)"
   ],
   "outputs": [
    {
     "output_type": "execute_result",
     "data": {
      "text/plain": [
       "   player_id  league_minutes\n",
       "0         15            3158\n",
       "1         12            3030\n",
       "2         29            3022\n",
       "3          1            2790\n",
       "4         28            2619"
      ],
      "text/html": [
       "<div>\n",
       "<style scoped>\n",
       "    .dataframe tbody tr th:only-of-type {\n",
       "        vertical-align: middle;\n",
       "    }\n",
       "\n",
       "    .dataframe tbody tr th {\n",
       "        vertical-align: top;\n",
       "    }\n",
       "\n",
       "    .dataframe thead th {\n",
       "        text-align: right;\n",
       "    }\n",
       "</style>\n",
       "<table border=\"1\" class=\"dataframe\">\n",
       "  <thead>\n",
       "    <tr style=\"text-align: right;\">\n",
       "      <th></th>\n",
       "      <th>player_id</th>\n",
       "      <th>league_minutes</th>\n",
       "    </tr>\n",
       "  </thead>\n",
       "  <tbody>\n",
       "    <tr>\n",
       "      <th>0</th>\n",
       "      <td>15</td>\n",
       "      <td>3158</td>\n",
       "    </tr>\n",
       "    <tr>\n",
       "      <th>1</th>\n",
       "      <td>12</td>\n",
       "      <td>3030</td>\n",
       "    </tr>\n",
       "    <tr>\n",
       "      <th>2</th>\n",
       "      <td>29</td>\n",
       "      <td>3022</td>\n",
       "    </tr>\n",
       "    <tr>\n",
       "      <th>3</th>\n",
       "      <td>1</td>\n",
       "      <td>2790</td>\n",
       "    </tr>\n",
       "    <tr>\n",
       "      <th>4</th>\n",
       "      <td>28</td>\n",
       "      <td>2619</td>\n",
       "    </tr>\n",
       "  </tbody>\n",
       "</table>\n",
       "</div>"
      ]
     },
     "metadata": {},
     "execution_count": 9
    }
   ],
   "metadata": {}
  },
  {
   "cell_type": "markdown",
   "source": [
    "\r\n",
    "5.How many assists were made by the forwards?\r\n"
   ],
   "metadata": {}
  },
  {
   "cell_type": "code",
   "execution_count": 12,
   "source": [
    "# squad table:                                                        \r\n",
    "# player_id: player's id                            \r\n",
    "# position: position in the field - gk,df,mf,fw           \r\n",
    "                                                             \r\n",
    "# league_stats table:\r\n",
    "# player_id: player's id\r\n",
    "# league_assits: assits in league\r\n",
    "\r\n",
    "# champions_stats table:\r\n",
    "# player_id: player's id\r\n",
    "# champions_assits: assits in champions\r\n",
    "\r\n",
    "# supercup_stats table:\r\n",
    "# player_id: player's id\r\n",
    "# supercup_assits: assits in supercup\r\n",
    "\r\n",
    "\r\n",
    "\r\n",
    "query = '''\r\n",
    "    SELECT  \r\n",
    "       squad.player_id,\r\n",
    "       league_stats.league_assists + champions_stats.champions_assists + cup_assists\r\n",
    "       + supercup_stats.supercup_assists as forword_assists\r\n",
    "\r\n",
    "    FROM\r\n",
    "        squad\r\n",
    "        INNER JOIN league_stats \r\n",
    "            ON league_stats.player_id = squad.player_id\r\n",
    "        INNER JOIN champions_stats\r\n",
    "            ON champions_stats.player_id = squad.player_id\r\n",
    "        INNER JOIN cup_stats\r\n",
    "            ON cup_stats.player_id = squad.player_id\r\n",
    "        INNER JOIN supercup_stats\r\n",
    "            ON supercup_stats.player_id = squad.player_id\r\n",
    "    WHERE \r\n",
    "        squad.position = 'fw'\r\n",
    "'''\r\n",
    "queryResult(query)"
   ],
   "outputs": [
    {
     "output_type": "execute_result",
     "data": {
      "text/plain": [
       "   player_id  forword_assists\n",
       "0         22                4\n",
       "1         23                0\n",
       "2         24                5\n",
       "3         25                2\n",
       "4         26                0\n",
       "5         27                4\n",
       "6         28               13\n",
       "7         29               14"
      ],
      "text/html": [
       "<div>\n",
       "<style scoped>\n",
       "    .dataframe tbody tr th:only-of-type {\n",
       "        vertical-align: middle;\n",
       "    }\n",
       "\n",
       "    .dataframe tbody tr th {\n",
       "        vertical-align: top;\n",
       "    }\n",
       "\n",
       "    .dataframe thead th {\n",
       "        text-align: right;\n",
       "    }\n",
       "</style>\n",
       "<table border=\"1\" class=\"dataframe\">\n",
       "  <thead>\n",
       "    <tr style=\"text-align: right;\">\n",
       "      <th></th>\n",
       "      <th>player_id</th>\n",
       "      <th>forword_assists</th>\n",
       "    </tr>\n",
       "  </thead>\n",
       "  <tbody>\n",
       "    <tr>\n",
       "      <th>0</th>\n",
       "      <td>22</td>\n",
       "      <td>4</td>\n",
       "    </tr>\n",
       "    <tr>\n",
       "      <th>1</th>\n",
       "      <td>23</td>\n",
       "      <td>0</td>\n",
       "    </tr>\n",
       "    <tr>\n",
       "      <th>2</th>\n",
       "      <td>24</td>\n",
       "      <td>5</td>\n",
       "    </tr>\n",
       "    <tr>\n",
       "      <th>3</th>\n",
       "      <td>25</td>\n",
       "      <td>2</td>\n",
       "    </tr>\n",
       "    <tr>\n",
       "      <th>4</th>\n",
       "      <td>26</td>\n",
       "      <td>0</td>\n",
       "    </tr>\n",
       "    <tr>\n",
       "      <th>5</th>\n",
       "      <td>27</td>\n",
       "      <td>4</td>\n",
       "    </tr>\n",
       "    <tr>\n",
       "      <th>6</th>\n",
       "      <td>28</td>\n",
       "      <td>13</td>\n",
       "    </tr>\n",
       "    <tr>\n",
       "      <th>7</th>\n",
       "      <td>29</td>\n",
       "      <td>14</td>\n",
       "    </tr>\n",
       "  </tbody>\n",
       "</table>\n",
       "</div>"
      ]
     },
     "metadata": {},
     "execution_count": 12
    }
   ],
   "metadata": {}
  },
  {
   "cell_type": "markdown",
   "source": [
    "\n",
    "6. Who are the top 3 players with the best goals per minute record? (clarification: how many minutes pass between each goals. For example if a player scored 5 goals and played 600 minutes then his goals per minute record is a goal every 120 minutes)\n"
   ],
   "metadata": {}
  },
  {
   "cell_type": "code",
   "execution_count": 14,
   "source": [
    "# squad table:\r\n",
    "#         player_id: player's id\r\n",
    "\r\n",
    "# league_stats table:\r\n",
    "#         player_id: player's id\r\n",
    "#         league_goals: goals in league\r\n",
    "#         league_minutes: minutes played in league\r\n",
    "\r\n",
    "# champions_stats table:\r\n",
    "#         player_id: player's id\r\n",
    "#         champions_goals: goals in champions\r\n",
    "#         champions_minutes: minutes played in champions\r\n",
    "\r\n",
    "# supercup_stats table:\r\n",
    "#         player_id: player's id\r\n",
    "#         supercup_goals: goals in supercup\r\n",
    "#         supercup_minutes: minutes played in supercup\r\n",
    "\r\n",
    "\r\n",
    "query = '''\r\n",
    "    SELECT  \r\n",
    "        squad.player_id,\r\n",
    "        league_stats.league_goals + champions_stats.champions_goals + supercup_stats.supercup_goals + cup_goals as total_goals,\r\n",
    "        league_stats.league_minutes + champions_stats.champions_minutes + supercup_stats.supercup_minutes + cup_goals as total_min,\r\n",
    "        (league_stats.league_minutes + champions_stats.champions_minutes + supercup_stats.supercup_minutes + cup_minutes)/\r\n",
    "        (league_stats.league_goals + champions_stats.champions_goals + supercup_stats.supercup_goals + cup_goals)\r\n",
    "        AS goals_per_min\r\n",
    "    FROM\r\n",
    "        squad\r\n",
    "        INNER JOIN league_stats \r\n",
    "            ON league_stats.player_id = squad.player_id\r\n",
    "        INNER JOIN champions_stats\r\n",
    "            ON champions_stats.player_id = squad.player_id\r\n",
    "        INNER JOIN cup_stats\r\n",
    "            ON cup_stats.player_id = squad.player_id\r\n",
    "        INNER JOIN supercup_stats\r\n",
    "            ON supercup_stats.player_id = squad.player_id\r\n",
    "        WHERE\r\n",
    "            league_stats.league_goals > 0\r\n",
    "            OR champions_stats.champions_goals > 0\r\n",
    "            OR supercup_stats.supercup_goals > 0\r\n",
    "        ORDER BY\r\n",
    "            goals_per_min ASC\r\n",
    "        LIMIT 3\r\n",
    "'''\r\n",
    "queryResult(query)"
   ],
   "outputs": [
    {
     "output_type": "execute_result",
     "data": {
      "text/plain": [
       "   player_id  total_goals  total_min  goals_per_min\n",
       "0         29           38       3685            110\n",
       "1         22            5        596            119\n",
       "2         28           20       3365            195"
      ],
      "text/html": [
       "<div>\n",
       "<style scoped>\n",
       "    .dataframe tbody tr th:only-of-type {\n",
       "        vertical-align: middle;\n",
       "    }\n",
       "\n",
       "    .dataframe tbody tr th {\n",
       "        vertical-align: top;\n",
       "    }\n",
       "\n",
       "    .dataframe thead th {\n",
       "        text-align: right;\n",
       "    }\n",
       "</style>\n",
       "<table border=\"1\" class=\"dataframe\">\n",
       "  <thead>\n",
       "    <tr style=\"text-align: right;\">\n",
       "      <th></th>\n",
       "      <th>player_id</th>\n",
       "      <th>total_goals</th>\n",
       "      <th>total_min</th>\n",
       "      <th>goals_per_min</th>\n",
       "    </tr>\n",
       "  </thead>\n",
       "  <tbody>\n",
       "    <tr>\n",
       "      <th>0</th>\n",
       "      <td>29</td>\n",
       "      <td>38</td>\n",
       "      <td>3685</td>\n",
       "      <td>110</td>\n",
       "    </tr>\n",
       "    <tr>\n",
       "      <th>1</th>\n",
       "      <td>22</td>\n",
       "      <td>5</td>\n",
       "      <td>596</td>\n",
       "      <td>119</td>\n",
       "    </tr>\n",
       "    <tr>\n",
       "      <th>2</th>\n",
       "      <td>28</td>\n",
       "      <td>20</td>\n",
       "      <td>3365</td>\n",
       "      <td>195</td>\n",
       "    </tr>\n",
       "  </tbody>\n",
       "</table>\n",
       "</div>"
      ]
     },
     "metadata": {},
     "execution_count": 14
    }
   ],
   "metadata": {}
  },
  {
   "cell_type": "markdown",
   "source": [
    "\n",
    "7. How many players did not contribute goals or assists in the league?\n"
   ],
   "metadata": {}
  },
  {
   "cell_type": "code",
   "execution_count": 137,
   "source": [
    "# squad table:\r\n",
    "#         player_id: player's id\r\n",
    "\r\n",
    "# league_stats table:\r\n",
    "#         player_id: player's id\r\n",
    "#         league_goals: goals in league\r\n",
    "#         league_assits: assits in league\r\n",
    "\r\n",
    "\r\n",
    "# champions_stats table:\r\n",
    "#         player_id: player's id\r\n",
    "#         champions_goals: goals in champions\r\n",
    "#         champions_assits: assits in champions\r\n",
    "\r\n",
    "# supercup_stats table:\r\n",
    "#         player_id: player's id\r\n",
    "#         supercup_goals: goals in supercup\r\n",
    "#         supercup_assits: assits in supercup\r\n",
    "\r\n",
    "\r\n",
    "\r\n",
    "query = '''\r\n",
    "    SELECT  \r\n",
    "        COUNT(league_stats.player_id)\r\n",
    "    FROM\r\n",
    "        league_stats\r\n",
    "    WHERE\r\n",
    "        league_goals = 0\r\n",
    "        and\r\n",
    "        league_assists = 0\r\n",
    "\r\n",
    "'''\r\n",
    "queryResult(query)"
   ],
   "outputs": [
    {
     "output_type": "execute_result",
     "data": {
      "text/plain": [
       "   count\n",
       "0     10"
      ],
      "text/html": [
       "<div>\n",
       "<style scoped>\n",
       "    .dataframe tbody tr th:only-of-type {\n",
       "        vertical-align: middle;\n",
       "    }\n",
       "\n",
       "    .dataframe tbody tr th {\n",
       "        vertical-align: top;\n",
       "    }\n",
       "\n",
       "    .dataframe thead th {\n",
       "        text-align: right;\n",
       "    }\n",
       "</style>\n",
       "<table border=\"1\" class=\"dataframe\">\n",
       "  <thead>\n",
       "    <tr style=\"text-align: right;\">\n",
       "      <th></th>\n",
       "      <th>count</th>\n",
       "    </tr>\n",
       "  </thead>\n",
       "  <tbody>\n",
       "    <tr>\n",
       "      <th>0</th>\n",
       "      <td>10</td>\n",
       "    </tr>\n",
       "  </tbody>\n",
       "</table>\n",
       "</div>"
      ]
     },
     "metadata": {},
     "execution_count": 137
    }
   ],
   "metadata": {}
  },
  {
   "cell_type": "markdown",
   "source": [
    "\n",
    "8. Who is the player that has the most yellow cards in the league? (If there is a tie then sort by minutes played)\n"
   ],
   "metadata": {}
  },
  {
   "cell_type": "code",
   "execution_count": 141,
   "source": [
    "query = '''\r\n",
    "    SELECT  \r\n",
    "        *\r\n",
    "    FROM\r\n",
    "        league_stats\r\n",
    "    ORDER BY\r\n",
    "        league_yellow DESC\r\n",
    "    LIMIT 1;\r\n",
    "'''\r\n",
    "queryResult(query)"
   ],
   "outputs": [
    {
     "output_type": "execute_result",
     "data": {
      "text/plain": [
       "   player_id  league_goals  league_assists  league_yellow  league_red  \\\n",
       "0         12             3               7              9           0   \n",
       "\n",
       "   league_minutes  \n",
       "0            3030  "
      ],
      "text/html": [
       "<div>\n",
       "<style scoped>\n",
       "    .dataframe tbody tr th:only-of-type {\n",
       "        vertical-align: middle;\n",
       "    }\n",
       "\n",
       "    .dataframe tbody tr th {\n",
       "        vertical-align: top;\n",
       "    }\n",
       "\n",
       "    .dataframe thead th {\n",
       "        text-align: right;\n",
       "    }\n",
       "</style>\n",
       "<table border=\"1\" class=\"dataframe\">\n",
       "  <thead>\n",
       "    <tr style=\"text-align: right;\">\n",
       "      <th></th>\n",
       "      <th>player_id</th>\n",
       "      <th>league_goals</th>\n",
       "      <th>league_assists</th>\n",
       "      <th>league_yellow</th>\n",
       "      <th>league_red</th>\n",
       "      <th>league_minutes</th>\n",
       "    </tr>\n",
       "  </thead>\n",
       "  <tbody>\n",
       "    <tr>\n",
       "      <th>0</th>\n",
       "      <td>12</td>\n",
       "      <td>3</td>\n",
       "      <td>7</td>\n",
       "      <td>9</td>\n",
       "      <td>0</td>\n",
       "      <td>3030</td>\n",
       "    </tr>\n",
       "  </tbody>\n",
       "</table>\n",
       "</div>"
      ]
     },
     "metadata": {},
     "execution_count": 141
    }
   ],
   "metadata": {}
  },
  {
   "cell_type": "markdown",
   "source": [
    "\n",
    "9. Which defender contribute the most goals and assists in the league?\n"
   ],
   "metadata": {}
  },
  {
   "cell_type": "code",
   "execution_count": 30,
   "source": [
    "\r\n",
    "query = '''\r\n",
    "    SELECT  \r\n",
    "        *\r\n",
    "    FROM\r\n",
    "        squad\r\n",
    "        LEFT JOIN league_stats ON league_stats.player_id = squad.player_id\r\n",
    "    WHERE\r\n",
    "        squad.position = 'df'\r\n",
    "    ORDER BY\r\n",
    "        league_stats.league_goals DESC,\r\n",
    "        league_stats.league_assists DESC\r\n",
    "    LIMIT 1;\r\n",
    "'''\r\n",
    "queryResult(query)"
   ],
   "outputs": [
    {
     "output_type": "execute_result",
     "data": {
      "text/plain": [
       "   player_id first_name last_name position  player_id  league_goals  \\\n",
       "0         12      Jordi      Alba       df         12             3   \n",
       "\n",
       "   league_assists  league_yellow  league_red  league_minutes  \n",
       "0               7              9           0            3030  "
      ],
      "text/html": [
       "<div>\n",
       "<style scoped>\n",
       "    .dataframe tbody tr th:only-of-type {\n",
       "        vertical-align: middle;\n",
       "    }\n",
       "\n",
       "    .dataframe tbody tr th {\n",
       "        vertical-align: top;\n",
       "    }\n",
       "\n",
       "    .dataframe thead th {\n",
       "        text-align: right;\n",
       "    }\n",
       "</style>\n",
       "<table border=\"1\" class=\"dataframe\">\n",
       "  <thead>\n",
       "    <tr style=\"text-align: right;\">\n",
       "      <th></th>\n",
       "      <th>player_id</th>\n",
       "      <th>first_name</th>\n",
       "      <th>last_name</th>\n",
       "      <th>position</th>\n",
       "      <th>player_id</th>\n",
       "      <th>league_goals</th>\n",
       "      <th>league_assists</th>\n",
       "      <th>league_yellow</th>\n",
       "      <th>league_red</th>\n",
       "      <th>league_minutes</th>\n",
       "    </tr>\n",
       "  </thead>\n",
       "  <tbody>\n",
       "    <tr>\n",
       "      <th>0</th>\n",
       "      <td>12</td>\n",
       "      <td>Jordi</td>\n",
       "      <td>Alba</td>\n",
       "      <td>df</td>\n",
       "      <td>12</td>\n",
       "      <td>3</td>\n",
       "      <td>7</td>\n",
       "      <td>9</td>\n",
       "      <td>0</td>\n",
       "      <td>3030</td>\n",
       "    </tr>\n",
       "  </tbody>\n",
       "</table>\n",
       "</div>"
      ]
     },
     "metadata": {},
     "execution_count": 30
    }
   ],
   "metadata": {}
  },
  {
   "cell_type": "markdown",
   "source": [
    "\n",
    "10. How many players played more then 50 hours total in the league and in the champions league?"
   ],
   "metadata": {}
  },
  {
   "cell_type": "code",
   "execution_count": 29,
   "source": [
    "query = '''\r\n",
    "    SELECT \r\n",
    "        COUNT(DISTINCT league_stats.player_id)\r\n",
    "    FROM\r\n",
    "        squad LEFT JOIN league_stats ON league_stats.player_id = squad.player_id\r\n",
    "        LEFT JOIN champions_stats ON champions_stats.player_id = squad.player_id\r\n",
    "    WHERE\r\n",
    "        league_stats.league_minutes + champions_stats.champions_minutes > 3000\r\n",
    "'''\r\n",
    "queryResult(query)"
   ],
   "outputs": [
    {
     "output_type": "execute_result",
     "data": {
      "text/plain": [
       "   count\n",
       "0      6"
      ],
      "text/html": [
       "<div>\n",
       "<style scoped>\n",
       "    .dataframe tbody tr th:only-of-type {\n",
       "        vertical-align: middle;\n",
       "    }\n",
       "\n",
       "    .dataframe tbody tr th {\n",
       "        vertical-align: top;\n",
       "    }\n",
       "\n",
       "    .dataframe thead th {\n",
       "        text-align: right;\n",
       "    }\n",
       "</style>\n",
       "<table border=\"1\" class=\"dataframe\">\n",
       "  <thead>\n",
       "    <tr style=\"text-align: right;\">\n",
       "      <th></th>\n",
       "      <th>count</th>\n",
       "    </tr>\n",
       "  </thead>\n",
       "  <tbody>\n",
       "    <tr>\n",
       "      <th>0</th>\n",
       "      <td>6</td>\n",
       "    </tr>\n",
       "  </tbody>\n",
       "</table>\n",
       "</div>"
      ]
     },
     "metadata": {},
     "execution_count": 29
    }
   ],
   "metadata": {}
  }
 ],
 "metadata": {
  "kernelspec": {
   "name": "python3",
   "display_name": "Python 3.8.8 64-bit ('base': conda)"
  },
  "language_info": {
   "codemirror_mode": {
    "name": "ipython",
    "version": 3
   },
   "file_extension": ".py",
   "mimetype": "text/x-python",
   "name": "python",
   "nbconvert_exporter": "python",
   "pygments_lexer": "ipython3",
   "version": "3.8.8"
  },
  "interpreter": {
   "hash": "b1f289718d186d539b5ac9a53f79041c68ee8d2b6e439df5b3b4d5fd44538197"
  }
 },
 "nbformat": 4,
 "nbformat_minor": 4
}