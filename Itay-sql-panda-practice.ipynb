{
 "cells": [
  {
   "cell_type": "markdown",
   "metadata": {},
   "source": [
    "Itay Koren PANDA TASK"
   ]
  },
  {
   "cell_type": "code",
   "execution_count": 3,
   "metadata": {},
   "outputs": [
    {
     "output_type": "stream",
     "name": "stdout",
     "text": [
      "Collecting psycopg2\n  Downloading psycopg2-2.9.1-cp38-cp38-win_amd64.whl (1.1 MB)\nInstalling collected packages: psycopg2\nSuccessfully installed psycopg2-2.9.1\nNote: you may need to restart the kernel to use updated packages.\n"
     ]
    }
   ],
   "source": [
    "pip install psycopg2 -U"
   ]
  },
  {
   "cell_type": "code",
   "execution_count": 4,
   "metadata": {},
   "outputs": [],
   "source": [
    "import pandas as pd\n",
    "from sqlalchemy import create_engine\n",
    "import psycopg2"
   ]
  },
  {
   "cell_type": "markdown",
   "metadata": {},
   "source": [
    "### Access to the DB <a class=\"anchor\" id=\"chapter2\"></a>"
   ]
  },
  {
   "cell_type": "code",
   "execution_count": 5,
   "metadata": {},
   "outputs": [],
   "source": [
    "db_config = {'user': 'practicum_student',         # username\n",
    "             'pwd': 's65BlTKV3faNIGhmvJVzOqhs', # password\n",
    "             'host': 'rc1b-wcoijxj3yxfsf3fs.mdb.yandexcloud.net',\n",
    "             'port': 6432,              # connection port\n",
    "             'db': 'data-analyst-fc-barcelona-20-21-db'}          # the name of the database\n",
    "\n",
    "connection_string = 'postgresql://{}:{}@{}:{}/{}'.format(db_config['user'],\n",
    "                                                                     db_config['pwd'],\n",
    "                                                                       db_config['host'],\n",
    "                                                                       db_config['port'],\n",
    "                                                                       db_config['db'])\n",
    "\n",
    "engine = create_engine(connection_string, connect_args={'sslmode':'require'})\n"
   ]
  },
  {
   "cell_type": "markdown",
   "metadata": {},
   "source": [
    "#  Table Queries <a class=\"anchor\" id=\"chapter3\"></a>"
   ]
  },
  {
   "cell_type": "markdown",
   "metadata": {},
   "source": [
    "function that takes a query and return dataframe for general use"
   ]
  },
  {
   "cell_type": "code",
   "execution_count": 6,
   "metadata": {},
   "outputs": [],
   "source": [
    "def queryResult(q):\n",
    "    return pd.io.sql.read_sql(q, con = engine)"
   ]
  },
  {
   "source": [
    "\n",
    "squad table:\n",
    "\n",
    "        player_id: player's id\n",
    "\n",
    "        first_name: player's first name\n",
    "\n",
    "        last_name: player's last name\n",
    "\n",
    "        position: position in the field - gk,df,mf,fw\n",
    "\n",
    "games_played table:\n",
    "\n",
    "        player_id: player's id\n",
    "\n",
    "        league: league appearances\n",
    "\n",
    "        champions: champions appearances\n",
    "\n",
    "        cup: cup appearances\n",
    "\n",
    "        supercup: supercup appearances\n",
    "\n",
    "league_stats table:\n",
    "\n",
    "        player_id: player's id\n",
    "\n",
    "        league_goals: goals in league\n",
    "\n",
    "        league_assits: assits in league\n",
    "\n",
    "        league_yellow: yellow cards in league\n",
    "\n",
    "        league_red: red cards in league\n",
    "\n",
    "        league_minutes: minutes played in league\n",
    "\n",
    "champions_stats table:\n",
    "\n",
    "        player_id: player's id\n",
    "\n",
    "        champions_goals: goals in champions\n",
    "\n",
    "        champions_assits: assits in champions\n",
    "\n",
    "        champions_yellow: yellow cards in champions\n",
    "\n",
    "        champions_red: red cards in champions\n",
    "\n",
    "        champions_minutes: minutes played in champions\n",
    "\n",
    "supercup_stats table:\n",
    "\n",
    "        player_id: player's id\n",
    "\n",
    "        supercup_goals: goals in supercup\n",
    "\n",
    "        supercup_assits: assits in supercup\n",
    "\n",
    "        supercup_yellow: yellow cards in supercup\n",
    "\n",
    "        supercup_red: red cards in supercup\n",
    "\n",
    "        supercup_minutes: minutes played in supercup\n"
   ],
   "cell_type": "markdown",
   "metadata": {}
  },
  {
   "source": [
    "1. What is the position played by the majority of the squad?\n"
   ],
   "cell_type": "markdown",
   "metadata": {}
  },
  {
   "cell_type": "code",
   "execution_count": 13,
   "metadata": {},
   "outputs": [
    {
     "output_type": "execute_result",
     "data": {
      "text/plain": [
       "  position  pos_count\n",
       "0       df          9"
      ],
      "text/html": "<div>\n<style scoped>\n    .dataframe tbody tr th:only-of-type {\n        vertical-align: middle;\n    }\n\n    .dataframe tbody tr th {\n        vertical-align: top;\n    }\n\n    .dataframe thead th {\n        text-align: right;\n    }\n</style>\n<table border=\"1\" class=\"dataframe\">\n  <thead>\n    <tr style=\"text-align: right;\">\n      <th></th>\n      <th>position</th>\n      <th>pos_count</th>\n    </tr>\n  </thead>\n  <tbody>\n    <tr>\n      <th>0</th>\n      <td>df</td>\n      <td>9</td>\n    </tr>\n  </tbody>\n</table>\n</div>"
     },
     "metadata": {},
     "execution_count": 13
    }
   ],
   "source": [
    "# squad table:\n",
    "\n",
    "# player_id: player's id\n",
    "\n",
    "# first_name: player's first name\n",
    "\n",
    "# last_name: player's last name\n",
    "\n",
    "# position: position in the field - gk,df,mf,fw\n",
    "\n",
    "query = '''\n",
    "    SELECT  \n",
    "        position,\n",
    "        COUNT(position) as pos_count\n",
    "    FROM\n",
    "        squad\n",
    "    GROUP BY\n",
    "        position\n",
    "    ORDER BY\n",
    "        pos_count DESC\n",
    "    LIMIT 1;\n",
    "'''\n",
    "queryResult(query)"
   ]
  },
  {
   "source": [
    "\n",
    "2. Which players played the most games during the entire season?\n"
   ],
   "cell_type": "markdown",
   "metadata": {}
  },
  {
   "cell_type": "code",
   "execution_count": 62,
   "metadata": {},
   "outputs": [
    {
     "output_type": "execute_result",
     "data": {
      "text/plain": [
       "   player_id  total_appr\n",
       "0         19          52"
      ],
      "text/html": "<div>\n<style scoped>\n    .dataframe tbody tr th:only-of-type {\n        vertical-align: middle;\n    }\n\n    .dataframe tbody tr th {\n        vertical-align: top;\n    }\n\n    .dataframe thead th {\n        text-align: right;\n    }\n</style>\n<table border=\"1\" class=\"dataframe\">\n  <thead>\n    <tr style=\"text-align: right;\">\n      <th></th>\n      <th>player_id</th>\n      <th>total_appr</th>\n    </tr>\n  </thead>\n  <tbody>\n    <tr>\n      <th>0</th>\n      <td>19</td>\n      <td>52</td>\n    </tr>\n  </tbody>\n</table>\n</div>"
     },
     "metadata": {},
     "execution_count": 62
    }
   ],
   "source": [
    "# games_played table:\n",
    "\n",
    "#     player_id: player's id\n",
    "\n",
    "#     league: league appearances\n",
    "\n",
    "#     champions: champions appearances\n",
    "\n",
    "#     cup: cup appearances\n",
    "\n",
    "#     supercup: supercup appearances\n",
    "\n",
    "query = '''\n",
    "    SELECT\n",
    "        DISTINCT player_id,\n",
    "        ((SUM(league)  OVER(PARTITION BY player_id))  + (SUM(champions)  OVER(PARTITION BY player_id))\n",
    "        + (SUM(supercup)  OVER(PARTITION BY player_id)) + (SUM(cup)  OVER(PARTITION BY player_id))\n",
    "        )  as total_appr\n",
    "    FROM\n",
    "        games_played\n",
    "    ORDER BY\n",
    "        total_appr DESC\n",
    "    LIMIT 1\n",
    "    ;\n",
    "'''\n",
    "queryResult(query)"
   ]
  },
  {
   "source": [
    "\n",
    "3. Out of the players who played less than 1000 minutes in the league who scored the most goals?\n"
   ],
   "cell_type": "markdown",
   "metadata": {}
  },
  {
   "cell_type": "code",
   "execution_count": 72,
   "metadata": {},
   "outputs": [
    {
     "output_type": "execute_result",
     "data": {
      "text/plain": [
       "   player_id  league_goals\n",
       "0         22             4"
      ],
      "text/html": "<div>\n<style scoped>\n    .dataframe tbody tr th:only-of-type {\n        vertical-align: middle;\n    }\n\n    .dataframe tbody tr th {\n        vertical-align: top;\n    }\n\n    .dataframe thead th {\n        text-align: right;\n    }\n</style>\n<table border=\"1\" class=\"dataframe\">\n  <thead>\n    <tr style=\"text-align: right;\">\n      <th></th>\n      <th>player_id</th>\n      <th>league_goals</th>\n    </tr>\n  </thead>\n  <tbody>\n    <tr>\n      <th>0</th>\n      <td>22</td>\n      <td>4</td>\n    </tr>\n  </tbody>\n</table>\n</div>"
     },
     "metadata": {},
     "execution_count": 72
    }
   ],
   "source": [
    "# league_stats table:\n",
    "\n",
    "#     player_id: player's id\n",
    "\n",
    "#     league_goals: goals in league\n",
    "\n",
    "#     league_assits: assits in league\n",
    "\n",
    "#     league_yellow: yellow cards in league\n",
    "\n",
    "#     league_red: red cards in league\n",
    "\n",
    "#     league_minutes: minutes played in league\n",
    "\n",
    "query = '''\n",
    "    SELECT  \n",
    "        player_id,\n",
    "        league_goals\n",
    "    FROM\n",
    "        league_stats\n",
    "    WHERE\n",
    "        league_goals = (SELECT MAX(league_goals) FROM league_stats WHERE league_minutes < 1000)\n",
    "'''\n",
    "queryResult(query)"
   ]
  },
  {
   "source": [
    "\n",
    "4. Which players played the most minutes in the league? Show top 5.\n"
   ],
   "cell_type": "markdown",
   "metadata": {}
  },
  {
   "cell_type": "code",
   "execution_count": 74,
   "metadata": {},
   "outputs": [
    {
     "output_type": "execute_result",
     "data": {
      "text/plain": [
       "   player_id  league_minutes\n",
       "0         15            3158\n",
       "1         12            3030\n",
       "2         29            3022\n",
       "3          1            2790\n",
       "4         28            2619"
      ],
      "text/html": "<div>\n<style scoped>\n    .dataframe tbody tr th:only-of-type {\n        vertical-align: middle;\n    }\n\n    .dataframe tbody tr th {\n        vertical-align: top;\n    }\n\n    .dataframe thead th {\n        text-align: right;\n    }\n</style>\n<table border=\"1\" class=\"dataframe\">\n  <thead>\n    <tr style=\"text-align: right;\">\n      <th></th>\n      <th>player_id</th>\n      <th>league_minutes</th>\n    </tr>\n  </thead>\n  <tbody>\n    <tr>\n      <th>0</th>\n      <td>15</td>\n      <td>3158</td>\n    </tr>\n    <tr>\n      <th>1</th>\n      <td>12</td>\n      <td>3030</td>\n    </tr>\n    <tr>\n      <th>2</th>\n      <td>29</td>\n      <td>3022</td>\n    </tr>\n    <tr>\n      <th>3</th>\n      <td>1</td>\n      <td>2790</td>\n    </tr>\n    <tr>\n      <th>4</th>\n      <td>28</td>\n      <td>2619</td>\n    </tr>\n  </tbody>\n</table>\n</div>"
     },
     "metadata": {},
     "execution_count": 74
    }
   ],
   "source": [
    "# league_stats table:\n",
    "\n",
    "#     player_id: player's id\n",
    "\n",
    "#     league_goals: goals in league\n",
    "\n",
    "#     league_assits: assits in league\n",
    "\n",
    "#     league_yellow: yellow cards in league\n",
    "\n",
    "#     league_red: red cards in league\n",
    "\n",
    "#     league_minutes: minutes played in league\n",
    "\n",
    "query = '''\n",
    "    SELECT  \n",
    "    player_id,\n",
    "    league_minutes\n",
    "    FROM\n",
    "        league_stats\n",
    "    ORDER BY \n",
    "        league_minutes DESC\n",
    "    LIMIT 5\n",
    "'''\n",
    "queryResult(query)"
   ]
  },
  {
   "source": [
    "\n",
    "5.How many assists were made by the forwards?\n"
   ],
   "cell_type": "markdown",
   "metadata": {}
  },
  {
   "cell_type": "code",
   "execution_count": 97,
   "metadata": {},
   "outputs": [
    {
     "output_type": "execute_result",
     "data": {
      "text/plain": [
       "   player_id  forword_assists\n",
       "0         22                4\n",
       "1         23                0\n",
       "2         24                5\n",
       "3         25                2\n",
       "4         26                0\n",
       "5         27                4\n",
       "6         28                9\n",
       "7         29               13"
      ],
      "text/html": "<div>\n<style scoped>\n    .dataframe tbody tr th:only-of-type {\n        vertical-align: middle;\n    }\n\n    .dataframe tbody tr th {\n        vertical-align: top;\n    }\n\n    .dataframe thead th {\n        text-align: right;\n    }\n</style>\n<table border=\"1\" class=\"dataframe\">\n  <thead>\n    <tr style=\"text-align: right;\">\n      <th></th>\n      <th>player_id</th>\n      <th>forword_assists</th>\n    </tr>\n  </thead>\n  <tbody>\n    <tr>\n      <th>0</th>\n      <td>22</td>\n      <td>4</td>\n    </tr>\n    <tr>\n      <th>1</th>\n      <td>23</td>\n      <td>0</td>\n    </tr>\n    <tr>\n      <th>2</th>\n      <td>24</td>\n      <td>5</td>\n    </tr>\n    <tr>\n      <th>3</th>\n      <td>25</td>\n      <td>2</td>\n    </tr>\n    <tr>\n      <th>4</th>\n      <td>26</td>\n      <td>0</td>\n    </tr>\n    <tr>\n      <th>5</th>\n      <td>27</td>\n      <td>4</td>\n    </tr>\n    <tr>\n      <th>6</th>\n      <td>28</td>\n      <td>9</td>\n    </tr>\n    <tr>\n      <th>7</th>\n      <td>29</td>\n      <td>13</td>\n    </tr>\n  </tbody>\n</table>\n</div>"
     },
     "metadata": {},
     "execution_count": 97
    }
   ],
   "source": [
    "# squad table:                                                        \n",
    "# player_id: player's id                            \n",
    "# position: position in the field - gk,df,mf,fw           \n",
    "                                                             \n",
    "# league_stats table:\n",
    "# player_id: player's id\n",
    "# league_assits: assits in league\n",
    "\n",
    "# champions_stats table:\n",
    "# player_id: player's id\n",
    "# champions_assits: assits in champions\n",
    "\n",
    "# supercup_stats table:\n",
    "# player_id: player's id\n",
    "# supercup_assits: assits in supercup\n",
    "\n",
    "\n",
    "\n",
    "query = '''\n",
    "    SELECT  \n",
    "       squad.player_id,\n",
    "       league_stats.league_assists + champions_stats.champions_assists \n",
    "       + supercup_stats.supercup_assists as forword_assists\n",
    "    FROM\n",
    "        squad\n",
    "        INNER JOIN league_stats \n",
    "            ON league_stats.player_id = squad.player_id\n",
    "        INNER JOIN champions_stats\n",
    "            ON champions_stats.player_id = squad.player_id\n",
    "        INNER JOIN supercup_stats\n",
    "            ON supercup_stats.player_id = squad.player_id\n",
    "    WHERE \n",
    "        squad.position = 'fw'\n",
    "'''\n",
    "queryResult(query)"
   ]
  },
  {
   "source": [
    "\n",
    "6. Who are the top 3 players with the best goals per minute record? (clarification: how many minutes pass between each goals. For example if a player scored 5 goals and played 600 minutes then his goals per minute record is a goal every 120 minutes)\n"
   ],
   "cell_type": "markdown",
   "metadata": {}
  },
  {
   "cell_type": "code",
   "execution_count": 135,
   "metadata": {},
   "outputs": [
    {
     "output_type": "execute_result",
     "data": {
      "text/plain": [
       "   player_id  total_goals  total_min  goals_per_min\n",
       "0         29           35       3682            105\n",
       "1         22            5        596            119\n",
       "2         28           17       3362            197"
      ],
      "text/html": "<div>\n<style scoped>\n    .dataframe tbody tr th:only-of-type {\n        vertical-align: middle;\n    }\n\n    .dataframe tbody tr th {\n        vertical-align: top;\n    }\n\n    .dataframe thead th {\n        text-align: right;\n    }\n</style>\n<table border=\"1\" class=\"dataframe\">\n  <thead>\n    <tr style=\"text-align: right;\">\n      <th></th>\n      <th>player_id</th>\n      <th>total_goals</th>\n      <th>total_min</th>\n      <th>goals_per_min</th>\n    </tr>\n  </thead>\n  <tbody>\n    <tr>\n      <th>0</th>\n      <td>29</td>\n      <td>35</td>\n      <td>3682</td>\n      <td>105</td>\n    </tr>\n    <tr>\n      <th>1</th>\n      <td>22</td>\n      <td>5</td>\n      <td>596</td>\n      <td>119</td>\n    </tr>\n    <tr>\n      <th>2</th>\n      <td>28</td>\n      <td>17</td>\n      <td>3362</td>\n      <td>197</td>\n    </tr>\n  </tbody>\n</table>\n</div>"
     },
     "metadata": {},
     "execution_count": 135
    }
   ],
   "source": [
    "# squad table:\n",
    "#         player_id: player's id\n",
    "\n",
    "# league_stats table:\n",
    "#         player_id: player's id\n",
    "#         league_goals: goals in league\n",
    "#         league_minutes: minutes played in league\n",
    "\n",
    "# champions_stats table:\n",
    "#         player_id: player's id\n",
    "#         champions_goals: goals in champions\n",
    "#         champions_minutes: minutes played in champions\n",
    "\n",
    "# supercup_stats table:\n",
    "#         player_id: player's id\n",
    "#         supercup_goals: goals in supercup\n",
    "#         supercup_minutes: minutes played in supercup\n",
    "\n",
    "\n",
    "query = '''\n",
    "    SELECT  \n",
    "        squad.player_id,\n",
    "        league_stats.league_goals + champions_stats.champions_goals + supercup_stats.supercup_goals as total_goals,\n",
    "        league_stats.league_minutes + champions_stats.champions_minutes + supercup_stats.supercup_minutes as total_min,\n",
    "        (league_stats.league_minutes + champions_stats.champions_minutes + supercup_stats.supercup_minutes)/\n",
    "        (league_stats.league_goals + champions_stats.champions_goals + supercup_stats.supercup_goals )\n",
    "        AS goals_per_min\n",
    "    FROM\n",
    "        squad\n",
    "        INNER JOIN league_stats \n",
    "            ON league_stats.player_id = squad.player_id\n",
    "        INNER JOIN champions_stats\n",
    "            ON champions_stats.player_id = squad.player_id\n",
    "        INNER JOIN supercup_stats\n",
    "            ON supercup_stats.player_id = squad.player_id\n",
    "        WHERE\n",
    "            league_stats.league_goals > 0\n",
    "            OR champions_stats.champions_goals > 0\n",
    "            OR supercup_stats.supercup_goals > 0\n",
    "        ORDER BY\n",
    "            goals_per_min ASC\n",
    "        LIMIT 3\n",
    "'''\n",
    "queryResult(query)"
   ]
  },
  {
   "source": [
    "\n",
    "7. How many players did not contribute goals or assists in the league?\n"
   ],
   "cell_type": "markdown",
   "metadata": {}
  },
  {
   "cell_type": "code",
   "execution_count": 137,
   "metadata": {},
   "outputs": [
    {
     "output_type": "execute_result",
     "data": {
      "text/plain": [
       "   count\n",
       "0     10"
      ],
      "text/html": "<div>\n<style scoped>\n    .dataframe tbody tr th:only-of-type {\n        vertical-align: middle;\n    }\n\n    .dataframe tbody tr th {\n        vertical-align: top;\n    }\n\n    .dataframe thead th {\n        text-align: right;\n    }\n</style>\n<table border=\"1\" class=\"dataframe\">\n  <thead>\n    <tr style=\"text-align: right;\">\n      <th></th>\n      <th>count</th>\n    </tr>\n  </thead>\n  <tbody>\n    <tr>\n      <th>0</th>\n      <td>10</td>\n    </tr>\n  </tbody>\n</table>\n</div>"
     },
     "metadata": {},
     "execution_count": 137
    }
   ],
   "source": [
    "# squad table:\n",
    "#         player_id: player's id\n",
    "\n",
    "# league_stats table:\n",
    "#         player_id: player's id\n",
    "#         league_goals: goals in league\n",
    "#         league_assits: assits in league\n",
    "\n",
    "\n",
    "# champions_stats table:\n",
    "#         player_id: player's id\n",
    "#         champions_goals: goals in champions\n",
    "#         champions_assits: assits in champions\n",
    "\n",
    "# supercup_stats table:\n",
    "#         player_id: player's id\n",
    "#         supercup_goals: goals in supercup\n",
    "#         supercup_assits: assits in supercup\n",
    "\n",
    "\n",
    "\n",
    "query = '''\n",
    "    SELECT  \n",
    "        COUNT(league_stats.player_id)\n",
    "    FROM\n",
    "        league_stats\n",
    "    WHERE\n",
    "        league_goals = 0\n",
    "        and\n",
    "        league_assists = 0\n",
    "\n",
    "'''\n",
    "queryResult(query)"
   ]
  },
  {
   "source": [
    "\n",
    "8. Who is the player that has the most yellow cards in the league? (If there is a tie then sort by minutes played)\n"
   ],
   "cell_type": "markdown",
   "metadata": {}
  },
  {
   "cell_type": "code",
   "execution_count": 141,
   "metadata": {},
   "outputs": [
    {
     "output_type": "execute_result",
     "data": {
      "text/plain": [
       "   player_id  league_goals  league_assists  league_yellow  league_red  \\\n",
       "0         12             3               7              9           0   \n",
       "\n",
       "   league_minutes  \n",
       "0            3030  "
      ],
      "text/html": "<div>\n<style scoped>\n    .dataframe tbody tr th:only-of-type {\n        vertical-align: middle;\n    }\n\n    .dataframe tbody tr th {\n        vertical-align: top;\n    }\n\n    .dataframe thead th {\n        text-align: right;\n    }\n</style>\n<table border=\"1\" class=\"dataframe\">\n  <thead>\n    <tr style=\"text-align: right;\">\n      <th></th>\n      <th>player_id</th>\n      <th>league_goals</th>\n      <th>league_assists</th>\n      <th>league_yellow</th>\n      <th>league_red</th>\n      <th>league_minutes</th>\n    </tr>\n  </thead>\n  <tbody>\n    <tr>\n      <th>0</th>\n      <td>12</td>\n      <td>3</td>\n      <td>7</td>\n      <td>9</td>\n      <td>0</td>\n      <td>3030</td>\n    </tr>\n  </tbody>\n</table>\n</div>"
     },
     "metadata": {},
     "execution_count": 141
    }
   ],
   "source": [
    "query = '''\n",
    "    SELECT  \n",
    "        *\n",
    "    FROM\n",
    "        league_stats\n",
    "    ORDER BY\n",
    "        league_yellow DESC\n",
    "    LIMIT 1;\n",
    "'''\n",
    "queryResult(query)"
   ]
  },
  {
   "source": [
    "\n",
    "9. Which defender contribute the most goals and assists in the league?\n"
   ],
   "cell_type": "markdown",
   "metadata": {}
  },
  {
   "cell_type": "code",
   "execution_count": 157,
   "metadata": {},
   "outputs": [
    {
     "output_type": "execute_result",
     "data": {
      "text/plain": [
       "   league_goals  league_assists  total_g_a  player_id first_name last_name  \\\n",
       "0            30              11         41          5     Junior     Firpo   \n",
       "\n",
       "  position  \n",
       "0       df  "
      ],
      "text/html": "<div>\n<style scoped>\n    .dataframe tbody tr th:only-of-type {\n        vertical-align: middle;\n    }\n\n    .dataframe tbody tr th {\n        vertical-align: top;\n    }\n\n    .dataframe thead th {\n        text-align: right;\n    }\n</style>\n<table border=\"1\" class=\"dataframe\">\n  <thead>\n    <tr style=\"text-align: right;\">\n      <th></th>\n      <th>league_goals</th>\n      <th>league_assists</th>\n      <th>total_g_a</th>\n      <th>player_id</th>\n      <th>first_name</th>\n      <th>last_name</th>\n      <th>position</th>\n    </tr>\n  </thead>\n  <tbody>\n    <tr>\n      <th>0</th>\n      <td>30</td>\n      <td>11</td>\n      <td>41</td>\n      <td>5</td>\n      <td>Junior</td>\n      <td>Firpo</td>\n      <td>df</td>\n    </tr>\n  </tbody>\n</table>\n</div>"
     },
     "metadata": {},
     "execution_count": 157
    }
   ],
   "source": [
    "\n",
    "query = '''\n",
    "    SELECT  \n",
    "    *\n",
    "    FROM\n",
    "     (SELECT\n",
    "                league_goals,\n",
    "                league_assists,\n",
    "               league_goals + league_assists as total_g_a\n",
    "            FROM\n",
    "                league_stats\n",
    "        ) as subq,\n",
    "        squad\n",
    "    WHERE\n",
    "        squad.position = 'df'\n",
    "    ORDER BY\n",
    "        subq.total_g_a DESC\n",
    "    LIMIT 1;\n",
    "'''\n",
    "queryResult(query)"
   ]
  },
  {
   "source": [
    "\n",
    "10. How many players played more then 50 hours total in the league and in the champions league?"
   ],
   "cell_type": "markdown",
   "metadata": {}
  },
  {
   "cell_type": "code",
   "execution_count": 164,
   "metadata": {},
   "outputs": [
    {
     "output_type": "execute_result",
     "data": {
      "text/plain": [
       "   count\n",
       "0    102"
      ],
      "text/html": "<div>\n<style scoped>\n    .dataframe tbody tr th:only-of-type {\n        vertical-align: middle;\n    }\n\n    .dataframe tbody tr th {\n        vertical-align: top;\n    }\n\n    .dataframe thead th {\n        text-align: right;\n    }\n</style>\n<table border=\"1\" class=\"dataframe\">\n  <thead>\n    <tr style=\"text-align: right;\">\n      <th></th>\n      <th>count</th>\n    </tr>\n  </thead>\n  <tbody>\n    <tr>\n      <th>0</th>\n      <td>102</td>\n    </tr>\n  </tbody>\n</table>\n</div>"
     },
     "metadata": {},
     "execution_count": 164
    }
   ],
   "source": [
    ";query = '''\n",
    "    SELECT  \n",
    "        COUNT(subq.player_id)\n",
    "    FROM\n",
    "        (SELECT\n",
    "            champions_stats.player_id,\n",
    "            (league_stats.league_minutes + champions_stats.champions_minutes) / 60 as total_hour\n",
    "        FROM\n",
    "            champions_stats,\n",
    "            league_stats\n",
    "        ) as subq\n",
    "    WHERE\n",
    "        subq.total_hour > 50 \n",
    "    \n",
    "\n",
    "'''\n",
    "queryResult(query)"
   ]
  }
 ],
 "metadata": {
  "kernelspec": {
   "name": "python3",
   "display_name": "Python 3.8.8 64-bit ('itay8': virtualenv)"
  },
  "language_info": {
   "codemirror_mode": {
    "name": "ipython",
    "version": 3
   },
   "file_extension": ".py",
   "mimetype": "text/x-python",
   "name": "python",
   "nbconvert_exporter": "python",
   "pygments_lexer": "ipython3",
   "version": "3.8.8"
  },
  "interpreter": {
   "hash": "b1f289718d186d539b5ac9a53f79041c68ee8d2b6e439df5b3b4d5fd44538197"
  }
 },
 "nbformat": 4,
 "nbformat_minor": 4
}