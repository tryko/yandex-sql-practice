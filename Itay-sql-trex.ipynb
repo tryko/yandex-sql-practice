{
 "cells": [
  {
   "cell_type": "code",
   "execution_count": null,
   "source": [],
   "outputs": [],
   "metadata": {}
  },
  {
   "cell_type": "markdown",
   "source": [
    "Itay Koren"
   ],
   "metadata": {}
  },
  {
   "cell_type": "code",
   "execution_count": 1,
   "source": [
    "import pandas as pd\r\n",
    "from sqlalchemy import create_engine\r\n",
    "from sqlalchemy.engine import reflection\r\n",
    "import psycopg2"
   ],
   "outputs": [],
   "metadata": {}
  },
  {
   "cell_type": "code",
   "execution_count": 3,
   "source": [
    "db_config = {'user': 'practicum_student',         # username\r\n",
    "             'pwd': 's65BlTKV3faNIGhmvJVzOqhs', # password\r\n",
    "             'host': 'rc1b-wcoijxj3yxfsf3fs.mdb.yandexcloud.net',\r\n",
    "             'port': 6432,              # connection port\r\n",
    "             'db': 'data-analyst-sales-data-db'}          # the name of the database\r\n",
    "\r\n",
    "connection_string = 'postgresql://{}:{}@{}:{}/{}'.format(db_config['user'],\r\n",
    "                                                                     db_config['pwd'],\r\n",
    "                                                                       db_config['host'],\r\n",
    "                                                                       db_config['port'],\r\n",
    "                                                                       db_config['db'])\r\n",
    "\r\n",
    "engine = create_engine(connection_string, connect_args={'sslmode':'require'})\r\n",
    "inspector = reflection.Inspector.from_engine(engine)\r\n"
   ],
   "outputs": [
    {
     "output_type": "stream",
     "name": "stderr",
     "text": [
      "<ipython-input-3-60b087478d5e>:14: SADeprecationWarning: The from_engine() method on Inspector is deprecated and will be removed in a future release.  Please use the sqlalchemy.inspect() function on an Engine or Connection in order to acquire an Inspector. (deprecated since: 1.4)\n",
      "  inspector = reflection.Inspector.from_engine(engine)\n"
     ]
    }
   ],
   "metadata": {}
  },
  {
   "cell_type": "code",
   "execution_count": 5,
   "source": [
    "def queryResult(q):\r\n",
    "    return pd.io.sql.read_sql(q, con = engine)"
   ],
   "outputs": [],
   "metadata": {}
  },
  {
   "cell_type": "markdown",
   "source": [
    "rep_sales table:\r\n",
    "\r\n",
    "        OrderDate: date when the order was placed\r\n",
    "\r\n",
    "        Region: geographical area in which the sale was made.\r\n",
    "\r\n",
    "        Rep: sales representative's name\r\n",
    "\r\n",
    "        Item: name of the item sold\r\n",
    "\r\n",
    "        Units: number of units sold\r\n",
    "\r\n",
    "        UnitCost: cost of one unit\r\n",
    "\r\n",
    "        Total: total cost of the order - Units x UnitCost\r\n",
    "\r\n",
    "Item table:\r\n",
    "\r\n",
    "        Item: name of the item\r\n",
    "\r\n",
    "        MinPrice: minimum price that the item can be sold."
   ],
   "metadata": {}
  },
  {
   "cell_type": "markdown",
   "source": [
    "1. What region had the most units sold for pencil?  \r\n"
   ],
   "metadata": {}
  },
  {
   "cell_type": "code",
   "execution_count": 12,
   "source": [
    "query = '''\r\n",
    "select \r\n",
    "    \"Region\",\r\n",
    "    sum(\"Units\")\r\n",
    "    \r\n",
    "from \r\n",
    "    rep_sales\r\n",
    "where\r\n",
    "    \"Item\" = 'Pencil'\r\n",
    "group by\r\n",
    "    \"Region\"\r\n",
    "order by\r\n",
    "    sum desc\r\n",
    "limit 1;\r\n",
    "'''\r\n",
    "\r\n",
    "queryResult(query)"
   ],
   "outputs": [
    {
     "output_type": "execute_result",
     "data": {
      "text/plain": [
       "    Region  sum\n",
       "0  Central  498"
      ],
      "text/html": [
       "<div>\n",
       "<style scoped>\n",
       "    .dataframe tbody tr th:only-of-type {\n",
       "        vertical-align: middle;\n",
       "    }\n",
       "\n",
       "    .dataframe tbody tr th {\n",
       "        vertical-align: top;\n",
       "    }\n",
       "\n",
       "    .dataframe thead th {\n",
       "        text-align: right;\n",
       "    }\n",
       "</style>\n",
       "<table border=\"1\" class=\"dataframe\">\n",
       "  <thead>\n",
       "    <tr style=\"text-align: right;\">\n",
       "      <th></th>\n",
       "      <th>Region</th>\n",
       "      <th>sum</th>\n",
       "    </tr>\n",
       "  </thead>\n",
       "  <tbody>\n",
       "    <tr>\n",
       "      <th>0</th>\n",
       "      <td>Central</td>\n",
       "      <td>498</td>\n",
       "    </tr>\n",
       "  </tbody>\n",
       "</table>\n",
       "</div>"
      ]
     },
     "metadata": {},
     "execution_count": 12
    }
   ],
   "metadata": {}
  },
  {
   "cell_type": "markdown",
   "source": [
    "\r\n",
    "2. For each sale above the minimum price the rep gets 10% commission of the total price as a bonus. How many transactions weren’t calculated for commissions?\r\n"
   ],
   "metadata": {}
  },
  {
   "cell_type": "code",
   "execution_count": 20,
   "source": [
    "query = '''\r\n",
    "select \r\n",
    "    count(\"Rep\")\r\n",
    "from \r\n",
    "    rep_sales\r\n",
    "    left join item\r\n",
    "    on item.\"Item\" = rep_sales.\"Item\"\r\n",
    "where \r\n",
    "    \"MinPrice\" >= \"Unit_Cost\"\r\n",
    "\r\n",
    "'''\r\n",
    "\r\n",
    "queryResult(query)"
   ],
   "outputs": [
    {
     "output_type": "execute_result",
     "data": {
      "text/plain": [
       "   count\n",
       "0     30"
      ],
      "text/html": [
       "<div>\n",
       "<style scoped>\n",
       "    .dataframe tbody tr th:only-of-type {\n",
       "        vertical-align: middle;\n",
       "    }\n",
       "\n",
       "    .dataframe tbody tr th {\n",
       "        vertical-align: top;\n",
       "    }\n",
       "\n",
       "    .dataframe thead th {\n",
       "        text-align: right;\n",
       "    }\n",
       "</style>\n",
       "<table border=\"1\" class=\"dataframe\">\n",
       "  <thead>\n",
       "    <tr style=\"text-align: right;\">\n",
       "      <th></th>\n",
       "      <th>count</th>\n",
       "    </tr>\n",
       "  </thead>\n",
       "  <tbody>\n",
       "    <tr>\n",
       "      <th>0</th>\n",
       "      <td>30</td>\n",
       "    </tr>\n",
       "  </tbody>\n",
       "</table>\n",
       "</div>"
      ]
     },
     "metadata": {},
     "execution_count": 20
    }
   ],
   "metadata": {}
  },
  {
   "cell_type": "markdown",
   "source": [
    "\r\n",
    "3. For West region what was the share of each sales rep in the data?\r\n"
   ],
   "metadata": {}
  },
  {
   "cell_type": "code",
   "execution_count": 51,
   "source": [
    "query = '''\r\n",
    "select\r\n",
    "    \"Rep\",\r\n",
    "    100 * rep_total_sales / sum(rep_total_sales) over() as rep_share\r\n",
    "from\r\n",
    "    (\r\n",
    "    select \r\n",
    "        \"Rep\",\r\n",
    "        sum(\"Units\" * \"Unit_Cost\") as rep_total_sales\r\n",
    "    from \r\n",
    "        rep_sales\r\n",
    "    where \r\n",
    "        \"Region\" = 'West'\r\n",
    "    group by \r\n",
    "        \"Rep\"\r\n",
    "    ) as subq\r\n",
    "group by \r\n",
    "    \"Rep\", rep_total_sales\r\n",
    "'''\r\n",
    "\r\n",
    "queryResult(query)"
   ],
   "outputs": [
    {
     "output_type": "execute_result",
     "data": {
      "text/plain": [
       "        Rep  rep_share\n",
       "0   Sorvino  38.585115\n",
       "1  Thompson  61.414885"
      ],
      "text/html": [
       "<div>\n",
       "<style scoped>\n",
       "    .dataframe tbody tr th:only-of-type {\n",
       "        vertical-align: middle;\n",
       "    }\n",
       "\n",
       "    .dataframe tbody tr th {\n",
       "        vertical-align: top;\n",
       "    }\n",
       "\n",
       "    .dataframe thead th {\n",
       "        text-align: right;\n",
       "    }\n",
       "</style>\n",
       "<table border=\"1\" class=\"dataframe\">\n",
       "  <thead>\n",
       "    <tr style=\"text-align: right;\">\n",
       "      <th></th>\n",
       "      <th>Rep</th>\n",
       "      <th>rep_share</th>\n",
       "    </tr>\n",
       "  </thead>\n",
       "  <tbody>\n",
       "    <tr>\n",
       "      <th>0</th>\n",
       "      <td>Sorvino</td>\n",
       "      <td>38.585115</td>\n",
       "    </tr>\n",
       "    <tr>\n",
       "      <th>1</th>\n",
       "      <td>Thompson</td>\n",
       "      <td>61.414885</td>\n",
       "    </tr>\n",
       "  </tbody>\n",
       "</table>\n",
       "</div>"
      ]
     },
     "metadata": {},
     "execution_count": 51
    }
   ],
   "metadata": {}
  },
  {
   "cell_type": "markdown",
   "source": [
    "\r\n",
    "4. For the item Binder what was the share of each sales rep in the data?\r\n"
   ],
   "metadata": {}
  },
  {
   "cell_type": "markdown",
   "source": [
    "\r\n",
    "5. For Jardine what was the share of each item sold in the data?\r\n"
   ],
   "metadata": {}
  },
  {
   "cell_type": "markdown",
   "source": [
    "\r\n",
    "6. Which item is the most profitable to sell? Get the percentage of the diff from unit price to minimum and rank it for the entire data\r\n"
   ],
   "metadata": {}
  },
  {
   "cell_type": "markdown",
   "source": [
    "\r\n",
    "7. Which sales rep had the highest price difference from the minimum price on these items combined: pen, pen set and pencil?"
   ],
   "metadata": {}
  }
 ],
 "metadata": {
  "orig_nbformat": 4,
  "language_info": {
   "name": "python",
   "version": "3.8.8",
   "mimetype": "text/x-python",
   "codemirror_mode": {
    "name": "ipython",
    "version": 3
   },
   "pygments_lexer": "ipython3",
   "nbconvert_exporter": "python",
   "file_extension": ".py"
  },
  "kernelspec": {
   "name": "python3",
   "display_name": "Python 3.8.8 64-bit ('base': conda)"
  },
  "interpreter": {
   "hash": "b1f289718d186d539b5ac9a53f79041c68ee8d2b6e439df5b3b4d5fd44538197"
  }
 },
 "nbformat": 4,
 "nbformat_minor": 2
}