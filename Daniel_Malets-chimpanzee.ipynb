{
 "cells": [
  {
   "cell_type": "markdown",
   "id": "cbb6fab1",
   "metadata": {},
   "source": [
    "# Daily Queries 3"
   ]
  },
  {
   "cell_type": "code",
   "execution_count": 1,
   "id": "c1440568",
   "metadata": {},
   "outputs": [],
   "source": [
    "import pandas as pd\n",
    "import psycopg2\n",
    "from sqlalchemy import create_engine, inspect\n",
    "from IPython.display import display\n",
    "from pprint import pprint"
   ]
  },
  {
   "cell_type": "markdown",
   "id": "eb7d6b7c",
   "metadata": {},
   "source": [
    "<div class=\"alert alert-info\"> <b>Student comment v. 2:</b> <br />\n",
    "    <a href=\"#q9\">updated #9</a>\n",
    "</div>"
   ]
  },
  {
   "cell_type": "markdown",
   "id": "0d690567",
   "metadata": {},
   "source": [
    "<a class=\"anchor\" id=\"0_toc\"></a>\n",
    "# Table of Contents\n",
    "***\n",
    "\n",
    "1. [SQL Engine](#1-engine)\n",
    "2. [Tables](#2-tables)\n",
    "3. [Queries](#3-queries)\n",
    "    1. [What is the total income in the data?](#q1)\n",
    "    2. [Which sales rep brought the most income?](#q2)\n",
    "    3. [Which item brought the most income?](#q3)\n",
    "    4. [Which region sold the most desks?](#q4)\n",
    "    5. [Which sales rep sold the highest average price a piece for the item pen?](#q5)\n",
    "    6. [Which sales rep sold the most units between April – September of 2020?](#q6)\n",
    "    7. [Which sales rep had the highest price difference from the minimum price on the item pen set?](#q7)\n",
    "    8. [Was there a sales rep that sold an item below the minimum price?  \n",
    "    If so, which item was it and what was the percent difference from the minimum price?](#q8)\n",
    "    9. [Which region had the highest share of  price difference?  \n",
    "    (where percent price different is the amount above min price divided by the total amount from that region)](#q9)\n",
    "    10. [For each sale above the minimum price the rep gets 10% commission of the total price as a bonus.  \n",
    "    Which 3 sales reps have earned the most commission (show their commission as well)?](#q10)"
   ]
  },
  {
   "cell_type": "markdown",
   "id": "09bb137d",
   "metadata": {},
   "source": [
    "<a class=\"anchor\" id=\"1-engine\"></a>\n",
    "## SQL Engine\n",
    "***\n",
    "[back to Table of Contents](#0_toc)"
   ]
  },
  {
   "cell_type": "code",
   "execution_count": 2,
   "id": "9fc9cead",
   "metadata": {},
   "outputs": [],
   "source": [
    "db_name = 'data-analyst-sales-data-db'"
   ]
  },
  {
   "cell_type": "code",
   "execution_count": 3,
   "id": "0ab9b4b2",
   "metadata": {},
   "outputs": [],
   "source": [
    "db_config = {'user': 'practicum_student',         # username\n",
    "             'pwd': 's65BlTKV3faNIGhmvJVzOqhs', # password\n",
    "             'host': 'rc1b-wcoijxj3yxfsf3fs.mdb.yandexcloud.net',\n",
    "             'port': 6432,              # connection port\n",
    "             'db': db_name}          # the name of the database\n",
    "\n",
    "connection_string = 'postgresql://{}:{}@{}:{}/{}'.format(db_config['user'],\n",
    "                                                                     db_config['pwd'],\n",
    "                                                                       db_config['host'],\n",
    "                                                                       db_config['port'],\n",
    "                                                                       db_config['db'])\n",
    "\n",
    "engine = create_engine(connection_string, connect_args={'sslmode':'require'})\n",
    "inspector = inspect(engine)"
   ]
  },
  {
   "cell_type": "code",
   "execution_count": 4,
   "id": "54382418",
   "metadata": {},
   "outputs": [],
   "source": [
    "def read_schema(table_name):\n",
    "    return pd.DataFrame(inspector.get_columns(table_name)).rename_axis(table_name, axis=1)"
   ]
  },
  {
   "cell_type": "code",
   "execution_count": 5,
   "id": "f0965b35",
   "metadata": {},
   "outputs": [],
   "source": [
    "def execute_query(q):\n",
    "    return pd.io.sql.read_sql(q, con=engine)"
   ]
  },
  {
   "cell_type": "markdown",
   "id": "256a3e59",
   "metadata": {},
   "source": [
    "<a class=\"anchor\" id=\"2-tables\"></a>\n",
    "## Inspect tables\n",
    "***\n",
    "[back to Table of Contents](#0_toc)"
   ]
  },
  {
   "cell_type": "code",
   "execution_count": 6,
   "id": "462976e4",
   "metadata": {},
   "outputs": [
    {
     "data": {
      "text/plain": [
       "['item', 'rep_sales']"
      ]
     },
     "execution_count": 6,
     "metadata": {},
     "output_type": "execute_result"
    }
   ],
   "source": [
    "tables = inspector.get_table_names()\n",
    "tables"
   ]
  },
  {
   "cell_type": "code",
   "execution_count": 7,
   "id": "9147f765",
   "metadata": {
    "scrolled": false
   },
   "outputs": [
    {
     "data": {
      "text/html": [
       "<div>\n",
       "<style scoped>\n",
       "    .dataframe tbody tr th:only-of-type {\n",
       "        vertical-align: middle;\n",
       "    }\n",
       "\n",
       "    .dataframe tbody tr th {\n",
       "        vertical-align: top;\n",
       "    }\n",
       "\n",
       "    .dataframe thead th {\n",
       "        text-align: right;\n",
       "    }\n",
       "</style>\n",
       "<table border=\"1\" class=\"dataframe\">\n",
       "  <thead>\n",
       "    <tr style=\"text-align: right;\">\n",
       "      <th>item</th>\n",
       "      <th>name</th>\n",
       "      <th>type</th>\n",
       "      <th>nullable</th>\n",
       "      <th>default</th>\n",
       "      <th>autoincrement</th>\n",
       "      <th>comment</th>\n",
       "    </tr>\n",
       "  </thead>\n",
       "  <tbody>\n",
       "    <tr>\n",
       "      <th>0</th>\n",
       "      <td>Item</td>\n",
       "      <td>TEXT</td>\n",
       "      <td>True</td>\n",
       "      <td>None</td>\n",
       "      <td>False</td>\n",
       "      <td>None</td>\n",
       "    </tr>\n",
       "    <tr>\n",
       "      <th>1</th>\n",
       "      <td>MinPrice</td>\n",
       "      <td>NUMERIC(5, 2)</td>\n",
       "      <td>True</td>\n",
       "      <td>None</td>\n",
       "      <td>False</td>\n",
       "      <td>None</td>\n",
       "    </tr>\n",
       "  </tbody>\n",
       "</table>\n",
       "</div>"
      ],
      "text/plain": [
       "item      name           type  nullable default  autoincrement comment\n",
       "0         Item           TEXT      True    None          False    None\n",
       "1     MinPrice  NUMERIC(5, 2)      True    None          False    None"
      ]
     },
     "metadata": {},
     "output_type": "display_data"
    },
    {
     "data": {
      "text/html": [
       "<div>\n",
       "<style scoped>\n",
       "    .dataframe tbody tr th:only-of-type {\n",
       "        vertical-align: middle;\n",
       "    }\n",
       "\n",
       "    .dataframe tbody tr th {\n",
       "        vertical-align: top;\n",
       "    }\n",
       "\n",
       "    .dataframe thead th {\n",
       "        text-align: right;\n",
       "    }\n",
       "</style>\n",
       "<table border=\"1\" class=\"dataframe\">\n",
       "  <thead>\n",
       "    <tr style=\"text-align: right;\">\n",
       "      <th>rep_sales</th>\n",
       "      <th>name</th>\n",
       "      <th>type</th>\n",
       "      <th>nullable</th>\n",
       "      <th>default</th>\n",
       "      <th>autoincrement</th>\n",
       "      <th>comment</th>\n",
       "    </tr>\n",
       "  </thead>\n",
       "  <tbody>\n",
       "    <tr>\n",
       "      <th>0</th>\n",
       "      <td>OrderDate</td>\n",
       "      <td>TIMESTAMP</td>\n",
       "      <td>True</td>\n",
       "      <td>None</td>\n",
       "      <td>False</td>\n",
       "      <td>None</td>\n",
       "    </tr>\n",
       "    <tr>\n",
       "      <th>1</th>\n",
       "      <td>Region</td>\n",
       "      <td>TEXT</td>\n",
       "      <td>True</td>\n",
       "      <td>None</td>\n",
       "      <td>False</td>\n",
       "      <td>None</td>\n",
       "    </tr>\n",
       "    <tr>\n",
       "      <th>2</th>\n",
       "      <td>Rep</td>\n",
       "      <td>TEXT</td>\n",
       "      <td>True</td>\n",
       "      <td>None</td>\n",
       "      <td>False</td>\n",
       "      <td>None</td>\n",
       "    </tr>\n",
       "    <tr>\n",
       "      <th>3</th>\n",
       "      <td>Item</td>\n",
       "      <td>TEXT</td>\n",
       "      <td>True</td>\n",
       "      <td>None</td>\n",
       "      <td>False</td>\n",
       "      <td>None</td>\n",
       "    </tr>\n",
       "    <tr>\n",
       "      <th>4</th>\n",
       "      <td>Units</td>\n",
       "      <td>INTEGER</td>\n",
       "      <td>True</td>\n",
       "      <td>None</td>\n",
       "      <td>False</td>\n",
       "      <td>None</td>\n",
       "    </tr>\n",
       "    <tr>\n",
       "      <th>5</th>\n",
       "      <td>Unit_Cost</td>\n",
       "      <td>NUMERIC</td>\n",
       "      <td>True</td>\n",
       "      <td>None</td>\n",
       "      <td>False</td>\n",
       "      <td>None</td>\n",
       "    </tr>\n",
       "    <tr>\n",
       "      <th>6</th>\n",
       "      <td>Total</td>\n",
       "      <td>NUMERIC</td>\n",
       "      <td>True</td>\n",
       "      <td>None</td>\n",
       "      <td>False</td>\n",
       "      <td>None</td>\n",
       "    </tr>\n",
       "  </tbody>\n",
       "</table>\n",
       "</div>"
      ],
      "text/plain": [
       "rep_sales       name       type  nullable default  autoincrement comment\n",
       "0          OrderDate  TIMESTAMP      True    None          False    None\n",
       "1             Region       TEXT      True    None          False    None\n",
       "2                Rep       TEXT      True    None          False    None\n",
       "3               Item       TEXT      True    None          False    None\n",
       "4              Units    INTEGER      True    None          False    None\n",
       "5          Unit_Cost    NUMERIC      True    None          False    None\n",
       "6              Total    NUMERIC      True    None          False    None"
      ]
     },
     "metadata": {},
     "output_type": "display_data"
    }
   ],
   "source": [
    "for table in tables:\n",
    "    display(read_schema(table))"
   ]
  },
  {
   "cell_type": "code",
   "execution_count": 8,
   "id": "c1275903",
   "metadata": {},
   "outputs": [
    {
     "data": {
      "text/html": [
       "<div>\n",
       "<style scoped>\n",
       "    .dataframe tbody tr th:only-of-type {\n",
       "        vertical-align: middle;\n",
       "    }\n",
       "\n",
       "    .dataframe tbody tr th {\n",
       "        vertical-align: top;\n",
       "    }\n",
       "\n",
       "    .dataframe thead th {\n",
       "        text-align: right;\n",
       "    }\n",
       "</style>\n",
       "<table border=\"1\" class=\"dataframe\">\n",
       "  <thead>\n",
       "    <tr style=\"text-align: right;\">\n",
       "      <th></th>\n",
       "      <th>Item</th>\n",
       "      <th>MinPrice</th>\n",
       "    </tr>\n",
       "  </thead>\n",
       "  <tbody>\n",
       "    <tr>\n",
       "      <th>0</th>\n",
       "      <td>Binder</td>\n",
       "      <td>1.99</td>\n",
       "    </tr>\n",
       "  </tbody>\n",
       "</table>\n",
       "</div>"
      ],
      "text/plain": [
       "     Item  MinPrice\n",
       "0  Binder      1.99"
      ]
     },
     "metadata": {},
     "output_type": "display_data"
    },
    {
     "data": {
      "text/html": [
       "<div>\n",
       "<style scoped>\n",
       "    .dataframe tbody tr th:only-of-type {\n",
       "        vertical-align: middle;\n",
       "    }\n",
       "\n",
       "    .dataframe tbody tr th {\n",
       "        vertical-align: top;\n",
       "    }\n",
       "\n",
       "    .dataframe thead th {\n",
       "        text-align: right;\n",
       "    }\n",
       "</style>\n",
       "<table border=\"1\" class=\"dataframe\">\n",
       "  <thead>\n",
       "    <tr style=\"text-align: right;\">\n",
       "      <th></th>\n",
       "      <th>OrderDate</th>\n",
       "      <th>Region</th>\n",
       "      <th>Rep</th>\n",
       "      <th>Item</th>\n",
       "      <th>Units</th>\n",
       "      <th>Unit_Cost</th>\n",
       "      <th>Total</th>\n",
       "    </tr>\n",
       "  </thead>\n",
       "  <tbody>\n",
       "    <tr>\n",
       "      <th>0</th>\n",
       "      <td>2019-01-23</td>\n",
       "      <td>Central</td>\n",
       "      <td>Kivell</td>\n",
       "      <td>Binder</td>\n",
       "      <td>50</td>\n",
       "      <td>19.99</td>\n",
       "      <td>999.5</td>\n",
       "    </tr>\n",
       "  </tbody>\n",
       "</table>\n",
       "</div>"
      ],
      "text/plain": [
       "   OrderDate   Region     Rep    Item  Units  Unit_Cost  Total\n",
       "0 2019-01-23  Central  Kivell  Binder     50      19.99  999.5"
      ]
     },
     "metadata": {},
     "output_type": "display_data"
    }
   ],
   "source": [
    "for table in tables:\n",
    "    display(execute_query(f'SELECT * FROM {table} LIMIT 1'))"
   ]
  },
  {
   "cell_type": "markdown",
   "id": "efc0ef29",
   "metadata": {},
   "source": [
    "### Check data"
   ]
  },
  {
   "cell_type": "code",
   "execution_count": 9,
   "id": "0b91f263",
   "metadata": {},
   "outputs": [
    {
     "data": {
      "text/html": [
       "<div>\n",
       "<style scoped>\n",
       "    .dataframe tbody tr th:only-of-type {\n",
       "        vertical-align: middle;\n",
       "    }\n",
       "\n",
       "    .dataframe tbody tr th {\n",
       "        vertical-align: top;\n",
       "    }\n",
       "\n",
       "    .dataframe thead th {\n",
       "        text-align: right;\n",
       "    }\n",
       "</style>\n",
       "<table border=\"1\" class=\"dataframe\">\n",
       "  <thead>\n",
       "    <tr style=\"text-align: right;\">\n",
       "      <th></th>\n",
       "      <th>count</th>\n",
       "    </tr>\n",
       "  </thead>\n",
       "  <tbody>\n",
       "    <tr>\n",
       "      <th>0</th>\n",
       "      <td>12</td>\n",
       "    </tr>\n",
       "  </tbody>\n",
       "</table>\n",
       "</div>"
      ],
      "text/plain": [
       "   count\n",
       "0     12"
      ]
     },
     "execution_count": 9,
     "metadata": {},
     "output_type": "execute_result"
    }
   ],
   "source": [
    "execute_query(\"\"\"\n",
    "SELECT\n",
    "    COUNT(1)\n",
    "FROM\n",
    "    item\n",
    "\"\"\")"
   ]
  },
  {
   "cell_type": "code",
   "execution_count": 10,
   "id": "55b63424",
   "metadata": {},
   "outputs": [
    {
     "data": {
      "text/html": [
       "<div>\n",
       "<style scoped>\n",
       "    .dataframe tbody tr th:only-of-type {\n",
       "        vertical-align: middle;\n",
       "    }\n",
       "\n",
       "    .dataframe tbody tr th {\n",
       "        vertical-align: top;\n",
       "    }\n",
       "\n",
       "    .dataframe thead th {\n",
       "        text-align: right;\n",
       "    }\n",
       "</style>\n",
       "<table border=\"1\" class=\"dataframe\">\n",
       "  <thead>\n",
       "    <tr style=\"text-align: right;\">\n",
       "      <th></th>\n",
       "      <th>Item</th>\n",
       "      <th>MinPrice</th>\n",
       "    </tr>\n",
       "  </thead>\n",
       "  <tbody>\n",
       "    <tr>\n",
       "      <th>0</th>\n",
       "      <td>Binder</td>\n",
       "      <td>1.99</td>\n",
       "    </tr>\n",
       "    <tr>\n",
       "      <th>1</th>\n",
       "      <td>Desk</td>\n",
       "      <td>125.00</td>\n",
       "    </tr>\n",
       "    <tr>\n",
       "      <th>2</th>\n",
       "      <td>Pen</td>\n",
       "      <td>1.75</td>\n",
       "    </tr>\n",
       "    <tr>\n",
       "      <th>3</th>\n",
       "      <td>Pen Set</td>\n",
       "      <td>4.99</td>\n",
       "    </tr>\n",
       "    <tr>\n",
       "      <th>4</th>\n",
       "      <td>Pencil</td>\n",
       "      <td>1.29</td>\n",
       "    </tr>\n",
       "    <tr>\n",
       "      <th>5</th>\n",
       "      <td>Marker Set</td>\n",
       "      <td>5.99</td>\n",
       "    </tr>\n",
       "    <tr>\n",
       "      <th>6</th>\n",
       "      <td>Binder</td>\n",
       "      <td>1.99</td>\n",
       "    </tr>\n",
       "    <tr>\n",
       "      <th>7</th>\n",
       "      <td>Desk</td>\n",
       "      <td>125.00</td>\n",
       "    </tr>\n",
       "    <tr>\n",
       "      <th>8</th>\n",
       "      <td>Pen</td>\n",
       "      <td>1.75</td>\n",
       "    </tr>\n",
       "    <tr>\n",
       "      <th>9</th>\n",
       "      <td>Pen Set</td>\n",
       "      <td>4.99</td>\n",
       "    </tr>\n",
       "    <tr>\n",
       "      <th>10</th>\n",
       "      <td>Pencil</td>\n",
       "      <td>1.29</td>\n",
       "    </tr>\n",
       "    <tr>\n",
       "      <th>11</th>\n",
       "      <td>Marker Set</td>\n",
       "      <td>5.99</td>\n",
       "    </tr>\n",
       "  </tbody>\n",
       "</table>\n",
       "</div>"
      ],
      "text/plain": [
       "          Item  MinPrice\n",
       "0       Binder      1.99\n",
       "1         Desk    125.00\n",
       "2          Pen      1.75\n",
       "3      Pen Set      4.99\n",
       "4       Pencil      1.29\n",
       "5   Marker Set      5.99\n",
       "6       Binder      1.99\n",
       "7         Desk    125.00\n",
       "8          Pen      1.75\n",
       "9      Pen Set      4.99\n",
       "10      Pencil      1.29\n",
       "11  Marker Set      5.99"
      ]
     },
     "execution_count": 10,
     "metadata": {},
     "output_type": "execute_result"
    }
   ],
   "source": [
    "items_df = execute_query(\"\"\"\n",
    "SELECT\n",
    "    *\n",
    "FROM\n",
    "    item\n",
    "\"\"\")\n",
    "items_df"
   ]
  },
  {
   "cell_type": "code",
   "execution_count": 11,
   "id": "7cf6646d",
   "metadata": {},
   "outputs": [
    {
     "data": {
      "text/plain": [
       "6"
      ]
     },
     "execution_count": 11,
     "metadata": {},
     "output_type": "execute_result"
    }
   ],
   "source": [
    "items_df.duplicated().sum()"
   ]
  },
  {
   "cell_type": "markdown",
   "id": "979d31c4",
   "metadata": {},
   "source": [
    "There are 6 duplicated values, will use DISTINCT in future joins."
   ]
  },
  {
   "cell_type": "code",
   "execution_count": 12,
   "id": "9b2c4ddd",
   "metadata": {
    "scrolled": true
   },
   "outputs": [
    {
     "data": {
      "text/html": [
       "<div>\n",
       "<style scoped>\n",
       "    .dataframe tbody tr th:only-of-type {\n",
       "        vertical-align: middle;\n",
       "    }\n",
       "\n",
       "    .dataframe tbody tr th {\n",
       "        vertical-align: top;\n",
       "    }\n",
       "\n",
       "    .dataframe thead th {\n",
       "        text-align: right;\n",
       "    }\n",
       "</style>\n",
       "<table border=\"1\" class=\"dataframe\">\n",
       "  <thead>\n",
       "    <tr style=\"text-align: right;\">\n",
       "      <th></th>\n",
       "      <th>count</th>\n",
       "    </tr>\n",
       "  </thead>\n",
       "  <tbody>\n",
       "    <tr>\n",
       "      <th>0</th>\n",
       "      <td>69</td>\n",
       "    </tr>\n",
       "  </tbody>\n",
       "</table>\n",
       "</div>"
      ],
      "text/plain": [
       "   count\n",
       "0     69"
      ]
     },
     "execution_count": 12,
     "metadata": {},
     "output_type": "execute_result"
    }
   ],
   "source": [
    "execute_query(\"\"\"\n",
    "SELECT\n",
    "    COUNT(1)\n",
    "FROM\n",
    "    rep_sales\n",
    "\"\"\")"
   ]
  },
  {
   "cell_type": "code",
   "execution_count": 13,
   "id": "fb998a38",
   "metadata": {},
   "outputs": [
    {
     "data": {
      "text/plain": [
       "0"
      ]
     },
     "execution_count": 13,
     "metadata": {},
     "output_type": "execute_result"
    }
   ],
   "source": [
    "execute_query(\"\"\"\n",
    "SELECT\n",
    "    *\n",
    "FROM\n",
    "    rep_sales\n",
    "ORDER BY\n",
    "    \"OrderDate\"\n",
    "\"\"\").duplicated().sum()"
   ]
  },
  {
   "cell_type": "markdown",
   "id": "bc5f2799",
   "metadata": {},
   "source": [
    "<a class=\"anchor\" id=\"3-queries\"></a>\n",
    "## Queries\n",
    "***\n",
    "[back to Table of Contents](#0_toc)\n",
    "\n",
    "1. [What is the total income in the data?](#q1)\n",
    "2. [Which sales rep brought the most income?](#q2)\n",
    "3. [Which item brought the most income?](#q3)\n",
    "4. [Which region sold the most desks?](#q4)\n",
    "5. [Which sales rep sold the highest average price a piece for the item pen?](#q5)\n",
    "6. [Which sales rep sold the most units between April – September of 2020?](#q6)\n",
    "7. [Which sales rep had the highest price difference from the minimum price on the item pen set?](#q7)\n",
    "8. [Was there a sales rep that sold an item below the minimum price?  \n",
    "If so, which item was it and what was the percent difference from the minimum price?](#q8)\n",
    "9. [Which region had the highest share of  price difference?  \n",
    "(where percent price different is the amount above min price divided by the total amount from that region)](#q9)\n",
    "10. [For each sale above the minimum price the rep gets 10% commission of the total price as a bonus.  \n",
    "Which 3 sales reps have earned the most commission (show their commission as well)?](#q10)"
   ]
  },
  {
   "cell_type": "markdown",
   "id": "ceaaab6a",
   "metadata": {},
   "source": [
    "<a class=\"anchor\" id=\"q1\"></a>\n",
    "### 1. What is the total income in the data?\n",
    "[up](#3-queries)"
   ]
  },
  {
   "cell_type": "code",
   "execution_count": 14,
   "id": "c29ad89e",
   "metadata": {},
   "outputs": [
    {
     "data": {
      "text/html": [
       "<div>\n",
       "<style scoped>\n",
       "    .dataframe tbody tr th:only-of-type {\n",
       "        vertical-align: middle;\n",
       "    }\n",
       "\n",
       "    .dataframe tbody tr th {\n",
       "        vertical-align: top;\n",
       "    }\n",
       "\n",
       "    .dataframe thead th {\n",
       "        text-align: right;\n",
       "    }\n",
       "</style>\n",
       "<table border=\"1\" class=\"dataframe\">\n",
       "  <thead>\n",
       "    <tr style=\"text-align: right;\">\n",
       "      <th></th>\n",
       "      <th>sum</th>\n",
       "    </tr>\n",
       "  </thead>\n",
       "  <tbody>\n",
       "    <tr>\n",
       "      <th>0</th>\n",
       "      <td>28867.97</td>\n",
       "    </tr>\n",
       "  </tbody>\n",
       "</table>\n",
       "</div>"
      ],
      "text/plain": [
       "        sum\n",
       "0  28867.97"
      ]
     },
     "execution_count": 14,
     "metadata": {},
     "output_type": "execute_result"
    }
   ],
   "source": [
    "execute_query(\"\"\"\n",
    "SELECT\n",
    "    SUM(\"Total\")\n",
    "FROM\n",
    "    rep_sales\n",
    "\"\"\")"
   ]
  },
  {
   "cell_type": "markdown",
   "id": "a1b50f79",
   "metadata": {},
   "source": [
    "<div class=\"alert alert-success\" role=\"alert\">\n",
    "  Great!\n",
    "</div>"
   ]
  },
  {
   "cell_type": "markdown",
   "id": "d00f1ea9",
   "metadata": {},
   "source": [
    "<a class=\"anchor\" id=\"q2\"></a>\n",
    "### 2. Which sales rep brought the most income?\n",
    "[up](#3-queries)"
   ]
  },
  {
   "cell_type": "code",
   "execution_count": 15,
   "id": "76df9a5a",
   "metadata": {},
   "outputs": [
    {
     "data": {
      "text/html": [
       "<div>\n",
       "<style scoped>\n",
       "    .dataframe tbody tr th:only-of-type {\n",
       "        vertical-align: middle;\n",
       "    }\n",
       "\n",
       "    .dataframe tbody tr th {\n",
       "        vertical-align: top;\n",
       "    }\n",
       "\n",
       "    .dataframe thead th {\n",
       "        text-align: right;\n",
       "    }\n",
       "</style>\n",
       "<table border=\"1\" class=\"dataframe\">\n",
       "  <thead>\n",
       "    <tr style=\"text-align: right;\">\n",
       "      <th></th>\n",
       "      <th>Rep</th>\n",
       "      <th>sum</th>\n",
       "    </tr>\n",
       "  </thead>\n",
       "  <tbody>\n",
       "    <tr>\n",
       "      <th>0</th>\n",
       "      <td>Kivell</td>\n",
       "      <td>3554.23</td>\n",
       "    </tr>\n",
       "    <tr>\n",
       "      <th>1</th>\n",
       "      <td>Thompson</td>\n",
       "      <td>3060.23</td>\n",
       "    </tr>\n",
       "    <tr>\n",
       "      <th>2</th>\n",
       "      <td>Jardine</td>\n",
       "      <td>3006.80</td>\n",
       "    </tr>\n",
       "    <tr>\n",
       "      <th>3</th>\n",
       "      <td>Jones</td>\n",
       "      <td>2969.49</td>\n",
       "    </tr>\n",
       "    <tr>\n",
       "      <th>4</th>\n",
       "      <td>Morgan</td>\n",
       "      <td>2669.98</td>\n",
       "    </tr>\n",
       "  </tbody>\n",
       "</table>\n",
       "</div>"
      ],
      "text/plain": [
       "        Rep      sum\n",
       "0    Kivell  3554.23\n",
       "1  Thompson  3060.23\n",
       "2   Jardine  3006.80\n",
       "3     Jones  2969.49\n",
       "4    Morgan  2669.98"
      ]
     },
     "execution_count": 15,
     "metadata": {},
     "output_type": "execute_result"
    }
   ],
   "source": [
    "top = 5\n",
    "\n",
    "execute_query(f\"\"\"\n",
    "SELECT\n",
    "    \"Rep\",\n",
    "    SUM(\"Total\")\n",
    "FROM\n",
    "    rep_sales\n",
    "GROUP BY\n",
    "    \"Rep\"\n",
    "ORDER BY\n",
    "    sum DESC\n",
    "LIMIT {top}\n",
    "\"\"\")"
   ]
  },
  {
   "cell_type": "markdown",
   "id": "2af2e247",
   "metadata": {},
   "source": [
    "\"Kivell\" has highest total sells sum."
   ]
  },
  {
   "cell_type": "markdown",
   "id": "f7831aa7",
   "metadata": {},
   "source": [
    "<div class=\"alert alert-success\" role=\"alert\">\n",
    "  Great!\n",
    "</div>"
   ]
  },
  {
   "cell_type": "markdown",
   "id": "895a5b5c",
   "metadata": {},
   "source": [
    "<a class=\"anchor\" id=\"q3\"></a>\n",
    "### 3. Which item brought the most income?\n",
    "[up](#3-queries)"
   ]
  },
  {
   "cell_type": "code",
   "execution_count": 16,
   "id": "ae3e647a",
   "metadata": {
    "scrolled": true
   },
   "outputs": [
    {
     "data": {
      "text/html": [
       "<div>\n",
       "<style scoped>\n",
       "    .dataframe tbody tr th:only-of-type {\n",
       "        vertical-align: middle;\n",
       "    }\n",
       "\n",
       "    .dataframe tbody tr th {\n",
       "        vertical-align: top;\n",
       "    }\n",
       "\n",
       "    .dataframe thead th {\n",
       "        text-align: right;\n",
       "    }\n",
       "</style>\n",
       "<table border=\"1\" class=\"dataframe\">\n",
       "  <thead>\n",
       "    <tr style=\"text-align: right;\">\n",
       "      <th></th>\n",
       "      <th>Item</th>\n",
       "      <th>sum</th>\n",
       "    </tr>\n",
       "  </thead>\n",
       "  <tbody>\n",
       "    <tr>\n",
       "      <th>0</th>\n",
       "      <td>Binder</td>\n",
       "      <td>8229.12</td>\n",
       "    </tr>\n",
       "    <tr>\n",
       "      <th>1</th>\n",
       "      <td>Marker Set</td>\n",
       "      <td>6618.71</td>\n",
       "    </tr>\n",
       "    <tr>\n",
       "      <th>2</th>\n",
       "      <td>Pen Set</td>\n",
       "      <td>4683.66</td>\n",
       "    </tr>\n",
       "  </tbody>\n",
       "</table>\n",
       "</div>"
      ],
      "text/plain": [
       "         Item      sum\n",
       "0      Binder  8229.12\n",
       "1  Marker Set  6618.71\n",
       "2     Pen Set  4683.66"
      ]
     },
     "execution_count": 16,
     "metadata": {},
     "output_type": "execute_result"
    }
   ],
   "source": [
    "top = 3\n",
    "\n",
    "execute_query(f\"\"\"\n",
    "SELECT\n",
    "    \"Item\",\n",
    "    SUM(\"Total\")\n",
    "FROM\n",
    "    rep_sales\n",
    "GROUP BY\n",
    "    \"Item\"\n",
    "ORDER BY\n",
    "    sum DESC\n",
    "LIMIT {top}\n",
    "\"\"\")"
   ]
  },
  {
   "cell_type": "markdown",
   "id": "123bf13c",
   "metadata": {},
   "source": [
    "\"Binder\" has highest total gross."
   ]
  },
  {
   "cell_type": "markdown",
   "id": "e3b5d4de",
   "metadata": {},
   "source": [
    "<div class=\"alert alert-success\" role=\"alert\">\n",
    "  Great!\n",
    "</div>"
   ]
  },
  {
   "cell_type": "markdown",
   "id": "a03fc274",
   "metadata": {},
   "source": [
    "<a class=\"anchor\" id=\"q4\"></a>\n",
    "### 4. Which region sold the most desks?\n",
    "[up](#3-queries)"
   ]
  },
  {
   "cell_type": "code",
   "execution_count": 17,
   "id": "d448b9ac",
   "metadata": {},
   "outputs": [
    {
     "data": {
      "text/html": [
       "<div>\n",
       "<style scoped>\n",
       "    .dataframe tbody tr th:only-of-type {\n",
       "        vertical-align: middle;\n",
       "    }\n",
       "\n",
       "    .dataframe tbody tr th {\n",
       "        vertical-align: top;\n",
       "    }\n",
       "\n",
       "    .dataframe thead th {\n",
       "        text-align: right;\n",
       "    }\n",
       "</style>\n",
       "<table border=\"1\" class=\"dataframe\">\n",
       "  <thead>\n",
       "    <tr style=\"text-align: right;\">\n",
       "      <th></th>\n",
       "      <th>Region</th>\n",
       "      <th>units</th>\n",
       "    </tr>\n",
       "  </thead>\n",
       "  <tbody>\n",
       "    <tr>\n",
       "      <th>0</th>\n",
       "      <td>West</td>\n",
       "      <td>9</td>\n",
       "    </tr>\n",
       "    <tr>\n",
       "      <th>1</th>\n",
       "      <td>East</td>\n",
       "      <td>7</td>\n",
       "    </tr>\n",
       "    <tr>\n",
       "      <th>2</th>\n",
       "      <td>Central</td>\n",
       "      <td>7</td>\n",
       "    </tr>\n",
       "  </tbody>\n",
       "</table>\n",
       "</div>"
      ],
      "text/plain": [
       "    Region  units\n",
       "0     West      9\n",
       "1     East      7\n",
       "2  Central      7"
      ]
     },
     "execution_count": 17,
     "metadata": {},
     "output_type": "execute_result"
    }
   ],
   "source": [
    "execute_query(\"\"\"\n",
    "SELECT\n",
    "    \"Region\",\n",
    "    SUM(\"Units\") AS units\n",
    "FROM\n",
    "    rep_sales\n",
    "WHERE\n",
    "    \"Item\" iLIKE '%%desk%%'\n",
    "GROUP BY\n",
    "    \"Region\"\n",
    "ORDER BY\n",
    "    units DESC\n",
    "\"\"\")"
   ]
  },
  {
   "cell_type": "markdown",
   "id": "d92943b7",
   "metadata": {},
   "source": [
    "\"West\" region had most (9) desks sold."
   ]
  },
  {
   "cell_type": "markdown",
   "id": "f74cbd07",
   "metadata": {},
   "source": [
    "<div class=\"alert alert-danger\" role=\"alert\">\n",
    " <del> You actually checked amount of transactions that included desks and not amount of desks actually sold. You are close though>/del>\n",
    "</div>"
   ]
  },
  {
   "cell_type": "markdown",
   "id": "e0510756",
   "metadata": {},
   "source": [
    "<div class=\"alert alert-success\" role=\"alert\">\n",
    "  Great!\n",
    "</div>"
   ]
  },
  {
   "cell_type": "markdown",
   "id": "108fba5b",
   "metadata": {},
   "source": [
    "<a class=\"anchor\" id=\"q5\"></a>\n",
    "### 5. Which sales rep sold the highest average price a piece for the item pen?\n",
    "[up](#3-queries)"
   ]
  },
  {
   "cell_type": "code",
   "execution_count": 18,
   "id": "de699bef",
   "metadata": {
    "scrolled": true
   },
   "outputs": [
    {
     "data": {
      "text/html": [
       "<div>\n",
       "<style scoped>\n",
       "    .dataframe tbody tr th:only-of-type {\n",
       "        vertical-align: middle;\n",
       "    }\n",
       "\n",
       "    .dataframe tbody tr th {\n",
       "        vertical-align: top;\n",
       "    }\n",
       "\n",
       "    .dataframe thead th {\n",
       "        text-align: right;\n",
       "    }\n",
       "</style>\n",
       "<table border=\"1\" class=\"dataframe\">\n",
       "  <thead>\n",
       "    <tr style=\"text-align: right;\">\n",
       "      <th></th>\n",
       "      <th>rep</th>\n",
       "      <th>units</th>\n",
       "      <th>total</th>\n",
       "      <th>average_item_price</th>\n",
       "    </tr>\n",
       "  </thead>\n",
       "  <tbody>\n",
       "    <tr>\n",
       "      <th>0</th>\n",
       "      <td>Parent</td>\n",
       "      <td>15</td>\n",
       "      <td>299.85</td>\n",
       "      <td>19.99</td>\n",
       "    </tr>\n",
       "    <tr>\n",
       "      <th>1</th>\n",
       "      <td>Gill</td>\n",
       "      <td>112</td>\n",
       "      <td>666.38</td>\n",
       "      <td>10.74</td>\n",
       "    </tr>\n",
       "    <tr>\n",
       "      <th>2</th>\n",
       "      <td>Jones</td>\n",
       "      <td>64</td>\n",
       "      <td>575.36</td>\n",
       "      <td>8.99</td>\n",
       "    </tr>\n",
       "    <tr>\n",
       "      <th>3</th>\n",
       "      <td>Howard</td>\n",
       "      <td>96</td>\n",
       "      <td>479.04</td>\n",
       "      <td>4.99</td>\n",
       "    </tr>\n",
       "    <tr>\n",
       "      <th>4</th>\n",
       "      <td>Joe</td>\n",
       "      <td>34</td>\n",
       "      <td>74.46</td>\n",
       "      <td>2.19</td>\n",
       "    </tr>\n",
       "    <tr>\n",
       "      <th>5</th>\n",
       "      <td>Sorvino</td>\n",
       "      <td>76</td>\n",
       "      <td>151.24</td>\n",
       "      <td>1.99</td>\n",
       "    </tr>\n",
       "    <tr>\n",
       "      <th>6</th>\n",
       "      <td>Jardine</td>\n",
       "      <td>51</td>\n",
       "      <td>91.29</td>\n",
       "      <td>1.79</td>\n",
       "    </tr>\n",
       "    <tr>\n",
       "      <th>7</th>\n",
       "      <td>Thompson</td>\n",
       "      <td>210</td>\n",
       "      <td>333.90</td>\n",
       "      <td>1.59</td>\n",
       "    </tr>\n",
       "    <tr>\n",
       "      <th>8</th>\n",
       "      <td>Andrews</td>\n",
       "      <td>65</td>\n",
       "      <td>97.50</td>\n",
       "      <td>1.50</td>\n",
       "    </tr>\n",
       "  </tbody>\n",
       "</table>\n",
       "</div>"
      ],
      "text/plain": [
       "        rep  units   total  average_item_price\n",
       "0    Parent     15  299.85               19.99\n",
       "1      Gill    112  666.38               10.74\n",
       "2     Jones     64  575.36                8.99\n",
       "3    Howard     96  479.04                4.99\n",
       "4       Joe     34   74.46                2.19\n",
       "5   Sorvino     76  151.24                1.99\n",
       "6   Jardine     51   91.29                1.79\n",
       "7  Thompson    210  333.90                1.59\n",
       "8   Andrews     65   97.50                1.50"
      ]
     },
     "execution_count": 18,
     "metadata": {},
     "output_type": "execute_result"
    }
   ],
   "source": [
    "execute_query(\"\"\"\n",
    "SELECT\n",
    "    \"Rep\" AS rep,\n",
    "    SUM(\"Units\") AS units,\n",
    "    SUM(\"Total\") AS total,\n",
    "    AVG(\"Total\" / \"Units\") AS average_item_price\n",
    "FROM\n",
    "    rep_sales\n",
    "WHERE\n",
    "    \"Item\" = 'Pen'\n",
    "GROUP BY\n",
    "    \"Rep\"\n",
    "ORDER BY\n",
    "    average_item_price DESC\n",
    "\"\"\")"
   ]
  },
  {
   "cell_type": "markdown",
   "id": "46b19d44",
   "metadata": {},
   "source": [
    "<div class=\"alert alert-success\" role=\"alert\">\n",
    "  Great!\n",
    "</div>"
   ]
  },
  {
   "cell_type": "markdown",
   "id": "5cfd53b2",
   "metadata": {},
   "source": [
    "\"Parent\" has sold Pens with the highest (19.99) avg price per item."
   ]
  },
  {
   "cell_type": "markdown",
   "id": "68e3a012",
   "metadata": {},
   "source": [
    "<a class=\"anchor\" id=\"q6\"></a>\n",
    "### 6. Which sales rep sold the most units between April – September of 2020?\n",
    "[up](#3-queries)"
   ]
  },
  {
   "cell_type": "code",
   "execution_count": 19,
   "id": "1bd6ed88",
   "metadata": {
    "scrolled": true
   },
   "outputs": [
    {
     "data": {
      "text/html": [
       "<div>\n",
       "<style scoped>\n",
       "    .dataframe tbody tr th:only-of-type {\n",
       "        vertical-align: middle;\n",
       "    }\n",
       "\n",
       "    .dataframe tbody tr th {\n",
       "        vertical-align: top;\n",
       "    }\n",
       "\n",
       "    .dataframe thead th {\n",
       "        text-align: right;\n",
       "    }\n",
       "</style>\n",
       "<table border=\"1\" class=\"dataframe\">\n",
       "  <thead>\n",
       "    <tr style=\"text-align: right;\">\n",
       "      <th></th>\n",
       "      <th>Rep</th>\n",
       "      <th>units</th>\n",
       "      <th>total</th>\n",
       "    </tr>\n",
       "  </thead>\n",
       "  <tbody>\n",
       "    <tr>\n",
       "      <th>0</th>\n",
       "      <td>Andrews</td>\n",
       "      <td>309</td>\n",
       "      <td>1562.06</td>\n",
       "    </tr>\n",
       "    <tr>\n",
       "      <th>1</th>\n",
       "      <td>Gill</td>\n",
       "      <td>256</td>\n",
       "      <td>1170.94</td>\n",
       "    </tr>\n",
       "    <tr>\n",
       "      <th>2</th>\n",
       "      <td>Thompson</td>\n",
       "      <td>245</td>\n",
       "      <td>648.55</td>\n",
       "    </tr>\n",
       "    <tr>\n",
       "      <th>3</th>\n",
       "      <td>Howard</td>\n",
       "      <td>99</td>\n",
       "      <td>1079.04</td>\n",
       "    </tr>\n",
       "    <tr>\n",
       "      <th>4</th>\n",
       "      <td>Kivell</td>\n",
       "      <td>94</td>\n",
       "      <td>2075.69</td>\n",
       "    </tr>\n",
       "    <tr>\n",
       "      <th>5</th>\n",
       "      <td>Jones</td>\n",
       "      <td>86</td>\n",
       "      <td>837.14</td>\n",
       "    </tr>\n",
       "    <tr>\n",
       "      <th>6</th>\n",
       "      <td>Sorvino</td>\n",
       "      <td>79</td>\n",
       "      <td>976.24</td>\n",
       "    </tr>\n",
       "    <tr>\n",
       "      <th>7</th>\n",
       "      <td>Morgan</td>\n",
       "      <td>55</td>\n",
       "      <td>686.95</td>\n",
       "    </tr>\n",
       "    <tr>\n",
       "      <th>8</th>\n",
       "      <td>Joe</td>\n",
       "      <td>38</td>\n",
       "      <td>966.46</td>\n",
       "    </tr>\n",
       "  </tbody>\n",
       "</table>\n",
       "</div>"
      ],
      "text/plain": [
       "        Rep  units    total\n",
       "0   Andrews    309  1562.06\n",
       "1      Gill    256  1170.94\n",
       "2  Thompson    245   648.55\n",
       "3    Howard     99  1079.04\n",
       "4    Kivell     94  2075.69\n",
       "5     Jones     86   837.14\n",
       "6   Sorvino     79   976.24\n",
       "7    Morgan     55   686.95\n",
       "8       Joe     38   966.46"
      ]
     },
     "execution_count": 19,
     "metadata": {},
     "output_type": "execute_result"
    }
   ],
   "source": [
    "execute_query(\"\"\"\n",
    "SELECT\n",
    "    \"Rep\",\n",
    "    SUM(\"Units\") AS units,\n",
    "    SUM(\"Total\") AS total\n",
    "FROM\n",
    "    rep_sales\n",
    "WHERE\n",
    "    DATE_TRUNC('month', \"OrderDate\") BETWEEN '2020-04-01' AND '2020-09-01'\n",
    "GROUP BY\n",
    "    \"Rep\"\n",
    "ORDER BY\n",
    "    units DESC\n",
    "\"\"\")"
   ]
  },
  {
   "cell_type": "markdown",
   "id": "7445cc95",
   "metadata": {},
   "source": [
    "\"Andrews\" sold the most (309) units between April and September of 2020."
   ]
  },
  {
   "cell_type": "markdown",
   "id": "48b5d9ad",
   "metadata": {},
   "source": [
    "<div class=\"alert alert-success\" role=\"alert\">\n",
    "  Great!\n",
    "</div>"
   ]
  },
  {
   "cell_type": "markdown",
   "id": "c8c045f3",
   "metadata": {},
   "source": [
    "<a class=\"anchor\" id=\"q7\"></a>\n",
    "### 7. Which sales rep had the highest price difference from the minimum price on the item pen set?\n",
    "[up](#3-queries)"
   ]
  },
  {
   "cell_type": "code",
   "execution_count": 20,
   "id": "73225443",
   "metadata": {},
   "outputs": [
    {
     "data": {
      "text/html": [
       "<div>\n",
       "<style scoped>\n",
       "    .dataframe tbody tr th:only-of-type {\n",
       "        vertical-align: middle;\n",
       "    }\n",
       "\n",
       "    .dataframe tbody tr th {\n",
       "        vertical-align: top;\n",
       "    }\n",
       "\n",
       "    .dataframe thead th {\n",
       "        text-align: right;\n",
       "    }\n",
       "</style>\n",
       "<table border=\"1\" class=\"dataframe\">\n",
       "  <thead>\n",
       "    <tr style=\"text-align: right;\">\n",
       "      <th></th>\n",
       "      <th>Rep</th>\n",
       "      <th>min</th>\n",
       "      <th>max</th>\n",
       "      <th>diff</th>\n",
       "    </tr>\n",
       "  </thead>\n",
       "  <tbody>\n",
       "    <tr>\n",
       "      <th>0</th>\n",
       "      <td>Kivell</td>\n",
       "      <td>4.99</td>\n",
       "      <td>17.00</td>\n",
       "      <td>12.01</td>\n",
       "    </tr>\n",
       "    <tr>\n",
       "      <th>1</th>\n",
       "      <td>Jones</td>\n",
       "      <td>4.99</td>\n",
       "      <td>15.99</td>\n",
       "      <td>11.00</td>\n",
       "    </tr>\n",
       "    <tr>\n",
       "      <th>2</th>\n",
       "      <td>Morgan</td>\n",
       "      <td>7.25</td>\n",
       "      <td>12.49</td>\n",
       "      <td>5.24</td>\n",
       "    </tr>\n",
       "    <tr>\n",
       "      <th>3</th>\n",
       "      <td>Parent</td>\n",
       "      <td>12.99</td>\n",
       "      <td>12.99</td>\n",
       "      <td>0.00</td>\n",
       "    </tr>\n",
       "    <tr>\n",
       "      <th>4</th>\n",
       "      <td>Thompson</td>\n",
       "      <td>8.99</td>\n",
       "      <td>8.99</td>\n",
       "      <td>0.00</td>\n",
       "    </tr>\n",
       "    <tr>\n",
       "      <th>5</th>\n",
       "      <td>Jardine</td>\n",
       "      <td>4.99</td>\n",
       "      <td>4.99</td>\n",
       "      <td>0.00</td>\n",
       "    </tr>\n",
       "  </tbody>\n",
       "</table>\n",
       "</div>"
      ],
      "text/plain": [
       "        Rep    min    max   diff\n",
       "0    Kivell   4.99  17.00  12.01\n",
       "1     Jones   4.99  15.99  11.00\n",
       "2    Morgan   7.25  12.49   5.24\n",
       "3    Parent  12.99  12.99   0.00\n",
       "4  Thompson   8.99   8.99   0.00\n",
       "5   Jardine   4.99   4.99   0.00"
      ]
     },
     "execution_count": 20,
     "metadata": {},
     "output_type": "execute_result"
    }
   ],
   "source": [
    "execute_query(\"\"\"\n",
    "SELECT\n",
    "    *,\n",
    "    max - min AS diff\n",
    "FROM\n",
    "    (SELECT\n",
    "        \"Rep\",\n",
    "        MIN(\"Unit_Cost\"),\n",
    "        MAX(\"Unit_Cost\")\n",
    "    FROM\n",
    "        rep_sales\n",
    "    WHERE\n",
    "        \"Item\" iLIKE 'pen set'\n",
    "    GROUP BY\n",
    "        \"Rep\"\n",
    "    ) AS subq\n",
    "ORDER BY\n",
    "    diff DESC\n",
    "\"\"\")"
   ]
  },
  {
   "cell_type": "markdown",
   "id": "654312db",
   "metadata": {},
   "source": [
    "\"Kivell\" had the highest (12.01) unit price difference on Pen Set."
   ]
  },
  {
   "cell_type": "markdown",
   "id": "dcc0c047",
   "metadata": {},
   "source": [
    "<div class=\"alert alert-success\" role=\"alert\">\n",
    "  Great!\n",
    "</div>"
   ]
  },
  {
   "cell_type": "markdown",
   "id": "9070af5e",
   "metadata": {},
   "source": [
    "<a class=\"anchor\" id=\"q8\"></a>\n",
    "### 8. Was there a sales rep that sold an item below the minimum price? <br />&nbsp;&nbsp;&nbsp;&nbsp;If so, which item was it and what was the percent difference from the minimum price?\n",
    "[up](#3-queries)"
   ]
  },
  {
   "cell_type": "code",
   "execution_count": 21,
   "id": "1bf06d9b",
   "metadata": {},
   "outputs": [
    {
     "data": {
      "text/html": [
       "<div>\n",
       "<style scoped>\n",
       "    .dataframe tbody tr th:only-of-type {\n",
       "        vertical-align: middle;\n",
       "    }\n",
       "\n",
       "    .dataframe tbody tr th {\n",
       "        vertical-align: top;\n",
       "    }\n",
       "\n",
       "    .dataframe thead th {\n",
       "        text-align: right;\n",
       "    }\n",
       "</style>\n",
       "<table border=\"1\" class=\"dataframe\">\n",
       "  <thead>\n",
       "    <tr style=\"text-align: right;\">\n",
       "      <th></th>\n",
       "      <th>OrderDate</th>\n",
       "      <th>Region</th>\n",
       "      <th>Rep</th>\n",
       "      <th>Item</th>\n",
       "      <th>Units</th>\n",
       "      <th>Unit_Cost</th>\n",
       "      <th>Total</th>\n",
       "      <th>Item</th>\n",
       "      <th>MinPrice</th>\n",
       "      <th>percent_diff</th>\n",
       "    </tr>\n",
       "  </thead>\n",
       "  <tbody>\n",
       "    <tr>\n",
       "      <th>0</th>\n",
       "      <td>2020-06-18</td>\n",
       "      <td>Central</td>\n",
       "      <td>Gill</td>\n",
       "      <td>Pen</td>\n",
       "      <td>85</td>\n",
       "      <td>1.49</td>\n",
       "      <td>126.65</td>\n",
       "      <td>Pen</td>\n",
       "      <td>1.75</td>\n",
       "      <td>14.86</td>\n",
       "    </tr>\n",
       "    <tr>\n",
       "      <th>1</th>\n",
       "      <td>2020-09-27</td>\n",
       "      <td>Central</td>\n",
       "      <td>Andrews</td>\n",
       "      <td>Pen</td>\n",
       "      <td>65</td>\n",
       "      <td>1.50</td>\n",
       "      <td>97.50</td>\n",
       "      <td>Pen</td>\n",
       "      <td>1.75</td>\n",
       "      <td>14.29</td>\n",
       "    </tr>\n",
       "    <tr>\n",
       "      <th>2</th>\n",
       "      <td>2020-08-12</td>\n",
       "      <td>West</td>\n",
       "      <td>Thompson</td>\n",
       "      <td>Pen</td>\n",
       "      <td>210</td>\n",
       "      <td>1.59</td>\n",
       "      <td>333.90</td>\n",
       "      <td>Pen</td>\n",
       "      <td>1.75</td>\n",
       "      <td>9.14</td>\n",
       "    </tr>\n",
       "  </tbody>\n",
       "</table>\n",
       "</div>"
      ],
      "text/plain": [
       "   OrderDate   Region       Rep Item  Units  Unit_Cost   Total Item  MinPrice  \\\n",
       "0 2020-06-18  Central      Gill  Pen     85       1.49  126.65  Pen      1.75   \n",
       "1 2020-09-27  Central   Andrews  Pen     65       1.50   97.50  Pen      1.75   \n",
       "2 2020-08-12     West  Thompson  Pen    210       1.59  333.90  Pen      1.75   \n",
       "\n",
       "   percent_diff  \n",
       "0         14.86  \n",
       "1         14.29  \n",
       "2          9.14  "
      ]
     },
     "execution_count": 21,
     "metadata": {},
     "output_type": "execute_result"
    }
   ],
   "source": [
    "execute_query(\"\"\"\n",
    "SELECT DISTINCT\n",
    "    *,\n",
    "    ROUND((\"MinPrice\" - \"Unit_Cost\") * 100.0 / \"MinPrice\", 2) AS percent_diff\n",
    "FROM\n",
    "    rep_sales\n",
    "        LEFT JOIN item ON item.\"Item\" = rep_sales.\"Item\"\n",
    "WHERE\n",
    "    \"Unit_Cost\" < \"MinPrice\"\n",
    "ORDER BY\n",
    "    percent_diff DESC\n",
    "\"\"\")"
   ]
  },
  {
   "cell_type": "markdown",
   "id": "daeae27f",
   "metadata": {},
   "source": [
    "<div class=\"alert alert-success\" role=\"alert\">\n",
    "  Great! - good idea here to sort them by that difference:)\n",
    "</div>"
   ]
  },
  {
   "cell_type": "markdown",
   "id": "b8d9a1fa",
   "metadata": {},
   "source": [
    "<a class=\"anchor\" id=\"q9\"></a>\n",
    "### 9. Which region had the highest share of price difference? <br />&nbsp;&nbsp;&nbsp;&nbsp;(where percent price different is the amount above min price divided by the total amount from that region)\n",
    "[up](#3-queries)"
   ]
  },
  {
   "cell_type": "code",
   "execution_count": 22,
   "id": "40578ad2",
   "metadata": {},
   "outputs": [
    {
     "data": {
      "text/html": [
       "<div>\n",
       "<style scoped>\n",
       "    .dataframe tbody tr th:only-of-type {\n",
       "        vertical-align: middle;\n",
       "    }\n",
       "\n",
       "    .dataframe tbody tr th {\n",
       "        vertical-align: top;\n",
       "    }\n",
       "\n",
       "    .dataframe thead th {\n",
       "        text-align: right;\n",
       "    }\n",
       "</style>\n",
       "<table border=\"1\" class=\"dataframe\">\n",
       "  <thead>\n",
       "    <tr style=\"text-align: right;\">\n",
       "      <th></th>\n",
       "      <th>Region</th>\n",
       "      <th>price_diff_ratio</th>\n",
       "    </tr>\n",
       "  </thead>\n",
       "  <tbody>\n",
       "    <tr>\n",
       "      <th>0</th>\n",
       "      <td>West</td>\n",
       "      <td>0.41</td>\n",
       "    </tr>\n",
       "    <tr>\n",
       "      <th>1</th>\n",
       "      <td>East</td>\n",
       "      <td>0.39</td>\n",
       "    </tr>\n",
       "    <tr>\n",
       "      <th>2</th>\n",
       "      <td>Central</td>\n",
       "      <td>0.20</td>\n",
       "    </tr>\n",
       "  </tbody>\n",
       "</table>\n",
       "</div>"
      ],
      "text/plain": [
       "    Region  price_diff_ratio\n",
       "0     West              0.41\n",
       "1     East              0.39\n",
       "2  Central              0.20"
      ]
     },
     "execution_count": 22,
     "metadata": {},
     "output_type": "execute_result"
    }
   ],
   "source": [
    "execute_query(\"\"\"\n",
    "SELECT DISTINCT\n",
    "    \"Region\",\n",
    "    ROUND(SUM(\"Unit_Cost\" - \"MinPrice\") OVER (PARTITION BY \"Region\") / \n",
    "        SUM(\"Unit_Cost\" - \"MinPrice\") OVER (), 2) AS price_diff_ratio\n",
    "FROM\n",
    "    rep_sales\n",
    "        LEFT JOIN item ON item.\"Item\" = rep_sales.\"Item\"\n",
    "WHERE\n",
    "    \"Unit_Cost\" > \"MinPrice\"\n",
    "ORDER BY\n",
    "    price_diff_ratio DESC\n",
    "\"\"\")"
   ]
  },
  {
   "cell_type": "markdown",
   "id": "8c28da49",
   "metadata": {},
   "source": [
    "\"West\" region had the highest overall percent diff."
   ]
  },
  {
   "cell_type": "markdown",
   "id": "9d14412a",
   "metadata": {},
   "source": [
    "<div class=\"alert alert-danger\" role=\"alert\">\n",
    "  <del>Have you noticed that your percentage don't add up to a 100? looks like a problem in sub query </del>\n",
    "</div>"
   ]
  },
  {
   "cell_type": "markdown",
   "id": "f4eb7f8c",
   "metadata": {},
   "source": [
    "<div class=\"alert alert-warning\" role=\"alert\">\n",
    "  <del>Almost:)\n",
    "  <br>Beacuse we want above min price and we know we have some below that from the last question, we should exclud the negative ones  </del>\n",
    "</div>"
   ]
  },
  {
   "cell_type": "markdown",
   "id": "1def1970",
   "metadata": {},
   "source": [
    "<div class=\"alert alert-success\" role=\"alert\">\n",
    "  Great!\n",
    "</div>"
   ]
  },
  {
   "cell_type": "markdown",
   "id": "55311e88",
   "metadata": {},
   "source": [
    "<a class=\"anchor\" id=\"q10\"></a>\n",
    "### 10. For each sale above the minimum price the rep gets 10% commission of the total price as a bonus. <br />&nbsp;&nbsp;&nbsp;&nbsp;&nbsp;&nbsp;Which 3 sales reps have earned the most commission (show their commission as well)?\n",
    "[up](#3-queries)"
   ]
  },
  {
   "cell_type": "code",
   "execution_count": 23,
   "id": "2d4c91ec",
   "metadata": {},
   "outputs": [
    {
     "data": {
      "text/html": [
       "<div>\n",
       "<style scoped>\n",
       "    .dataframe tbody tr th:only-of-type {\n",
       "        vertical-align: middle;\n",
       "    }\n",
       "\n",
       "    .dataframe tbody tr th {\n",
       "        vertical-align: top;\n",
       "    }\n",
       "\n",
       "    .dataframe thead th {\n",
       "        text-align: right;\n",
       "    }\n",
       "</style>\n",
       "<table border=\"1\" class=\"dataframe\">\n",
       "  <thead>\n",
       "    <tr style=\"text-align: right;\">\n",
       "      <th></th>\n",
       "      <th>Rep</th>\n",
       "      <th>comission</th>\n",
       "    </tr>\n",
       "  </thead>\n",
       "  <tbody>\n",
       "    <tr>\n",
       "      <th>0</th>\n",
       "      <td>Jardine</td>\n",
       "      <td>275.730</td>\n",
       "    </tr>\n",
       "    <tr>\n",
       "      <th>1</th>\n",
       "      <td>Thompson</td>\n",
       "      <td>272.633</td>\n",
       "    </tr>\n",
       "    <tr>\n",
       "      <th>2</th>\n",
       "      <td>Morgan</td>\n",
       "      <td>266.998</td>\n",
       "    </tr>\n",
       "  </tbody>\n",
       "</table>\n",
       "</div>"
      ],
      "text/plain": [
       "        Rep  comission\n",
       "0   Jardine    275.730\n",
       "1  Thompson    272.633\n",
       "2    Morgan    266.998"
      ]
     },
     "execution_count": 23,
     "metadata": {},
     "output_type": "execute_result"
    }
   ],
   "source": [
    "top = 3\n",
    "\n",
    "execute_query(f\"\"\"\n",
    "SELECT\n",
    "    \"Rep\",\n",
    "    SUM(comission) AS comission\n",
    "FROM\n",
    "    (SELECT DISTINCT\n",
    "        \"Rep\",\n",
    "        \"Unit_Cost\",\n",
    "        \"MinPrice\",\n",
    "        \"Total\" * 0.1 AS comission\n",
    "    FROM\n",
    "        rep_sales\n",
    "            RIGHT JOIN item ON item.\"Item\" = rep_sales.\"Item\"\n",
    "    WHERE\n",
    "        \"Unit_Cost\" > \"MinPrice\") AS subq\n",
    "GROUP BY\n",
    "    \"Rep\"\n",
    "ORDER BY\n",
    "    comission DESC\n",
    "LIMIT {top}\n",
    "\"\"\")"
   ]
  },
  {
   "cell_type": "markdown",
   "id": "2d6d4bd4",
   "metadata": {},
   "source": [
    "<div class=\"alert alert-danger\" role=\"alert\">\n",
    "<del>  The answer itself is good but it seems like you multiplied it by 2 for some reason you should get \n",
    "0\tJardine\t275.730\n",
    "1\tThompson\t272.633\n",
    "    2\tMorgan\t266.998</del>\n",
    "</div>"
   ]
  },
  {
   "cell_type": "markdown",
   "id": "59e39027",
   "metadata": {},
   "source": [
    "<div class=\"alert alert-success\" role=\"alert\">\n",
    "  Great!\n",
    "</div>"
   ]
  }
 ],
 "metadata": {
  "kernelspec": {
   "display_name": "Python 3",
   "language": "python",
   "name": "python3"
  },
  "language_info": {
   "codemirror_mode": {
    "name": "ipython",
    "version": 3
   },
   "file_extension": ".py",
   "mimetype": "text/x-python",
   "name": "python",
   "nbconvert_exporter": "python",
   "pygments_lexer": "ipython3",
   "version": "3.8.10"
  }
 },
 "nbformat": 4,
 "nbformat_minor": 5
}
