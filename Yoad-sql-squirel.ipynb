{
 "cells": [
  {
   "cell_type": "markdown",
   "metadata": {},
   "source": [
    "### Used Libraries<a class=\"anchor\" id=\"chapter1\"></a>"
   ]
  },
  {
   "cell_type": "code",
   "execution_count": 1,
   "metadata": {},
   "outputs": [],
   "source": [
    "import pandas as pd\n",
    "from sqlalchemy import create_engine\n",
    "import psycopg2"
   ]
  },
  {
   "cell_type": "markdown",
   "metadata": {},
   "source": [
    "### Access to the DB <a class=\"anchor\" id=\"chapter2\"></a>"
   ]
  },
  {
   "cell_type": "code",
   "execution_count": 2,
   "metadata": {},
   "outputs": [],
   "source": [
    "db_config = {'user': 'practicum_student',         # username\n",
    "             'pwd': 's65BlTKV3faNIGhmvJVzOqhs', # password\n",
    "             'host': 'rc1b-wcoijxj3yxfsf3fs.mdb.yandexcloud.net',\n",
    "             'port': 6432,              # connection port\n",
    "             'db': 'data-analyst-eth-payouts-db'}          # the name of the database\n",
    "\n",
    "connection_string = 'postgresql://{}:{}@{}:{}/{}'.format(db_config['user'],\n",
    "                                                                     db_config['pwd'],\n",
    "                                                                       db_config['host'],\n",
    "                                                                       db_config['port'],\n",
    "                                                                       db_config['db'])\n",
    "\n",
    "engine = create_engine(connection_string, connect_args={'sslmode':'require'})\n"
   ]
  },
  {
   "cell_type": "markdown",
   "metadata": {},
   "source": [
    "## The Database\n",
    "\n",
    "### payout table:\n",
    "**user_id:** user's id<br>\n",
    "\n",
    "**eth_address:** the eth address that the user used to get the payout in Ethernium. (users can have multiple addresses)<br>\n",
    "\n",
    "**date:** date of payout to user<br>\n",
    "\n",
    "**payout:** amount that was paid to user<br>\n",
    "\n",
    "\n",
    "### plan table:\n",
    "**user_id:** user's id<br>\n",
    "\n",
    "**\"OS\":** Operating system of user<br>\n",
    "\n",
    "**\"Plan\":** user's plan on the site"
   ]
  },
  {
   "cell_type": "markdown",
   "metadata": {},
   "source": [
    "#  Table Queries <a class=\"anchor\" id=\"chapter3\"></a>"
   ]
  },
  {
   "cell_type": "markdown",
   "metadata": {},
   "source": [
    "function that takes a query and return dataframe for general use"
   ]
  },
  {
   "cell_type": "code",
   "execution_count": 3,
   "metadata": {},
   "outputs": [],
   "source": [
    "def queryResult(q):\n",
    "    return pd.io.sql.read_sql(q, con = engine)"
   ]
  },
  {
   "cell_type": "markdown",
   "metadata": {},
   "source": [
    "### 1. How many users got paid?"
   ]
  },
  {
   "cell_type": "code",
   "execution_count": 4,
   "metadata": {},
   "outputs": [
    {
     "name": "stdout",
     "output_type": "stream",
     "text": [
      "The number of users who got paid:\n"
     ]
    },
    {
     "data": {
      "text/html": [
       "<div>\n",
       "<style scoped>\n",
       "    .dataframe tbody tr th:only-of-type {\n",
       "        vertical-align: middle;\n",
       "    }\n",
       "\n",
       "    .dataframe tbody tr th {\n",
       "        vertical-align: top;\n",
       "    }\n",
       "\n",
       "    .dataframe thead th {\n",
       "        text-align: right;\n",
       "    }\n",
       "</style>\n",
       "<table border=\"1\" class=\"dataframe\">\n",
       "  <thead>\n",
       "    <tr style=\"text-align: right;\">\n",
       "      <th></th>\n",
       "      <th>user_cnt</th>\n",
       "    </tr>\n",
       "  </thead>\n",
       "  <tbody>\n",
       "    <tr>\n",
       "      <th>0</th>\n",
       "      <td>433</td>\n",
       "    </tr>\n",
       "  </tbody>\n",
       "</table>\n",
       "</div>"
      ],
      "text/plain": [
       "   user_cnt\n",
       "0       433"
      ]
     },
     "execution_count": 4,
     "metadata": {},
     "output_type": "execute_result"
    }
   ],
   "source": [
    "query = '''\n",
    "        SELECT\n",
    "            COUNT(DISTINCT user_id) AS user_cnt\n",
    "        FROM\n",
    "            payout\n",
    "        WHERE\n",
    "            payout > 0;\n",
    "        '''\n",
    "print('The number of users who got paid:')\n",
    "queryResult(query)"
   ]
  },
  {
   "cell_type": "markdown",
   "metadata": {},
   "source": [
    "----"
   ]
  },
  {
   "cell_type": "markdown",
   "metadata": {},
   "source": [
    "### 2. Show the 5 users with the highest payouts"
   ]
  },
  {
   "cell_type": "code",
   "execution_count": 5,
   "metadata": {},
   "outputs": [
    {
     "name": "stdout",
     "output_type": "stream",
     "text": [
      "The 5 users with the highest payouts are:\n"
     ]
    },
    {
     "data": {
      "text/html": [
       "<div>\n",
       "<style scoped>\n",
       "    .dataframe tbody tr th:only-of-type {\n",
       "        vertical-align: middle;\n",
       "    }\n",
       "\n",
       "    .dataframe tbody tr th {\n",
       "        vertical-align: top;\n",
       "    }\n",
       "\n",
       "    .dataframe thead th {\n",
       "        text-align: right;\n",
       "    }\n",
       "</style>\n",
       "<table border=\"1\" class=\"dataframe\">\n",
       "  <thead>\n",
       "    <tr style=\"text-align: right;\">\n",
       "      <th></th>\n",
       "      <th>user_id</th>\n",
       "      <th>total_payout</th>\n",
       "    </tr>\n",
       "  </thead>\n",
       "  <tbody>\n",
       "    <tr>\n",
       "      <th>0</th>\n",
       "      <td>1537</td>\n",
       "      <td>10.74169</td>\n",
       "    </tr>\n",
       "    <tr>\n",
       "      <th>1</th>\n",
       "      <td>3051</td>\n",
       "      <td>9.73121</td>\n",
       "    </tr>\n",
       "    <tr>\n",
       "      <th>2</th>\n",
       "      <td>1512</td>\n",
       "      <td>8.80816</td>\n",
       "    </tr>\n",
       "    <tr>\n",
       "      <th>3</th>\n",
       "      <td>1127</td>\n",
       "      <td>8.78861</td>\n",
       "    </tr>\n",
       "    <tr>\n",
       "      <th>4</th>\n",
       "      <td>4848</td>\n",
       "      <td>8.42445</td>\n",
       "    </tr>\n",
       "  </tbody>\n",
       "</table>\n",
       "</div>"
      ],
      "text/plain": [
       "   user_id  total_payout\n",
       "0     1537      10.74169\n",
       "1     3051       9.73121\n",
       "2     1512       8.80816\n",
       "3     1127       8.78861\n",
       "4     4848       8.42445"
      ]
     },
     "execution_count": 5,
     "metadata": {},
     "output_type": "execute_result"
    }
   ],
   "source": [
    "query = '''\n",
    "        SELECT\n",
    "            user_id,\n",
    "            SUM(payout) AS total_payout\n",
    "        FROM\n",
    "            payout\n",
    "        GROUP BY\n",
    "            user_id\n",
    "        ORDER BY\n",
    "            total_payout DESC\n",
    "        LIMIT 5;\n",
    "        '''\n",
    "print('The 5 users with the highest payouts are:')\n",
    "queryResult(query)"
   ]
  },
  {
   "cell_type": "markdown",
   "metadata": {},
   "source": [
    "----"
   ]
  },
  {
   "cell_type": "markdown",
   "metadata": {},
   "source": [
    "### 3. Show the 5 users with the lowest payouts"
   ]
  },
  {
   "cell_type": "code",
   "execution_count": 6,
   "metadata": {},
   "outputs": [
    {
     "name": "stdout",
     "output_type": "stream",
     "text": [
      "The 5 users with the lowest payouts are:\n"
     ]
    },
    {
     "data": {
      "text/html": [
       "<div>\n",
       "<style scoped>\n",
       "    .dataframe tbody tr th:only-of-type {\n",
       "        vertical-align: middle;\n",
       "    }\n",
       "\n",
       "    .dataframe tbody tr th {\n",
       "        vertical-align: top;\n",
       "    }\n",
       "\n",
       "    .dataframe thead th {\n",
       "        text-align: right;\n",
       "    }\n",
       "</style>\n",
       "<table border=\"1\" class=\"dataframe\">\n",
       "  <thead>\n",
       "    <tr style=\"text-align: right;\">\n",
       "      <th></th>\n",
       "      <th>user_id</th>\n",
       "      <th>total_payout</th>\n",
       "    </tr>\n",
       "  </thead>\n",
       "  <tbody>\n",
       "    <tr>\n",
       "      <th>0</th>\n",
       "      <td>2003</td>\n",
       "      <td>0.00775</td>\n",
       "    </tr>\n",
       "    <tr>\n",
       "      <th>1</th>\n",
       "      <td>3410</td>\n",
       "      <td>0.00818</td>\n",
       "    </tr>\n",
       "    <tr>\n",
       "      <th>2</th>\n",
       "      <td>2813</td>\n",
       "      <td>0.02914</td>\n",
       "    </tr>\n",
       "    <tr>\n",
       "      <th>3</th>\n",
       "      <td>2462</td>\n",
       "      <td>0.03381</td>\n",
       "    </tr>\n",
       "    <tr>\n",
       "      <th>4</th>\n",
       "      <td>4467</td>\n",
       "      <td>0.05056</td>\n",
       "    </tr>\n",
       "  </tbody>\n",
       "</table>\n",
       "</div>"
      ],
      "text/plain": [
       "   user_id  total_payout\n",
       "0     2003       0.00775\n",
       "1     3410       0.00818\n",
       "2     2813       0.02914\n",
       "3     2462       0.03381\n",
       "4     4467       0.05056"
      ]
     },
     "execution_count": 6,
     "metadata": {},
     "output_type": "execute_result"
    }
   ],
   "source": [
    "query = '''\n",
    "        SELECT\n",
    "            user_id,\n",
    "            SUM(payout) AS total_payout\n",
    "        FROM\n",
    "            payout\n",
    "        GROUP BY\n",
    "            user_id\n",
    "        ORDER BY\n",
    "            total_payout\n",
    "        LIMIT 5;\n",
    "        '''\n",
    "print('The 5 users with the lowest payouts are:')\n",
    "queryResult(query)"
   ]
  },
  {
   "cell_type": "markdown",
   "metadata": {},
   "source": [
    "----"
   ]
  },
  {
   "cell_type": "markdown",
   "metadata": {},
   "source": [
    "### 4. How much ether was paid out in November 2020?"
   ]
  },
  {
   "cell_type": "code",
   "execution_count": 7,
   "metadata": {},
   "outputs": [
    {
     "name": "stdout",
     "output_type": "stream",
     "text": [
      "The total amount of ether paid in November 2020:\n"
     ]
    },
    {
     "data": {
      "text/html": [
       "<div>\n",
       "<style scoped>\n",
       "    .dataframe tbody tr th:only-of-type {\n",
       "        vertical-align: middle;\n",
       "    }\n",
       "\n",
       "    .dataframe tbody tr th {\n",
       "        vertical-align: top;\n",
       "    }\n",
       "\n",
       "    .dataframe thead th {\n",
       "        text-align: right;\n",
       "    }\n",
       "</style>\n",
       "<table border=\"1\" class=\"dataframe\">\n",
       "  <thead>\n",
       "    <tr style=\"text-align: right;\">\n",
       "      <th></th>\n",
       "      <th>eth_sum</th>\n",
       "    </tr>\n",
       "  </thead>\n",
       "  <tbody>\n",
       "    <tr>\n",
       "      <th>0</th>\n",
       "      <td>166.0118</td>\n",
       "    </tr>\n",
       "  </tbody>\n",
       "</table>\n",
       "</div>"
      ],
      "text/plain": [
       "    eth_sum\n",
       "0  166.0118"
      ]
     },
     "execution_count": 7,
     "metadata": {},
     "output_type": "execute_result"
    }
   ],
   "source": [
    "query = '''\n",
    "        SELECT\n",
    "            SUM(payout) AS eth_sum\n",
    "        FROM\n",
    "            payout\n",
    "        WHERE\n",
    "            CAST(date AS date) BETWEEN '2020-11-01' AND '2020-11-30'\n",
    "        \n",
    "        '''\n",
    "print('The total amount of ether paid in November 2020:')\n",
    "queryResult(query)"
   ]
  },
  {
   "cell_type": "markdown",
   "metadata": {},
   "source": [
    "----"
   ]
  },
  {
   "cell_type": "markdown",
   "metadata": {},
   "source": [
    "### 5. Which plan is the most popular?"
   ]
  },
  {
   "cell_type": "code",
   "execution_count": 8,
   "metadata": {},
   "outputs": [
    {
     "name": "stdout",
     "output_type": "stream",
     "text": [
      "The amount of users per plan:\n"
     ]
    },
    {
     "data": {
      "text/html": [
       "<div>\n",
       "<style scoped>\n",
       "    .dataframe tbody tr th:only-of-type {\n",
       "        vertical-align: middle;\n",
       "    }\n",
       "\n",
       "    .dataframe tbody tr th {\n",
       "        vertical-align: top;\n",
       "    }\n",
       "\n",
       "    .dataframe thead th {\n",
       "        text-align: right;\n",
       "    }\n",
       "</style>\n",
       "<table border=\"1\" class=\"dataframe\">\n",
       "  <thead>\n",
       "    <tr style=\"text-align: right;\">\n",
       "      <th></th>\n",
       "      <th>Plan</th>\n",
       "      <th>user_count</th>\n",
       "    </tr>\n",
       "  </thead>\n",
       "  <tbody>\n",
       "    <tr>\n",
       "      <th>0</th>\n",
       "      <td>Free</td>\n",
       "      <td>220</td>\n",
       "    </tr>\n",
       "    <tr>\n",
       "      <th>1</th>\n",
       "      <td>Premium</td>\n",
       "      <td>213</td>\n",
       "    </tr>\n",
       "  </tbody>\n",
       "</table>\n",
       "</div>"
      ],
      "text/plain": [
       "      Plan  user_count\n",
       "0     Free         220\n",
       "1  Premium         213"
      ]
     },
     "execution_count": 8,
     "metadata": {},
     "output_type": "execute_result"
    }
   ],
   "source": [
    "query = '''\n",
    "        SELECT\n",
    "            \"Plan\",\n",
    "            COUNT(DISTINCT user_id) AS user_count\n",
    "        FROM\n",
    "            plan\n",
    "        GROUP BY\n",
    "            \"Plan\"\n",
    "        ORDER BY\n",
    "           user_count DESC; \n",
    "        '''\n",
    "print('The amount of users per plan:')\n",
    "queryResult(query)\n",
    "#print('The free plan is more popular but not by a large margin.')"
   ]
  },
  {
   "cell_type": "markdown",
   "metadata": {},
   "source": [
    "The **Free plan is more popular** but not by a large margin."
   ]
  },
  {
   "cell_type": "markdown",
   "metadata": {},
   "source": [
    "**Q:** Why when I use print after running the fuctions that returns the query, the query does not print? <br>\n",
    "And how can I extract only the name of the plan from index 0? for example, query[0,0]"
   ]
  },
  {
   "cell_type": "markdown",
   "metadata": {},
   "source": [
    "----"
   ]
  },
  {
   "cell_type": "markdown",
   "metadata": {},
   "source": [
    "### 6. Which plan is the most popular amongst Linux users?"
   ]
  },
  {
   "cell_type": "code",
   "execution_count": 9,
   "metadata": {},
   "outputs": [
    {
     "name": "stdout",
     "output_type": "stream",
     "text": [
      "The amount of users per plan using Linux OS:\n"
     ]
    },
    {
     "data": {
      "text/html": [
       "<div>\n",
       "<style scoped>\n",
       "    .dataframe tbody tr th:only-of-type {\n",
       "        vertical-align: middle;\n",
       "    }\n",
       "\n",
       "    .dataframe tbody tr th {\n",
       "        vertical-align: top;\n",
       "    }\n",
       "\n",
       "    .dataframe thead th {\n",
       "        text-align: right;\n",
       "    }\n",
       "</style>\n",
       "<table border=\"1\" class=\"dataframe\">\n",
       "  <thead>\n",
       "    <tr style=\"text-align: right;\">\n",
       "      <th></th>\n",
       "      <th>Plan</th>\n",
       "      <th>user_count</th>\n",
       "    </tr>\n",
       "  </thead>\n",
       "  <tbody>\n",
       "    <tr>\n",
       "      <th>0</th>\n",
       "      <td>Premium</td>\n",
       "      <td>76</td>\n",
       "    </tr>\n",
       "    <tr>\n",
       "      <th>1</th>\n",
       "      <td>Free</td>\n",
       "      <td>68</td>\n",
       "    </tr>\n",
       "  </tbody>\n",
       "</table>\n",
       "</div>"
      ],
      "text/plain": [
       "      Plan  user_count\n",
       "0  Premium          76\n",
       "1     Free          68"
      ]
     },
     "execution_count": 9,
     "metadata": {},
     "output_type": "execute_result"
    }
   ],
   "source": [
    "query = '''\n",
    "        SELECT\n",
    "            \"Plan\",\n",
    "            COUNT(DISTINCT user_id) AS user_count\n",
    "        FROM\n",
    "            plan\n",
    "        WHERE\n",
    "            \"OS\" = 'Linux'\n",
    "        GROUP BY\n",
    "            \"Plan\"\n",
    "        ORDER BY\n",
    "           user_count DESC;\n",
    "        \n",
    "        '''\n",
    "print('The amount of users per plan using Linux OS:')\n",
    "queryResult(query)\n",
    "#print('The free plan is more popular but not by a large margin.')"
   ]
  },
  {
   "cell_type": "markdown",
   "metadata": {},
   "source": [
    "The **Premium plan is more popular** among Linux users but not by a large margin."
   ]
  },
  {
   "cell_type": "markdown",
   "metadata": {},
   "source": [
    "----"
   ]
  },
  {
   "cell_type": "markdown",
   "metadata": {},
   "source": [
    "### 7. What is the percentage of payout between the different plans?"
   ]
  },
  {
   "cell_type": "code",
   "execution_count": 10,
   "metadata": {},
   "outputs": [
    {
     "name": "stdout",
     "output_type": "stream",
     "text": [
      "The percentage of payouts for each plan:\n"
     ]
    },
    {
     "data": {
      "text/html": [
       "<div>\n",
       "<style scoped>\n",
       "    .dataframe tbody tr th:only-of-type {\n",
       "        vertical-align: middle;\n",
       "    }\n",
       "\n",
       "    .dataframe tbody tr th {\n",
       "        vertical-align: top;\n",
       "    }\n",
       "\n",
       "    .dataframe thead th {\n",
       "        text-align: right;\n",
       "    }\n",
       "</style>\n",
       "<table border=\"1\" class=\"dataframe\">\n",
       "  <thead>\n",
       "    <tr style=\"text-align: right;\">\n",
       "      <th></th>\n",
       "      <th>Plan</th>\n",
       "      <th>payout_plan</th>\n",
       "      <th>total_payout</th>\n",
       "      <th>percentage</th>\n",
       "    </tr>\n",
       "  </thead>\n",
       "  <tbody>\n",
       "    <tr>\n",
       "      <th>0</th>\n",
       "      <td>Free</td>\n",
       "      <td>488.68999</td>\n",
       "      <td>905.45177</td>\n",
       "      <td>53.971951</td>\n",
       "    </tr>\n",
       "    <tr>\n",
       "      <th>1</th>\n",
       "      <td>Premium</td>\n",
       "      <td>416.76178</td>\n",
       "      <td>905.45177</td>\n",
       "      <td>46.028049</td>\n",
       "    </tr>\n",
       "  </tbody>\n",
       "</table>\n",
       "</div>"
      ],
      "text/plain": [
       "      Plan  payout_plan  total_payout  percentage\n",
       "0     Free    488.68999     905.45177   53.971951\n",
       "1  Premium    416.76178     905.45177   46.028049"
      ]
     },
     "execution_count": 10,
     "metadata": {},
     "output_type": "execute_result"
    }
   ],
   "source": [
    "query = '''\n",
    "        SELECT\n",
    "            DISTINCT \"Plan\",\n",
    "            SUM(payout.payout) OVER(partition BY \"Plan\") AS payout_plan,\n",
    "            SUM(payout.payout) OVER() AS total_payout,\n",
    "            SUM(payout.payout) OVER(partition BY \"Plan\") / Sum(payout) OVER() * 100 AS percentage\n",
    "        FROM\n",
    "            payout\n",
    "            LEFT JOIN plan ON plan.user_id = payout.user_id\n",
    "        ORDER BY\n",
    "            percentage DESC;\n",
    "        '''\n",
    "print('The percentage of payouts for each plan:')\n",
    "queryResult(query)"
   ]
  },
  {
   "cell_type": "markdown",
   "metadata": {},
   "source": [
    "The **Free plan has more payouts** compared to Premium, but not by a large margin."
   ]
  },
  {
   "cell_type": "markdown",
   "metadata": {},
   "source": [
    "----"
   ]
  },
  {
   "cell_type": "markdown",
   "metadata": {},
   "source": [
    "### 8. Users of which operating system earned more in payouts?"
   ]
  },
  {
   "cell_type": "code",
   "execution_count": 11,
   "metadata": {},
   "outputs": [
    {
     "name": "stdout",
     "output_type": "stream",
     "text": [
      "The payouts earnings for each OS:\n"
     ]
    },
    {
     "data": {
      "text/html": [
       "<div>\n",
       "<style scoped>\n",
       "    .dataframe tbody tr th:only-of-type {\n",
       "        vertical-align: middle;\n",
       "    }\n",
       "\n",
       "    .dataframe tbody tr th {\n",
       "        vertical-align: top;\n",
       "    }\n",
       "\n",
       "    .dataframe thead th {\n",
       "        text-align: right;\n",
       "    }\n",
       "</style>\n",
       "<table border=\"1\" class=\"dataframe\">\n",
       "  <thead>\n",
       "    <tr style=\"text-align: right;\">\n",
       "      <th></th>\n",
       "      <th>OS</th>\n",
       "      <th>payout_os</th>\n",
       "    </tr>\n",
       "  </thead>\n",
       "  <tbody>\n",
       "    <tr>\n",
       "      <th>0</th>\n",
       "      <td>Linux</td>\n",
       "      <td>322.00353</td>\n",
       "    </tr>\n",
       "    <tr>\n",
       "      <th>1</th>\n",
       "      <td>Windows</td>\n",
       "      <td>316.03701</td>\n",
       "    </tr>\n",
       "    <tr>\n",
       "      <th>2</th>\n",
       "      <td>MAC</td>\n",
       "      <td>267.41123</td>\n",
       "    </tr>\n",
       "  </tbody>\n",
       "</table>\n",
       "</div>"
      ],
      "text/plain": [
       "        OS  payout_os\n",
       "0    Linux  322.00353\n",
       "1  Windows  316.03701\n",
       "2      MAC  267.41123"
      ]
     },
     "execution_count": 11,
     "metadata": {},
     "output_type": "execute_result"
    }
   ],
   "source": [
    "query = '''\n",
    "        SELECT\n",
    "            DISTINCT \"OS\",\n",
    "            SUM(payout.payout) OVER(partition BY \"OS\") AS payout_os\n",
    "            \n",
    "        FROM\n",
    "            payout\n",
    "            LEFT JOIN plan ON plan.user_id = payout.user_id\n",
    "        ORDER BY\n",
    "            payout_os DESC;\n",
    "        '''\n",
    "print('The payouts earnings for each OS:')\n",
    "queryResult(query)"
   ]
  },
  {
   "cell_type": "markdown",
   "metadata": {},
   "source": [
    "**Linux has more payouts** compared to the other OSs, but not by a large margin compared to Windows."
   ]
  },
  {
   "cell_type": "markdown",
   "metadata": {},
   "source": [
    "----"
   ]
  },
  {
   "cell_type": "markdown",
   "metadata": {},
   "source": [
    "### 9. What is the average payout amount per user for each of the OS in July 2020?"
   ]
  },
  {
   "cell_type": "code",
   "execution_count": 12,
   "metadata": {},
   "outputs": [
    {
     "name": "stdout",
     "output_type": "stream",
     "text": [
      "The payouts earnings per user for each OS:\n"
     ]
    },
    {
     "data": {
      "text/html": [
       "<div>\n",
       "<style scoped>\n",
       "    .dataframe tbody tr th:only-of-type {\n",
       "        vertical-align: middle;\n",
       "    }\n",
       "\n",
       "    .dataframe tbody tr th {\n",
       "        vertical-align: top;\n",
       "    }\n",
       "\n",
       "    .dataframe thead th {\n",
       "        text-align: right;\n",
       "    }\n",
       "</style>\n",
       "<table border=\"1\" class=\"dataframe\">\n",
       "  <thead>\n",
       "    <tr style=\"text-align: right;\">\n",
       "      <th></th>\n",
       "      <th>OS</th>\n",
       "      <th>payout_plan</th>\n",
       "    </tr>\n",
       "  </thead>\n",
       "  <tbody>\n",
       "    <tr>\n",
       "      <th>0</th>\n",
       "      <td>Linux</td>\n",
       "      <td>1.931114</td>\n",
       "    </tr>\n",
       "    <tr>\n",
       "      <th>1</th>\n",
       "      <td>MAC</td>\n",
       "      <td>1.640537</td>\n",
       "    </tr>\n",
       "    <tr>\n",
       "      <th>2</th>\n",
       "      <td>Windows</td>\n",
       "      <td>1.590600</td>\n",
       "    </tr>\n",
       "  </tbody>\n",
       "</table>\n",
       "</div>"
      ],
      "text/plain": [
       "        OS  payout_plan\n",
       "0    Linux     1.931114\n",
       "1      MAC     1.640537\n",
       "2  Windows     1.590600"
      ]
     },
     "execution_count": 12,
     "metadata": {},
     "output_type": "execute_result"
    }
   ],
   "source": [
    "query = '''\n",
    "        SELECT\n",
    "            DISTINCT \"OS\",\n",
    "            AVG(payout.payout) OVER(partition BY \"OS\") AS payout_plan\n",
    "            \n",
    "        FROM\n",
    "            payout\n",
    "            LEFT JOIN plan ON plan.user_id = payout.user_id\n",
    "        WHERE\n",
    "            CAST(payout.date AS date) BETWEEN '2020-07-01' AND '2020-07-31'\n",
    "        ORDER BY\n",
    "            payout_plan DESC;\n",
    "        '''\n",
    "print('The payouts earnings per user for each OS:')\n",
    "queryResult(query)"
   ]
  },
  {
   "cell_type": "markdown",
   "metadata": {},
   "source": [
    "**Linux has more payouts** compared to the other OSs"
   ]
  },
  {
   "cell_type": "markdown",
   "metadata": {},
   "source": [
    "----"
   ]
  },
  {
   "cell_type": "markdown",
   "metadata": {},
   "source": [
    "### 10. What is the daily share of ether earned by users from Linux that are in the free plan in this data?"
   ]
  },
  {
   "cell_type": "code",
   "execution_count": 13,
   "metadata": {
    "collapsed": true,
    "jupyter": {
     "outputs_hidden": true,
     "source_hidden": true
    },
    "tags": []
   },
   "outputs": [
    {
     "name": "stdout",
     "output_type": "stream",
     "text": [
      "The daily percentage of payouts for Linux users in Free plan:\n"
     ]
    },
    {
     "data": {
      "text/html": [
       "<div>\n",
       "<style scoped>\n",
       "    .dataframe tbody tr th:only-of-type {\n",
       "        vertical-align: middle;\n",
       "    }\n",
       "\n",
       "    .dataframe tbody tr th {\n",
       "        vertical-align: top;\n",
       "    }\n",
       "\n",
       "    .dataframe thead th {\n",
       "        text-align: right;\n",
       "    }\n",
       "</style>\n",
       "<table border=\"1\" class=\"dataframe\">\n",
       "  <thead>\n",
       "    <tr style=\"text-align: right;\">\n",
       "      <th></th>\n",
       "      <th>user_id</th>\n",
       "      <th>date</th>\n",
       "      <th>user_sum</th>\n",
       "      <th>total_date</th>\n",
       "      <th>daily_share</th>\n",
       "    </tr>\n",
       "  </thead>\n",
       "  <tbody>\n",
       "    <tr>\n",
       "      <th>0</th>\n",
       "      <td>3415</td>\n",
       "      <td>2020-07-07</td>\n",
       "      <td>2.50566</td>\n",
       "      <td>6.94641</td>\n",
       "      <td>0.360713</td>\n",
       "    </tr>\n",
       "    <tr>\n",
       "      <th>1</th>\n",
       "      <td>3146</td>\n",
       "      <td>2020-07-08</td>\n",
       "      <td>1.39229</td>\n",
       "      <td>4.45935</td>\n",
       "      <td>0.312218</td>\n",
       "    </tr>\n",
       "    <tr>\n",
       "      <th>2</th>\n",
       "      <td>2154</td>\n",
       "      <td>2020-07-11</td>\n",
       "      <td>1.72359</td>\n",
       "      <td>4.72946</td>\n",
       "      <td>0.364437</td>\n",
       "    </tr>\n",
       "    <tr>\n",
       "      <th>3</th>\n",
       "      <td>4235</td>\n",
       "      <td>2020-07-13</td>\n",
       "      <td>3.13763</td>\n",
       "      <td>7.24881</td>\n",
       "      <td>0.432848</td>\n",
       "    </tr>\n",
       "    <tr>\n",
       "      <th>4</th>\n",
       "      <td>3542</td>\n",
       "      <td>2020-07-14</td>\n",
       "      <td>0.67543</td>\n",
       "      <td>5.77610</td>\n",
       "      <td>0.116935</td>\n",
       "    </tr>\n",
       "    <tr>\n",
       "      <th>...</th>\n",
       "      <td>...</td>\n",
       "      <td>...</td>\n",
       "      <td>...</td>\n",
       "      <td>...</td>\n",
       "      <td>...</td>\n",
       "    </tr>\n",
       "    <tr>\n",
       "      <th>94</th>\n",
       "      <td>2935</td>\n",
       "      <td>2021-01-02</td>\n",
       "      <td>0.30163</td>\n",
       "      <td>3.23708</td>\n",
       "      <td>0.093180</td>\n",
       "    </tr>\n",
       "    <tr>\n",
       "      <th>95</th>\n",
       "      <td>1330</td>\n",
       "      <td>2021-01-03</td>\n",
       "      <td>1.51269</td>\n",
       "      <td>5.85108</td>\n",
       "      <td>0.258532</td>\n",
       "    </tr>\n",
       "    <tr>\n",
       "      <th>96</th>\n",
       "      <td>2128</td>\n",
       "      <td>2021-01-04</td>\n",
       "      <td>0.68610</td>\n",
       "      <td>7.50206</td>\n",
       "      <td>0.091455</td>\n",
       "    </tr>\n",
       "    <tr>\n",
       "      <th>97</th>\n",
       "      <td>4131</td>\n",
       "      <td>2021-01-05</td>\n",
       "      <td>2.36296</td>\n",
       "      <td>9.85304</td>\n",
       "      <td>0.239820</td>\n",
       "    </tr>\n",
       "    <tr>\n",
       "      <th>98</th>\n",
       "      <td>4608</td>\n",
       "      <td>2021-01-05</td>\n",
       "      <td>1.35791</td>\n",
       "      <td>9.85304</td>\n",
       "      <td>0.137816</td>\n",
       "    </tr>\n",
       "  </tbody>\n",
       "</table>\n",
       "<p>99 rows × 5 columns</p>\n",
       "</div>"
      ],
      "text/plain": [
       "    user_id       date  user_sum  total_date  daily_share\n",
       "0      3415 2020-07-07   2.50566     6.94641     0.360713\n",
       "1      3146 2020-07-08   1.39229     4.45935     0.312218\n",
       "2      2154 2020-07-11   1.72359     4.72946     0.364437\n",
       "3      4235 2020-07-13   3.13763     7.24881     0.432848\n",
       "4      3542 2020-07-14   0.67543     5.77610     0.116935\n",
       "..      ...        ...       ...         ...          ...\n",
       "94     2935 2021-01-02   0.30163     3.23708     0.093180\n",
       "95     1330 2021-01-03   1.51269     5.85108     0.258532\n",
       "96     2128 2021-01-04   0.68610     7.50206     0.091455\n",
       "97     4131 2021-01-05   2.36296     9.85304     0.239820\n",
       "98     4608 2021-01-05   1.35791     9.85304     0.137816\n",
       "\n",
       "[99 rows x 5 columns]"
      ]
     },
     "execution_count": 13,
     "metadata": {},
     "output_type": "execute_result"
    }
   ],
   "source": [
    "query = '''\n",
    "    SELECT \n",
    "        DISTINCT x.user_id,\n",
    "        x.date, \n",
    "        x.user_sum,\n",
    "        y.total_date,\n",
    "        x.user_sum/y.total_date AS daily_share \n",
    "    FROM\n",
    "        (\n",
    "            SELECT\n",
    "                payout.user_id,\n",
    "                date,\n",
    "                SUM(payout) OVER (partition BY payout.user_id, date) AS user_sum\n",
    "            FROM \n",
    "                payout \n",
    "                LEFT JOIN plan ON plan.user_id= payout.user_id\n",
    "            WHERE\n",
    "                \"Plan\"='Free' AND \"OS\"='Linux'\n",
    "        ) AS x\n",
    "        \n",
    "        LEFT JOIN \n",
    "            (\n",
    "            SELECT \n",
    "                date,\n",
    "                SUM(payout) OVER(partition BY date) AS total_date\n",
    "            FROM \n",
    "                payout \n",
    "                LEFT JOIN plan ON plan.user_id= payout.user_id\n",
    "            ) AS y ON x.date=y.date\n",
    "    ORDER BY \n",
    "        x.date\n",
    "\n",
    "        '''\n",
    "print('The daily percentage of payouts for Linux users in Free plan:')\n",
    "queryResult(query)"
   ]
  },
  {
   "cell_type": "code",
   "execution_count": 34,
   "metadata": {},
   "outputs": [
    {
     "name": "stdout",
     "output_type": "stream",
     "text": [
      "The daily percentage of payouts for Linux users in Free plan:\n"
     ]
    },
    {
     "data": {
      "text/html": [
       "<div>\n",
       "<style scoped>\n",
       "    .dataframe tbody tr th:only-of-type {\n",
       "        vertical-align: middle;\n",
       "    }\n",
       "\n",
       "    .dataframe tbody tr th {\n",
       "        vertical-align: top;\n",
       "    }\n",
       "\n",
       "    .dataframe thead th {\n",
       "        text-align: right;\n",
       "    }\n",
       "</style>\n",
       "<table border=\"1\" class=\"dataframe\">\n",
       "  <thead>\n",
       "    <tr style=\"text-align: right;\">\n",
       "      <th></th>\n",
       "      <th>date</th>\n",
       "      <th>daily_pay_share</th>\n",
       "    </tr>\n",
       "  </thead>\n",
       "  <tbody>\n",
       "    <tr>\n",
       "      <th>0</th>\n",
       "      <td>2020-07-07</td>\n",
       "      <td>100.000000</td>\n",
       "    </tr>\n",
       "    <tr>\n",
       "      <th>1</th>\n",
       "      <td>2020-07-08</td>\n",
       "      <td>100.000000</td>\n",
       "    </tr>\n",
       "    <tr>\n",
       "      <th>2</th>\n",
       "      <td>2020-07-11</td>\n",
       "      <td>100.000000</td>\n",
       "    </tr>\n",
       "    <tr>\n",
       "      <th>3</th>\n",
       "      <td>2020-07-13</td>\n",
       "      <td>100.000000</td>\n",
       "    </tr>\n",
       "    <tr>\n",
       "      <th>4</th>\n",
       "      <td>2020-07-14</td>\n",
       "      <td>100.000000</td>\n",
       "    </tr>\n",
       "    <tr>\n",
       "      <th>...</th>\n",
       "      <td>...</td>\n",
       "      <td>...</td>\n",
       "    </tr>\n",
       "    <tr>\n",
       "      <th>94</th>\n",
       "      <td>2021-01-02</td>\n",
       "      <td>100.000000</td>\n",
       "    </tr>\n",
       "    <tr>\n",
       "      <th>95</th>\n",
       "      <td>2021-01-03</td>\n",
       "      <td>100.000000</td>\n",
       "    </tr>\n",
       "    <tr>\n",
       "      <th>96</th>\n",
       "      <td>2021-01-04</td>\n",
       "      <td>100.000000</td>\n",
       "    </tr>\n",
       "    <tr>\n",
       "      <th>97</th>\n",
       "      <td>2021-01-05</td>\n",
       "      <td>36.494422</td>\n",
       "    </tr>\n",
       "    <tr>\n",
       "      <th>98</th>\n",
       "      <td>2021-01-05</td>\n",
       "      <td>63.505578</td>\n",
       "    </tr>\n",
       "  </tbody>\n",
       "</table>\n",
       "<p>99 rows × 2 columns</p>\n",
       "</div>"
      ],
      "text/plain": [
       "         date  daily_pay_share\n",
       "0  2020-07-07       100.000000\n",
       "1  2020-07-08       100.000000\n",
       "2  2020-07-11       100.000000\n",
       "3  2020-07-13       100.000000\n",
       "4  2020-07-14       100.000000\n",
       "..        ...              ...\n",
       "94 2021-01-02       100.000000\n",
       "95 2021-01-03       100.000000\n",
       "96 2021-01-04       100.000000\n",
       "97 2021-01-05        36.494422\n",
       "98 2021-01-05        63.505578\n",
       "\n",
       "[99 rows x 2 columns]"
      ]
     },
     "execution_count": 34,
     "metadata": {},
     "output_type": "execute_result"
    }
   ],
   "source": [
    "query = '''\n",
    "    SELECT\n",
    "        payout.date,\n",
    "        SUM(payout) OVER (partition BY payout.user_id, date) / \n",
    "        SUM(payout) OVER(partition BY date) * 100 AS daily_pay_share\n",
    "        \n",
    "    FROM \n",
    "        payout \n",
    "        LEFT JOIN plan ON plan.user_id = payout.user_id\n",
    "    WHERE\n",
    "        plan.\"Plan\" = 'Free'\n",
    "        AND\n",
    "        plan.\"OS\" = 'Linux'\n",
    "    GROUP BY\n",
    "        payout.date,\n",
    "        payout.user_id,\n",
    "        payout.payout\n",
    "\n",
    "\n",
    "\n",
    "        '''\n",
    "print('The daily percentage of payouts for Linux users in Free plan:')\n",
    "queryResult(query)"
   ]
  }
 ],
 "metadata": {
  "kernelspec": {
   "display_name": "Python 3",
   "language": "python",
   "name": "python3"
  },
  "language_info": {
   "codemirror_mode": {
    "name": "ipython",
    "version": 3
   },
   "file_extension": ".py",
   "mimetype": "text/x-python",
   "name": "python",
   "nbconvert_exporter": "python",
   "pygments_lexer": "ipython3",
   "version": "3.8.8"
  }
 },
 "nbformat": 4,
 "nbformat_minor": 4
}
