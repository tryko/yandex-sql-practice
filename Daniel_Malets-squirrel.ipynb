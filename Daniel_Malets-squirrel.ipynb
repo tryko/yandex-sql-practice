{
 "cells": [
  {
   "cell_type": "markdown",
   "id": "d4b26389",
   "metadata": {},
   "source": [
    "# Daily Queries 1"
   ]
  },
  {
   "cell_type": "code",
   "execution_count": 1,
   "id": "be9e8ac5",
   "metadata": {},
   "outputs": [],
   "source": [
    "import pandas as pd\n",
    "import psycopg2\n",
    "from sqlalchemy import create_engine, inspect\n",
    "from IPython.display import display"
   ]
  },
  {
   "cell_type": "markdown",
   "id": "9c08c254",
   "metadata": {},
   "source": [
    "<a class=\"anchor\" id=\"0_toc\"></a>\n",
    "# Table of Contents\n",
    "***\n",
    "\n",
    "1. [SQL Engine](#1-engine)\n",
    "2. [Tables](#2-tables)\n",
    "3. [Queries](#3-queries)\n",
    "    1. [How many users got paid?](#q1)\n",
    "    2. [Show the 5 users with the highest payouts](#q2)\n",
    "    3. [Show the 5 users with the lowest payouts](#q3)\n",
    "    4. [How much ether was paid out in November 2020?](#q4)\n",
    "    5. [Which plan is the most popular?](#q5)\n",
    "    6. [Which plan is the most popular amongst Linux users?](#q6)\n",
    "    7. [What is the percentage of payout between the different plans?](#q7)\n",
    "    8. [Users of which operating system earned more in payouts?](#q8)\n",
    "    9. [What is the average payout amount per user for each of the OS in July 2020?](#q9)\n",
    "    10. [What is the daily share of ether earned by users from Linux that are in the free plan in this data?](#q10)"
   ]
  },
  {
   "cell_type": "markdown",
   "id": "e65c22ad",
   "metadata": {},
   "source": [
    "<a class=\"anchor\" id=\"1-engine\"></a>\n",
    "## SQL Engine\n",
    "***\n",
    "[back to Table of Contents](#0_toc)"
   ]
  },
  {
   "cell_type": "code",
   "execution_count": 2,
   "id": "5857e923",
   "metadata": {},
   "outputs": [],
   "source": [
    "db_name = 'data-analyst-eth-payouts-db'"
   ]
  },
  {
   "cell_type": "code",
   "execution_count": 3,
   "id": "20fafedf",
   "metadata": {},
   "outputs": [],
   "source": [
    "db_config = {'user': 'practicum_student',         # username\n",
    "             'pwd': 's65BlTKV3faNIGhmvJVzOqhs', # password\n",
    "             'host': 'rc1b-wcoijxj3yxfsf3fs.mdb.yandexcloud.net',\n",
    "             'port': 6432,              # connection port\n",
    "             'db': db_name}          # the name of the database\n",
    "\n",
    "connection_string = 'postgresql://{}:{}@{}:{}/{}'.format(db_config['user'],\n",
    "                                                                     db_config['pwd'],\n",
    "                                                                       db_config['host'],\n",
    "                                                                       db_config['port'],\n",
    "                                                                       db_config['db'])\n",
    "\n",
    "engine = create_engine(connection_string, connect_args={'sslmode':'require'})\n",
    "inspector = inspect(engine)"
   ]
  },
  {
   "cell_type": "code",
   "execution_count": 4,
   "id": "97feaa92",
   "metadata": {},
   "outputs": [],
   "source": [
    "def read_schema(table_name):\n",
    "    return pd.DataFrame(inspector.get_columns(table_name)).rename_axis(table_name, axis=1)"
   ]
  },
  {
   "cell_type": "code",
   "execution_count": 5,
   "id": "2fe57808",
   "metadata": {},
   "outputs": [],
   "source": [
    "def execute_query(q):\n",
    "    return pd.io.sql.read_sql(q, con=engine)"
   ]
  },
  {
   "cell_type": "markdown",
   "id": "da67086e",
   "metadata": {},
   "source": [
    "<a class=\"anchor\" id=\"2-tables\"></a>\n",
    "## Inspect tables\n",
    "***\n",
    "[back to Table of Contents](#0_toc)"
   ]
  },
  {
   "cell_type": "code",
   "execution_count": 6,
   "id": "d792b052",
   "metadata": {},
   "outputs": [
    {
     "data": {
      "text/plain": [
       "['payout', 'plan']"
      ]
     },
     "execution_count": 6,
     "metadata": {},
     "output_type": "execute_result"
    }
   ],
   "source": [
    "tables = inspector.get_table_names()\n",
    "tables"
   ]
  },
  {
   "cell_type": "code",
   "execution_count": 7,
   "id": "b792a0bb",
   "metadata": {},
   "outputs": [
    {
     "data": {
      "text/html": [
       "<div>\n",
       "<style scoped>\n",
       "    .dataframe tbody tr th:only-of-type {\n",
       "        vertical-align: middle;\n",
       "    }\n",
       "\n",
       "    .dataframe tbody tr th {\n",
       "        vertical-align: top;\n",
       "    }\n",
       "\n",
       "    .dataframe thead th {\n",
       "        text-align: right;\n",
       "    }\n",
       "</style>\n",
       "<table border=\"1\" class=\"dataframe\">\n",
       "  <thead>\n",
       "    <tr style=\"text-align: right;\">\n",
       "      <th>payout</th>\n",
       "      <th>name</th>\n",
       "      <th>type</th>\n",
       "      <th>nullable</th>\n",
       "      <th>default</th>\n",
       "      <th>autoincrement</th>\n",
       "      <th>comment</th>\n",
       "    </tr>\n",
       "  </thead>\n",
       "  <tbody>\n",
       "    <tr>\n",
       "      <th>0</th>\n",
       "      <td>user_id</td>\n",
       "      <td>INTEGER</td>\n",
       "      <td>True</td>\n",
       "      <td>None</td>\n",
       "      <td>False</td>\n",
       "      <td>None</td>\n",
       "    </tr>\n",
       "    <tr>\n",
       "      <th>1</th>\n",
       "      <td>eth_address</td>\n",
       "      <td>TEXT</td>\n",
       "      <td>True</td>\n",
       "      <td>None</td>\n",
       "      <td>False</td>\n",
       "      <td>None</td>\n",
       "    </tr>\n",
       "    <tr>\n",
       "      <th>2</th>\n",
       "      <td>date</td>\n",
       "      <td>TIMESTAMP</td>\n",
       "      <td>True</td>\n",
       "      <td>None</td>\n",
       "      <td>False</td>\n",
       "      <td>None</td>\n",
       "    </tr>\n",
       "    <tr>\n",
       "      <th>3</th>\n",
       "      <td>payout</td>\n",
       "      <td>NUMERIC(6, 5)</td>\n",
       "      <td>True</td>\n",
       "      <td>None</td>\n",
       "      <td>False</td>\n",
       "      <td>None</td>\n",
       "    </tr>\n",
       "  </tbody>\n",
       "</table>\n",
       "</div>"
      ],
      "text/plain": [
       "payout         name           type  nullable default  autoincrement comment\n",
       "0           user_id        INTEGER      True    None          False    None\n",
       "1       eth_address           TEXT      True    None          False    None\n",
       "2              date      TIMESTAMP      True    None          False    None\n",
       "3            payout  NUMERIC(6, 5)      True    None          False    None"
      ]
     },
     "metadata": {},
     "output_type": "display_data"
    },
    {
     "data": {
      "text/html": [
       "<div>\n",
       "<style scoped>\n",
       "    .dataframe tbody tr th:only-of-type {\n",
       "        vertical-align: middle;\n",
       "    }\n",
       "\n",
       "    .dataframe tbody tr th {\n",
       "        vertical-align: top;\n",
       "    }\n",
       "\n",
       "    .dataframe thead th {\n",
       "        text-align: right;\n",
       "    }\n",
       "</style>\n",
       "<table border=\"1\" class=\"dataframe\">\n",
       "  <thead>\n",
       "    <tr style=\"text-align: right;\">\n",
       "      <th>plan</th>\n",
       "      <th>name</th>\n",
       "      <th>type</th>\n",
       "      <th>nullable</th>\n",
       "      <th>default</th>\n",
       "      <th>autoincrement</th>\n",
       "      <th>comment</th>\n",
       "    </tr>\n",
       "  </thead>\n",
       "  <tbody>\n",
       "    <tr>\n",
       "      <th>0</th>\n",
       "      <td>user_id</td>\n",
       "      <td>INTEGER</td>\n",
       "      <td>True</td>\n",
       "      <td>None</td>\n",
       "      <td>False</td>\n",
       "      <td>None</td>\n",
       "    </tr>\n",
       "    <tr>\n",
       "      <th>1</th>\n",
       "      <td>OS</td>\n",
       "      <td>TEXT</td>\n",
       "      <td>True</td>\n",
       "      <td>None</td>\n",
       "      <td>False</td>\n",
       "      <td>None</td>\n",
       "    </tr>\n",
       "    <tr>\n",
       "      <th>2</th>\n",
       "      <td>Plan</td>\n",
       "      <td>TEXT</td>\n",
       "      <td>True</td>\n",
       "      <td>None</td>\n",
       "      <td>False</td>\n",
       "      <td>None</td>\n",
       "    </tr>\n",
       "  </tbody>\n",
       "</table>\n",
       "</div>"
      ],
      "text/plain": [
       "plan     name     type  nullable default  autoincrement comment\n",
       "0     user_id  INTEGER      True    None          False    None\n",
       "1          OS     TEXT      True    None          False    None\n",
       "2        Plan     TEXT      True    None          False    None"
      ]
     },
     "metadata": {},
     "output_type": "display_data"
    }
   ],
   "source": [
    "for table in tables:\n",
    "    display(read_schema(table))"
   ]
  },
  {
   "cell_type": "code",
   "execution_count": 8,
   "id": "aefc849b",
   "metadata": {},
   "outputs": [
    {
     "data": {
      "text/html": [
       "<div>\n",
       "<style scoped>\n",
       "    .dataframe tbody tr th:only-of-type {\n",
       "        vertical-align: middle;\n",
       "    }\n",
       "\n",
       "    .dataframe tbody tr th {\n",
       "        vertical-align: top;\n",
       "    }\n",
       "\n",
       "    .dataframe thead th {\n",
       "        text-align: right;\n",
       "    }\n",
       "</style>\n",
       "<table border=\"1\" class=\"dataframe\">\n",
       "  <thead>\n",
       "    <tr style=\"text-align: right;\">\n",
       "      <th></th>\n",
       "      <th>user_id</th>\n",
       "      <th>eth_address</th>\n",
       "      <th>date</th>\n",
       "      <th>payout</th>\n",
       "    </tr>\n",
       "  </thead>\n",
       "  <tbody>\n",
       "    <tr>\n",
       "      <th>0</th>\n",
       "      <td>1005</td>\n",
       "      <td>0x4f9117b14426ac44ead4eaef0223830cb16bdb07</td>\n",
       "      <td>2020-07-27</td>\n",
       "      <td>1.68113</td>\n",
       "    </tr>\n",
       "  </tbody>\n",
       "</table>\n",
       "</div>"
      ],
      "text/plain": [
       "   user_id                                 eth_address       date   payout\n",
       "0     1005  0x4f9117b14426ac44ead4eaef0223830cb16bdb07 2020-07-27  1.68113"
      ]
     },
     "metadata": {},
     "output_type": "display_data"
    },
    {
     "data": {
      "text/html": [
       "<div>\n",
       "<style scoped>\n",
       "    .dataframe tbody tr th:only-of-type {\n",
       "        vertical-align: middle;\n",
       "    }\n",
       "\n",
       "    .dataframe tbody tr th {\n",
       "        vertical-align: top;\n",
       "    }\n",
       "\n",
       "    .dataframe thead th {\n",
       "        text-align: right;\n",
       "    }\n",
       "</style>\n",
       "<table border=\"1\" class=\"dataframe\">\n",
       "  <thead>\n",
       "    <tr style=\"text-align: right;\">\n",
       "      <th></th>\n",
       "      <th>user_id</th>\n",
       "      <th>OS</th>\n",
       "      <th>Plan</th>\n",
       "    </tr>\n",
       "  </thead>\n",
       "  <tbody>\n",
       "    <tr>\n",
       "      <th>0</th>\n",
       "      <td>1005</td>\n",
       "      <td>Windows</td>\n",
       "      <td>Free</td>\n",
       "    </tr>\n",
       "  </tbody>\n",
       "</table>\n",
       "</div>"
      ],
      "text/plain": [
       "   user_id       OS  Plan\n",
       "0     1005  Windows  Free"
      ]
     },
     "metadata": {},
     "output_type": "display_data"
    }
   ],
   "source": [
    "for table in tables:\n",
    "    display(execute_query(f'SELECT * FROM {table} LIMIT 1'))"
   ]
  },
  {
   "cell_type": "markdown",
   "id": "00ab7483",
   "metadata": {},
   "source": [
    "<a class=\"anchor\" id=\"3-queries\"></a>\n",
    "## Queries\n",
    "***\n",
    "[back to Table of Contents](#0_toc)\n",
    "\n",
    "1. [How many users got paid?](#q1)\n",
    "2. [Show the 5 users with the highest payouts](#q2)\n",
    "3. [Show the 5 users with the lowest payouts](#q3)\n",
    "4. [How much ether was paid out in November 2020?](#q4)\n",
    "5. [Which plan is the most popular?](#q5)\n",
    "6. [Which plan is the most popular amongst Linux users?](#q6)\n",
    "7. [What is the percentage of payout between the different plans?](#q7)\n",
    "8. [Users of which operating system earned more in payouts?](#q8)\n",
    "9. [What is the average payout amount per user for each of the OS in July 2020?](#q9)\n",
    "10. [What is the daily share of ether earned by users from Linux that are in the free plan in this data?](#q10)"
   ]
  },
  {
   "cell_type": "markdown",
   "id": "43ad8919",
   "metadata": {},
   "source": [
    "<a class=\"anchor\" id=\"q1\"></a>\n",
    "### 1. How many users got paid?\n",
    "[up](#3-queries)"
   ]
  },
  {
   "cell_type": "code",
   "execution_count": 9,
   "id": "a663f587",
   "metadata": {},
   "outputs": [
    {
     "data": {
      "text/html": [
       "<div>\n",
       "<style scoped>\n",
       "    .dataframe tbody tr th:only-of-type {\n",
       "        vertical-align: middle;\n",
       "    }\n",
       "\n",
       "    .dataframe tbody tr th {\n",
       "        vertical-align: top;\n",
       "    }\n",
       "\n",
       "    .dataframe thead th {\n",
       "        text-align: right;\n",
       "    }\n",
       "</style>\n",
       "<table border=\"1\" class=\"dataframe\">\n",
       "  <thead>\n",
       "    <tr style=\"text-align: right;\">\n",
       "      <th></th>\n",
       "      <th>count</th>\n",
       "    </tr>\n",
       "  </thead>\n",
       "  <tbody>\n",
       "    <tr>\n",
       "      <th>0</th>\n",
       "      <td>433</td>\n",
       "    </tr>\n",
       "  </tbody>\n",
       "</table>\n",
       "</div>"
      ],
      "text/plain": [
       "   count\n",
       "0    433"
      ]
     },
     "execution_count": 9,
     "metadata": {},
     "output_type": "execute_result"
    }
   ],
   "source": [
    "execute_query(\"\"\"\n",
    "SELECT \n",
    "    COUNT(DISTINCT user_id)\n",
    "FROM\n",
    "    payout\n",
    "WHERE\n",
    "    payout > 0\n",
    "\"\"\")"
   ]
  },
  {
   "cell_type": "markdown",
   "id": "497d5b46",
   "metadata": {},
   "source": [
    "<div class=\"alert alert-success\" role=\"alert\">\n",
    "Great!</div>"
   ]
  },
  {
   "cell_type": "markdown",
   "id": "3485bcd7",
   "metadata": {},
   "source": [
    "<a class=\"anchor\" id=\"q2\"></a>\n",
    "### 2. Show the 5 users with the highest payouts\n",
    "[up](#3-queries)"
   ]
  },
  {
   "cell_type": "code",
   "execution_count": 10,
   "id": "b790abe2",
   "metadata": {},
   "outputs": [
    {
     "data": {
      "text/html": [
       "<div>\n",
       "<style scoped>\n",
       "    .dataframe tbody tr th:only-of-type {\n",
       "        vertical-align: middle;\n",
       "    }\n",
       "\n",
       "    .dataframe tbody tr th {\n",
       "        vertical-align: top;\n",
       "    }\n",
       "\n",
       "    .dataframe thead th {\n",
       "        text-align: right;\n",
       "    }\n",
       "</style>\n",
       "<table border=\"1\" class=\"dataframe\">\n",
       "  <thead>\n",
       "    <tr style=\"text-align: right;\">\n",
       "      <th></th>\n",
       "      <th>user_id</th>\n",
       "      <th>payout</th>\n",
       "    </tr>\n",
       "  </thead>\n",
       "  <tbody>\n",
       "    <tr>\n",
       "      <th>0</th>\n",
       "      <td>1537</td>\n",
       "      <td>10.74169</td>\n",
       "    </tr>\n",
       "    <tr>\n",
       "      <th>1</th>\n",
       "      <td>3051</td>\n",
       "      <td>9.73121</td>\n",
       "    </tr>\n",
       "    <tr>\n",
       "      <th>2</th>\n",
       "      <td>1512</td>\n",
       "      <td>8.80816</td>\n",
       "    </tr>\n",
       "    <tr>\n",
       "      <th>3</th>\n",
       "      <td>1127</td>\n",
       "      <td>8.78861</td>\n",
       "    </tr>\n",
       "    <tr>\n",
       "      <th>4</th>\n",
       "      <td>4848</td>\n",
       "      <td>8.42445</td>\n",
       "    </tr>\n",
       "  </tbody>\n",
       "</table>\n",
       "</div>"
      ],
      "text/plain": [
       "   user_id    payout\n",
       "0     1537  10.74169\n",
       "1     3051   9.73121\n",
       "2     1512   8.80816\n",
       "3     1127   8.78861\n",
       "4     4848   8.42445"
      ]
     },
     "execution_count": 10,
     "metadata": {},
     "output_type": "execute_result"
    }
   ],
   "source": [
    "execute_query(\"\"\"\n",
    "SELECT \n",
    "    user_id,\n",
    "    SUM(payout.\"payout\") as payout\n",
    "FROM\n",
    "    payout\n",
    "GROUP BY\n",
    "    user_id \n",
    "ORDER BY\n",
    "    payout DESC\n",
    "LIMIT 5\n",
    "\"\"\")"
   ]
  },
  {
   "cell_type": "markdown",
   "id": "c1c9c5d1",
   "metadata": {},
   "source": [
    "<div class=\"alert alert-warning\" role=\"alert\">\n",
    "Great but can you show per user instead of single transaction?\n",
    "</div>"
   ]
  },
  {
   "cell_type": "markdown",
   "id": "d0be887f",
   "metadata": {},
   "source": [
    "<div class=\"alert alert-info\"> <b>Student comment v. 1:</b> <br />\n",
    "    Updated\n",
    "</div>"
   ]
  },
  {
   "cell_type": "markdown",
   "id": "406c93ea",
   "metadata": {},
   "source": [
    "<div class=\"alert alert-success\" role=\"alert\">\n",
    "Great!</div>"
   ]
  },
  {
   "cell_type": "markdown",
   "id": "b496cadb",
   "metadata": {},
   "source": [
    "<a class=\"anchor\" id=\"q3\"></a>\n",
    "### 3. Show the 5 users with the lowest payouts\n",
    "[up](#3-queries)"
   ]
  },
  {
   "cell_type": "code",
   "execution_count": 11,
   "id": "22d2772c",
   "metadata": {},
   "outputs": [
    {
     "data": {
      "text/html": [
       "<div>\n",
       "<style scoped>\n",
       "    .dataframe tbody tr th:only-of-type {\n",
       "        vertical-align: middle;\n",
       "    }\n",
       "\n",
       "    .dataframe tbody tr th {\n",
       "        vertical-align: top;\n",
       "    }\n",
       "\n",
       "    .dataframe thead th {\n",
       "        text-align: right;\n",
       "    }\n",
       "</style>\n",
       "<table border=\"1\" class=\"dataframe\">\n",
       "  <thead>\n",
       "    <tr style=\"text-align: right;\">\n",
       "      <th></th>\n",
       "      <th>user_id</th>\n",
       "      <th>payout</th>\n",
       "    </tr>\n",
       "  </thead>\n",
       "  <tbody>\n",
       "    <tr>\n",
       "      <th>4</th>\n",
       "      <td>4467</td>\n",
       "      <td>0.05056</td>\n",
       "    </tr>\n",
       "    <tr>\n",
       "      <th>3</th>\n",
       "      <td>2462</td>\n",
       "      <td>0.03381</td>\n",
       "    </tr>\n",
       "    <tr>\n",
       "      <th>2</th>\n",
       "      <td>2813</td>\n",
       "      <td>0.02914</td>\n",
       "    </tr>\n",
       "    <tr>\n",
       "      <th>1</th>\n",
       "      <td>3410</td>\n",
       "      <td>0.00818</td>\n",
       "    </tr>\n",
       "    <tr>\n",
       "      <th>0</th>\n",
       "      <td>2003</td>\n",
       "      <td>0.00775</td>\n",
       "    </tr>\n",
       "  </tbody>\n",
       "</table>\n",
       "</div>"
      ],
      "text/plain": [
       "   user_id   payout\n",
       "4     4467  0.05056\n",
       "3     2462  0.03381\n",
       "2     2813  0.02914\n",
       "1     3410  0.00818\n",
       "0     2003  0.00775"
      ]
     },
     "execution_count": 11,
     "metadata": {},
     "output_type": "execute_result"
    }
   ],
   "source": [
    "execute_query(\"\"\"\n",
    "SELECT \n",
    "    user_id,\n",
    "    SUM(payout.\"payout\") as payout\n",
    "FROM\n",
    "    payout\n",
    "GROUP BY\n",
    "    user_id \n",
    "ORDER BY\n",
    "    payout\n",
    "LIMIT 5\n",
    "\"\"\")[::-1]"
   ]
  },
  {
   "cell_type": "markdown",
   "id": "98e1701a",
   "metadata": {},
   "source": [
    "<div class=\"alert alert-warning\" role=\"alert\">\n",
    "Great but can you show per user instead of single transaction?\n",
    "</div>"
   ]
  },
  {
   "cell_type": "markdown",
   "id": "d3614df8",
   "metadata": {},
   "source": [
    "<div class=\"alert alert-info\"> <b>Student comment v. 1:</b> <br />\n",
    "    Updated\n",
    "</div>"
   ]
  },
  {
   "cell_type": "markdown",
   "id": "52bc60d3",
   "metadata": {},
   "source": [
    "<div class=\"alert alert-success\" role=\"alert\">\n",
    "Great!</div>"
   ]
  },
  {
   "cell_type": "markdown",
   "id": "cfe07ac9",
   "metadata": {},
   "source": [
    "<a class=\"anchor\" id=\"q4\"></a>\n",
    "### 4. How much ether was paid out in November 2020?\n",
    "[up](#3-queries)"
   ]
  },
  {
   "cell_type": "code",
   "execution_count": 12,
   "id": "3d20dfd0",
   "metadata": {},
   "outputs": [
    {
     "data": {
      "text/html": [
       "<div>\n",
       "<style scoped>\n",
       "    .dataframe tbody tr th:only-of-type {\n",
       "        vertical-align: middle;\n",
       "    }\n",
       "\n",
       "    .dataframe tbody tr th {\n",
       "        vertical-align: top;\n",
       "    }\n",
       "\n",
       "    .dataframe thead th {\n",
       "        text-align: right;\n",
       "    }\n",
       "</style>\n",
       "<table border=\"1\" class=\"dataframe\">\n",
       "  <thead>\n",
       "    <tr style=\"text-align: right;\">\n",
       "      <th></th>\n",
       "      <th>sum</th>\n",
       "    </tr>\n",
       "  </thead>\n",
       "  <tbody>\n",
       "    <tr>\n",
       "      <th>0</th>\n",
       "      <td>166.0118</td>\n",
       "    </tr>\n",
       "  </tbody>\n",
       "</table>\n",
       "</div>"
      ],
      "text/plain": [
       "        sum\n",
       "0  166.0118"
      ]
     },
     "execution_count": 12,
     "metadata": {},
     "output_type": "execute_result"
    }
   ],
   "source": [
    "execute_query(\"\"\"\n",
    "SELECT \n",
    "    SUM(payout)\n",
    "FROM\n",
    "    payout\n",
    "WHERE\n",
    "    EXTRACT(MONTH FROM date) = 11\n",
    "\"\"\")"
   ]
  },
  {
   "cell_type": "markdown",
   "id": "d69a0621",
   "metadata": {},
   "source": [
    "<div class=\"alert alert-success\" role=\"alert\">\n",
    "Great!</div>"
   ]
  },
  {
   "cell_type": "markdown",
   "id": "67f89333",
   "metadata": {},
   "source": [
    "<a class=\"anchor\" id=\"q5\"></a>\n",
    "### 5. Which plan is the most popular?\n",
    "[up](#3-queries)"
   ]
  },
  {
   "cell_type": "code",
   "execution_count": 13,
   "id": "a4d8aae2",
   "metadata": {},
   "outputs": [
    {
     "data": {
      "text/html": [
       "<div>\n",
       "<style scoped>\n",
       "    .dataframe tbody tr th:only-of-type {\n",
       "        vertical-align: middle;\n",
       "    }\n",
       "\n",
       "    .dataframe tbody tr th {\n",
       "        vertical-align: top;\n",
       "    }\n",
       "\n",
       "    .dataframe thead th {\n",
       "        text-align: right;\n",
       "    }\n",
       "</style>\n",
       "<table border=\"1\" class=\"dataframe\">\n",
       "  <thead>\n",
       "    <tr style=\"text-align: right;\">\n",
       "      <th></th>\n",
       "      <th>plan</th>\n",
       "      <th>count</th>\n",
       "    </tr>\n",
       "  </thead>\n",
       "  <tbody>\n",
       "    <tr>\n",
       "      <th>0</th>\n",
       "      <td>Free</td>\n",
       "      <td>220</td>\n",
       "    </tr>\n",
       "    <tr>\n",
       "      <th>1</th>\n",
       "      <td>Premium</td>\n",
       "      <td>213</td>\n",
       "    </tr>\n",
       "  </tbody>\n",
       "</table>\n",
       "</div>"
      ],
      "text/plain": [
       "      plan  count\n",
       "0     Free    220\n",
       "1  Premium    213"
      ]
     },
     "execution_count": 13,
     "metadata": {},
     "output_type": "execute_result"
    }
   ],
   "source": [
    "execute_query(\"\"\"\n",
    "SELECT\n",
    "    plan.\"Plan\" AS plan,\n",
    "    COUNT(1) AS count\n",
    "FROM\n",
    "    plan\n",
    "GROUP BY\n",
    "    plan.\"Plan\"\n",
    "ORDER BY\n",
    "    count DESC\n",
    "--LIMIT 1\n",
    "\"\"\")"
   ]
  },
  {
   "cell_type": "markdown",
   "id": "74d24afb",
   "metadata": {},
   "source": [
    "<div class=\"alert alert-success\" role=\"alert\">\n",
    "Great! can you also show the other plan?</div>"
   ]
  },
  {
   "cell_type": "markdown",
   "id": "ebd10d90",
   "metadata": {},
   "source": [
    "<div class=\"alert alert-info\"> <b>Student comment v. 1:</b> <br />\n",
    "    I agree, I thought twice about removing the other values since it obscures the results, <br />\n",
    "    but decided to do it in order to explicitly answer the question without extra text. <br /><br />\n",
    "    In second thought, it would have been better to supplement the data with an additional explanatory markdown cell.\n",
    "</div>"
   ]
  },
  {
   "cell_type": "markdown",
   "id": "271897f1",
   "metadata": {},
   "source": [
    "<div class=\"alert alert-success\" role=\"alert\">\n",
    "V2: Exactly that way we can also check ourselves but it's ok to not show it if you just right a line about it and the reviwer can unserstand from the code</div>"
   ]
  },
  {
   "cell_type": "markdown",
   "id": "0a4dd17d",
   "metadata": {},
   "source": [
    "<a class=\"anchor\" id=\"q6\"></a>\n",
    "### 6. Which plan is the most popular amongst Linux users?\n",
    "[up](#3-queries)"
   ]
  },
  {
   "cell_type": "code",
   "execution_count": 14,
   "id": "676ed89f",
   "metadata": {},
   "outputs": [
    {
     "data": {
      "text/html": [
       "<div>\n",
       "<style scoped>\n",
       "    .dataframe tbody tr th:only-of-type {\n",
       "        vertical-align: middle;\n",
       "    }\n",
       "\n",
       "    .dataframe tbody tr th {\n",
       "        vertical-align: top;\n",
       "    }\n",
       "\n",
       "    .dataframe thead th {\n",
       "        text-align: right;\n",
       "    }\n",
       "</style>\n",
       "<table border=\"1\" class=\"dataframe\">\n",
       "  <thead>\n",
       "    <tr style=\"text-align: right;\">\n",
       "      <th></th>\n",
       "      <th>plan</th>\n",
       "      <th>count</th>\n",
       "    </tr>\n",
       "  </thead>\n",
       "  <tbody>\n",
       "    <tr>\n",
       "      <th>0</th>\n",
       "      <td>Premium</td>\n",
       "      <td>76</td>\n",
       "    </tr>\n",
       "    <tr>\n",
       "      <th>1</th>\n",
       "      <td>Free</td>\n",
       "      <td>68</td>\n",
       "    </tr>\n",
       "  </tbody>\n",
       "</table>\n",
       "</div>"
      ],
      "text/plain": [
       "      plan  count\n",
       "0  Premium     76\n",
       "1     Free     68"
      ]
     },
     "execution_count": 14,
     "metadata": {},
     "output_type": "execute_result"
    }
   ],
   "source": [
    "execute_query(\"\"\"\n",
    "SELECT\n",
    "    plan.\"Plan\" AS plan,\n",
    "    COUNT(1) AS count\n",
    "FROM\n",
    "    plan\n",
    "WHERE\n",
    "    plan.\"OS\" = 'Linux'\n",
    "GROUP BY\n",
    "    plan.\"Plan\"\n",
    "ORDER BY\n",
    "    count DESC\n",
    "--LIMIT 1\n",
    "\"\"\")"
   ]
  },
  {
   "cell_type": "markdown",
   "id": "09e38c41",
   "metadata": {},
   "source": [
    "<div class=\"alert alert-success\" role=\"alert\">\n",
    "Great! can you also show the other plan?</div>"
   ]
  },
  {
   "cell_type": "markdown",
   "id": "d4574c9a",
   "metadata": {},
   "source": [
    "<div class=\"alert alert-info\"> <b>Student comment v. 1:</b> <br />\n",
    "    Updated\n",
    "</div>"
   ]
  },
  {
   "cell_type": "markdown",
   "id": "5b92c178",
   "metadata": {},
   "source": [
    "<div class=\"alert alert-success\" role=\"alert\">\n",
    "Great!</div>"
   ]
  },
  {
   "cell_type": "markdown",
   "id": "6d7e5ac1",
   "metadata": {},
   "source": [
    "<a class=\"anchor\" id=\"q7\"></a>\n",
    "### 7. What is the percentage of payout between the different plans?\n",
    "[up](#3-queries)"
   ]
  },
  {
   "cell_type": "code",
   "execution_count": 15,
   "id": "9a1a608d",
   "metadata": {},
   "outputs": [
    {
     "data": {
      "text/html": [
       "<div>\n",
       "<style scoped>\n",
       "    .dataframe tbody tr th:only-of-type {\n",
       "        vertical-align: middle;\n",
       "    }\n",
       "\n",
       "    .dataframe tbody tr th {\n",
       "        vertical-align: top;\n",
       "    }\n",
       "\n",
       "    .dataframe thead th {\n",
       "        text-align: right;\n",
       "    }\n",
       "</style>\n",
       "<table border=\"1\" class=\"dataframe\">\n",
       "  <thead>\n",
       "    <tr style=\"text-align: right;\">\n",
       "      <th></th>\n",
       "      <th>plan</th>\n",
       "      <th>sum</th>\n",
       "      <th>percent</th>\n",
       "    </tr>\n",
       "  </thead>\n",
       "  <tbody>\n",
       "    <tr>\n",
       "      <th>0</th>\n",
       "      <td>Free</td>\n",
       "      <td>488.68999</td>\n",
       "      <td>53.97</td>\n",
       "    </tr>\n",
       "    <tr>\n",
       "      <th>1</th>\n",
       "      <td>Premium</td>\n",
       "      <td>416.76178</td>\n",
       "      <td>46.03</td>\n",
       "    </tr>\n",
       "  </tbody>\n",
       "</table>\n",
       "</div>"
      ],
      "text/plain": [
       "      plan        sum  percent\n",
       "0     Free  488.68999    53.97\n",
       "1  Premium  416.76178    46.03"
      ]
     },
     "execution_count": 15,
     "metadata": {},
     "output_type": "execute_result"
    }
   ],
   "source": [
    "execute_query(\"\"\"\n",
    "SELECT\n",
    "    *,\n",
    "    ROUND(sum * 100 / SUM(sum) OVER (), 2) AS percent\n",
    "FROM\n",
    "    (SELECT\n",
    "        plan.\"Plan\" AS plan,\n",
    "        SUM(payout.\"payout\")\n",
    "    FROM\n",
    "        payout\n",
    "            INNER JOIN plan ON plan.user_id = payout.user_id\n",
    "    GROUP BY\n",
    "        plan.\"Plan\") AS subq\n",
    "\"\"\")"
   ]
  },
  {
   "cell_type": "markdown",
   "id": "b277f51e",
   "metadata": {},
   "source": [
    "<div class=\"alert alert-success\" role=\"alert\">\n",
    "Great!</div>"
   ]
  },
  {
   "cell_type": "markdown",
   "id": "cde1fdcf",
   "metadata": {},
   "source": [
    "<a class=\"anchor\" id=\"q8\"></a>\n",
    "### 8. Users of which operating system earned more in payouts?\n",
    "[up](#3-queries)"
   ]
  },
  {
   "cell_type": "code",
   "execution_count": 16,
   "id": "eb209582",
   "metadata": {},
   "outputs": [
    {
     "data": {
      "text/html": [
       "<div>\n",
       "<style scoped>\n",
       "    .dataframe tbody tr th:only-of-type {\n",
       "        vertical-align: middle;\n",
       "    }\n",
       "\n",
       "    .dataframe tbody tr th {\n",
       "        vertical-align: top;\n",
       "    }\n",
       "\n",
       "    .dataframe thead th {\n",
       "        text-align: right;\n",
       "    }\n",
       "</style>\n",
       "<table border=\"1\" class=\"dataframe\">\n",
       "  <thead>\n",
       "    <tr style=\"text-align: right;\">\n",
       "      <th></th>\n",
       "      <th>os</th>\n",
       "      <th>payout</th>\n",
       "    </tr>\n",
       "  </thead>\n",
       "  <tbody>\n",
       "    <tr>\n",
       "      <th>0</th>\n",
       "      <td>Linux</td>\n",
       "      <td>322.00353</td>\n",
       "    </tr>\n",
       "    <tr>\n",
       "      <th>1</th>\n",
       "      <td>Windows</td>\n",
       "      <td>316.03701</td>\n",
       "    </tr>\n",
       "    <tr>\n",
       "      <th>2</th>\n",
       "      <td>MAC</td>\n",
       "      <td>267.41123</td>\n",
       "    </tr>\n",
       "  </tbody>\n",
       "</table>\n",
       "</div>"
      ],
      "text/plain": [
       "        os     payout\n",
       "0    Linux  322.00353\n",
       "1  Windows  316.03701\n",
       "2      MAC  267.41123"
      ]
     },
     "execution_count": 16,
     "metadata": {},
     "output_type": "execute_result"
    }
   ],
   "source": [
    "execute_query(\"\"\"\n",
    "SELECT\n",
    "    plan.\"OS\" AS os,\n",
    "    SUM(payout.\"payout\") AS payout\n",
    "FROM\n",
    "    payout\n",
    "        INNER JOIN plan ON plan.user_id = payout.user_id\n",
    "GROUP BY\n",
    "    plan.\"OS\"\n",
    "ORDER BY\n",
    "    payout DESC\n",
    "--LIMIT 1\n",
    "\"\"\")"
   ]
  },
  {
   "cell_type": "markdown",
   "id": "13344fce",
   "metadata": {},
   "source": [
    "<div class=\"alert alert-success\" role=\"alert\">\n",
    "Great! but can you also show the number that was generated?</div>"
   ]
  },
  {
   "cell_type": "markdown",
   "id": "0504373d",
   "metadata": {},
   "source": [
    "<div class=\"alert alert-info\"> <b>Student comment v. 1:</b> <br />\n",
    "    It was like this before I've submitted 😄 <br />\n",
    "    same explanation as in the previous comment.\n",
    "</div>"
   ]
  },
  {
   "cell_type": "markdown",
   "id": "89c0cd7d",
   "metadata": {},
   "source": [
    "<div class=\"alert alert-success\" role=\"alert\">\n",
    "Great! - and same as before as well😉</div>"
   ]
  },
  {
   "cell_type": "markdown",
   "id": "59a3fb9a",
   "metadata": {},
   "source": [
    "<a class=\"anchor\" id=\"q9\"></a>\n",
    "### 9. What is the average payout amount per user for each of the OS in July 2020?\n",
    "[up](#3-queries)"
   ]
  },
  {
   "cell_type": "code",
   "execution_count": 17,
   "id": "9b30f2c0",
   "metadata": {},
   "outputs": [
    {
     "data": {
      "text/html": [
       "<div>\n",
       "<style scoped>\n",
       "    .dataframe tbody tr th:only-of-type {\n",
       "        vertical-align: middle;\n",
       "    }\n",
       "\n",
       "    .dataframe tbody tr th {\n",
       "        vertical-align: top;\n",
       "    }\n",
       "\n",
       "    .dataframe thead th {\n",
       "        text-align: right;\n",
       "    }\n",
       "</style>\n",
       "<table border=\"1\" class=\"dataframe\">\n",
       "  <thead>\n",
       "    <tr style=\"text-align: right;\">\n",
       "      <th></th>\n",
       "      <th>OS</th>\n",
       "      <th>avg</th>\n",
       "    </tr>\n",
       "  </thead>\n",
       "  <tbody>\n",
       "    <tr>\n",
       "      <th>0</th>\n",
       "      <td>Linux</td>\n",
       "      <td>1.931114</td>\n",
       "    </tr>\n",
       "    <tr>\n",
       "      <th>1</th>\n",
       "      <td>MAC</td>\n",
       "      <td>1.640537</td>\n",
       "    </tr>\n",
       "    <tr>\n",
       "      <th>2</th>\n",
       "      <td>Windows</td>\n",
       "      <td>1.590600</td>\n",
       "    </tr>\n",
       "  </tbody>\n",
       "</table>\n",
       "</div>"
      ],
      "text/plain": [
       "        OS       avg\n",
       "0    Linux  1.931114\n",
       "1      MAC  1.640537\n",
       "2  Windows  1.590600"
      ]
     },
     "execution_count": 17,
     "metadata": {},
     "output_type": "execute_result"
    }
   ],
   "source": [
    "execute_query(\"\"\"\n",
    "SELECT\n",
    "    plan.\"OS\",\n",
    "    AVG(payout.\"payout\") AS avg\n",
    "FROM\n",
    "    payout\n",
    "        INNER JOIN plan ON plan.user_id = payout.user_id\n",
    "WHERE\n",
    "    payout.date >= '2020-07-01' AND payout.date < '2020-08-01'\n",
    "GROUP BY\n",
    "    plan.\"OS\"\n",
    "ORDER BY\n",
    "    avg DESC\n",
    "\"\"\")"
   ]
  },
  {
   "cell_type": "markdown",
   "id": "5de7c48e",
   "metadata": {},
   "source": [
    "<div class=\"alert alert-success\" role=\"alert\">\n",
    "Great!</div>"
   ]
  },
  {
   "cell_type": "markdown",
   "id": "b3f2b8e2",
   "metadata": {},
   "source": [
    "<a class=\"anchor\" id=\"q10\"></a>\n",
    "### 10. What is the daily share of ether earned by users from Linux that are in the free plan in this data?\n",
    "[up](#3-queries)"
   ]
  },
  {
   "cell_type": "code",
   "execution_count": 18,
   "id": "b29b5753",
   "metadata": {},
   "outputs": [
    {
     "data": {
      "text/html": [
       "<div>\n",
       "<style scoped>\n",
       "    .dataframe tbody tr th:only-of-type {\n",
       "        vertical-align: middle;\n",
       "    }\n",
       "\n",
       "    .dataframe tbody tr th {\n",
       "        vertical-align: top;\n",
       "    }\n",
       "\n",
       "    .dataframe thead th {\n",
       "        text-align: right;\n",
       "    }\n",
       "</style>\n",
       "<table border=\"1\" class=\"dataframe\">\n",
       "  <thead>\n",
       "    <tr style=\"text-align: right;\">\n",
       "      <th></th>\n",
       "      <th>user_id</th>\n",
       "      <th>date</th>\n",
       "      <th>payout</th>\n",
       "      <th>daily ratio</th>\n",
       "    </tr>\n",
       "  </thead>\n",
       "  <tbody>\n",
       "    <tr>\n",
       "      <th>0</th>\n",
       "      <td>4131</td>\n",
       "      <td>2021-01-05</td>\n",
       "      <td>2.36296</td>\n",
       "      <td>0.64</td>\n",
       "    </tr>\n",
       "    <tr>\n",
       "      <th>1</th>\n",
       "      <td>4608</td>\n",
       "      <td>2021-01-05</td>\n",
       "      <td>1.35791</td>\n",
       "      <td>0.36</td>\n",
       "    </tr>\n",
       "    <tr>\n",
       "      <th>2</th>\n",
       "      <td>2128</td>\n",
       "      <td>2021-01-04</td>\n",
       "      <td>0.68610</td>\n",
       "      <td>1.00</td>\n",
       "    </tr>\n",
       "    <tr>\n",
       "      <th>3</th>\n",
       "      <td>1330</td>\n",
       "      <td>2021-01-03</td>\n",
       "      <td>1.51269</td>\n",
       "      <td>1.00</td>\n",
       "    </tr>\n",
       "    <tr>\n",
       "      <th>4</th>\n",
       "      <td>2935</td>\n",
       "      <td>2021-01-02</td>\n",
       "      <td>0.30163</td>\n",
       "      <td>1.00</td>\n",
       "    </tr>\n",
       "    <tr>\n",
       "      <th>...</th>\n",
       "      <td>...</td>\n",
       "      <td>...</td>\n",
       "      <td>...</td>\n",
       "      <td>...</td>\n",
       "    </tr>\n",
       "    <tr>\n",
       "      <th>94</th>\n",
       "      <td>3542</td>\n",
       "      <td>2020-07-14</td>\n",
       "      <td>0.67543</td>\n",
       "      <td>1.00</td>\n",
       "    </tr>\n",
       "    <tr>\n",
       "      <th>95</th>\n",
       "      <td>4235</td>\n",
       "      <td>2020-07-13</td>\n",
       "      <td>3.13763</td>\n",
       "      <td>1.00</td>\n",
       "    </tr>\n",
       "    <tr>\n",
       "      <th>96</th>\n",
       "      <td>2154</td>\n",
       "      <td>2020-07-11</td>\n",
       "      <td>1.72359</td>\n",
       "      <td>1.00</td>\n",
       "    </tr>\n",
       "    <tr>\n",
       "      <th>97</th>\n",
       "      <td>3146</td>\n",
       "      <td>2020-07-08</td>\n",
       "      <td>1.39229</td>\n",
       "      <td>1.00</td>\n",
       "    </tr>\n",
       "    <tr>\n",
       "      <th>98</th>\n",
       "      <td>3415</td>\n",
       "      <td>2020-07-07</td>\n",
       "      <td>2.50566</td>\n",
       "      <td>1.00</td>\n",
       "    </tr>\n",
       "  </tbody>\n",
       "</table>\n",
       "<p>99 rows × 4 columns</p>\n",
       "</div>"
      ],
      "text/plain": [
       "    user_id       date   payout  daily ratio\n",
       "0      4131 2021-01-05  2.36296         0.64\n",
       "1      4608 2021-01-05  1.35791         0.36\n",
       "2      2128 2021-01-04  0.68610         1.00\n",
       "3      1330 2021-01-03  1.51269         1.00\n",
       "4      2935 2021-01-02  0.30163         1.00\n",
       "..      ...        ...      ...          ...\n",
       "94     3542 2020-07-14  0.67543         1.00\n",
       "95     4235 2020-07-13  3.13763         1.00\n",
       "96     2154 2020-07-11  1.72359         1.00\n",
       "97     3146 2020-07-08  1.39229         1.00\n",
       "98     3415 2020-07-07  2.50566         1.00\n",
       "\n",
       "[99 rows x 4 columns]"
      ]
     },
     "execution_count": 18,
     "metadata": {},
     "output_type": "execute_result"
    }
   ],
   "source": [
    "execute_query(\"\"\"\n",
    "SELECT\n",
    "    subq.*,\n",
    "    ROUND(subq.\"payout\" / SUM(subq.\"payout\") OVER (PARTITION BY subq.date), 2) AS \"daily ratio\"\n",
    "FROM\n",
    "    (SELECT\n",
    "        payout.user_id,\n",
    "        payout.date,\n",
    "        SUM(payout.payout) AS payout\n",
    "    FROM\n",
    "        payout\n",
    "            INNER JOIN plan ON plan.user_id = payout.user_id\n",
    "    WHERE\n",
    "        plan.\"OS\" = 'Linux' AND plan.\"Plan\" = 'Free'\n",
    "    GROUP BY\n",
    "        payout.date,\n",
    "        payout.user_id) as subq\n",
    "ORDER BY\n",
    "    subq.date DESC,\n",
    "    subq.payout DESC,\n",
    "    subq.user_id\n",
    "\"\"\")"
   ]
  },
  {
   "cell_type": "markdown",
   "id": "be0b4979",
   "metadata": {},
   "source": [
    "<div class=\"alert alert-success\" role=\"alert\">\n",
    "Great!</div>"
   ]
  }
 ],
 "metadata": {
  "kernelspec": {
   "display_name": "Python 3",
   "language": "python",
   "name": "python3"
  },
  "language_info": {
   "codemirror_mode": {
    "name": "ipython",
    "version": 3
   },
   "file_extension": ".py",
   "mimetype": "text/x-python",
   "name": "python",
   "nbconvert_exporter": "python",
   "pygments_lexer": "ipython3",
   "version": "3.8.10"
  }
 },
 "nbformat": 4,
 "nbformat_minor": 5
}
