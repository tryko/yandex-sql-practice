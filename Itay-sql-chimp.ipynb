{
 "cells": [
  {
   "cell_type": "markdown",
   "metadata": {},
   "source": [
    "Itay Koren Project"
   ]
  },
  {
   "cell_type": "code",
   "execution_count": 4,
   "metadata": {},
   "outputs": [
    {
     "output_type": "stream",
     "name": "stdout",
     "text": [
      "Requirement already satisfied: psycopg2 in c:\\users\\itay8\\anaconda3\\lib\\site-packages (2.9.1)\nNote: you may need to restart the kernel to use updated packages.\n"
     ]
    }
   ],
   "source": [
    "pip install psycopg2 -U"
   ]
  },
  {
   "cell_type": "code",
   "execution_count": 1,
   "metadata": {},
   "outputs": [],
   "source": [
    "import pandas as pd\n",
    "from sqlalchemy import create_engine\n",
    "from sqlalchemy.engine import reflection\n",
    "import psycopg2"
   ]
  },
  {
   "cell_type": "markdown",
   "metadata": {},
   "source": [
    "### Access to the DB <a class=\"anchor\" id=\"chapter2\"></a>"
   ]
  },
  {
   "cell_type": "code",
   "execution_count": 5,
   "metadata": {},
   "outputs": [
    {
     "output_type": "stream",
     "name": "stderr",
     "text": [
      "<ipython-input-5-02b5c89897ac>:14: SADeprecationWarning: The from_engine() method on Inspector is deprecated and will be removed in a future release.  Please use the sqlalchemy.inspect() function on an Engine or Connection in order to acquire an Inspector. (deprecated since: 1.4)\n  inspector = reflection.Inspector.from_engine(engine)\n"
     ]
    }
   ],
   "source": [
    "db_config = {'user': 'practicum_student',         # username\n",
    "             'pwd': 's65BlTKV3faNIGhmvJVzOqhs', # password\n",
    "             'host': 'rc1b-wcoijxj3yxfsf3fs.mdb.yandexcloud.net',\n",
    "             'port': 6432,              # connection port\n",
    "             'db': 'data-analyst-sales-data-db'}          # the name of the database\n",
    "\n",
    "connection_string = 'postgresql://{}:{}@{}:{}/{}'.format(db_config['user'],\n",
    "                                                                     db_config['pwd'],\n",
    "                                                                       db_config['host'],\n",
    "                                                                       db_config['port'],\n",
    "                                                                       db_config['db'])\n",
    "\n",
    "engine = create_engine(connection_string, connect_args={'sslmode':'require'})\n",
    "inspector = reflection.Inspector.from_engine(engine)\n"
   ]
  },
  {
   "cell_type": "code",
   "execution_count": 18,
   "metadata": {},
   "outputs": [
    {
     "output_type": "execute_result",
     "data": {
      "text/plain": [
       "[{'name': 'OrderDate',\n",
       "  'type': TIMESTAMP(),\n",
       "  'nullable': True,\n",
       "  'default': None,\n",
       "  'autoincrement': False,\n",
       "  'comment': None},\n",
       " {'name': 'Region',\n",
       "  'type': TEXT(),\n",
       "  'nullable': True,\n",
       "  'default': None,\n",
       "  'autoincrement': False,\n",
       "  'comment': None},\n",
       " {'name': 'Rep',\n",
       "  'type': TEXT(),\n",
       "  'nullable': True,\n",
       "  'default': None,\n",
       "  'autoincrement': False,\n",
       "  'comment': None},\n",
       " {'name': 'Item',\n",
       "  'type': TEXT(),\n",
       "  'nullable': True,\n",
       "  'default': None,\n",
       "  'autoincrement': False,\n",
       "  'comment': None},\n",
       " {'name': 'Units',\n",
       "  'type': INTEGER(),\n",
       "  'nullable': True,\n",
       "  'default': None,\n",
       "  'autoincrement': False,\n",
       "  'comment': None},\n",
       " {'name': 'Unit_Cost',\n",
       "  'type': NUMERIC(),\n",
       "  'nullable': True,\n",
       "  'default': None,\n",
       "  'autoincrement': False,\n",
       "  'comment': None},\n",
       " {'name': 'Total',\n",
       "  'type': NUMERIC(),\n",
       "  'nullable': True,\n",
       "  'default': None,\n",
       "  'autoincrement': False,\n",
       "  'comment': None}]"
      ]
     },
     "metadata": {},
     "execution_count": 18
    }
   ],
   "source": [
    "inspector.get_columns('rep_sales')"
   ]
  },
  {
   "cell_type": "markdown",
   "metadata": {},
   "source": [
    "#  Table Queries <a class=\"anchor\" id=\"chapter3\"></a>"
   ]
  },
  {
   "cell_type": "markdown",
   "metadata": {},
   "source": [
    "function that takes a query and return dataframe for general use"
   ]
  },
  {
   "cell_type": "code",
   "execution_count": 3,
   "metadata": {},
   "outputs": [],
   "source": [
    "def queryResult(q):\n",
    "    return pd.io.sql.read_sql(q, con = engine)\n",
    "    "
   ]
  },
  {
   "source": [
    "rep_sales table:\n",
    "\n",
    "        OrderDate: date when the order was placed\n",
    "\n",
    "        Region: geographical area in which the sale was made.\n",
    "\n",
    "        Rep: sales representative's name\n",
    "\n",
    "        Item: name of the item sold\n",
    "\n",
    "        Units: number of units sold\n",
    "\n",
    "        UnitCost: cost of one unit\n",
    "\n",
    "        Total: total cost of the order - Units x UnitCost\n",
    "\n",
    "Item table:\n",
    "\n",
    "        Item: name of the item\n",
    "\n",
    "        MinPrice: minimum price that the item can be sold."
   ],
   "cell_type": "markdown",
   "metadata": {}
  },
  {
   "source": [
    "1. What is the total income in the data?\n",
    "\n",
    "**You mean rep_sales? since that is the only table that has income\"**"
   ],
   "cell_type": "markdown",
   "metadata": {}
  },
  {
   "cell_type": "code",
   "execution_count": 24,
   "metadata": {},
   "outputs": [
    {
     "output_type": "execute_result",
     "data": {
      "text/plain": [
       "        sum\n",
       "0  28867.97"
      ],
      "text/html": "<div>\n<style scoped>\n    .dataframe tbody tr th:only-of-type {\n        vertical-align: middle;\n    }\n\n    .dataframe tbody tr th {\n        vertical-align: top;\n    }\n\n    .dataframe thead th {\n        text-align: right;\n    }\n</style>\n<table border=\"1\" class=\"dataframe\">\n  <thead>\n    <tr style=\"text-align: right;\">\n      <th></th>\n      <th>sum</th>\n    </tr>\n  </thead>\n  <tbody>\n    <tr>\n      <th>0</th>\n      <td>28867.97</td>\n    </tr>\n  </tbody>\n</table>\n</div>"
     },
     "metadata": {},
     "execution_count": 24
    }
   ],
   "source": [
    "query = '''\n",
    "    SELECT\n",
    "     SUM(\"Total\")\n",
    "    FROM\n",
    "        rep_sales\n",
    "'''\n",
    "\n",
    "queryResult(query)"
   ]
  },
  {
   "source": [
    "\n",
    "2. Which sales rep brought the most income?\n"
   ],
   "cell_type": "markdown",
   "metadata": {}
  },
  {
   "cell_type": "code",
   "execution_count": 54,
   "metadata": {},
   "outputs": [
    {
     "output_type": "execute_result",
     "data": {
      "text/plain": [
       "      Rep      sum\n",
       "0  Kivell  3554.23"
      ],
      "text/html": "<div>\n<style scoped>\n    .dataframe tbody tr th:only-of-type {\n        vertical-align: middle;\n    }\n\n    .dataframe tbody tr th {\n        vertical-align: top;\n    }\n\n    .dataframe thead th {\n        text-align: right;\n    }\n</style>\n<table border=\"1\" class=\"dataframe\">\n  <thead>\n    <tr style=\"text-align: right;\">\n      <th></th>\n      <th>Rep</th>\n      <th>sum</th>\n    </tr>\n  </thead>\n  <tbody>\n    <tr>\n      <th>0</th>\n      <td>Kivell</td>\n      <td>3554.23</td>\n    </tr>\n  </tbody>\n</table>\n</div>"
     },
     "metadata": {},
     "execution_count": 54
    }
   ],
   "source": [
    "query = '''\n",
    "SELECT\n",
    "    \"Rep\",\n",
    "    sum\n",
    "FROM\n",
    " (SELECT\n",
    "        \"Rep\",\n",
    "        SUM(\"Total\")\n",
    "    FROM\n",
    "        rep_sales\n",
    "    GROUP BY\n",
    "        \"Rep\") as subq \n",
    "ORDER BY\n",
    "    sum DESC\n",
    "LIMIT 1;\n",
    "'''\n",
    "\n",
    "queryResult(query)"
   ]
  },
  {
   "source": [
    "\n",
    "3. Which item brought the most income?"
   ],
   "cell_type": "markdown",
   "metadata": {}
  },
  {
   "cell_type": "code",
   "execution_count": 56,
   "metadata": {},
   "outputs": [
    {
     "output_type": "execute_result",
     "data": {
      "text/plain": [
       "     Item      sum\n",
       "0  Binder  8229.12"
      ],
      "text/html": "<div>\n<style scoped>\n    .dataframe tbody tr th:only-of-type {\n        vertical-align: middle;\n    }\n\n    .dataframe tbody tr th {\n        vertical-align: top;\n    }\n\n    .dataframe thead th {\n        text-align: right;\n    }\n</style>\n<table border=\"1\" class=\"dataframe\">\n  <thead>\n    <tr style=\"text-align: right;\">\n      <th></th>\n      <th>Item</th>\n      <th>sum</th>\n    </tr>\n  </thead>\n  <tbody>\n    <tr>\n      <th>0</th>\n      <td>Binder</td>\n      <td>8229.12</td>\n    </tr>\n  </tbody>\n</table>\n</div>"
     },
     "metadata": {},
     "execution_count": 56
    }
   ],
   "source": [
    "query = '''\n",
    "SELECT\n",
    "    \"Item\",\n",
    "    sum\n",
    "FROM\n",
    " (SELECT\n",
    "        \"Item\",\n",
    "        SUM(\"Total\")\n",
    "    FROM\n",
    "        rep_sales\n",
    "    GROUP BY\n",
    "        \"Item\") as subq \n",
    "ORDER BY\n",
    "    sum DESC\n",
    "LIMIT 1;\n",
    "'''\n",
    "\n",
    "queryResult(query)"
   ]
  },
  {
   "source": [
    "\n",
    "\n",
    "4. Which region sold the most desks?\n"
   ],
   "cell_type": "markdown",
   "metadata": {}
  },
  {
   "cell_type": "code",
   "execution_count": 66,
   "metadata": {},
   "outputs": [
    {
     "output_type": "execute_result",
     "data": {
      "text/plain": [
       "    Region  Item  sum\n",
       "0     West  Desk    9\n",
       "1  Central  Desk    7\n",
       "2     East  Desk    7"
      ],
      "text/html": "<div>\n<style scoped>\n    .dataframe tbody tr th:only-of-type {\n        vertical-align: middle;\n    }\n\n    .dataframe tbody tr th {\n        vertical-align: top;\n    }\n\n    .dataframe thead th {\n        text-align: right;\n    }\n</style>\n<table border=\"1\" class=\"dataframe\">\n  <thead>\n    <tr style=\"text-align: right;\">\n      <th></th>\n      <th>Region</th>\n      <th>Item</th>\n      <th>sum</th>\n    </tr>\n  </thead>\n  <tbody>\n    <tr>\n      <th>0</th>\n      <td>West</td>\n      <td>Desk</td>\n      <td>9</td>\n    </tr>\n    <tr>\n      <th>1</th>\n      <td>Central</td>\n      <td>Desk</td>\n      <td>7</td>\n    </tr>\n    <tr>\n      <th>2</th>\n      <td>East</td>\n      <td>Desk</td>\n      <td>7</td>\n    </tr>\n  </tbody>\n</table>\n</div>"
     },
     "metadata": {},
     "execution_count": 66
    }
   ],
   "source": [
    "query = '''\n",
    "SELECT\n",
    "    \"Region\",\n",
    "    \"Item\",\n",
    "    SUM(\"Units\")\n",
    "FROM\n",
    "    rep_sales\n",
    "\n",
    "WHERE\n",
    "    \"Item\" = 'Desk'\n",
    "GROUP BY\n",
    "    \"Region\", \"Item\"\n",
    "ORDER BY\n",
    "    sum DESC\n",
    "'''\n",
    "\n",
    "queryResult(query)"
   ]
  },
  {
   "source": [
    "\n",
    "5. Which sales rep sold the highest average price a piece for the item pen?\n"
   ],
   "cell_type": "markdown",
   "metadata": {}
  },
  {
   "cell_type": "code",
   "execution_count": 75,
   "metadata": {},
   "outputs": [
    {
     "output_type": "execute_result",
     "data": {
      "text/plain": [
       "        Rep  avg_unit_cost\n",
       "0    Parent          19.99\n",
       "1      Gill          10.74\n",
       "2     Jones           8.99\n",
       "3    Howard           4.99\n",
       "4       Joe           2.19\n",
       "5   Sorvino           1.99\n",
       "6   Jardine           1.79\n",
       "7  Thompson           1.59\n",
       "8   Andrews           1.50"
      ],
      "text/html": "<div>\n<style scoped>\n    .dataframe tbody tr th:only-of-type {\n        vertical-align: middle;\n    }\n\n    .dataframe tbody tr th {\n        vertical-align: top;\n    }\n\n    .dataframe thead th {\n        text-align: right;\n    }\n</style>\n<table border=\"1\" class=\"dataframe\">\n  <thead>\n    <tr style=\"text-align: right;\">\n      <th></th>\n      <th>Rep</th>\n      <th>avg_unit_cost</th>\n    </tr>\n  </thead>\n  <tbody>\n    <tr>\n      <th>0</th>\n      <td>Parent</td>\n      <td>19.99</td>\n    </tr>\n    <tr>\n      <th>1</th>\n      <td>Gill</td>\n      <td>10.74</td>\n    </tr>\n    <tr>\n      <th>2</th>\n      <td>Jones</td>\n      <td>8.99</td>\n    </tr>\n    <tr>\n      <th>3</th>\n      <td>Howard</td>\n      <td>4.99</td>\n    </tr>\n    <tr>\n      <th>4</th>\n      <td>Joe</td>\n      <td>2.19</td>\n    </tr>\n    <tr>\n      <th>5</th>\n      <td>Sorvino</td>\n      <td>1.99</td>\n    </tr>\n    <tr>\n      <th>6</th>\n      <td>Jardine</td>\n      <td>1.79</td>\n    </tr>\n    <tr>\n      <th>7</th>\n      <td>Thompson</td>\n      <td>1.59</td>\n    </tr>\n    <tr>\n      <th>8</th>\n      <td>Andrews</td>\n      <td>1.50</td>\n    </tr>\n  </tbody>\n</table>\n</div>"
     },
     "metadata": {},
     "execution_count": 75
    }
   ],
   "source": [
    "query = '''\n",
    "SELECT\n",
    "    \"Rep\",\n",
    "    AVG(\"Unit_Cost\") as avg_unit_cost\n",
    "FROM\n",
    "    rep_sales\n",
    "WHERE\n",
    "    \"Item\" = 'Pen'\n",
    "GROUP BY\n",
    "    \"Rep\"\n",
    "ORDER BY\n",
    "    avg_unit_cost DESC\n",
    "'''\n",
    "\n",
    "queryResult(query)"
   ]
  },
  {
   "source": [
    "\n",
    "6. Which sales rep sold the most units between April – September of 2020?\n",
    "\n",
    "**Including September?**\n"
   ],
   "cell_type": "markdown",
   "metadata": {}
  },
  {
   "cell_type": "code",
   "execution_count": 78,
   "metadata": {},
   "outputs": [
    {
     "output_type": "execute_result",
     "data": {
      "text/plain": [
       "        Rep  sum_units\n",
       "0   Andrews        309\n",
       "1      Gill        256\n",
       "2  Thompson        245\n",
       "3    Howard         99\n",
       "4    Kivell         94\n",
       "5     Jones         86\n",
       "6   Sorvino         79\n",
       "7    Morgan         55\n",
       "8       Joe         38"
      ],
      "text/html": "<div>\n<style scoped>\n    .dataframe tbody tr th:only-of-type {\n        vertical-align: middle;\n    }\n\n    .dataframe tbody tr th {\n        vertical-align: top;\n    }\n\n    .dataframe thead th {\n        text-align: right;\n    }\n</style>\n<table border=\"1\" class=\"dataframe\">\n  <thead>\n    <tr style=\"text-align: right;\">\n      <th></th>\n      <th>Rep</th>\n      <th>sum_units</th>\n    </tr>\n  </thead>\n  <tbody>\n    <tr>\n      <th>0</th>\n      <td>Andrews</td>\n      <td>309</td>\n    </tr>\n    <tr>\n      <th>1</th>\n      <td>Gill</td>\n      <td>256</td>\n    </tr>\n    <tr>\n      <th>2</th>\n      <td>Thompson</td>\n      <td>245</td>\n    </tr>\n    <tr>\n      <th>3</th>\n      <td>Howard</td>\n      <td>99</td>\n    </tr>\n    <tr>\n      <th>4</th>\n      <td>Kivell</td>\n      <td>94</td>\n    </tr>\n    <tr>\n      <th>5</th>\n      <td>Jones</td>\n      <td>86</td>\n    </tr>\n    <tr>\n      <th>6</th>\n      <td>Sorvino</td>\n      <td>79</td>\n    </tr>\n    <tr>\n      <th>7</th>\n      <td>Morgan</td>\n      <td>55</td>\n    </tr>\n    <tr>\n      <th>8</th>\n      <td>Joe</td>\n      <td>38</td>\n    </tr>\n  </tbody>\n</table>\n</div>"
     },
     "metadata": {},
     "execution_count": 78
    }
   ],
   "source": [
    "query = '''\n",
    "SELECT\n",
    "    \"Rep\",\n",
    "    SUM(\"Units\") as sum_units\n",
    "FROM\n",
    "    rep_sales\n",
    "WHERE\n",
    "    \"OrderDate\"::date BETWEEN '2020-04-01' AND '2020-09-30'\n",
    "GROUP BY\n",
    "    \"Rep\"\n",
    "ORDER BY\n",
    "    sum_units DESC\n",
    "'''\n",
    "\n",
    "queryResult(query)"
   ]
  },
  {
   "source": [
    "\n",
    "7. Which sales rep had the highest price difference from the minimum price on the item pen set?\n"
   ],
   "cell_type": "markdown",
   "metadata": {}
  },
  {
   "cell_type": "code",
   "execution_count": 133,
   "metadata": {},
   "outputs": [
    {
     "output_type": "execute_result",
     "data": {
      "text/plain": [
       "         Rep  price_diff\n",
       "0     Kivell       12.01\n",
       "1     Kivell       12.01\n",
       "2      Jones       11.00\n",
       "3      Jones       11.00\n",
       "4     Parent        8.00\n",
       "5     Parent        8.00\n",
       "6     Morgan        7.50\n",
       "7     Morgan        7.50\n",
       "8   Thompson        4.00\n",
       "9   Thompson        4.00\n",
       "10   Jardine        0.00\n",
       "11   Jardine        0.00"
      ],
      "text/html": "<div>\n<style scoped>\n    .dataframe tbody tr th:only-of-type {\n        vertical-align: middle;\n    }\n\n    .dataframe tbody tr th {\n        vertical-align: top;\n    }\n\n    .dataframe thead th {\n        text-align: right;\n    }\n</style>\n<table border=\"1\" class=\"dataframe\">\n  <thead>\n    <tr style=\"text-align: right;\">\n      <th></th>\n      <th>Rep</th>\n      <th>price_diff</th>\n    </tr>\n  </thead>\n  <tbody>\n    <tr>\n      <th>0</th>\n      <td>Kivell</td>\n      <td>12.01</td>\n    </tr>\n    <tr>\n      <th>1</th>\n      <td>Kivell</td>\n      <td>12.01</td>\n    </tr>\n    <tr>\n      <th>2</th>\n      <td>Jones</td>\n      <td>11.00</td>\n    </tr>\n    <tr>\n      <th>3</th>\n      <td>Jones</td>\n      <td>11.00</td>\n    </tr>\n    <tr>\n      <th>4</th>\n      <td>Parent</td>\n      <td>8.00</td>\n    </tr>\n    <tr>\n      <th>5</th>\n      <td>Parent</td>\n      <td>8.00</td>\n    </tr>\n    <tr>\n      <th>6</th>\n      <td>Morgan</td>\n      <td>7.50</td>\n    </tr>\n    <tr>\n      <th>7</th>\n      <td>Morgan</td>\n      <td>7.50</td>\n    </tr>\n    <tr>\n      <th>8</th>\n      <td>Thompson</td>\n      <td>4.00</td>\n    </tr>\n    <tr>\n      <th>9</th>\n      <td>Thompson</td>\n      <td>4.00</td>\n    </tr>\n    <tr>\n      <th>10</th>\n      <td>Jardine</td>\n      <td>0.00</td>\n    </tr>\n    <tr>\n      <th>11</th>\n      <td>Jardine</td>\n      <td>0.00</td>\n    </tr>\n  </tbody>\n</table>\n</div>"
     },
     "metadata": {},
     "execution_count": 133
    }
   ],
   "source": [
    "query = '''\n",
    "SELECT\n",
    "    subq.\"Rep\",\n",
    "    subq.max_price - item.\"MinPrice\" as price_diff\n",
    "FROM\n",
    "    item\n",
    "    INNER JOIN (SELECT\n",
    "        \"Rep\",\n",
    "        \"Item\",\n",
    "        Max(\"Unit_Cost\") as max_price\n",
    "     FROM\n",
    "        rep_sales\n",
    "    \n",
    "     GROUP BY\n",
    "        \"Rep\", \"Item\"\n",
    "     ) as subq ON subq.\"Item\" = item.\"Item\"\n",
    "WHERE\n",
    "    item.\"Item\" = 'Pen Set'\n",
    "ORDER BY\n",
    "    price_diff DESC\n",
    "'''\n",
    "\n",
    "queryResult(query)"
   ]
  },
  {
   "source": [
    "\n",
    "8. Was there a sales rep that sold an item below the minimum price? If so, which item was it and what was the percent difference from the minimum price?\n"
   ],
   "cell_type": "markdown",
   "metadata": {}
  },
  {
   "cell_type": "code",
   "execution_count": 95,
   "metadata": {},
   "outputs": [
    {
     "output_type": "execute_result",
     "data": {
      "text/plain": [
       "        Rep Item  precent_diff_from_min_price\n",
       "0      Gill  Pen                    14.857143\n",
       "1      Gill  Pen                    14.857143\n",
       "2   Andrews  Pen                    14.285714\n",
       "3   Andrews  Pen                    14.285714\n",
       "4  Thompson  Pen                     9.142857\n",
       "5  Thompson  Pen                     9.142857"
      ],
      "text/html": "<div>\n<style scoped>\n    .dataframe tbody tr th:only-of-type {\n        vertical-align: middle;\n    }\n\n    .dataframe tbody tr th {\n        vertical-align: top;\n    }\n\n    .dataframe thead th {\n        text-align: right;\n    }\n</style>\n<table border=\"1\" class=\"dataframe\">\n  <thead>\n    <tr style=\"text-align: right;\">\n      <th></th>\n      <th>Rep</th>\n      <th>Item</th>\n      <th>precent_diff_from_min_price</th>\n    </tr>\n  </thead>\n  <tbody>\n    <tr>\n      <th>0</th>\n      <td>Gill</td>\n      <td>Pen</td>\n      <td>14.857143</td>\n    </tr>\n    <tr>\n      <th>1</th>\n      <td>Gill</td>\n      <td>Pen</td>\n      <td>14.857143</td>\n    </tr>\n    <tr>\n      <th>2</th>\n      <td>Andrews</td>\n      <td>Pen</td>\n      <td>14.285714</td>\n    </tr>\n    <tr>\n      <th>3</th>\n      <td>Andrews</td>\n      <td>Pen</td>\n      <td>14.285714</td>\n    </tr>\n    <tr>\n      <th>4</th>\n      <td>Thompson</td>\n      <td>Pen</td>\n      <td>9.142857</td>\n    </tr>\n    <tr>\n      <th>5</th>\n      <td>Thompson</td>\n      <td>Pen</td>\n      <td>9.142857</td>\n    </tr>\n  </tbody>\n</table>\n</div>"
     },
     "metadata": {},
     "execution_count": 95
    }
   ],
   "source": [
    "query = '''\r\n",
    "SELECT\r\n",
    "    subq.\"Rep\",\r\n",
    "    subq.\"Item\",\r\n",
    "    100 - (subq.min_price / item.\"MinPrice\")*100 as precent_diff_from_min_price\r\n",
    "FROM\r\n",
    "    item\r\n",
    "    INNER JOIN (SELECT\r\n",
    "        \"Rep\",\r\n",
    "        \"Item\",\r\n",
    "        MIN(\"Unit_Cost\") as min_price\r\n",
    "     FROM\r\n",
    "        rep_sales\r\n",
    "    \r\n",
    "     GROUP BY\r\n",
    "        \"Rep\", \"Item\"\r\n",
    "     ) as subq ON subq.\"Item\" = item.\"Item\"\r\n",
    "WHERE \r\n",
    "    subq.\"min_price\" - item.\"MinPrice\" < 0\r\n",
    "ORDER BY\r\n",
    "    precent_diff_from_min_price DESC\r\n",
    "'''\r\n",
    "\r\n",
    "queryResult(query)"
   ]
  },
  {
   "source": [
    "\n",
    "9. Which region had the highest share of  price difference ?\n",
    "\n",
    "(where percent price different is the amount above min price divided by the total amount from that region)\n"
   ],
   "cell_type": "markdown",
   "metadata": {}
  },
  {
   "cell_type": "code",
   "execution_count": 143,
   "metadata": {},
   "outputs": [
    {
     "output_type": "execute_result",
     "data": {
      "text/plain": [
       "     region        item  item_by_region_total  region_total  \\\n",
       "0   Central         Pen               6210.76      15167.92   \n",
       "1      West      Binder               9719.30       4982.88   \n",
       "2      East      Binder              25650.50       8717.17   \n",
       "3      East  Marker Set              10255.00       8717.17   \n",
       "4      West         Pen               1272.76       4982.88   \n",
       "5      East      Pencil               2310.62       8717.17   \n",
       "6   Central      Binder              44519.26      15167.92   \n",
       "7   Central      Pencil               7589.40      15167.92   \n",
       "8      West     Pen Set               3146.50       4982.88   \n",
       "9      East         Pen              12073.10       8717.17   \n",
       "10     West        Desk              22320.00       4982.88   \n",
       "11     West      Pencil               1259.36       4982.88   \n",
       "12     East     Pen Set              13507.68       8717.17   \n",
       "13  Central     Pen Set              26030.74      15167.92   \n",
       "14  Central  Marker Set              43665.48      15167.92   \n",
       "15  Central        Desk               8750.00      15167.92   \n",
       "16     East        Desk              17904.00       8717.17   \n",
       "17     West  Marker Set              11200.40       4982.88   \n",
       "\n",
       "    unit_total_in_region_devided_region_total  \n",
       "0                                    0.409467  \n",
       "1                                    1.950539  \n",
       "2                                    2.942526  \n",
       "3                                    1.176414  \n",
       "4                                    0.255427  \n",
       "5                                    0.265065  \n",
       "6                                    2.935093  \n",
       "7                                    0.500359  \n",
       "8                                    0.631462  \n",
       "9                                    1.384979  \n",
       "10                                   4.479337  \n",
       "11                                   0.252737  \n",
       "12                                   1.549549  \n",
       "13                                   1.716171  \n",
       "14                                   2.878805  \n",
       "15                                   0.576875  \n",
       "16                                   2.053878  \n",
       "17                                   2.247776  "
      ],
      "text/html": "<div>\n<style scoped>\n    .dataframe tbody tr th:only-of-type {\n        vertical-align: middle;\n    }\n\n    .dataframe tbody tr th {\n        vertical-align: top;\n    }\n\n    .dataframe thead th {\n        text-align: right;\n    }\n</style>\n<table border=\"1\" class=\"dataframe\">\n  <thead>\n    <tr style=\"text-align: right;\">\n      <th></th>\n      <th>region</th>\n      <th>item</th>\n      <th>item_by_region_total</th>\n      <th>region_total</th>\n      <th>unit_total_in_region_devided_region_total</th>\n    </tr>\n  </thead>\n  <tbody>\n    <tr>\n      <th>0</th>\n      <td>Central</td>\n      <td>Pen</td>\n      <td>6210.76</td>\n      <td>15167.92</td>\n      <td>0.409467</td>\n    </tr>\n    <tr>\n      <th>1</th>\n      <td>West</td>\n      <td>Binder</td>\n      <td>9719.30</td>\n      <td>4982.88</td>\n      <td>1.950539</td>\n    </tr>\n    <tr>\n      <th>2</th>\n      <td>East</td>\n      <td>Binder</td>\n      <td>25650.50</td>\n      <td>8717.17</td>\n      <td>2.942526</td>\n    </tr>\n    <tr>\n      <th>3</th>\n      <td>East</td>\n      <td>Marker Set</td>\n      <td>10255.00</td>\n      <td>8717.17</td>\n      <td>1.176414</td>\n    </tr>\n    <tr>\n      <th>4</th>\n      <td>West</td>\n      <td>Pen</td>\n      <td>1272.76</td>\n      <td>4982.88</td>\n      <td>0.255427</td>\n    </tr>\n    <tr>\n      <th>5</th>\n      <td>East</td>\n      <td>Pencil</td>\n      <td>2310.62</td>\n      <td>8717.17</td>\n      <td>0.265065</td>\n    </tr>\n    <tr>\n      <th>6</th>\n      <td>Central</td>\n      <td>Binder</td>\n      <td>44519.26</td>\n      <td>15167.92</td>\n      <td>2.935093</td>\n    </tr>\n    <tr>\n      <th>7</th>\n      <td>Central</td>\n      <td>Pencil</td>\n      <td>7589.40</td>\n      <td>15167.92</td>\n      <td>0.500359</td>\n    </tr>\n    <tr>\n      <th>8</th>\n      <td>West</td>\n      <td>Pen Set</td>\n      <td>3146.50</td>\n      <td>4982.88</td>\n      <td>0.631462</td>\n    </tr>\n    <tr>\n      <th>9</th>\n      <td>East</td>\n      <td>Pen</td>\n      <td>12073.10</td>\n      <td>8717.17</td>\n      <td>1.384979</td>\n    </tr>\n    <tr>\n      <th>10</th>\n      <td>West</td>\n      <td>Desk</td>\n      <td>22320.00</td>\n      <td>4982.88</td>\n      <td>4.479337</td>\n    </tr>\n    <tr>\n      <th>11</th>\n      <td>West</td>\n      <td>Pencil</td>\n      <td>1259.36</td>\n      <td>4982.88</td>\n      <td>0.252737</td>\n    </tr>\n    <tr>\n      <th>12</th>\n      <td>East</td>\n      <td>Pen Set</td>\n      <td>13507.68</td>\n      <td>8717.17</td>\n      <td>1.549549</td>\n    </tr>\n    <tr>\n      <th>13</th>\n      <td>Central</td>\n      <td>Pen Set</td>\n      <td>26030.74</td>\n      <td>15167.92</td>\n      <td>1.716171</td>\n    </tr>\n    <tr>\n      <th>14</th>\n      <td>Central</td>\n      <td>Marker Set</td>\n      <td>43665.48</td>\n      <td>15167.92</td>\n      <td>2.878805</td>\n    </tr>\n    <tr>\n      <th>15</th>\n      <td>Central</td>\n      <td>Desk</td>\n      <td>8750.00</td>\n      <td>15167.92</td>\n      <td>0.576875</td>\n    </tr>\n    <tr>\n      <th>16</th>\n      <td>East</td>\n      <td>Desk</td>\n      <td>17904.00</td>\n      <td>8717.17</td>\n      <td>2.053878</td>\n    </tr>\n    <tr>\n      <th>17</th>\n      <td>West</td>\n      <td>Marker Set</td>\n      <td>11200.40</td>\n      <td>4982.88</td>\n      <td>2.247776</td>\n    </tr>\n  </tbody>\n</table>\n</div>"
     },
     "metadata": {},
     "execution_count": 143
    }
   ],
   "source": []
  },
  {
   "source": [
    "\n",
    "10. For each sale above the minimum price the rep gets 10% commission of the total price as a bonus. Which 3 sales reps have earned the most commission (show their commission as well)?"
   ],
   "cell_type": "markdown",
   "metadata": {}
  }
 ],
 "metadata": {
  "kernelspec": {
   "name": "python3",
   "display_name": "Python 3.8.8 64-bit ('base': conda)"
  },
  "language_info": {
   "codemirror_mode": {
    "name": "ipython",
    "version": 3
   },
   "file_extension": ".py",
   "mimetype": "text/x-python",
   "name": "python",
   "nbconvert_exporter": "python",
   "pygments_lexer": "ipython3",
   "version": "3.8.8"
  },
  "interpreter": {
   "hash": "b1f289718d186d539b5ac9a53f79041c68ee8d2b6e439df5b3b4d5fd44538197"
  }
 },
 "nbformat": 4,
 "nbformat_minor": 4
}