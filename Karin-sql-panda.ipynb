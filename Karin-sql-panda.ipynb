{
  "nbformat": 4,
  "nbformat_minor": 2,
  "metadata": {
    "kernelspec": {
      "display_name": "Python 3",
      "language": "python",
      "name": "python3"
    },
    "language_info": {
      "codemirror_mode": {
        "name": "ipython",
        "version": 3
      },
      "file_extension": ".py",
      "mimetype": "text/x-python",
      "name": "python",
      "nbconvert_exporter": "python",
      "pygments_lexer": "ipython3",
      "version": "3.7.6"
    },
    "colab": {
      "name": "SQL additional week - Panda.ipynb",
      "provenance": []
    }
  },
  "cells": [
    {
      "cell_type": "markdown",
      "source": [
        "by : Karin Dodis"
      ],
      "metadata": {
        "id": "LUUh5cRonrR3"
      }
    },
    {
      "cell_type": "markdown",
      "source": [
        "### Used Libraries<a class=\"anchor\" id=\"chapter1\"></a>"
      ],
      "metadata": {
        "id": "xfAX4jjRq7vS"
      }
    },
    {
      "cell_type": "code",
      "execution_count": 2,
      "source": [
        "import pandas as pd\r\n",
        "from sqlalchemy import create_engine\r\n",
        "import psycopg2"
      ],
      "outputs": [],
      "metadata": {
        "id": "REMjvCRDq7vU"
      }
    },
    {
      "cell_type": "markdown",
      "source": [
        "### Access to the DB <a class=\"anchor\" id=\"chapter2\"></a>"
      ],
      "metadata": {
        "id": "yTT3CJ4Aq7vV"
      }
    },
    {
      "cell_type": "code",
      "execution_count": 3,
      "source": [
        "db_config = {'user': 'practicum_student',         # username\r\n",
        "             'pwd': 's65BlTKV3faNIGhmvJVzOqhs', # password\r\n",
        "             'host': 'rc1b-wcoijxj3yxfsf3fs.mdb.yandexcloud.net',\r\n",
        "             'port': 6432,              # connection port\r\n",
        "             'db': 'data-analyst-fc-barcelona-20-21-db'}          # the name of the database\r\n",
        "\r\n",
        "connection_string = 'postgresql://{}:{}@{}:{}/{}'.format(db_config['user'],\r\n",
        "                                                                     db_config['pwd'],\r\n",
        "                                                                       db_config['host'],\r\n",
        "                                                                       db_config['port'],\r\n",
        "                                                                       db_config['db'])\r\n",
        "\r\n",
        "engine = create_engine(connection_string, connect_args={'sslmode':'require'})\r\n"
      ],
      "outputs": [],
      "metadata": {
        "id": "wzcv-9zVq7vV"
      }
    },
    {
      "cell_type": "code",
      "execution_count": 4,
      "source": [
        "engine.table_names()"
      ],
      "outputs": [
        {
          "output_type": "stream",
          "name": "stderr",
          "text": [
            "<ipython-input-4-d72bc75a6b62>:1: SADeprecationWarning: The Engine.table_names() method is deprecated and will be removed in a future release.  Please refer to Inspector.get_table_names(). (deprecated since: 1.4)\n",
            "  engine.table_names()\n"
          ]
        },
        {
          "output_type": "execute_result",
          "data": {
            "text/plain": [
              "['squad',\n",
              " 'games_played',\n",
              " 'league_stats',\n",
              " 'champions_stats',\n",
              " 'cup_stats',\n",
              " 'supercup_stats']"
            ]
          },
          "metadata": {},
          "execution_count": 4
        }
      ],
      "metadata": {
        "colab": {
          "base_uri": "https://localhost:8080/"
        },
        "id": "G7MGm_UftsY-",
        "outputId": "3e931ee1-5481-4596-c513-a1ba78a16e89"
      }
    },
    {
      "cell_type": "markdown",
      "source": [
        "#  Table Queries <a class=\"anchor\" id=\"chapter3\"></a>"
      ],
      "metadata": {
        "id": "HbAzx2eRq7vW"
      }
    },
    {
      "cell_type": "markdown",
      "source": [
        "function that takes a query and return dataframe for general use"
      ],
      "metadata": {
        "id": "NVP9uOPgq7vW"
      }
    },
    {
      "cell_type": "code",
      "execution_count": 5,
      "source": [
        "def queryResult(q):\r\n",
        "    return pd.io.sql.read_sql(q, con = engine)"
      ],
      "outputs": [],
      "metadata": {
        "id": "DlS_eNRfq7vW"
      }
    },
    {
      "cell_type": "markdown",
      "source": [
        "# **1. What is the position played by the majority of the squad?**\n"
      ],
      "metadata": {
        "id": "y1lkaP5kEmzi"
      }
    },
    {
      "cell_type": "code",
      "execution_count": 6,
      "source": [
        "query = '''\r\n",
        "        SELECT \r\n",
        "          DISTINCT squad.position,\r\n",
        "          COUNT(squad.position) as position_count\r\n",
        "        FROM\r\n",
        "          squad\r\n",
        "        GROUP BY\r\n",
        "          squad.position\r\n",
        "        ORDER BY\r\n",
        "          position_count DESC\r\n",
        "        '''\r\n",
        "queryResult(query)"
      ],
      "outputs": [
        {
          "output_type": "execute_result",
          "data": {
            "text/plain": [
              "  position  position_count\n",
              "0       df               9\n",
              "1       fw               8\n",
              "2       mf               8\n",
              "3       gk               4"
            ],
            "text/html": [
              "<div>\n",
              "<style scoped>\n",
              "    .dataframe tbody tr th:only-of-type {\n",
              "        vertical-align: middle;\n",
              "    }\n",
              "\n",
              "    .dataframe tbody tr th {\n",
              "        vertical-align: top;\n",
              "    }\n",
              "\n",
              "    .dataframe thead th {\n",
              "        text-align: right;\n",
              "    }\n",
              "</style>\n",
              "<table border=\"1\" class=\"dataframe\">\n",
              "  <thead>\n",
              "    <tr style=\"text-align: right;\">\n",
              "      <th></th>\n",
              "      <th>position</th>\n",
              "      <th>position_count</th>\n",
              "    </tr>\n",
              "  </thead>\n",
              "  <tbody>\n",
              "    <tr>\n",
              "      <th>0</th>\n",
              "      <td>df</td>\n",
              "      <td>9</td>\n",
              "    </tr>\n",
              "    <tr>\n",
              "      <th>1</th>\n",
              "      <td>fw</td>\n",
              "      <td>8</td>\n",
              "    </tr>\n",
              "    <tr>\n",
              "      <th>2</th>\n",
              "      <td>mf</td>\n",
              "      <td>8</td>\n",
              "    </tr>\n",
              "    <tr>\n",
              "      <th>3</th>\n",
              "      <td>gk</td>\n",
              "      <td>4</td>\n",
              "    </tr>\n",
              "  </tbody>\n",
              "</table>\n",
              "</div>"
            ]
          },
          "metadata": {},
          "execution_count": 6
        }
      ],
      "metadata": {
        "colab": {
          "base_uri": "https://localhost:8080/",
          "height": 173
        },
        "id": "UfoCZjgwuJpw",
        "outputId": "cd952693-485c-458f-d3c6-339edd47a116"
      }
    },
    {
      "cell_type": "markdown",
      "source": [
        "# **2. Which players played the most games during the entire season?**\n",
        "\n"
      ],
      "metadata": {
        "id": "WH-SNzRiFFhg"
      }
    },
    {
      "cell_type": "code",
      "execution_count": 7,
      "source": [
        "query = '''\r\n",
        "        SELECT \r\n",
        "          DISTINCT games_played.player_id,\r\n",
        "          squad.first_name,\r\n",
        "          squad.last_name,\r\n",
        "          SUM(games_played.league) + SUM(games_played.champions)+ SUM(games_played.cup)+ SUM(games_played.supercup) as all_games\r\n",
        "        FROM\r\n",
        "          squad LEFT JOIN games_played ON games_played.player_id = squad.player_id\r\n",
        "        GROUP BY\r\n",
        "          games_played.player_id,\r\n",
        "          squad.first_name,\r\n",
        "          squad.last_name\r\n",
        "        ORDER BY\r\n",
        "          all_games DESC\r\n",
        "        '''\r\n",
        "queryResult(query)"
      ],
      "outputs": [
        {
          "output_type": "execute_result",
          "data": {
            "text/plain": [
              "    player_id  first_name     last_name  all_games\n",
              "0          19       Pedro         Lopez         52\n",
              "1          15     Frenkie       De Jong         51\n",
              "2          28     Antoine     Griezmann         51\n",
              "3          14      Sergio      Busquets         50\n",
              "4          12       Jordi          Alba         49\n",
              "5           9     Clément       Lenglet         48\n",
              "6          29      Lionel         Messi         48\n",
              "7          24     Ousmane       Dembélé         44\n",
              "8           1  Marc-André    Ter Stegen         42\n",
              "9          25   Francisco       Trincão         42\n",
              "10          6     Sergiño          Dest         41\n",
              "11         27      Martin   Braithwaite         40\n",
              "12         11       Óscar      Mingueza         39\n",
              "13          8      Ronald        Araújo         33\n",
              "14         16     Miralem        Pjanić         30\n",
              "15         17       Riqui          Puig         24\n",
              "16          7      Gerard         Piqué         23\n",
              "17         13       Sergi       Roberto         20\n",
              "18          5      Junior         Firpo         18\n",
              "19         20       Ilaix        Moriba         18\n",
              "20         10      Samuel        Umtiti         16\n",
              "21         18    Philippe      Coutinho         14\n",
              "22          2    Norberto        Murara         12\n",
              "23         22        Ansu          Fati         10\n",
              "24         23      Konard  De La Fuente          3\n",
              "25         21    Matheus      Fernandes          1\n",
              "26          3       Iñaki          Peña          0\n",
              "27          4       Arnau         Tenas          0\n",
              "28         26        Álex       Collado          0"
            ],
            "text/html": [
              "<div>\n",
              "<style scoped>\n",
              "    .dataframe tbody tr th:only-of-type {\n",
              "        vertical-align: middle;\n",
              "    }\n",
              "\n",
              "    .dataframe tbody tr th {\n",
              "        vertical-align: top;\n",
              "    }\n",
              "\n",
              "    .dataframe thead th {\n",
              "        text-align: right;\n",
              "    }\n",
              "</style>\n",
              "<table border=\"1\" class=\"dataframe\">\n",
              "  <thead>\n",
              "    <tr style=\"text-align: right;\">\n",
              "      <th></th>\n",
              "      <th>player_id</th>\n",
              "      <th>first_name</th>\n",
              "      <th>last_name</th>\n",
              "      <th>all_games</th>\n",
              "    </tr>\n",
              "  </thead>\n",
              "  <tbody>\n",
              "    <tr>\n",
              "      <th>0</th>\n",
              "      <td>19</td>\n",
              "      <td>Pedro</td>\n",
              "      <td>Lopez</td>\n",
              "      <td>52</td>\n",
              "    </tr>\n",
              "    <tr>\n",
              "      <th>1</th>\n",
              "      <td>15</td>\n",
              "      <td>Frenkie</td>\n",
              "      <td>De Jong</td>\n",
              "      <td>51</td>\n",
              "    </tr>\n",
              "    <tr>\n",
              "      <th>2</th>\n",
              "      <td>28</td>\n",
              "      <td>Antoine</td>\n",
              "      <td>Griezmann</td>\n",
              "      <td>51</td>\n",
              "    </tr>\n",
              "    <tr>\n",
              "      <th>3</th>\n",
              "      <td>14</td>\n",
              "      <td>Sergio</td>\n",
              "      <td>Busquets</td>\n",
              "      <td>50</td>\n",
              "    </tr>\n",
              "    <tr>\n",
              "      <th>4</th>\n",
              "      <td>12</td>\n",
              "      <td>Jordi</td>\n",
              "      <td>Alba</td>\n",
              "      <td>49</td>\n",
              "    </tr>\n",
              "    <tr>\n",
              "      <th>5</th>\n",
              "      <td>9</td>\n",
              "      <td>Clément</td>\n",
              "      <td>Lenglet</td>\n",
              "      <td>48</td>\n",
              "    </tr>\n",
              "    <tr>\n",
              "      <th>6</th>\n",
              "      <td>29</td>\n",
              "      <td>Lionel</td>\n",
              "      <td>Messi</td>\n",
              "      <td>48</td>\n",
              "    </tr>\n",
              "    <tr>\n",
              "      <th>7</th>\n",
              "      <td>24</td>\n",
              "      <td>Ousmane</td>\n",
              "      <td>Dembélé</td>\n",
              "      <td>44</td>\n",
              "    </tr>\n",
              "    <tr>\n",
              "      <th>8</th>\n",
              "      <td>1</td>\n",
              "      <td>Marc-André</td>\n",
              "      <td>Ter Stegen</td>\n",
              "      <td>42</td>\n",
              "    </tr>\n",
              "    <tr>\n",
              "      <th>9</th>\n",
              "      <td>25</td>\n",
              "      <td>Francisco</td>\n",
              "      <td>Trincão</td>\n",
              "      <td>42</td>\n",
              "    </tr>\n",
              "    <tr>\n",
              "      <th>10</th>\n",
              "      <td>6</td>\n",
              "      <td>Sergiño</td>\n",
              "      <td>Dest</td>\n",
              "      <td>41</td>\n",
              "    </tr>\n",
              "    <tr>\n",
              "      <th>11</th>\n",
              "      <td>27</td>\n",
              "      <td>Martin</td>\n",
              "      <td>Braithwaite</td>\n",
              "      <td>40</td>\n",
              "    </tr>\n",
              "    <tr>\n",
              "      <th>12</th>\n",
              "      <td>11</td>\n",
              "      <td>Óscar</td>\n",
              "      <td>Mingueza</td>\n",
              "      <td>39</td>\n",
              "    </tr>\n",
              "    <tr>\n",
              "      <th>13</th>\n",
              "      <td>8</td>\n",
              "      <td>Ronald</td>\n",
              "      <td>Araújo</td>\n",
              "      <td>33</td>\n",
              "    </tr>\n",
              "    <tr>\n",
              "      <th>14</th>\n",
              "      <td>16</td>\n",
              "      <td>Miralem</td>\n",
              "      <td>Pjanić</td>\n",
              "      <td>30</td>\n",
              "    </tr>\n",
              "    <tr>\n",
              "      <th>15</th>\n",
              "      <td>17</td>\n",
              "      <td>Riqui</td>\n",
              "      <td>Puig</td>\n",
              "      <td>24</td>\n",
              "    </tr>\n",
              "    <tr>\n",
              "      <th>16</th>\n",
              "      <td>7</td>\n",
              "      <td>Gerard</td>\n",
              "      <td>Piqué</td>\n",
              "      <td>23</td>\n",
              "    </tr>\n",
              "    <tr>\n",
              "      <th>17</th>\n",
              "      <td>13</td>\n",
              "      <td>Sergi</td>\n",
              "      <td>Roberto</td>\n",
              "      <td>20</td>\n",
              "    </tr>\n",
              "    <tr>\n",
              "      <th>18</th>\n",
              "      <td>5</td>\n",
              "      <td>Junior</td>\n",
              "      <td>Firpo</td>\n",
              "      <td>18</td>\n",
              "    </tr>\n",
              "    <tr>\n",
              "      <th>19</th>\n",
              "      <td>20</td>\n",
              "      <td>Ilaix</td>\n",
              "      <td>Moriba</td>\n",
              "      <td>18</td>\n",
              "    </tr>\n",
              "    <tr>\n",
              "      <th>20</th>\n",
              "      <td>10</td>\n",
              "      <td>Samuel</td>\n",
              "      <td>Umtiti</td>\n",
              "      <td>16</td>\n",
              "    </tr>\n",
              "    <tr>\n",
              "      <th>21</th>\n",
              "      <td>18</td>\n",
              "      <td>Philippe</td>\n",
              "      <td>Coutinho</td>\n",
              "      <td>14</td>\n",
              "    </tr>\n",
              "    <tr>\n",
              "      <th>22</th>\n",
              "      <td>2</td>\n",
              "      <td>Norberto</td>\n",
              "      <td>Murara</td>\n",
              "      <td>12</td>\n",
              "    </tr>\n",
              "    <tr>\n",
              "      <th>23</th>\n",
              "      <td>22</td>\n",
              "      <td>Ansu</td>\n",
              "      <td>Fati</td>\n",
              "      <td>10</td>\n",
              "    </tr>\n",
              "    <tr>\n",
              "      <th>24</th>\n",
              "      <td>23</td>\n",
              "      <td>Konard</td>\n",
              "      <td>De La Fuente</td>\n",
              "      <td>3</td>\n",
              "    </tr>\n",
              "    <tr>\n",
              "      <th>25</th>\n",
              "      <td>21</td>\n",
              "      <td>Matheus</td>\n",
              "      <td>Fernandes</td>\n",
              "      <td>1</td>\n",
              "    </tr>\n",
              "    <tr>\n",
              "      <th>26</th>\n",
              "      <td>3</td>\n",
              "      <td>Iñaki</td>\n",
              "      <td>Peña</td>\n",
              "      <td>0</td>\n",
              "    </tr>\n",
              "    <tr>\n",
              "      <th>27</th>\n",
              "      <td>4</td>\n",
              "      <td>Arnau</td>\n",
              "      <td>Tenas</td>\n",
              "      <td>0</td>\n",
              "    </tr>\n",
              "    <tr>\n",
              "      <th>28</th>\n",
              "      <td>26</td>\n",
              "      <td>Álex</td>\n",
              "      <td>Collado</td>\n",
              "      <td>0</td>\n",
              "    </tr>\n",
              "  </tbody>\n",
              "</table>\n",
              "</div>"
            ]
          },
          "metadata": {},
          "execution_count": 7
        }
      ],
      "metadata": {
        "id": "I281EGSVFFE6",
        "colab": {
          "base_uri": "https://localhost:8080/",
          "height": 948
        },
        "outputId": "d5d17b8f-ed95-42a6-d773-150e2218bb91"
      }
    },
    {
      "cell_type": "markdown",
      "source": [
        "# **3. Out of the players who played less than 1000 minutes in the league who scored the most goals?**"
      ],
      "metadata": {
        "id": "rG0nH_j8GlaO"
      }
    },
    {
      "cell_type": "code",
      "execution_count": 8,
      "source": [
        "query = '''\r\n",
        "        SELECT \r\n",
        "          league_stats.player_id,\r\n",
        "          squad.first_name,\r\n",
        "          squad.last_name,\r\n",
        "          league_stats.league_goals\r\n",
        "        FROM\r\n",
        "          squad LEFT JOIN league_stats ON league_stats.player_id = squad.player_id\r\n",
        "        WHERE\r\n",
        "          league_stats.league_minutes < 1000\r\n",
        "        ORDER BY\r\n",
        "          league_stats.league_goals DESC\r\n",
        "        '''\r\n",
        "queryResult(query)"
      ],
      "outputs": [
        {
          "output_type": "execute_result",
          "data": {
            "text/plain": [
              "    player_id first_name     last_name  league_goals\n",
              "0          22       Ansu          Fati             4\n",
              "1          25  Francisco       Trincão             3\n",
              "2          18   Philippe      Coutinho             2\n",
              "3          20      Ilaix        Moriba             1\n",
              "4          13      Sergi       Roberto             1\n",
              "5           5     Junior         Firpo             1\n",
              "6          17      Riqui          Puig             1\n",
              "7           2   Norberto        Murara             0\n",
              "8          26       Álex       Collado             0\n",
              "9           3      Iñaki          Peña             0\n",
              "10          4      Arnau         Tenas             0\n",
              "11         10     Samuel        Umtiti             0\n",
              "12         16    Miralem        Pjanić             0\n",
              "13         21   Matheus      Fernandes             0\n",
              "14         23     Konard  De La Fuente             0"
            ],
            "text/html": [
              "<div>\n",
              "<style scoped>\n",
              "    .dataframe tbody tr th:only-of-type {\n",
              "        vertical-align: middle;\n",
              "    }\n",
              "\n",
              "    .dataframe tbody tr th {\n",
              "        vertical-align: top;\n",
              "    }\n",
              "\n",
              "    .dataframe thead th {\n",
              "        text-align: right;\n",
              "    }\n",
              "</style>\n",
              "<table border=\"1\" class=\"dataframe\">\n",
              "  <thead>\n",
              "    <tr style=\"text-align: right;\">\n",
              "      <th></th>\n",
              "      <th>player_id</th>\n",
              "      <th>first_name</th>\n",
              "      <th>last_name</th>\n",
              "      <th>league_goals</th>\n",
              "    </tr>\n",
              "  </thead>\n",
              "  <tbody>\n",
              "    <tr>\n",
              "      <th>0</th>\n",
              "      <td>22</td>\n",
              "      <td>Ansu</td>\n",
              "      <td>Fati</td>\n",
              "      <td>4</td>\n",
              "    </tr>\n",
              "    <tr>\n",
              "      <th>1</th>\n",
              "      <td>25</td>\n",
              "      <td>Francisco</td>\n",
              "      <td>Trincão</td>\n",
              "      <td>3</td>\n",
              "    </tr>\n",
              "    <tr>\n",
              "      <th>2</th>\n",
              "      <td>18</td>\n",
              "      <td>Philippe</td>\n",
              "      <td>Coutinho</td>\n",
              "      <td>2</td>\n",
              "    </tr>\n",
              "    <tr>\n",
              "      <th>3</th>\n",
              "      <td>20</td>\n",
              "      <td>Ilaix</td>\n",
              "      <td>Moriba</td>\n",
              "      <td>1</td>\n",
              "    </tr>\n",
              "    <tr>\n",
              "      <th>4</th>\n",
              "      <td>13</td>\n",
              "      <td>Sergi</td>\n",
              "      <td>Roberto</td>\n",
              "      <td>1</td>\n",
              "    </tr>\n",
              "    <tr>\n",
              "      <th>5</th>\n",
              "      <td>5</td>\n",
              "      <td>Junior</td>\n",
              "      <td>Firpo</td>\n",
              "      <td>1</td>\n",
              "    </tr>\n",
              "    <tr>\n",
              "      <th>6</th>\n",
              "      <td>17</td>\n",
              "      <td>Riqui</td>\n",
              "      <td>Puig</td>\n",
              "      <td>1</td>\n",
              "    </tr>\n",
              "    <tr>\n",
              "      <th>7</th>\n",
              "      <td>2</td>\n",
              "      <td>Norberto</td>\n",
              "      <td>Murara</td>\n",
              "      <td>0</td>\n",
              "    </tr>\n",
              "    <tr>\n",
              "      <th>8</th>\n",
              "      <td>26</td>\n",
              "      <td>Álex</td>\n",
              "      <td>Collado</td>\n",
              "      <td>0</td>\n",
              "    </tr>\n",
              "    <tr>\n",
              "      <th>9</th>\n",
              "      <td>3</td>\n",
              "      <td>Iñaki</td>\n",
              "      <td>Peña</td>\n",
              "      <td>0</td>\n",
              "    </tr>\n",
              "    <tr>\n",
              "      <th>10</th>\n",
              "      <td>4</td>\n",
              "      <td>Arnau</td>\n",
              "      <td>Tenas</td>\n",
              "      <td>0</td>\n",
              "    </tr>\n",
              "    <tr>\n",
              "      <th>11</th>\n",
              "      <td>10</td>\n",
              "      <td>Samuel</td>\n",
              "      <td>Umtiti</td>\n",
              "      <td>0</td>\n",
              "    </tr>\n",
              "    <tr>\n",
              "      <th>12</th>\n",
              "      <td>16</td>\n",
              "      <td>Miralem</td>\n",
              "      <td>Pjanić</td>\n",
              "      <td>0</td>\n",
              "    </tr>\n",
              "    <tr>\n",
              "      <th>13</th>\n",
              "      <td>21</td>\n",
              "      <td>Matheus</td>\n",
              "      <td>Fernandes</td>\n",
              "      <td>0</td>\n",
              "    </tr>\n",
              "    <tr>\n",
              "      <th>14</th>\n",
              "      <td>23</td>\n",
              "      <td>Konard</td>\n",
              "      <td>De La Fuente</td>\n",
              "      <td>0</td>\n",
              "    </tr>\n",
              "  </tbody>\n",
              "</table>\n",
              "</div>"
            ]
          },
          "metadata": {},
          "execution_count": 8
        }
      ],
      "metadata": {
        "id": "tTbWIrPYGlFZ",
        "colab": {
          "base_uri": "https://localhost:8080/",
          "height": 514
        },
        "outputId": "34f67647-2662-4c70-9844-102a2b95c12b"
      }
    },
    {
      "cell_type": "markdown",
      "source": [
        "# **4. Which players played the most minutes in the league? Show top 5**"
      ],
      "metadata": {
        "id": "dXYFFQS-H9qv"
      }
    },
    {
      "cell_type": "code",
      "execution_count": 9,
      "source": [
        "query = '''\r\n",
        "        SELECT \r\n",
        "          league_stats.player_id,\r\n",
        "          squad.first_name,\r\n",
        "          squad.last_name,\r\n",
        "          league_stats.league_minutes\r\n",
        "        FROM\r\n",
        "          squad LEFT JOIN league_stats ON league_stats.player_id = squad.player_id\r\n",
        "        ORDER BY\r\n",
        "          league_stats.league_minutes DESC\r\n",
        "        LIMIT 5;\r\n",
        "        '''\r\n",
        "queryResult(query)"
      ],
      "outputs": [
        {
          "output_type": "execute_result",
          "data": {
            "text/plain": [
              "   player_id  first_name   last_name  league_minutes\n",
              "0         15     Frenkie     De Jong            3158\n",
              "1         12       Jordi        Alba            3030\n",
              "2         29      Lionel       Messi            3022\n",
              "3          1  Marc-André  Ter Stegen            2790\n",
              "4         28     Antoine   Griezmann            2619"
            ],
            "text/html": [
              "<div>\n",
              "<style scoped>\n",
              "    .dataframe tbody tr th:only-of-type {\n",
              "        vertical-align: middle;\n",
              "    }\n",
              "\n",
              "    .dataframe tbody tr th {\n",
              "        vertical-align: top;\n",
              "    }\n",
              "\n",
              "    .dataframe thead th {\n",
              "        text-align: right;\n",
              "    }\n",
              "</style>\n",
              "<table border=\"1\" class=\"dataframe\">\n",
              "  <thead>\n",
              "    <tr style=\"text-align: right;\">\n",
              "      <th></th>\n",
              "      <th>player_id</th>\n",
              "      <th>first_name</th>\n",
              "      <th>last_name</th>\n",
              "      <th>league_minutes</th>\n",
              "    </tr>\n",
              "  </thead>\n",
              "  <tbody>\n",
              "    <tr>\n",
              "      <th>0</th>\n",
              "      <td>15</td>\n",
              "      <td>Frenkie</td>\n",
              "      <td>De Jong</td>\n",
              "      <td>3158</td>\n",
              "    </tr>\n",
              "    <tr>\n",
              "      <th>1</th>\n",
              "      <td>12</td>\n",
              "      <td>Jordi</td>\n",
              "      <td>Alba</td>\n",
              "      <td>3030</td>\n",
              "    </tr>\n",
              "    <tr>\n",
              "      <th>2</th>\n",
              "      <td>29</td>\n",
              "      <td>Lionel</td>\n",
              "      <td>Messi</td>\n",
              "      <td>3022</td>\n",
              "    </tr>\n",
              "    <tr>\n",
              "      <th>3</th>\n",
              "      <td>1</td>\n",
              "      <td>Marc-André</td>\n",
              "      <td>Ter Stegen</td>\n",
              "      <td>2790</td>\n",
              "    </tr>\n",
              "    <tr>\n",
              "      <th>4</th>\n",
              "      <td>28</td>\n",
              "      <td>Antoine</td>\n",
              "      <td>Griezmann</td>\n",
              "      <td>2619</td>\n",
              "    </tr>\n",
              "  </tbody>\n",
              "</table>\n",
              "</div>"
            ]
          },
          "metadata": {},
          "execution_count": 9
        }
      ],
      "metadata": {
        "colab": {
          "base_uri": "https://localhost:8080/",
          "height": 204
        },
        "id": "Tos7hrT_IDaW",
        "outputId": "f3b0cb42-02b4-4880-bbd0-7510eabb5864"
      }
    },
    {
      "cell_type": "markdown",
      "source": [
        "# **5.How many assists were made by the forwards?**"
      ],
      "metadata": {
        "id": "5dLWS5gLID10"
      }
    },
    {
      "cell_type": "code",
      "execution_count": 10,
      "source": [
        "query = '''\r\n",
        "        SELECT \r\n",
        "          DISTINCT squad.position,\r\n",
        "          SUM(league_stats.league_assists) + SUM(champions_stats.champions_assists)+ SUM(cup_stats.cup_assists)+ SUM(supercup_stats.supercup_assists) as assists_sum\r\n",
        "        FROM\r\n",
        "          squad LEFT JOIN league_stats ON league_stats.player_id = squad.player_id\r\n",
        "          LEFT JOIN champions_stats ON champions_stats.player_id = squad.player_id\r\n",
        "          LEFT JOIN cup_stats ON cup_stats.player_id = squad.player_id\r\n",
        "          LEFT JOIN supercup_stats ON supercup_stats.player_id = squad.player_id\r\n",
        "        WHERE\r\n",
        "          squad.position = 'fw'\r\n",
        "        GROUP BY\r\n",
        "          squad.position\r\n",
        "        '''\r\n",
        "queryResult(query)"
      ],
      "outputs": [
        {
          "output_type": "execute_result",
          "data": {
            "text/plain": [
              "  position  assists_sum\n",
              "0       fw           42"
            ],
            "text/html": [
              "<div>\n",
              "<style scoped>\n",
              "    .dataframe tbody tr th:only-of-type {\n",
              "        vertical-align: middle;\n",
              "    }\n",
              "\n",
              "    .dataframe tbody tr th {\n",
              "        vertical-align: top;\n",
              "    }\n",
              "\n",
              "    .dataframe thead th {\n",
              "        text-align: right;\n",
              "    }\n",
              "</style>\n",
              "<table border=\"1\" class=\"dataframe\">\n",
              "  <thead>\n",
              "    <tr style=\"text-align: right;\">\n",
              "      <th></th>\n",
              "      <th>position</th>\n",
              "      <th>assists_sum</th>\n",
              "    </tr>\n",
              "  </thead>\n",
              "  <tbody>\n",
              "    <tr>\n",
              "      <th>0</th>\n",
              "      <td>fw</td>\n",
              "      <td>42</td>\n",
              "    </tr>\n",
              "  </tbody>\n",
              "</table>\n",
              "</div>"
            ]
          },
          "metadata": {},
          "execution_count": 10
        }
      ],
      "metadata": {
        "id": "QnjmVylPIETo",
        "colab": {
          "base_uri": "https://localhost:8080/",
          "height": 80
        },
        "outputId": "f11ce558-1123-485b-e93b-4040a0081d0f"
      }
    },
    {
      "cell_type": "markdown",
      "source": [
        "# **6. Who are the top 3 players with the best goals per minute record?**"
      ],
      "metadata": {
        "id": "C7VguVUHIJSs"
      }
    },
    {
      "cell_type": "code",
      "execution_count": 21,
      "source": [
        "query = '''\r\n",
        "        SELECT \r\n",
        "          DISTINCT league_stats.player_id,\r\n",
        "          first_name,\r\n",
        "          last_name,\r\n",
        "          ((league_stats.league_goals + champions_stats.champions_goals + cup_stats.cup_goals + supercup_stats.supercup_goals) :: real /\r\n",
        "          (league_stats.league_minutes  + champions_stats.champions_minutes + cup_stats.cup_minutes + supercup_stats.supercup_minutes) :: real) * 100 as ratio \r\n",
        "        FROM\r\n",
        "          squad LEFT JOIN league_stats ON league_stats.player_id = squad.player_id\r\n",
        "          LEFT JOIN champions_stats ON champions_stats.player_id = squad.player_id\r\n",
        "          LEFT JOIN cup_stats ON cup_stats.player_id = squad.player_id\r\n",
        "          LEFT JOIN supercup_stats ON supercup_stats.player_id = squad.player_id\r\n",
        "        WHERE\r\n",
        "          (supercup_minutes + cup_minutes  + champions_minutes+ league_minutes) != 0\r\n",
        "        ORDER BY\r\n",
        "          ratio DESC\r\n",
        "        LIMIT 3;\r\n",
        "        '''\r\n",
        "queryResult(query)"
      ],
      "outputs": [
        {
          "output_type": "execute_result",
          "data": {
            "text/plain": [
              "    first_name     last_name  goals  minutes  goals_per_minute\n",
              "0   Marc-André    Ter Stegen      0     3900          0.000000\n",
              "1     Norberto        Murara      0     1110          0.000000\n",
              "2       Junior         Firpo      1      864          0.115741\n",
              "3      Sergiño          Dest      3     2745          0.109290\n",
              "4       Gerard         Piqué      2     1923          0.104004\n",
              "5       Ronald        Araújo      2     2231          0.089646\n",
              "6      Clément       Lenglet      1     3698          0.027042\n",
              "7       Samuel        Umtiti      0      827          0.000000\n",
              "8        Óscar      Mingueza      2     2796          0.071531\n",
              "9        Jordi          Alba      5     4196          0.119161\n",
              "10       Sergi       Roberto      1     1198          0.083472\n",
              "11      Sergio      Busquets      0     3518          0.000000\n",
              "12     Frenkie       De Jong      7     4492          0.155833\n",
              "13     Miralem        Pjanić      0     1295          0.000000\n",
              "14       Riqui          Puig      1      581          0.172117\n",
              "15    Philippe      Coutinho      3      792          0.378788\n",
              "16       Pedro         Lopez      4     3526          0.113443\n",
              "17       Ilaix        Moriba      1      672          0.148810\n",
              "18    Matheus      Fernandes      0       17          0.000000\n",
              "19        Ansu          Fati      5      596          0.838926\n",
              "20      Konard  De La Fuente      0       36          0.000000\n",
              "21     Ousmane       Dembélé     11     2699          0.407558\n",
              "22   Francisco       Trincão      3     1309          0.229183\n",
              "23      Martin   Braithwaite      7     1716          0.407925\n",
              "24     Antoine     Griezmann     20     3903          0.512426\n",
              "25      Lionel         Messi     38     4192          0.906489"
            ],
            "text/html": [
              "<div>\n",
              "<style scoped>\n",
              "    .dataframe tbody tr th:only-of-type {\n",
              "        vertical-align: middle;\n",
              "    }\n",
              "\n",
              "    .dataframe tbody tr th {\n",
              "        vertical-align: top;\n",
              "    }\n",
              "\n",
              "    .dataframe thead th {\n",
              "        text-align: right;\n",
              "    }\n",
              "</style>\n",
              "<table border=\"1\" class=\"dataframe\">\n",
              "  <thead>\n",
              "    <tr style=\"text-align: right;\">\n",
              "      <th></th>\n",
              "      <th>first_name</th>\n",
              "      <th>last_name</th>\n",
              "      <th>goals</th>\n",
              "      <th>minutes</th>\n",
              "      <th>goals_per_minute</th>\n",
              "    </tr>\n",
              "  </thead>\n",
              "  <tbody>\n",
              "    <tr>\n",
              "      <th>0</th>\n",
              "      <td>Marc-André</td>\n",
              "      <td>Ter Stegen</td>\n",
              "      <td>0</td>\n",
              "      <td>3900</td>\n",
              "      <td>0.000000</td>\n",
              "    </tr>\n",
              "    <tr>\n",
              "      <th>1</th>\n",
              "      <td>Norberto</td>\n",
              "      <td>Murara</td>\n",
              "      <td>0</td>\n",
              "      <td>1110</td>\n",
              "      <td>0.000000</td>\n",
              "    </tr>\n",
              "    <tr>\n",
              "      <th>2</th>\n",
              "      <td>Junior</td>\n",
              "      <td>Firpo</td>\n",
              "      <td>1</td>\n",
              "      <td>864</td>\n",
              "      <td>0.115741</td>\n",
              "    </tr>\n",
              "    <tr>\n",
              "      <th>3</th>\n",
              "      <td>Sergiño</td>\n",
              "      <td>Dest</td>\n",
              "      <td>3</td>\n",
              "      <td>2745</td>\n",
              "      <td>0.109290</td>\n",
              "    </tr>\n",
              "    <tr>\n",
              "      <th>4</th>\n",
              "      <td>Gerard</td>\n",
              "      <td>Piqué</td>\n",
              "      <td>2</td>\n",
              "      <td>1923</td>\n",
              "      <td>0.104004</td>\n",
              "    </tr>\n",
              "    <tr>\n",
              "      <th>5</th>\n",
              "      <td>Ronald</td>\n",
              "      <td>Araújo</td>\n",
              "      <td>2</td>\n",
              "      <td>2231</td>\n",
              "      <td>0.089646</td>\n",
              "    </tr>\n",
              "    <tr>\n",
              "      <th>6</th>\n",
              "      <td>Clément</td>\n",
              "      <td>Lenglet</td>\n",
              "      <td>1</td>\n",
              "      <td>3698</td>\n",
              "      <td>0.027042</td>\n",
              "    </tr>\n",
              "    <tr>\n",
              "      <th>7</th>\n",
              "      <td>Samuel</td>\n",
              "      <td>Umtiti</td>\n",
              "      <td>0</td>\n",
              "      <td>827</td>\n",
              "      <td>0.000000</td>\n",
              "    </tr>\n",
              "    <tr>\n",
              "      <th>8</th>\n",
              "      <td>Óscar</td>\n",
              "      <td>Mingueza</td>\n",
              "      <td>2</td>\n",
              "      <td>2796</td>\n",
              "      <td>0.071531</td>\n",
              "    </tr>\n",
              "    <tr>\n",
              "      <th>9</th>\n",
              "      <td>Jordi</td>\n",
              "      <td>Alba</td>\n",
              "      <td>5</td>\n",
              "      <td>4196</td>\n",
              "      <td>0.119161</td>\n",
              "    </tr>\n",
              "    <tr>\n",
              "      <th>10</th>\n",
              "      <td>Sergi</td>\n",
              "      <td>Roberto</td>\n",
              "      <td>1</td>\n",
              "      <td>1198</td>\n",
              "      <td>0.083472</td>\n",
              "    </tr>\n",
              "    <tr>\n",
              "      <th>11</th>\n",
              "      <td>Sergio</td>\n",
              "      <td>Busquets</td>\n",
              "      <td>0</td>\n",
              "      <td>3518</td>\n",
              "      <td>0.000000</td>\n",
              "    </tr>\n",
              "    <tr>\n",
              "      <th>12</th>\n",
              "      <td>Frenkie</td>\n",
              "      <td>De Jong</td>\n",
              "      <td>7</td>\n",
              "      <td>4492</td>\n",
              "      <td>0.155833</td>\n",
              "    </tr>\n",
              "    <tr>\n",
              "      <th>13</th>\n",
              "      <td>Miralem</td>\n",
              "      <td>Pjanić</td>\n",
              "      <td>0</td>\n",
              "      <td>1295</td>\n",
              "      <td>0.000000</td>\n",
              "    </tr>\n",
              "    <tr>\n",
              "      <th>14</th>\n",
              "      <td>Riqui</td>\n",
              "      <td>Puig</td>\n",
              "      <td>1</td>\n",
              "      <td>581</td>\n",
              "      <td>0.172117</td>\n",
              "    </tr>\n",
              "    <tr>\n",
              "      <th>15</th>\n",
              "      <td>Philippe</td>\n",
              "      <td>Coutinho</td>\n",
              "      <td>3</td>\n",
              "      <td>792</td>\n",
              "      <td>0.378788</td>\n",
              "    </tr>\n",
              "    <tr>\n",
              "      <th>16</th>\n",
              "      <td>Pedro</td>\n",
              "      <td>Lopez</td>\n",
              "      <td>4</td>\n",
              "      <td>3526</td>\n",
              "      <td>0.113443</td>\n",
              "    </tr>\n",
              "    <tr>\n",
              "      <th>17</th>\n",
              "      <td>Ilaix</td>\n",
              "      <td>Moriba</td>\n",
              "      <td>1</td>\n",
              "      <td>672</td>\n",
              "      <td>0.148810</td>\n",
              "    </tr>\n",
              "    <tr>\n",
              "      <th>18</th>\n",
              "      <td>Matheus</td>\n",
              "      <td>Fernandes</td>\n",
              "      <td>0</td>\n",
              "      <td>17</td>\n",
              "      <td>0.000000</td>\n",
              "    </tr>\n",
              "    <tr>\n",
              "      <th>19</th>\n",
              "      <td>Ansu</td>\n",
              "      <td>Fati</td>\n",
              "      <td>5</td>\n",
              "      <td>596</td>\n",
              "      <td>0.838926</td>\n",
              "    </tr>\n",
              "    <tr>\n",
              "      <th>20</th>\n",
              "      <td>Konard</td>\n",
              "      <td>De La Fuente</td>\n",
              "      <td>0</td>\n",
              "      <td>36</td>\n",
              "      <td>0.000000</td>\n",
              "    </tr>\n",
              "    <tr>\n",
              "      <th>21</th>\n",
              "      <td>Ousmane</td>\n",
              "      <td>Dembélé</td>\n",
              "      <td>11</td>\n",
              "      <td>2699</td>\n",
              "      <td>0.407558</td>\n",
              "    </tr>\n",
              "    <tr>\n",
              "      <th>22</th>\n",
              "      <td>Francisco</td>\n",
              "      <td>Trincão</td>\n",
              "      <td>3</td>\n",
              "      <td>1309</td>\n",
              "      <td>0.229183</td>\n",
              "    </tr>\n",
              "    <tr>\n",
              "      <th>23</th>\n",
              "      <td>Martin</td>\n",
              "      <td>Braithwaite</td>\n",
              "      <td>7</td>\n",
              "      <td>1716</td>\n",
              "      <td>0.407925</td>\n",
              "    </tr>\n",
              "    <tr>\n",
              "      <th>24</th>\n",
              "      <td>Antoine</td>\n",
              "      <td>Griezmann</td>\n",
              "      <td>20</td>\n",
              "      <td>3903</td>\n",
              "      <td>0.512426</td>\n",
              "    </tr>\n",
              "    <tr>\n",
              "      <th>25</th>\n",
              "      <td>Lionel</td>\n",
              "      <td>Messi</td>\n",
              "      <td>38</td>\n",
              "      <td>4192</td>\n",
              "      <td>0.906489</td>\n",
              "    </tr>\n",
              "  </tbody>\n",
              "</table>\n",
              "</div>"
            ]
          },
          "metadata": {},
          "execution_count": 21
        }
      ],
      "metadata": {
        "id": "c6_q97HmIMh2",
        "colab": {
          "base_uri": "https://localhost:8080/",
          "height": 142
        },
        "outputId": "ddb21613-803f-4af9-ac44-20dd1a8896f3"
      }
    },
    {
      "cell_type": "markdown",
      "source": [
        "# **7. How many players did not contribute goals or assists in the league?**"
      ],
      "metadata": {
        "id": "zBwbWV2WIM42"
      }
    },
    {
      "cell_type": "code",
      "execution_count": 44,
      "source": [
        "query = '''\r\n",
        "        SELECT \r\n",
        "          COUNT(DISTINCT league_stats.player_id) as not_contribute\r\n",
        "        FROM\r\n",
        "          league_stats\r\n",
        "        WHERE\r\n",
        "          league_stats.league_goals = 0 AND league_stats.league_assists = 0\r\n",
        " \r\n",
        "        '''\r\n",
        "queryResult(query)"
      ],
      "outputs": [
        {
          "output_type": "execute_result",
          "data": {
            "text/plain": [
              "   not_contribute\n",
              "0              10"
            ],
            "text/html": [
              "<div>\n",
              "<style scoped>\n",
              "    .dataframe tbody tr th:only-of-type {\n",
              "        vertical-align: middle;\n",
              "    }\n",
              "\n",
              "    .dataframe tbody tr th {\n",
              "        vertical-align: top;\n",
              "    }\n",
              "\n",
              "    .dataframe thead th {\n",
              "        text-align: right;\n",
              "    }\n",
              "</style>\n",
              "<table border=\"1\" class=\"dataframe\">\n",
              "  <thead>\n",
              "    <tr style=\"text-align: right;\">\n",
              "      <th></th>\n",
              "      <th>not_contribute</th>\n",
              "    </tr>\n",
              "  </thead>\n",
              "  <tbody>\n",
              "    <tr>\n",
              "      <th>0</th>\n",
              "      <td>10</td>\n",
              "    </tr>\n",
              "  </tbody>\n",
              "</table>\n",
              "</div>"
            ]
          },
          "metadata": {
            "tags": []
          },
          "execution_count": 44
        }
      ],
      "metadata": {
        "id": "1BJLiKupINi8",
        "colab": {
          "base_uri": "https://localhost:8080/",
          "height": 80
        },
        "outputId": "1c7147da-d847-475a-df52-84b6ef06070b"
      }
    },
    {
      "cell_type": "markdown",
      "source": [
        "# **8. Who is the player that has the most yellow cards in the league? (If there is a tie then sort by minutes played)**"
      ],
      "metadata": {
        "id": "ow-u0j5eIN0P"
      }
    },
    {
      "cell_type": "code",
      "execution_count": 45,
      "source": [
        "query = '''\n",
        "        SELECT \n",
        "          league_stats.player_id,\n",
        "          squad.first_name,\n",
        "          squad.last_name,\n",
        "          league_stats.league_yellow\n",
        "        FROM\n",
        "          league_stats LEFT JOIN squad ON league_stats.player_id = squad.player_id\n",
        "        ORDER BY\n",
        "          league_stats.league_yellow DESC,\n",
        "          league_stats.league_minutes DESC\n",
        "        LIMIT 1;\n",
        "        '''\n",
        "queryResult(query)"
      ],
      "outputs": [
        {
          "output_type": "execute_result",
          "data": {
            "text/plain": [
              "   player_id first_name last_name  league_yellow\n",
              "0         12      Jordi      Alba              9"
            ],
            "text/html": [
              "<div>\n",
              "<style scoped>\n",
              "    .dataframe tbody tr th:only-of-type {\n",
              "        vertical-align: middle;\n",
              "    }\n",
              "\n",
              "    .dataframe tbody tr th {\n",
              "        vertical-align: top;\n",
              "    }\n",
              "\n",
              "    .dataframe thead th {\n",
              "        text-align: right;\n",
              "    }\n",
              "</style>\n",
              "<table border=\"1\" class=\"dataframe\">\n",
              "  <thead>\n",
              "    <tr style=\"text-align: right;\">\n",
              "      <th></th>\n",
              "      <th>player_id</th>\n",
              "      <th>first_name</th>\n",
              "      <th>last_name</th>\n",
              "      <th>league_yellow</th>\n",
              "    </tr>\n",
              "  </thead>\n",
              "  <tbody>\n",
              "    <tr>\n",
              "      <th>0</th>\n",
              "      <td>12</td>\n",
              "      <td>Jordi</td>\n",
              "      <td>Alba</td>\n",
              "      <td>9</td>\n",
              "    </tr>\n",
              "  </tbody>\n",
              "</table>\n",
              "</div>"
            ]
          },
          "metadata": {
            "tags": []
          },
          "execution_count": 45
        }
      ],
      "metadata": {
        "id": "PPHiWeesIOMq",
        "colab": {
          "base_uri": "https://localhost:8080/",
          "height": 80
        },
        "outputId": "825f9d90-b7a2-450f-e3d1-8ac051e7b3a7"
      }
    },
    {
      "cell_type": "markdown",
      "source": [
        "# **9. Which defender contribute the most goals and assists in the league?**"
      ],
      "metadata": {
        "id": "xHFsA1WAITfe"
      }
    },
    {
      "cell_type": "code",
      "execution_count": 46,
      "source": [
        "query = '''\n",
        "        SELECT \n",
        "          league_stats.player_id,\n",
        "          squad.first_name,\n",
        "          squad.last_name,\n",
        "          league_stats.league_goals,\n",
        "          league_stats.league_assists\n",
        "        FROM\n",
        "          league_stats LEFT JOIN squad ON league_stats.player_id = squad.player_id\n",
        "        WHERE \n",
        "          squad.position = 'df'\n",
        "        ORDER BY\n",
        "          league_stats.league_goals DESC,\n",
        "          league_stats.league_assists DESC\n",
        "        LIMIT 1;\n",
        "        '''\n",
        "queryResult(query)"
      ],
      "outputs": [
        {
          "output_type": "execute_result",
          "data": {
            "text/plain": [
              "   player_id first_name last_name  league_goals  league_assists\n",
              "0         12      Jordi      Alba             3               7"
            ],
            "text/html": [
              "<div>\n",
              "<style scoped>\n",
              "    .dataframe tbody tr th:only-of-type {\n",
              "        vertical-align: middle;\n",
              "    }\n",
              "\n",
              "    .dataframe tbody tr th {\n",
              "        vertical-align: top;\n",
              "    }\n",
              "\n",
              "    .dataframe thead th {\n",
              "        text-align: right;\n",
              "    }\n",
              "</style>\n",
              "<table border=\"1\" class=\"dataframe\">\n",
              "  <thead>\n",
              "    <tr style=\"text-align: right;\">\n",
              "      <th></th>\n",
              "      <th>player_id</th>\n",
              "      <th>first_name</th>\n",
              "      <th>last_name</th>\n",
              "      <th>league_goals</th>\n",
              "      <th>league_assists</th>\n",
              "    </tr>\n",
              "  </thead>\n",
              "  <tbody>\n",
              "    <tr>\n",
              "      <th>0</th>\n",
              "      <td>12</td>\n",
              "      <td>Jordi</td>\n",
              "      <td>Alba</td>\n",
              "      <td>3</td>\n",
              "      <td>7</td>\n",
              "    </tr>\n",
              "  </tbody>\n",
              "</table>\n",
              "</div>"
            ]
          },
          "metadata": {
            "tags": []
          },
          "execution_count": 46
        }
      ],
      "metadata": {
        "id": "xYcaJvG9IUNc",
        "colab": {
          "base_uri": "https://localhost:8080/",
          "height": 80
        },
        "outputId": "2af51e59-a8fc-420f-8fa3-9b41c89738a3"
      }
    },
    {
      "cell_type": "markdown",
      "source": [
        "# **10. How many players played more then 50 hours total in the league and in the champions league?**"
      ],
      "metadata": {
        "id": "CPtDqP5kIUdr"
      }
    },
    {
      "cell_type": "code",
      "execution_count": 47,
      "source": [
        "query = '''\n",
        "        SELECT \n",
        "          COUNT(DISTINCT league_stats.player_id)\n",
        "\n",
        "        FROM\n",
        "          squad LEFT JOIN league_stats ON league_stats.player_id = squad.player_id\n",
        "          LEFT JOIN champions_stats ON champions_stats.player_id = squad.player_id\n",
        "\n",
        "        WHERE\n",
        "          league_stats.league_minutes + champions_stats.champions_minutes > 3000\n",
        "\n",
        "        '''\n",
        "queryResult(query)"
      ],
      "outputs": [
        {
          "output_type": "execute_result",
          "data": {
            "text/plain": [
              "   count\n",
              "0      6"
            ],
            "text/html": [
              "<div>\n",
              "<style scoped>\n",
              "    .dataframe tbody tr th:only-of-type {\n",
              "        vertical-align: middle;\n",
              "    }\n",
              "\n",
              "    .dataframe tbody tr th {\n",
              "        vertical-align: top;\n",
              "    }\n",
              "\n",
              "    .dataframe thead th {\n",
              "        text-align: right;\n",
              "    }\n",
              "</style>\n",
              "<table border=\"1\" class=\"dataframe\">\n",
              "  <thead>\n",
              "    <tr style=\"text-align: right;\">\n",
              "      <th></th>\n",
              "      <th>count</th>\n",
              "    </tr>\n",
              "  </thead>\n",
              "  <tbody>\n",
              "    <tr>\n",
              "      <th>0</th>\n",
              "      <td>6</td>\n",
              "    </tr>\n",
              "  </tbody>\n",
              "</table>\n",
              "</div>"
            ]
          },
          "metadata": {
            "tags": []
          },
          "execution_count": 47
        }
      ],
      "metadata": {
        "id": "i0WCxVaWIai6",
        "colab": {
          "base_uri": "https://localhost:8080/",
          "height": 80
        },
        "outputId": "8e2c850f-69e5-410b-f56f-5cd5f5eaa31a"
      }
    }
  ]
}